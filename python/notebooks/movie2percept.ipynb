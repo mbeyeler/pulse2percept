{
 "cells": [
  {
   "cell_type": "code",
   "execution_count": 1,
   "metadata": {
    "collapsed": true,
    "deletable": true,
    "editable": true
   },
   "outputs": [],
   "source": [
    "import sys\n",
    "sys.path.append('..')"
   ]
  },
  {
   "cell_type": "code",
   "execution_count": 2,
   "metadata": {
    "collapsed": false,
    "deletable": true,
    "editable": true
   },
   "outputs": [],
   "source": [
    "import numpy as np\n",
    "import electrode2currentmap as e2cm\n",
    "import effectivecurrent2brightness as ec2b\n",
    "from scipy import interpolate\n",
    "from utils import TimeSeries\n",
    "import utils\n",
    "import matplotlib.pyplot as plt\n",
    "%matplotlib inline"
   ]
  },
  {
   "cell_type": "code",
   "execution_count": 3,
   "metadata": {
    "collapsed": false
   },
   "outputs": [
    {
     "name": "stderr",
     "output_type": "stream",
     "text": [
      "Call to deprecated function __init__.\n",
      "Call to deprecated function mov2npy.\n",
      "Call to deprecated function micron2deg. Use p2p.retina.ret2dva instead.\n",
      "Call to deprecated function deg2micron. Use p2p.retina.dva2ret instead.\n",
      "Call to deprecated function savemoviefiles. Use p2p.files.save_video instead.\n",
      "Call to deprecated function npy2movie. Use p2p.files.save_video instead.\n",
      "Call to deprecated function scale. Use p2p.stimuli.image2pulsetrain instead.\n",
      "Call to deprecated function Movie2Pulsetrain. Use p2p.stimuli.video2pulsetrain instead.\n",
      "Call to deprecated function retinalmovie2electrodtimeseries.\n"
     ]
    }
   ],
   "source": [
    "import pulse2percept as p2p\n",
    "import skimage.io as sio\n",
    "import skimage.color as sic\n",
    "import skimage.transform as sit"
   ]
  },
  {
   "cell_type": "code",
   "execution_count": 4,
   "metadata": {
    "collapsed": false,
    "deletable": true,
    "editable": true
   },
   "outputs": [
    {
     "name": "stdout",
     "output_type": "stream",
     "text": [
      "Can't find file retina_s25_1700by2800.npz, generating\n"
     ]
    }
   ],
   "source": [
    "r = e2cm.Retina(axon_map='retina_s25_1700by2800.npz',\n",
    "                sampling=25, ylo=-1700, yhi=1700, xlo=-2800, xhi=2800, axon_lambda=2)"
   ]
  },
  {
   "cell_type": "code",
   "execution_count": 5,
   "metadata": {
    "collapsed": true,
    "deletable": true,
    "editable": true
   },
   "outputs": [],
   "source": [
    "xlist=[]\n",
    "ylist=[]\n",
    "rlist=[]\n",
    "e_spacing=525\n",
    "\n",
    "for x in np.arange(-2362, 2364, e_spacing):\n",
    "    for y in np.arange(-1312, 1314, e_spacing):\n",
    "        xlist.append(x)\n",
    "        ylist.append(y)\n",
    "        rlist.append(100)\n",
    "\n",
    "e_all = e2cm.ElectrodeArray(rlist,xlist,ylist)\n",
    "\n",
    "e_rf=[]\n",
    "for e in e_all.electrodes:\n",
    "    e_rf.append(e2cm.receptive_field(e, r.gridx, r.gridy,e_spacing))"
   ]
  },
  {
   "cell_type": "code",
   "execution_count": 7,
   "metadata": {
    "collapsed": true
   },
   "outputs": [],
   "source": [
    "letter = 'A'\n",
    "invert = True"
   ]
  },
  {
   "cell_type": "code",
   "execution_count": 8,
   "metadata": {
    "collapsed": false
   },
   "outputs": [
    {
     "data": {
      "text/plain": [
       "(150, 200)"
      ]
     },
     "execution_count": 8,
     "metadata": {},
     "output_type": "execute_result"
    }
   ],
   "source": [
    "img = sio.imread('../../../pulse2percept/examples/notebooks/letters/%s.jpg' % letter)\n",
    "img = img[25:175, 25:225]\n",
    "img.shape"
   ]
  },
  {
   "cell_type": "code",
   "execution_count": 9,
   "metadata": {
    "collapsed": false
   },
   "outputs": [
    {
     "data": {
      "text/plain": [
       "(0.0, 1.0, dtype('float64'), (136, 224, 3))"
      ]
     },
     "execution_count": 9,
     "metadata": {},
     "output_type": "execute_result"
    }
   ],
   "source": [
    "frames = sic.gray2rgb(img)\n",
    "frames = sit.resize(frames, r.gridx.shape)\n",
    "if invert:\n",
    "    frames = 1.0 - frames\n",
    "frames = np.flipud(frames)\n",
    "frames.min(), frames.max(), frames.dtype, frames.shape"
   ]
  },
  {
   "cell_type": "code",
   "execution_count": 10,
   "metadata": {
    "collapsed": true
   },
   "outputs": [],
   "source": [
    "if invert:\n",
    "    fstr = '%s-invert-' % letter\n",
    "else:\n",
    "    fstr = '%s-' % letter"
   ]
  },
  {
   "cell_type": "code",
   "execution_count": 11,
   "metadata": {
    "collapsed": false,
    "deletable": true,
    "editable": true
   },
   "outputs": [
    {
     "data": {
      "image/png": "[encoded data removed]",
      "text/plain": [
       "<matplotlib.figure.Figure at 0x7f94bffe4390>"
      ]
     },
     "metadata": {},
     "output_type": "display_data"
    }
   ],
   "source": [
    "plt.imshow(np.flipud(frames[..., 0]), cmap='gray')\n",
    "plt.savefig(fstr + 'stim.jpg')"
   ]
  },
  {
   "cell_type": "code",
   "execution_count": 13,
   "metadata": {
    "collapsed": false,
    "deletable": true,
    "editable": true
   },
   "outputs": [],
   "source": [
    "i = 0\n",
    "j = 0\n",
    "pt=[]\n",
    "for rf in e_rf:\n",
    "    rflum = e2cm.retinalmovie2electrodtimeseries(rf, frames[i:i+r.gridx.shape[0], j:j+r.gridx.shape[1]], fps=6)\n",
    "    #plt.plot(rflum)\n",
    "    ptrain = e2cm.Movie2Pulsetrain(rflum)\n",
    "    #plt.plot(ptrain.data)\n",
    "    pt.append(ptrain)\n"
   ]
  },
  {
   "cell_type": "code",
   "execution_count": 14,
   "metadata": {
    "collapsed": true,
    "deletable": true,
    "editable": true
   },
   "outputs": [],
   "source": [
    "temporal_model = ec2b.TemporalModel()\n"
   ]
  },
  {
   "cell_type": "code",
   "execution_count": 15,
   "metadata": {
    "collapsed": true,
    "deletable": true,
    "editable": true
   },
   "outputs": [],
   "source": [
    "ecs, cs  = r.electrode_ecs(e_all)"
   ]
  },
  {
   "cell_type": "code",
   "execution_count": 16,
   "metadata": {
    "collapsed": false,
    "deletable": true,
    "editable": true
   },
   "outputs": [],
   "source": [
    "brightness_movie = ec2b.pulse2percept(temporal_model, ecs, r, pt)"
   ]
  },
  {
   "cell_type": "code",
   "execution_count": 17,
   "metadata": {
    "collapsed": false
   },
   "outputs": [],
   "source": [
    "mov = p2p.utils.TimeSeries(brightness_movie.tsample, brightness_movie.data)"
   ]
  },
  {
   "cell_type": "code",
   "execution_count": 18,
   "metadata": {
    "collapsed": true
   },
   "outputs": [],
   "source": [
    "frame = p2p.get_brightest_frame(mov)"
   ]
  },
  {
   "cell_type": "code",
   "execution_count": 19,
   "metadata": {
    "collapsed": false
   },
   "outputs": [
    {
     "data": {
      "image/png": "[encoded data removed]",
      "text/plain": [
       "<matplotlib.figure.Figure at 0x7f94b535ba58>"
      ]
     },
     "metadata": {},
     "output_type": "display_data"
    }
   ],
   "source": [
    "plt.imshow(np.flipud(frame.data), cmap='gray')\n",
    "plt.savefig(fstr + 'percept.jpg')"
   ]
  },
  {
   "cell_type": "code",
   "execution_count": null,
   "metadata": {
    "collapsed": true
   },
   "outputs": [],
   "source": []
  }
 ],
 "metadata": {
  "anaconda-cloud": {},
  "kernelspec": {
   "display_name": "Python [default]",
   "language": "python",
   "name": "python3"
  },
  "language_info": {
   "codemirror_mode": {
    "name": "ipython",
    "version": 3
   },
   "file_extension": ".py",
   "mimetype": "text/x-python",
   "name": "python",
   "nbconvert_exporter": "python",
   "pygments_lexer": "ipython3",
   "version": "3.5.2"
  }
 },
 "nbformat": 4,
 "nbformat_minor": 0
}
