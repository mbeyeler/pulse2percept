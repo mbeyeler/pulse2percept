{
 "cells": [
  {
   "cell_type": "code",
   "execution_count": 1,
   "metadata": {
    "collapsed": false,
    "deletable": true,
    "editable": true
   },
   "outputs": [
    {
     "name": "stderr",
     "output_type": "stream",
     "text": [
      "Call to deprecated function __init__.\n",
      "Call to deprecated function mov2npy.\n",
      "Call to deprecated function micron2deg. Use p2p.retina.ret2dva instead.\n",
      "Call to deprecated function deg2micron. Use p2p.retina.dva2ret instead.\n",
      "Call to deprecated function savemoviefiles. Use p2p.files.save_video instead.\n",
      "Call to deprecated function npy2movie. Use p2p.files.save_video instead.\n",
      "Call to deprecated function scale. Use p2p.stimuli.image2pulsetrain instead.\n",
      "Call to deprecated function Movie2Pulsetrain. Use p2p.stimuli.video2pulsetrain instead.\n",
      "Call to deprecated function retinalmovie2electrodtimeseries.\n"
     ]
    }
   ],
   "source": [
    "import sys\n",
    "sys.path.append('..')\n",
    "\n",
    "import numpy as np\n",
    "import electrode2currentmap as e2cm\n",
    "import effectivecurrent2brightness as ec2b\n",
    "from scipy import interpolate\n",
    "from utils import TimeSeries\n",
    "import utils\n",
    "import pickle\n",
    "\n",
    "import pulse2percept as p2p\n",
    "import skimage.io as sio\n",
    "import skimage.color as sic\n",
    "import skimage.transform as sit"
   ]
  },
  {
   "cell_type": "code",
   "execution_count": 2,
   "metadata": {
    "collapsed": false,
    "deletable": true,
    "editable": true
   },
   "outputs": [],
   "source": [
    "tsample = 0.01 / 1000\n",
    "\n",
    "r = e2cm.Retina(axon_map='retina_s100_1700by2800.npz',\n",
    "                sampling=100, ylo=-1700, yhi=1700, xlo=-2800, xhi=2800, axon_lambda=2)\n",
    "\n",
    "xlist = []\n",
    "ylist = []\n",
    "rlist = []\n",
    "e_spacing = 525\n",
    "\n",
    "for x in np.arange(-2362, 2364, e_spacing):\n",
    "    for y in np.arange(-1312, 1314, e_spacing):\n",
    "        xlist.append(x)\n",
    "        ylist.append(y)\n",
    "        rlist.append(100)\n",
    "\n",
    "e_all = e2cm.ElectrodeArray(rlist, xlist, ylist)"
   ]
  },
  {
   "cell_type": "code",
   "execution_count": 3,
   "metadata": {
    "collapsed": false,
    "deletable": true,
    "editable": true
   },
   "outputs": [
    {
     "name": "stdout",
     "output_type": "stream",
     "text": [
      "e_rf (34, 56)\n"
     ]
    }
   ],
   "source": [
    "e_rf = []\n",
    "for e in e_all.electrodes:\n",
    "    e_rf.append(e2cm.receptive_field(e, r.gridx, r.gridy, e_spacing))\n",
    "print('e_rf', e_rf[0].shape)\n",
    "\n",
    "loadpath = '/home/mbeyeler/source/pulse2percept/data'\n",
    "\n",
    "movies = [\n",
    "#     'boston-train.mp4',\n",
    "#     'kid-pool.avi',\n",
    "    'olly-soccer.avi'\n",
    "#     'zach-scoot.avi'\n",
    "]\n",
    "\n",
    "framerates = [\n",
    "#     29,\n",
    "#     30,\n",
    "    119\n",
    "#     29\n",
    "]"
   ]
  },
  {
   "cell_type": "code",
   "execution_count": 4,
   "metadata": {
    "collapsed": false,
    "deletable": true,
    "editable": true
   },
   "outputs": [
    {
     "name": "stdout",
     "output_type": "stream",
     "text": [
      "Processing olly-soccer.avi\n"
     ]
    },
    {
     "name": "stderr",
     "output_type": "stream",
     "text": [
      "2017-03-25 09:15:16,313 [pulse2percept.files] [INFO] Loaded video from file '/home/mbeyeler/source/pulse2percept/data/olly-soccer.avi'.\n"
     ]
    },
    {
     "name": "stdout",
     "output_type": "stream",
     "text": [
      "video 9 255 uint8 (419, 501, 501, 3)\n",
      "newvideo 0.0832494 1.0 float32 (34, 56, 419)\n",
      "frames 0.0832494 0.993894 float32 (34, 56, 105)\n",
      "Running p2p\n",
      "selected 1904/1904 pixels\n",
      "Done\n"
     ]
    }
   ],
   "source": [
    "for movie, fps in zip(movies, framerates):\n",
    "    fstr = '%s-' % movie[:-4]\n",
    "\n",
    "    print('Processing %s' % movie)\n",
    "    video = p2p.files.load_video('%s/%s' % (loadpath, movie))\n",
    "    print('video', video.min(), video.max(), video.dtype, video.shape)\n",
    "\n",
    "    newvideo = np.zeros((r.gridx.shape[0], r.gridx.shape[1], video.shape[0])).astype(np.float32)\n",
    "    for i, frame in enumerate(video):\n",
    "        newframe = sic.rgb2gray(frame).astype(np.float32)\n",
    "        if newframe.max() > 1.0:\n",
    "            newframe = newframe / 255.0\n",
    "        newvideo[..., i] = sit.resize(newframe, r.gridx.shape)\n",
    "    print('newvideo', newvideo.min(), newvideo.max(), newvideo.dtype, newvideo.shape)\n",
    "    frames = newvideo[..., ::4]\n",
    "    video = None\n",
    "    \n",
    "    frames = np.flipud(frames)\n",
    "    print('frames', frames.min(), frames.max(), frames.dtype, frames.shape)\n",
    "\n",
    "    pt = []\n",
    "    for rf in e_rf:\n",
    "        rflum = e2cm.retinalmovie2electrodtimeseries( rf, frames, fps=fps)\n",
    "        # plt.plot(rflum)\n",
    "        ptrain = e2cm.Movie2Pulsetrain(rflum, tsample=tsample)\n",
    "        # plt.plot(ptrain.data)\n",
    "        pt.append(ptrain)\n",
    "\n",
    "    temporal_model = ec2b.TemporalModel(tsample)\n",
    "\n",
    "    ecs, _ = r.electrode_ecs(e_all)\n",
    "\n",
    "    print('Running p2p')\n",
    "    idx_list, sr_list = ec2b.pulse2percept(temporal_model, ecs, r, pt, n_jobs=5, fps=30)\n",
    "    pickle.dump((idx_list, sr_list), open(fstr + 'desparatesave.dat', 'wb'))\n",
    "    print('Done')\n",
    "\n",
    "    temporal_model = None\n",
    "    pt = None\n",
    "    ecs = None\n",
    "\n",
    "    bm = np.zeros(r.gridx.shape + (sr_list[0].data.shape[-1], ))\n",
    "    idxer = tuple(np.array(idx_list)[:, i] for i in range(2))\n",
    "    idx_list = None\n",
    "    bm[idxer] = [sr.data for sr in sr_list] \n",
    "    sr_list = None\n",
    "    \n",
    "    percept = utils.TimeSeries(tsample, bm)\n",
    "    percept.resample(20)\n",
    "\n",
    "    mov = p2p.utils.TimeSeries(percept.tsample, percept.data)\n",
    "\n",
    "    pickle.dump(mov, open(fstr + 'percept.dat', 'wb'))"
   ]
  },
  {
   "cell_type": "code",
   "execution_count": null,
   "metadata": {
    "collapsed": true,
    "deletable": true,
    "editable": true
   },
   "outputs": [],
   "source": []
  }
 ],
 "metadata": {
  "anaconda-cloud": {},
  "kernelspec": {
   "display_name": "Python [default]",
   "language": "python",
   "name": "python3"
  },
  "language_info": {
   "codemirror_mode": {
    "name": "ipython",
    "version": 3
   },
   "file_extension": ".py",
   "mimetype": "text/x-python",
   "name": "python",
   "nbconvert_exporter": "python",
   "pygments_lexer": "ipython3",
   "version": "3.5.2"
  }
 },
 "nbformat": 4,
 "nbformat_minor": 2
}
