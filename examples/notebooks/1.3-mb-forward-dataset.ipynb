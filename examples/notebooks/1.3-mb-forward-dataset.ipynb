{
 "cells": [
  {
   "cell_type": "code",
   "execution_count": 1,
   "metadata": {
    "collapsed": false
   },
   "outputs": [],
   "source": [
    "import numpy as np\n",
    "from datetime import date\n",
    "\n",
    "from pulse2percept import electrode2currentmap as e2cm\n",
    "from pulse2percept import effectivecurrent2brightness as ec2b\n",
    "from pulse2percept.utils import TimeSeries\n",
    "\n",
    "import matplotlib.pyplot as plt\n",
    "%matplotlib inline"
   ]
  },
  {
   "cell_type": "code",
   "execution_count": 2,
   "metadata": {
    "collapsed": true
   },
   "outputs": [],
   "source": [
    "def setup_model(exp_params):\n",
    "    model = dict()\n",
    "    \n",
    "    # set up temporal model\n",
    "    model['tm'] = ec2b.TemporalModel(model=exp_params['model'],\n",
    "                                     tsample=exp_params['tsample'])\n",
    "\n",
    "    # Electrode locations for patient TB (in microns), from MATLAB script\n",
    "    x_elec_loc = np.array([-6825.092215, -6332.563035, -5840.033855, -5347.504675,\n",
    "                           -6194.683612, -5702.154432, -5209.625252, -4717.096072,\n",
    "                           -5564.275010, -5071.745829, -4579.216649, -4086.687469,\n",
    "                           -4933.866407, -4441.337226, -3948.808046, -3456.278866])\n",
    "    y_elec_loc = np.array([-655.666769, -25.258166, 605.150437, 1235.559040,\n",
    "                           -1148.195949, -517.787346, 112.621257, 743.029860,\n",
    "                           -1640.725129, -1010.316526, -379.907924, 250.500679,\n",
    "                           -2133.254310, -1502.845707, -872.437104, -242.028501])\n",
    "\n",
    "    # MATLAB had the OD at (0,0), we have it at (15,2) deg\n",
    "    x_elec_loc += e2cm.deg2micron(15)\n",
    "    y_elec_loc += e2cm.deg2micron(2)\n",
    "    \n",
    "    # Radii (almost) alternating to create checkerboard pattern\n",
    "    r_arr = np.array([260, 520, 260, 520])\n",
    "    r_arr = np.concatenate((r_arr, r_arr[::-1], r_arr, r_arr[::-1]), axis=0)\n",
    "    \n",
    "    # Set electrode height to something realistic\n",
    "    h_arr = np.ones(16)*100\n",
    "\n",
    "    model['implant'] = e2cm.ElectrodeArray(r_arr.tolist(), x_elec_loc.tolist(),\n",
    "                                           y_elec_loc.tolist(), h_arr.tolist())\n",
    "\n",
    "    # find x,y limits from electrode location\n",
    "    round_to_nearest = 200.0  # microns\n",
    "    x_min = np.floor((x_elec_loc.min() - 500.0) / round_to_nearest) * round_to_nearest\n",
    "    x_max = np.ceil((x_elec_loc.max() + 500.0) / round_to_nearest) * round_to_nearest\n",
    "    y_min = np.floor((y_elec_loc.min() - 500.0) / round_to_nearest) * round_to_nearest\n",
    "    y_max = np.ceil((y_elec_loc.max() + 500.0) / round_to_nearest) * round_to_nearest\n",
    "\n",
    "    r_sampling = 250  # spatial sampling of the retina\n",
    "    r_file = '../retina_argusI_s%d_%dx%d.npz' % (r_sampling, x_max - x_min, y_max - y_min)\n",
    "    model['retina'] = e2cm.Retina(axon_map=r_file, sampling=r_sampling,\n",
    "                                  xlo=x_min, xhi=x_max, ylo=y_min, yhi=y_max)\n",
    "    \n",
    "    # We derive the effective current stimulation (ecs; passed through the effect of\n",
    "    # the retinal layout, axons, etc.) in addition to the current (cs):\n",
    "    model['integrationtype'] = 'dotproduct'\n",
    "    model['ecs'], model['cs'] = model['retina'].electrode_ecs(model['implant'],\n",
    "                                                              integrationtype=model['integrationtype'])\n",
    "    \n",
    "    return model"
   ]
  },
  {
   "cell_type": "code",
   "execution_count": 3,
   "metadata": {
    "collapsed": false
   },
   "outputs": [],
   "source": [
    "def run_trial(amp_E1, amp_E2, freq_E1, freq_E2, exp_params, model):\n",
    "    idx_E1 = exp_params['idx_E1']\n",
    "    idx_E2 = exp_params['idx_E2']\n",
    "    \n",
    "    # generate list of pulse trains\n",
    "    pt_list = []\n",
    "    for j in range(16):\n",
    "        if j == idx_E1:\n",
    "            pt_list.append(get_pulse_train(amp_E1, freq_E1, tsample=exp_params['tsample']))\n",
    "        elif j == idx_E2:\n",
    "            pt_list.append(get_pulse_train(amp_E2, freq_E2, tsample=exp_params['tsample']))\n",
    "        else:\n",
    "            # all others zero\n",
    "            pt_list.append(get_pulse_train(0, 0, tsample=exp_params['tsample']))\n",
    "            \n",
    "    # Calculate response\n",
    "    if exp_params['use_ecs']:\n",
    "        current_spread = model['ecs']\n",
    "    else:\n",
    "        current_spread = model['cs']\n",
    "    resp = ec2b.pulse2percept(model['tm'], current_spread, model['retina'],\n",
    "                              pt_list, 30, dojit=False, n_jobs=1)\n",
    "\n",
    "    # Find brightest element\n",
    "    idx_px = resp.data.argmax()\n",
    "    \n",
    "    # Find frame where brightest pixel is: unravel maps flat index onto\n",
    "    # high-dimensional indices (x,y,z). What we want is index z (the frame index).\n",
    "    idx_frame = np.unravel_index(idx_px, resp.shape)[-1]\n",
    "    \n",
    "    # return that single frame\n",
    "    return resp.data[..., idx_frame]"
   ]
  },
  {
   "cell_type": "code",
   "execution_count": 4,
   "metadata": {
    "collapsed": false
   },
   "outputs": [],
   "source": [
    "def run_experiment(exp_params, model):\n",
    "    print('Experiment: %s (%s, %s)' % (exp_params['name'],\n",
    "                                       exp_params['name_E1'],\n",
    "                                       exp_params['name_E2']))\n",
    "\n",
    "    exp_params['date'] = date.today().strftime(\"%Y-%m-%d\")\n",
    "    # Generate filename and make sure we can write to it\n",
    "    # Do this now rather than after hours of number crunching...\n",
    "    filename = '%s%s_E%d_E%d_%s.npz' % (exp_params['save_dir'],\n",
    "                                        exp_params['name'],\n",
    "                                        exp_params['idx_E1'],\n",
    "                                        exp_params['idx_E2'],\n",
    "                                        exp_params['date'])\n",
    "    exp_params['filename'] = filename\n",
    "    np.savez(filename, data=np.zeros(10))\n",
    "\n",
    "    # Sample the range of meaningful amplitudes/frequencies\n",
    "    numDataPoints = 5\n",
    "    exp_params['amp_range'] = np.linspace(0, 80, numDataPoints)\n",
    "    exp_params['freq_range'] = np.linspace(0, 180, numDataPoints)\n",
    "    \n",
    "    data = dict()\n",
    "    data['amp_E1'] = []\n",
    "    data['amp_E2'] = []\n",
    "    data['freq_E1'] = []\n",
    "    data['freq_E2'] = []\n",
    "    data['frames'] = []\n",
    "    for amp_E1 in exp_params['amp_range']:\n",
    "        for amp_E2 in exp_params['amp_range']:\n",
    "            for freq_E1 in exp_params['freq_range']:\n",
    "                for freq_E2 in exp_params['freq_range']:\n",
    "                    data['amp_E1'].append(amp_E1)\n",
    "                    data['amp_E2'].append(amp_E2)\n",
    "                    data['freq_E1'].append(freq_E1)\n",
    "                    data['freq_E2'].append(freq_E2)\n",
    "                    data['frames'].append(run_trial(amp_E1, amp_E2, freq_E1, freq_E2,\n",
    "                                                    exp_params, model))\n",
    "\n",
    "    # Save results to .npz\n",
    "    np.savez(filename, data=data, exp_params=exp_params, model=model)\n",
    "    print('- Results saved to %s' % filename)"
   ]
  },
  {
   "cell_type": "code",
   "execution_count": 5,
   "metadata": {
    "collapsed": true
   },
   "outputs": [],
   "source": [
    "# We could use ec2b.Psycho2Pulsetrain, but we'd like to have the stimulus first, \n",
    "# followed by the inter-pulse gap. ec2b.Psycho2Pulsetrain has the inter-pulse\n",
    "# gap first...\n",
    "def get_pulse_train(ampl, freq, delay_dur=0, tsample=5e-6):\n",
    "    pulse_dur = 0.45/1000\n",
    "    stim_dur = 0.5\n",
    "    stim_size = int(np.round(stim_dur / tsample))\n",
    "    \n",
    "    if freq == 0:\n",
    "        # avoid division by zero\n",
    "        pulse_train = np.zeros(stim_size)\n",
    "        return TimeSeries(tsample, pulse_train)\n",
    "\n",
    "    # envelope size (single pulse + gap) given by `freq`\n",
    "    envelope_size = int(np.round((1/freq) / tsample))\n",
    "\n",
    "    # delay given by `delay_dur`\n",
    "    delay_size = int(np.round(delay_dur / tsample))\n",
    "    delay = np.zeros(delay_size)\n",
    "\n",
    "    # single pulse given by `pulse_dur`\n",
    "    pulse = ampl * e2cm.get_pulse(pulse_dur, tsample, pulse_dur, 'cathodicfirst')\n",
    "    pulse_size = pulse.size\n",
    "\n",
    "    # then gap is used to fill up what's left\n",
    "    gap_size = envelope_size - delay_size - pulse_size\n",
    "    gap = np.zeros(gap_size)\n",
    "\n",
    "    pulse_train = []\n",
    "    for j in range(int(np.round(stim_dur * freq))):\n",
    "        pulse_train = np.concatenate((pulse_train, delay, pulse, gap), axis=0)\n",
    "        \n",
    "    if pulse_train.size < stim_size:\n",
    "        filler_size = stim_size - pulse_train.size\n",
    "        filler = np.zeros(filler_size)\n",
    "        pulse_train = np.concatenate((pulse_train, filler), axis=0)\n",
    "        \n",
    "    if pulse_train.size > stim_size:\n",
    "        pulse_train = pulse_train[:stim_size]\n",
    "    \n",
    "    return TimeSeries(tsample, pulse_train)"
   ]
  },
  {
   "cell_type": "code",
   "execution_count": 6,
   "metadata": {
    "collapsed": false
   },
   "outputs": [
    {
     "data": {
      "text/plain": [
       "<matplotlib.text.Text at 0x7f0879a52e48>"
      ]
     },
     "execution_count": 6,
     "metadata": {},
     "output_type": "execute_result"
    },
    {
     "data": {
      "image/png": "[encoded data removed]",
      "text/plain": [
       "<matplotlib.figure.Figure at 0x7f0879b2ad30>"
      ]
     },
     "metadata": {},
     "output_type": "display_data"
    }
   ],
   "source": [
    "plt.subplot(211)\n",
    "plt.plot(get_pulse_train(20, 50, 0).data[0:4500])\n",
    "\n",
    "plt.subplot(212)\n",
    "plt.plot(get_pulse_train(20, 50, 1/1000).data[0:4500])\n",
    "plt.ylabel('1ms delay')"
   ]
  },
  {
   "cell_type": "code",
   "execution_count": null,
   "metadata": {
    "collapsed": false
   },
   "outputs": [],
   "source": [
    "exp_params = dict()\n",
    "\n",
    "# give the experiment a name\n",
    "exp_params['name'] = 'inverse'\n",
    "\n",
    "# where to save the data (relative path)\n",
    "exp_params['save_dir'] = 'data/inverse/'\n",
    "\n",
    "# sampling step in seconds\n",
    "exp_params['tsample'] = 5e-6\n",
    "\n",
    "# model flavor\n",
    "exp_params['model'] = 'Nanduri'\n",
    "\n",
    "# whether to use effective current map (True) or current map (False)\n",
    "exp_params['use_ecs'] = True\n",
    "\n",
    "model = setup_model(exp_params)"
   ]
  },
  {
   "cell_type": "code",
   "execution_count": null,
   "metadata": {
    "collapsed": false
   },
   "outputs": [
    {
     "name": "stdout",
     "output_type": "stream",
     "text": [
      "Experiment: inverse (B1, D3)\n"
     ]
    }
   ],
   "source": [
    "indices = np.arange(16)\n",
    "names = ['A1','B1','C1','D1','A2','B2','C2','D2','A3','B3','C3','D3','A4','B4','C4','D4']\n",
    "\n",
    "for i in range(16):\n",
    "    exp_params['idx_E1'] = i\n",
    "    exp_params['name_E1'] = names[i]\n",
    "    if i == 0:\n",
    "        continue\n",
    "    \n",
    "    for j in range(i + 1, 16):\n",
    "        if i == 1 and j < 11:\n",
    "            continue\n",
    "        exp_params['idx_E2'] = j\n",
    "        exp_params['name_E2'] = names[j]\n",
    "        \n",
    "        t_exe = %timeit -oq -n1 -r1 run_experiment(exp_params, model)\n",
    "        print('- Experiment took %.1f s' % t_exe.best)"
   ]
  },
  {
   "cell_type": "code",
   "execution_count": null,
   "metadata": {
    "collapsed": true
   },
   "outputs": [],
   "source": []
  }
 ],
 "metadata": {
  "anaconda-cloud": {},
  "kernelspec": {
   "display_name": "Python [Root]",
   "language": "python",
   "name": "Python [Root]"
  },
  "language_info": {
   "codemirror_mode": {
    "name": "ipython",
    "version": 3
   },
   "file_extension": ".py",
   "mimetype": "text/x-python",
   "name": "python",
   "nbconvert_exporter": "python",
   "pygments_lexer": "ipython3",
   "version": "3.5.2"
  }
 },
 "nbformat": 4,
 "nbformat_minor": 0
}
