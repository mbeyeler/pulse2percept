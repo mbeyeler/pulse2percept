{
 "cells": [
  {
   "cell_type": "code",
   "execution_count": 1,
   "metadata": {
    "collapsed": true
   },
   "outputs": [],
   "source": [
    "# https://wiki.tiker.net/PyCuda/Examples/KernelConcurrency\n",
    "#! /usr/bin/env python\n",
    "# A simple program to illustrate kernel concurrency with PyCuda.\n",
    "# Reference: Chapter 3.2.6.5 in Cuda C Programming Guide Version 3.2.\n",
    "# Jesse Lu, 2011-04-04\n",
    "\n",
    "import numpy as np\n",
    "import pycuda.autoinit\n",
    "import pycuda.driver as drv\n",
    "from pycuda.compiler import SourceModule"
   ]
  },
  {
   "cell_type": "code",
   "execution_count": 2,
   "metadata": {
    "collapsed": true
   },
   "outputs": [],
   "source": [
    "#\n",
    "# Set up test scenario.\n",
    "# \n",
    "\n",
    "# Create a simple test kernel.\n",
    "mod = SourceModule(\"\"\"\n",
    "__global__ void my_kernel(float *d) {\n",
    "    const int i = threadIdx.x;\n",
    "    for (int m=0; m<100; m++) {\n",
    "        for (int k=0; k<100 ; k++)\n",
    "            d[i] = d[i] * 2.0;\n",
    "        for (int k=0; k<100 ; k++)\n",
    "            d[i] = d[i] / 2.0;\n",
    "    }\n",
    "    d[i] = d[i] * 2.0;\n",
    "}\n",
    "\"\"\")\n",
    "my_kernel = mod.get_function(\"my_kernel\")"
   ]
  },
  {
   "cell_type": "code",
   "execution_count": 3,
   "metadata": {
    "collapsed": false
   },
   "outputs": [
    {
     "data": {
      "text/plain": [
       "<pycuda._driver.Event at 0x7f93a4742d50>"
      ]
     },
     "execution_count": 3,
     "metadata": {},
     "output_type": "execute_result"
    }
   ],
   "source": [
    "# Create the test data on the host.\n",
    "N = 800 # Size of datasets.\n",
    "n = 32 # Number of datasets (and concurrent operations) used.\n",
    "data, data_check, d_data = [], [], []\n",
    "for k in range(n):\n",
    "    data.append(np.random.randn(N).astype(np.float32)) # Create random data.\n",
    "    data_check.append(data[k].copy()) # For checking the result afterwards. \n",
    "    d_data.append(drv.mem_alloc(data[k].nbytes)) # Allocate memory on device.\n",
    "\n",
    "#\n",
    "# Start concurrency test.\n",
    "#\n",
    "\n",
    "# Use this event as a reference point.\n",
    "ref = drv.Event()\n",
    "ref.record()"
   ]
  },
  {
   "cell_type": "code",
   "execution_count": 4,
   "metadata": {
    "collapsed": true
   },
   "outputs": [],
   "source": [
    "# Create the streams and events needed.\n",
    "stream, event = [], []\n",
    "marker_names = ['kernel_begin', 'kernel_end']\n",
    "for k in range(n):\n",
    "    stream.append(drv.Stream())\n",
    "    event.append(dict([(marker_names[l], drv.Event()) for l in range(len(marker_names))]))\n",
    "\n",
    "# Transfer to device.\n",
    "for k in range(n):\n",
    "    drv.memcpy_htod(d_data[k], data[k]) \n",
    "\n",
    "# Run kernels many times, we will only keep data from last loop iteration.\n",
    "for j in range(10):\n",
    "    for k in range(n):\n",
    "        event[k]['kernel_begin'].record(stream[k])\n",
    "        my_kernel(d_data[k], block=(N,1,1), stream=stream[k]) \n",
    "    for k in range(n): # Commenting out this line should break concurrency.\n",
    "        event[k]['kernel_end'].record(stream[k])\n",
    "\n",
    "# Transfer data back to host.\n",
    "for k in range(n):\n",
    "    drv.memcpy_dtoh(data[k], d_data[k]) "
   ]
  },
  {
   "cell_type": "code",
   "execution_count": 5,
   "metadata": {
    "collapsed": false
   },
   "outputs": [
    {
     "name": "stdout",
     "output_type": "stream",
     "text": [
      "=== Device attributes\n",
      "Name: GeForce GTX TITAN X\n",
      "Compute capability: (5, 2)\n",
      "Concurrent Kernels: True\n",
      "\n",
      "=== Checking answers\n",
      "Dataset 0: passed.\n",
      "Dataset 1: passed.\n",
      "Dataset 2: passed.\n",
      "Dataset 3: passed.\n",
      "Dataset 4: passed.\n",
      "Dataset 5: passed.\n",
      "Dataset 6: passed.\n",
      "Dataset 7: passed.\n",
      "Dataset 8: passed.\n",
      "Dataset 9: passed.\n",
      "Dataset 10: passed.\n",
      "Dataset 11: passed.\n",
      "Dataset 12: passed.\n",
      "Dataset 13: passed.\n",
      "Dataset 14: passed.\n",
      "Dataset 15: passed.\n",
      "Dataset 16: passed.\n",
      "Dataset 17: passed.\n",
      "Dataset 18: passed.\n",
      "Dataset 19: passed.\n",
      "Dataset 20: passed.\n",
      "Dataset 21: passed.\n",
      "Dataset 22: passed.\n",
      "Dataset 23: passed.\n",
      "Dataset 24: passed.\n",
      "Dataset 25: passed.\n",
      "Dataset 26: passed.\n",
      "Dataset 27: passed.\n",
      "Dataset 28: passed.\n",
      "Dataset 29: passed.\n",
      "Dataset 30: passed.\n",
      "Dataset 31: passed.\n",
      "\n",
      "=== Timing info (for last set of kernel launches)\n",
      "Dataset 0:\tkernel_begin: 74.67\tkernel_end: 74.82\t\n",
      "Dataset 1:\tkernel_begin: 74.69\tkernel_end: 74.83\t\n",
      "Dataset 2:\tkernel_begin: 74.71\tkernel_end: 74.84\t\n",
      "Dataset 3:\tkernel_begin: 74.73\tkernel_end: 74.85\t\n",
      "Dataset 4:\tkernel_begin: 74.75\tkernel_end: 74.87\t\n",
      "Dataset 5:\tkernel_begin: 74.75\tkernel_end: 74.89\t\n",
      "Dataset 6:\tkernel_begin: 74.77\tkernel_end: 74.92\t\n",
      "Dataset 7:\tkernel_begin: 74.80\tkernel_end: 74.94\t\n",
      "Dataset 8:\tkernel_begin: 74.82\tkernel_end: 74.95\t\n",
      "Dataset 9:\tkernel_begin: 74.83\tkernel_end: 74.97\t\n",
      "Dataset 10:\tkernel_begin: 74.85\tkernel_end: 74.99\t\n",
      "Dataset 11:\tkernel_begin: 74.88\tkernel_end: 75.00\t\n",
      "Dataset 12:\tkernel_begin: 74.89\tkernel_end: 75.02\t\n",
      "Dataset 13:\tkernel_begin: 74.90\tkernel_end: 75.04\t\n",
      "Dataset 14:\tkernel_begin: 74.92\tkernel_end: 75.06\t\n",
      "Dataset 15:\tkernel_begin: 74.94\tkernel_end: 75.07\t\n",
      "Dataset 16:\tkernel_begin: 74.96\tkernel_end: 75.08\t\n",
      "Dataset 17:\tkernel_begin: 74.97\tkernel_end: 75.10\t\n",
      "Dataset 18:\tkernel_begin: 74.99\tkernel_end: 75.11\t\n",
      "Dataset 19:\tkernel_begin: 75.00\tkernel_end: 75.13\t\n",
      "Dataset 20:\tkernel_begin: 75.02\tkernel_end: 75.15\t\n",
      "Dataset 21:\tkernel_begin: 75.04\tkernel_end: 75.16\t\n",
      "Dataset 22:\tkernel_begin: 75.07\tkernel_end: 75.19\t\n",
      "Dataset 23:\tkernel_begin: 75.07\tkernel_end: 75.22\t\n",
      "Dataset 24:\tkernel_begin: 75.11\tkernel_end: 75.25\t\n",
      "Dataset 25:\tkernel_begin: 75.14\tkernel_end: 75.28\t\n",
      "Dataset 26:\tkernel_begin: 75.16\tkernel_end: 75.30\t\n",
      "Dataset 27:\tkernel_begin: 75.18\tkernel_end: 75.31\t\n",
      "Dataset 28:\tkernel_begin: 75.20\tkernel_end: 75.33\t\n",
      "Dataset 29:\tkernel_begin: 75.21\tkernel_end: 75.35\t\n",
      "Dataset 30:\tkernel_begin: 75.23\tkernel_end: 75.35\t\n",
      "Dataset 31:\tkernel_begin: 75.25\tkernel_end: 75.38\t\n"
     ]
    }
   ],
   "source": [
    "print('=== Device attributes')\n",
    "dev = pycuda.autoinit.device\n",
    "print('Name:', dev.name())\n",
    "print('Compute capability:', dev.compute_capability())\n",
    "print('Concurrent Kernels:', \\\n",
    "    bool(dev.get_attribute(drv.device_attribute.CONCURRENT_KERNELS)))\n",
    "\n",
    "print('\\n=== Checking answers')\n",
    "for k in range(n):\n",
    "    if (np.linalg.norm((data_check[k] * 2**(j+1)) - data[k]) == 0.0):\n",
    "        print('Dataset %d: passed.' % k)\n",
    "    else:\n",
    "        print('Dataset %d: FAILED!' % k)\n",
    "\n",
    "print('\\n=== Timing info (for last set of kernel launches)')\n",
    "for k in range(n):\n",
    "    str = 'Dataset %d:\\t' % k\n",
    "    for m in marker_names:\n",
    "        str += '%s: %.2f\\t' % (m, ref.time_till(event[k][m]))\n",
    "    print(str)"
   ]
  },
  {
   "cell_type": "code",
   "execution_count": null,
   "metadata": {
    "collapsed": true
   },
   "outputs": [],
   "source": []
  }
 ],
 "metadata": {
  "anaconda-cloud": {},
  "kernelspec": {
   "display_name": "Python [Root]",
   "language": "python",
   "name": "Python [Root]"
  },
  "language_info": {
   "codemirror_mode": {
    "name": "ipython",
    "version": 3
   },
   "file_extension": ".py",
   "mimetype": "text/x-python",
   "name": "python",
   "nbconvert_exporter": "python",
   "pygments_lexer": "ipython3",
   "version": "3.5.2"
  }
 },
 "nbformat": 4,
 "nbformat_minor": 0
}
