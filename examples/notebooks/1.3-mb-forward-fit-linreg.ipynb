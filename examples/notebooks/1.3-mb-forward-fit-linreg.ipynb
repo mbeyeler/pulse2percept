{
 "cells": [
  {
   "cell_type": "code",
   "execution_count": 1,
   "metadata": {
    "collapsed": false
   },
   "outputs": [],
   "source": [
    "import numpy as np\n",
    "from sklearn import linear_model\n",
    "import os\n",
    "# from datetime import date\n",
    "\n",
    "# from pulse2percept import electrode2currentmap as e2cm\n",
    "# from pulse2percept import effectivecurrent2brightness as ec2b\n",
    "# from pulse2percept.utils import TimeSeries\n",
    "\n",
    "import matplotlib.pyplot as plt\n",
    "%matplotlib inline"
   ]
  },
  {
   "cell_type": "code",
   "execution_count": 2,
   "metadata": {
    "collapsed": false
   },
   "outputs": [],
   "source": [
    "def load_data(datapath, test_split=0.2, shuffle=True):\n",
    "    need_to_init = True\n",
    "    for file in os.listdir(datapath):\n",
    "        if not file.endswith(\".npz\"):\n",
    "            continue\n",
    "\n",
    "        loadfile = np.load(datapath + \"/\" + file)\n",
    "        \n",
    "        assert 'data' in loadfile.files\n",
    "        loaddata = loadfile['data'][()]\n",
    "\n",
    "        data = dict()\n",
    "        for var in [\"amp_E1\", \"amp_E2\", \"freq_E1\", \"freq_E2\", \"frames\"]:\n",
    "            assert var in loaddata\n",
    "            data.update({var: np.array(loaddata[var])})\n",
    "\n",
    "        num_samples = data['amp_E1'].size\n",
    "        num_features = np.prod(data['frames'].shape[1:])\n",
    "        num_targets = 4\n",
    "        \n",
    "        if need_to_init:\n",
    "            X = np.empty((0, num_features))\n",
    "            y = np.empty((0, num_targets))\n",
    "            need_to_init = False\n",
    "        \n",
    "        # stack and reshape to get dataset\n",
    "        thisX = data['frames'].reshape((num_samples, -1))\n",
    "        thisy = np.vstack((data['amp_E1'], data['amp_E2'],\n",
    "                           data['freq_E1'], data['freq_E2'])).T\n",
    "        X = np.vstack((X, thisX))\n",
    "        y = np.vstack((y, thisy))\n",
    "                \n",
    "    if shuffle:\n",
    "        np.random.seed(42)\n",
    "        np.random.shuffle(X)\n",
    "        np.random.seed(42)\n",
    "        np.random.shuffle(y)\n",
    "    \n",
    "    # split into train and test\n",
    "    num_samples, num_features = X.shape\n",
    "    num_test = int(num_samples * test_split)\n",
    "    num_train = num_samples - num_test\n",
    "    assert num_train > 0\n",
    "    assert num_test > 0\n",
    "    print('Num train samples: %d' % num_train)\n",
    "    print('Num test samples: %d' % num_test)\n",
    "\n",
    "    X_train = X[:num_train, :]\n",
    "    X_test  = X[num_train:, :]\n",
    "\n",
    "    y_train = y[:num_train]\n",
    "    y_test = y[num_train:]\n",
    "        \n",
    "    return (X_train, y_train), (X_test, y_test)"
   ]
  },
  {
   "cell_type": "code",
   "execution_count": 3,
   "metadata": {
    "collapsed": false
   },
   "outputs": [],
   "source": [
    "datapath = \"data/inverse\"\n",
    "test_split = 0.2\n",
    "shuffle = True\n",
    "do_delete_zeros = False"
   ]
  },
  {
   "cell_type": "code",
   "execution_count": 4,
   "metadata": {
    "collapsed": false
   },
   "outputs": [
    {
     "name": "stdout",
     "output_type": "stream",
     "text": [
      "Num train samples: 61000\n",
      "Num test samples: 15250\n"
     ]
    }
   ],
   "source": [
    "(X_train, y_train), (X_test, y_test) = load_data(datapath, test_split, shuffle)"
   ]
  },
  {
   "cell_type": "code",
   "execution_count": 5,
   "metadata": {
    "collapsed": false
   },
   "outputs": [],
   "source": [
    "if do_delete_zeros:\n",
    "    # remove entries where at least one element is zero\n",
    "    idx = np.unique(np.where(y_train == 0)[0])\n",
    "    X_train = np.delete(X_train, idx, axis=0)\n",
    "    y_train = np.delete(y_train, idx, axis=0)\n",
    "\n",
    "    idx = np.unique(np.where(y_test == 0)[0])\n",
    "    X_test = np.delete(X_test, idx, axis=0)\n",
    "    y_test = np.delete(y_test, idx, axis=0)"
   ]
  },
  {
   "cell_type": "code",
   "execution_count": null,
   "metadata": {
    "collapsed": false
   },
   "outputs": [],
   "source": [
    "alpha = np.linspace(1e-3, 1, 11)\n",
    "best_score = 0\n",
    "best_alpha = 0\n",
    "for a in alpha:\n",
    "    regr = linear_model.ElasticNet(alpha=a)\n",
    "    regr.fit(X_train, y_train)\n",
    "    test_error = np.mean((regr.predict(X_test) - y_test) ** 2)\n",
    "    test_score = regr.score(X_test, y_test)\n",
    "    print(test_score)\n",
    "    if test_score > best_score:\n",
    "        best_score = test_score\n",
    "        best_alpha = a\n",
    "print('Best alpha: %.5f' % best_alpha)"
   ]
  },
  {
   "cell_type": "code",
   "execution_count": 7,
   "metadata": {
    "collapsed": true
   },
   "outputs": [],
   "source": [
    "regr = linear_model.Ridge(alpha=best_alpha)"
   ]
  },
  {
   "cell_type": "code",
   "execution_count": 8,
   "metadata": {
    "collapsed": false
   },
   "outputs": [
    {
     "data": {
      "text/plain": [
       "Ridge(alpha=1.0, copy_X=True, fit_intercept=True, max_iter=None,\n",
       "   normalize=False, random_state=None, solver='auto', tol=0.001)"
      ]
     },
     "execution_count": 8,
     "metadata": {},
     "output_type": "execute_result"
    }
   ],
   "source": [
    "regr.fit(X_train, y_train)"
   ]
  },
  {
   "cell_type": "code",
   "execution_count": 9,
   "metadata": {
    "collapsed": false
   },
   "outputs": [
    {
     "name": "stdout",
     "output_type": "stream",
     "text": [
      "Mean squared error: 1437.27\n",
      "Variance score: 0.41\n"
     ]
    }
   ],
   "source": [
    "# print('Coefficients: \\n', regr.coef_)\n",
    "y_hat = regr.predict(X_test)\n",
    "\n",
    "mse = np.mean((y_hat - y_test) ** 2, axis=1)\n",
    "\n",
    "# The mean squared error\n",
    "print(\"Mean squared error: %.2f\"\n",
    "      % np.mean(mse))\n",
    "\n",
    "# Explained variance score: 1 is perfect prediction\n",
    "print('Variance score: %.2f' % regr.score(X_test, y_test))"
   ]
  },
  {
   "cell_type": "code",
   "execution_count": 10,
   "metadata": {
    "collapsed": false
   },
   "outputs": [
    {
     "data": {
      "text/plain": [
       "[<matplotlib.lines.Line2D at 0x7f938576afd0>]"
      ]
     },
     "execution_count": 10,
     "metadata": {},
     "output_type": "execute_result"
    },
    {
     "data": {
      "image/png": "[encoded data removed]",
      "text/plain": [
       "<matplotlib.figure.Figure at 0x7f93b3ca4a20>"
      ]
     },
     "metadata": {},
     "output_type": "display_data"
    }
   ],
   "source": [
    "idx = 3\n",
    "plt.plot(y_test[:, idx], (y_test[:, idx] - y_hat[:, idx]) ** 2, 'o')"
   ]
  },
  {
   "cell_type": "code",
   "execution_count": 11,
   "metadata": {
    "collapsed": false
   },
   "outputs": [
    {
     "data": {
      "text/plain": [
       "<module 'matplotlib.pyplot' from '/home/mbeyeler/anaconda3/lib/python3.5/site-packages/matplotlib/pyplot.py'>"
      ]
     },
     "execution_count": 11,
     "metadata": {},
     "output_type": "execute_result"
    }
   ],
   "source": [
    "plt"
   ]
  },
  {
   "cell_type": "code",
   "execution_count": 12,
   "metadata": {
    "collapsed": true
   },
   "outputs": [],
   "source": [
    "y_hat = regr.predict(X_test)"
   ]
  },
  {
   "cell_type": "code",
   "execution_count": 13,
   "metadata": {
    "collapsed": false
   },
   "outputs": [
    {
     "data": {
      "text/plain": [
       "<matplotlib.image.AxesImage at 0x7f9385714e48>"
      ]
     },
     "execution_count": 13,
     "metadata": {},
     "output_type": "execute_result"
    },
    {
     "data": {
      "image/png": "[encoded data removed]",
      "text/plain": [
       "<matplotlib.figure.Figure at 0x7f9385794940>"
      ]
     },
     "metadata": {},
     "output_type": "display_data"
    }
   ],
   "source": [
    "# find and plot the best\n",
    "err = np.mean((y_hat - y_test) ** 2, axis=1)\n",
    "plt.imshow(X_test[err.argmin(),:].reshape((19,19)), cmap='hot')"
   ]
  },
  {
   "cell_type": "code",
   "execution_count": 14,
   "metadata": {
    "collapsed": false
   },
   "outputs": [
    {
     "data": {
      "text/plain": [
       "array([  40.19599855,   40.56140086,   89.07401628,  133.91001217])"
      ]
     },
     "execution_count": 14,
     "metadata": {},
     "output_type": "execute_result"
    }
   ],
   "source": [
    "y_hat[err.argmin(),:]"
   ]
  },
  {
   "cell_type": "code",
   "execution_count": 15,
   "metadata": {
    "collapsed": false
   },
   "outputs": [
    {
     "data": {
      "text/plain": [
       "array([  40.,   40.,   90.,  135.])"
      ]
     },
     "execution_count": 15,
     "metadata": {},
     "output_type": "execute_result"
    }
   ],
   "source": [
    "y_test[err.argmin(),:]"
   ]
  },
  {
   "cell_type": "code",
   "execution_count": null,
   "metadata": {
    "collapsed": true
   },
   "outputs": [],
   "source": []
  }
 ],
 "metadata": {
  "anaconda-cloud": {},
  "kernelspec": {
   "display_name": "Python [Root]",
   "language": "python",
   "name": "Python [Root]"
  },
  "language_info": {
   "codemirror_mode": {
    "name": "ipython",
    "version": 3
   },
   "file_extension": ".py",
   "mimetype": "text/x-python",
   "name": "python",
   "nbconvert_exporter": "python",
   "pygments_lexer": "ipython3",
   "version": "3.5.2"
  }
 },
 "nbformat": 4,
 "nbformat_minor": 0
}
