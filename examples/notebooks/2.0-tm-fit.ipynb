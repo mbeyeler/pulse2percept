{
 "cells": [
  {
   "cell_type": "code",
   "execution_count": 1,
   "metadata": {
    "collapsed": false,
    "deletable": true,
    "editable": true
   },
   "outputs": [
    {
     "name": "stderr",
     "output_type": "stream",
     "text": [
      "2017-04-19 22:44:44,216 [pulse2percept] [INFO] Welcome to pulse2percept\n"
     ]
    }
   ],
   "source": [
    "import numpy as np\n",
    "import pickle\n",
    "\n",
    "import skimage.io as skio\n",
    "import skimage.transform as skit\n",
    "import skimage.measure as skim\n",
    "import scipy.optimize as scpo\n",
    "\n",
    "import matplotlib.pyplot as plt\n",
    "%matplotlib inline\n",
    "plt.style.use('ggplot')\n",
    "new_style = {'grid': False}\n",
    "plt.rc('axes', **new_style)\n",
    "\n",
    "import pulse2percept as p2p"
   ]
  },
  {
   "cell_type": "code",
   "execution_count": 2,
   "metadata": {
    "collapsed": false,
    "deletable": true,
    "editable": true
   },
   "outputs": [],
   "source": [
    "class InterpSim(p2p.Simulation):\n",
    "    def __init__(self, implant, name=None, engine='joblib', dojit=True, num_jobs=-1):\n",
    "        if not isinstance(implant, p2p.implants.ElectrodeArray):\n",
    "            e_s = \"`implant` must be of type p2p.implants.ElectrodeArray\"\n",
    "            raise TypeError(e_s)\n",
    "\n",
    "        self.name = name\n",
    "        self.implant = implant\n",
    "        self.engine = engine\n",
    "        self.dojit = dojit\n",
    "        self.num_jobs = num_jobs\n",
    "\n",
    "        # Optic fiber layer (OFL): After calling `set_optic_fiber_layer`, this\n",
    "        # variable will contain a `p2p.retina.Grid` object.\n",
    "        self.ofl = None\n",
    "\n",
    "        # Ganglion cell layer (GCL): After calling `set_ganglion_cell_layer`,\n",
    "        # this variable will contain a `p2p.retina.TemporalModel` object.\n",
    "        self.gcl = None\n",
    "        \n",
    "    def set_ganglion_cell_layer(self, loadfile):\n",
    "        from scipy.interpolate import RegularGridInterpolator\n",
    "        import pickle\n",
    "        \n",
    "        in_list, out_list = pickle.load(open(loadfile, 'rb'))\n",
    "        in_arr = np.array(in_list)\n",
    "        amps = np.unique(in_arr[:, 0])\n",
    "        freqs = np.unique(in_arr[:, 1])\n",
    "        ecs = np.unique(in_arr[:, 2])\n",
    "        out_arr = np.array(out_list).reshape((len(amps), len(freqs), len(ecs)))\n",
    "\n",
    "        self.gcl = RegularGridInterpolator((amps, freqs, ecs), out_arr,\n",
    "                                           bounds_error=False, fill_value=None)\n",
    "        \n",
    "    def pulse2percept(self, amps, freq, layers=['OFL', 'GCL']):\n",
    "        if 'OFL' in layers:\n",
    "            ecs, _ = self.ofl.electrode_ecs(self.implant)\n",
    "        else:\n",
    "            _, ecs = self.ofl.electrode_ecs(self.implant)\n",
    "            \n",
    "        # Sum up current contributions from all electrodes\n",
    "        ecs = np.sum(ecs[:, :, 1, :] * amps.flatten(), axis=-1)\n",
    "        \n",
    "        out_list = np.array([self.gcl([a, freq, 1]) for a in ecs.flatten()])\n",
    "        out_list[ecs.flatten() < 0] = 0.0\n",
    "        return out_list.reshape(ecs.shape)"
   ]
  },
  {
   "cell_type": "code",
   "execution_count": 3,
   "metadata": {
    "collapsed": true,
    "deletable": true,
    "editable": true
   },
   "outputs": [],
   "source": [
    "def calc_ssim(target, pred):\n",
    "    return skim.compare_ssim(target / target.max(),\n",
    "                             pred / pred.max(),\n",
    "                             data_range=1.0,\n",
    "                             gaussian_weights=True, sigma=1.5,\n",
    "                             use_sample_covariance=False)"
   ]
  },
  {
   "cell_type": "code",
   "execution_count": 4,
   "metadata": {
    "collapsed": true,
    "deletable": true,
    "editable": true
   },
   "outputs": [],
   "source": [
    "def calc_error_lasso(target, pred, amps, N, alpha=1.0):\n",
    "    reconst = 1.0 / (2.0 * N) * skim.compare_mse(target, pred)\n",
    "    regular = np.sum(np.abs(pred))\n",
    "    \n",
    "    return reconst + alpha * regular"
   ]
  },
  {
   "cell_type": "code",
   "execution_count": 5,
   "metadata": {
    "collapsed": false,
    "deletable": true,
    "editable": true
   },
   "outputs": [],
   "source": [
    "def calc_error(target, pred, amps, mode='ssim', lmb=0.0001):\n",
    "    # reconstruction error\n",
    "    if mode.lower() == 'ssim':\n",
    "        reconst = (1.0 - calc_ssim(target, pred)) / 2.0\n",
    "    elif mode.lower() == 'rmse':\n",
    "        reconst = skim.compare_nrmse(target / target.max(), pred / pred.max())\n",
    "    else:\n",
    "        raise NotImplementedError\n",
    "\n",
    "    # regularization\n",
    "    regular = np.linalg.norm(amps.flatten())\n",
    "    \n",
    "    return reconst + lmb * regular"
   ]
  },
  {
   "cell_type": "code",
   "execution_count": 6,
   "metadata": {
    "collapsed": true,
    "deletable": true,
    "editable": true
   },
   "outputs": [],
   "source": [
    "def step_model(amps, target, sim, layers, N=1, alpha=1.0):\n",
    "    pred = sim.pulse2percept(amps, 20, layers=layers)\n",
    "    err = calc_error_lasso(target, pred, amps, N, alpha)\n",
    "    if np.random.rand() < 0.1:\n",
    "        print(err)\n",
    "    return err"
   ]
  },
  {
   "cell_type": "code",
   "execution_count": 7,
   "metadata": {
    "collapsed": true,
    "deletable": true,
    "editable": true
   },
   "outputs": [],
   "source": [
    "def plot_results(img_in, img_out, img_target, lmb=0.0001):\n",
    "    ssim = calc_ssim(img_target, img_out)\n",
    "    err = calc_error(img_target, img_out, img_in, mode='rmse', lmb=lmb)\n",
    "    plt.subplot(131)\n",
    "    plt.imshow(img_in.reshape((6, 10)), cmap='gray')\n",
    "    plt.title('in')\n",
    "    plt.subplot(132)\n",
    "    plt.imshow(img_out, vmin=0, cmap='gray')\n",
    "    plt.title('ssim=%.3f err=%.3f' % (ssim, err))\n",
    "    plt.subplot(133)\n",
    "    plt.imshow(img_target, cmap='gray')\n",
    "    plt.title('target')"
   ]
  },
  {
   "cell_type": "code",
   "execution_count": 8,
   "metadata": {
    "collapsed": true,
    "deletable": true,
    "editable": true
   },
   "outputs": [],
   "source": [
    "letter = 'G'\n",
    "layers = ['GCL', 'OFL']\n",
    "mode = 'rmse'\n",
    "lmb = 0.0\n",
    "layerstr = '-'.join(layers)\n",
    "\n",
    "letterfile = 'letters/%s.jpg' % letter\n",
    "picklefile = 'xopt-%s-%f-%s-%s.dat' % (mode, lmb, letter, layerstr)"
   ]
  },
  {
   "cell_type": "code",
   "execution_count": 9,
   "metadata": {
    "collapsed": true,
    "deletable": true,
    "editable": true
   },
   "outputs": [],
   "source": [
    "implant = p2p.implants.ArgusII()"
   ]
  },
  {
   "cell_type": "code",
   "execution_count": 10,
   "metadata": {
    "collapsed": false,
    "deletable": true,
    "editable": true
   },
   "outputs": [
    {
     "data": {
      "text/plain": [
       "(array([   0.,    5.,   10.,   15.,   20.,   25.,   30.,   35.,   40.,\n",
       "          45.,   50.,   55.,   60.,   65.,   70.,   75.,   80.,   85.,\n",
       "          90.,   95.,  100.]),\n",
       " array([   0.,   10.,   20.,   30.,   40.,   50.,   60.,   70.,   80.,\n",
       "          90.,  100.,  110.,  120.,  130.,  140.,  150.,  160.,  170.,\n",
       "         180.,  190.,  200.]),\n",
       " array([ 0. ,  0.1,  0.2,  0.3,  0.4,  0.5,  0.6,  0.7,  0.8,  0.9,  1. ,\n",
       "         1.1,  1.2,  1.3,  1.4,  1.5]))"
      ]
     },
     "execution_count": 10,
     "metadata": {},
     "output_type": "execute_result"
    }
   ],
   "source": [
    "# The approximated model, interpolated from an input-output function\n",
    "sim = InterpSim(implant)\n",
    "sim.set_optic_fiber_layer(sampling=200)\n",
    "sim.set_ganglion_cell_layer('temporal-model-amps-freqs-ecs.dat')\n",
    "sim.gcl.grid"
   ]
  },
  {
   "cell_type": "code",
   "execution_count": 11,
   "metadata": {
    "collapsed": false,
    "deletable": true,
    "editable": true
   },
   "outputs": [
    {
     "data": {
      "text/plain": [
       "((200, 256), 0, 255)"
      ]
     },
     "execution_count": 11,
     "metadata": {},
     "output_type": "execute_result"
    }
   ],
   "source": [
    "img = 255 - skio.imread(letterfile)\n",
    "img.shape, img.min(), img.max()"
   ]
  },
  {
   "cell_type": "code",
   "execution_count": 12,
   "metadata": {
    "collapsed": false,
    "deletable": true,
    "editable": true
   },
   "outputs": [
    {
     "data": {
      "text/plain": [
       "((6, 10), 0.0, 1.0)"
      ]
     },
     "execution_count": 12,
     "metadata": {},
     "output_type": "execute_result"
    }
   ],
   "source": [
    "img = img[50:150, 70:190]\n",
    "img_small = skit.resize(img, (6, 10))\n",
    "img_small.shape, img_small.min(), img_small.max()"
   ]
  },
  {
   "cell_type": "code",
   "execution_count": 13,
   "metadata": {
    "collapsed": false,
    "deletable": true,
    "editable": true
   },
   "outputs": [
    {
     "data": {
      "text/plain": [
       "((21, 31), 0.0, 25.0)"
      ]
     },
     "execution_count": 13,
     "metadata": {},
     "output_type": "execute_result"
    }
   ],
   "source": [
    "target = skit.resize(img, sim.ofl.gridx.shape)\n",
    "target /= target.max()\n",
    "target *= 25.0\n",
    "target.shape, target.min(), target.max()"
   ]
  },
  {
   "cell_type": "code",
   "execution_count": 14,
   "metadata": {
    "collapsed": false,
    "deletable": true,
    "editable": true
   },
   "outputs": [
    {
     "data": {
      "text/plain": [
       "<matplotlib.text.Text at 0x7f2aa1d6f8d0>"
      ]
     },
     "execution_count": 14,
     "metadata": {},
     "output_type": "execute_result"
    },
    {
     "data": {
      "image/png": "[encoded data removed]",
      "text/plain": [
       "<matplotlib.figure.Figure at 0x7f2aa1b9bdd8>"
      ]
     },
     "metadata": {},
     "output_type": "display_data"
    }
   ],
   "source": [
    "plt.figure(figsize=(12, 6))\n",
    "plt.subplot(121)\n",
    "plt.imshow(img_small, cmap='gray')\n",
    "plt.title('small')\n",
    "plt.subplot(122)\n",
    "plt.imshow(target, cmap='gray')\n",
    "plt.title('target')"
   ]
  },
  {
   "cell_type": "code",
   "execution_count": 15,
   "metadata": {
    "collapsed": false,
    "deletable": true,
    "editable": true
   },
   "outputs": [],
   "source": [
    "assert calc_error(target, target, np.zeros(10), 'ssim', 0.1) == 0.0\n",
    "assert np.isclose(calc_error(target, target, np.ones(2), 'ssim', 0.25), 0.25 * np.sqrt(2))"
   ]
  },
  {
   "cell_type": "code",
   "execution_count": 16,
   "metadata": {
    "collapsed": false,
    "deletable": true,
    "editable": true
   },
   "outputs": [
    {
     "name": "stdout",
     "output_type": "stream",
     "text": [
      "160.326117206\n",
      "160.443796945\n",
      "160.478932349\n",
      "160.579902288\n",
      "160.326596587\n",
      "160.034522829\n",
      "159.895645124\n",
      "159.767414304\n",
      "159.372094434\n",
      "159.627363456\n",
      "159.566012104\n",
      "159.178997415\n",
      "159.043006597\n",
      "159.035582614\n",
      "158.872137263\n",
      "158.789968235\n",
      "158.709658307\n",
      "158.47722084\n",
      "158.466920125\n",
      "158.410775374\n",
      "158.398227628\n",
      "158.138517261\n",
      "158.101462493\n",
      "158.061246361\n",
      "157.982257868\n",
      "157.800176614\n",
      "157.754732457\n",
      "157.722989656\n",
      "157.657485404\n",
      "157.412634087\n",
      "157.174605298\n",
      "157.153954856\n",
      "157.005647057\n",
      "156.914865263\n",
      "156.782953513\n",
      "156.741513989\n",
      "156.124642483\n",
      "156.589543555\n",
      "156.505797578\n",
      "156.26831946\n",
      "156.238247006\n",
      "156.068680596\n",
      "156.040836002\n",
      "155.992155567\n",
      "155.632233964\n",
      "155.442089164\n",
      "155.393818489\n",
      "155.309178862\n",
      "155.011102177\n",
      "154.879713891\n",
      "154.722660836\n",
      "154.106737221\n",
      "153.93676705\n",
      "153.472396344\n",
      "153.386778909\n",
      "153.225653076\n",
      "152.92291701\n",
      "152.924325133\n",
      "152.897075351\n",
      "152.86334132\n",
      "152.711547655\n",
      "152.664080239\n",
      "152.480153664\n",
      "152.20000609\n",
      "152.109029466\n",
      "151.730073175\n",
      "151.384548318\n",
      "151.138264581\n",
      "151.036431616\n",
      "150.057728881\n",
      "150.671479018\n",
      "149.925161679\n",
      "149.859707171\n",
      "148.267099219\n",
      "148.774480224\n",
      "148.652633349\n",
      "148.407420475\n",
      "148.326543397\n",
      "147.894866607\n",
      "147.792864148\n",
      "147.682409618\n",
      "147.283614168\n",
      "146.345007291\n",
      "146.278911177\n",
      "145.183176127\n",
      "145.890077698\n",
      "145.390867636\n",
      "143.99790415\n",
      "144.740989747\n",
      "144.517001256\n",
      "142.862406637\n",
      "143.698129635\n",
      "143.584910332\n",
      "143.44943283\n",
      "143.244581145\n",
      "143.132142923\n",
      "142.893562575\n",
      "142.433034196\n",
      "142.065472583\n",
      "141.735883997\n",
      "140.394394441\n",
      "141.479602449\n",
      "141.38431617\n",
      "140.619716594\n",
      "140.197502859\n",
      "140.142440226\n",
      "139.957192635\n",
      "139.299748657\n",
      "139.249128967\n",
      "137.802493811\n",
      "138.173282118\n",
      "137.889183345\n",
      "137.568883831\n",
      "137.050344587\n",
      "136.970665489\n",
      "136.943921266\n",
      "136.717198467\n",
      "136.538062248\n",
      "136.096903739\n",
      "135.696706126\n",
      "133.622183415\n",
      "134.623398799\n",
      "133.331394551\n",
      "132.969533634\n",
      "132.326934015\n",
      "132.253452733\n",
      "132.216243035\n",
      "131.239618925\n",
      "130.581503322\n",
      "129.95284736\n",
      "129.774627853\n",
      "129.008226138\n",
      "128.279016727\n",
      "127.513639352\n",
      "127.456995734\n",
      "127.287870987\n",
      "127.131067853\n",
      "126.675704675\n",
      "126.01110404\n",
      "125.921822005\n",
      "125.733102678\n",
      "124.726339863\n",
      "124.246812238\n",
      "123.432410687\n",
      "123.13995425\n",
      "122.824666318\n",
      "122.126555536\n",
      "121.206404649\n",
      "120.383038965\n",
      "120.207941175\n",
      "118.498562793\n",
      "119.648989795\n",
      "119.161983875\n",
      "118.783914341\n",
      "118.472189904\n",
      "116.82040988\n",
      "116.196631827\n",
      "116.126927911\n",
      "114.594726867\n",
      "114.313540291\n",
      "112.819425761\n",
      "112.677856859\n",
      "111.62180852\n",
      "110.986086723\n",
      "110.939443509\n",
      "110.599891286\n",
      "110.353178617\n",
      "109.100142129\n",
      "108.795121499\n",
      "108.07700803\n",
      "107.10685231\n",
      "106.635286433\n",
      "106.533279683\n",
      "106.449513534\n",
      "106.036498146\n",
      "106.028872135\n",
      "105.937355092\n",
      "105.884018458\n",
      "105.704260353\n",
      "105.466076003\n",
      "104.868936076\n",
      "104.614290401\n",
      "104.590138921\n",
      "103.966073056\n",
      "103.656573994\n",
      "103.532241939\n",
      "103.478526988\n",
      "103.44211016\n",
      "103.288610862\n",
      "103.184773825\n",
      "103.14895031\n",
      "102.955796368\n",
      "102.913698536\n",
      "102.919821444\n",
      "102.878589971\n",
      "102.854262624\n",
      "102.809675027\n",
      "102.79432985\n",
      "102.758440194\n",
      "102.730991541\n",
      "102.722727867\n",
      "102.680346738\n",
      "102.665979512\n",
      "102.666482679\n",
      "102.661708373\n",
      "102.652314238\n",
      "102.638823712\n",
      "102.62483049\n",
      "102.618075677\n",
      "102.601502922\n",
      "102.589458228\n",
      "102.588182124\n",
      "102.585603239\n",
      "102.579643688\n",
      "102.577884902\n",
      "102.572617497\n",
      "102.568308074\n",
      "102.565313574\n",
      "102.558499562\n",
      "102.555846583\n",
      "102.551603203\n",
      "102.544165932\n",
      "102.541493301\n",
      "102.538707831\n",
      "102.532658658\n",
      "102.531020366\n",
      "102.528959695\n",
      "102.526654003\n",
      "102.52490003\n",
      "102.519863835\n",
      "102.522385847\n",
      "102.520918133\n",
      "102.518870247\n",
      "102.518545709\n",
      "102.517258106\n",
      "102.516932406\n",
      "102.516932406\n",
      "102.516932406\n",
      "102.516932406\n",
      "102.516932406\n",
      "102.516932406\n",
      "102.516932406\n",
      "102.516932406\n",
      "102.516932406\n",
      "102.516932406\n",
      "102.516932406\n",
      "102.516932406\n",
      "102.516932406\n",
      "102.516932406\n",
      "102.516932406\n",
      "102.516932406\n",
      "102.516932406\n",
      "102.516932406\n",
      "102.516932406\n",
      "102.516932406\n",
      "102.516932406\n",
      "102.516932406\n",
      "102.516932406\n",
      "102.516932406\n",
      "102.516932406\n",
      "102.516932406\n",
      "102.516932406\n",
      "102.516932406\n",
      "102.516932406\n",
      "102.516932406\n",
      "102.516932406\n",
      "102.516932406\n",
      "102.516932406\n",
      "102.516932406\n",
      "102.516932406\n",
      "102.516932406\n",
      "102.516932406\n",
      "102.516932406\n",
      "102.516932406\n",
      "102.516932406\n",
      "102.516932406\n",
      "102.516932406\n",
      "102.516932406\n",
      "102.516932406\n",
      "102.516932406\n",
      "102.516932406\n",
      "102.516932406\n",
      "102.516932406\n",
      "102.516932406\n",
      "102.516932406\n",
      "102.516932406\n",
      "102.516932406\n",
      "102.516932406\n",
      "102.516932406\n",
      "102.516932406\n",
      "102.516932406\n",
      "102.516932406\n",
      "102.516932406\n",
      "102.516932406\n",
      "102.516932406\n",
      "102.516932406\n",
      "102.516932406\n",
      "102.516932406\n",
      "102.516932406\n",
      "102.516932406\n",
      "102.516932406\n",
      "102.516932406\n",
      "102.516932406\n",
      "102.516932406\n",
      "102.516932406\n",
      "102.516932406\n",
      "102.516932406\n",
      "102.516932406\n",
      "102.516932406\n",
      "102.516932406\n",
      "102.516932406\n",
      "102.516932406\n",
      "102.516932406\n",
      "102.516932406\n",
      "102.516932406\n",
      "102.516932406\n",
      "102.516932406\n",
      "Optimization terminated successfully.\n",
      "         Current function value: 102.516932\n",
      "         Iterations: 2126\n",
      "         Function evaluations: 2931\n"
     ]
    }
   ],
   "source": [
    "xopt = scpo.fmin(step_model, img_small, args=(target, sim, layers, 1, 0.1))"
   ]
  },
  {
   "cell_type": "code",
   "execution_count": 17,
   "metadata": {
    "collapsed": false
   },
   "outputs": [
    {
     "ename": "AttributeError",
     "evalue": "'numpy.ndarray' object has no attribute 'x'",
     "output_type": "error",
     "traceback": [
      "\u001b[0;31m---------------------------------------------------------------------------\u001b[0m",
      "\u001b[0;31mAttributeError\u001b[0m                            Traceback (most recent call last)",
      "\u001b[0;32m<ipython-input-17-49dd19d0bee7>\u001b[0m in \u001b[0;36m<module>\u001b[0;34m()\u001b[0m\n\u001b[0;32m----> 1\u001b[0;31m \u001b[0mxopt\u001b[0m \u001b[0;34m=\u001b[0m \u001b[0mres\u001b[0m\u001b[0;34m.\u001b[0m\u001b[0mx\u001b[0m\u001b[0;34m\u001b[0m\u001b[0m\n\u001b[0m\u001b[1;32m      2\u001b[0m \u001b[0mxopt\u001b[0m\u001b[0;34m.\u001b[0m\u001b[0mmin\u001b[0m\u001b[0;34m(\u001b[0m\u001b[0;34m)\u001b[0m\u001b[0;34m,\u001b[0m \u001b[0mxopt\u001b[0m\u001b[0;34m.\u001b[0m\u001b[0mmax\u001b[0m\u001b[0;34m(\u001b[0m\u001b[0;34m)\u001b[0m\u001b[0;34m\u001b[0m\u001b[0m\n",
      "\u001b[0;31mAttributeError\u001b[0m: 'numpy.ndarray' object has no attribute 'x'"
     ]
    }
   ],
   "source": [
    "xopt.min(), xopt.max()"
   ]
  },
  {
   "cell_type": "code",
   "execution_count": null,
   "metadata": {
    "collapsed": true,
    "deletable": true,
    "editable": true
   },
   "outputs": [],
   "source": [
    "pickle.dump(xopt, open(picklefile, 'wb'))"
   ]
  },
  {
   "cell_type": "code",
   "execution_count": null,
   "metadata": {
    "collapsed": false,
    "deletable": true,
    "editable": true
   },
   "outputs": [],
   "source": [
    "out_opt = sim.pulse2percept(xopt, 20, layers=layers)\n",
    "out_opt.shape"
   ]
  },
  {
   "cell_type": "code",
   "execution_count": null,
   "metadata": {
    "collapsed": false,
    "deletable": true,
    "editable": true
   },
   "outputs": [],
   "source": [
    "plt.figure(figsize=(14, 6))\n",
    "plt.subplot(131)\n",
    "plt.imshow(img_small, cmap='gray')\n",
    "plt.title('in')\n",
    "plt.subplot(132)\n",
    "plt.imshow(out_opt, cmap='gray')\n",
    "plt.title('struct sim: %.3f' % skim.compare_ssim(out_opt / out_opt.max(), target / target.max(), dynamic_range=1.0))\n",
    "plt.subplot(133)\n",
    "plt.imshow(target, cmap='gray')\n",
    "plt.title('target')"
   ]
  },
  {
   "cell_type": "code",
   "execution_count": null,
   "metadata": {
    "collapsed": true,
    "deletable": true,
    "editable": true
   },
   "outputs": [],
   "source": []
  },
  {
   "cell_type": "code",
   "execution_count": null,
   "metadata": {
    "collapsed": true,
    "deletable": true,
    "editable": true
   },
   "outputs": [],
   "source": []
  }
 ],
 "metadata": {
  "anaconda-cloud": {},
  "kernelspec": {
   "display_name": "Python [default]",
   "language": "python",
   "name": "python3"
  },
  "language_info": {
   "codemirror_mode": {
    "name": "ipython",
    "version": 3
   },
   "file_extension": ".py",
   "mimetype": "text/x-python",
   "name": "python",
   "nbconvert_exporter": "python",
   "pygments_lexer": "ipython3",
   "version": "3.5.2"
  }
 },
 "nbformat": 4,
 "nbformat_minor": 0
}
