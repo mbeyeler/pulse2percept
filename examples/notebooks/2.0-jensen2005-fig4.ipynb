{
 "cells": [
  {
   "cell_type": "code",
   "execution_count": 1,
   "metadata": {
    "collapsed": false
   },
   "outputs": [],
   "source": [
    "import numpy as np\n",
    "from scipy.interpolate import interp1d\n",
    "from scipy.optimize import minimize\n",
    "from scipy.signal import fftconvolve\n",
    "\n",
    "from pulse2percept import electrode2currentmap as e2cm\n",
    "from pulse2percept import effectivecurrent2brightness as ec2b\n",
    "from pulse2percept import utils\n",
    "\n",
    "import matplotlib.pyplot as plt\n",
    "%matplotlib inline\n",
    "plt.style.use('ggplot')"
   ]
  },
  {
   "cell_type": "markdown",
   "metadata": {},
   "source": [
    "# Data\n",
    "---------\n",
    "All data was extracted from Jensen et al. (2005), Figure 4: Thresholds for Activation of Rabbit\n",
    "Retinal Ganglion Cells with Relatively Large, Extracellular Microelectrodes.\n",
    "Investigative Ophthalmology & Visual Science:46(4).\n",
    "\n",
    "Axonal data!"
   ]
  },
  {
   "cell_type": "code",
   "execution_count": 2,
   "metadata": {
    "collapsed": true
   },
   "outputs": [],
   "source": [
    "# Axonal data extracted from Fig. 4 in Jensen et al. (2005)\n",
    "jensen2005 = dict()\n",
    "jensen2005['E125'] = dict()\n",
    "jensen2005['E500'] = dict()\n",
    "\n",
    "# Cathodic\n",
    "jensen2005['E125']['cathodic'] = np.array([0.09790, 3.60377, 0.19721, 1.80616, 0.50172,\n",
    "                                       0.83488, 0.98945, 0.65090, 1.99315, 0.60031,\n",
    "                                       4.96424, 0.58921, 9.89445, 0.58921, 20.14408,\n",
    "                                       0.58555, 51.24806, 0.58555]).reshape((-1, 2))\n",
    "jensen2005['E125']['cathodic'][:, 0] /= 1000\n",
    "\n",
    "jensen2005['E500']['cathodic'] = np.array([0.09674, 12.99098, 0.19533, 7.89559, 0.49841,\n",
    "                                       4.14732, 0.98500, 2.61376, 1.98677, 1.97357,\n",
    "                                       4.94956, 1.87169, 9.86591, 1.84259, 19.66889,\n",
    "                                       1.74952, 48.99084, 1.73072]).reshape((-1, 2))\n",
    "jensen2005['E500']['cathodic'][:, 0] /= 1000\n",
    "\n",
    "\n",
    "\n",
    "# Anodic\n",
    "jensen2005['E125']['anodic'] = np.array([0.10000, 8.94028, 0.19931, 5.57116, 0.50172,\n",
    "                                     3.83516, 1.01067, 3.42874, 2.03590, 3.10379,\n",
    "                                     5.01719, 3.14266, 10.21449, 3.12316, 20.35897,\n",
    "                                     3.06540, 51.24806, 3.18202]).reshape((-1, 2))\n",
    "jensen2005['E125']['anodic'][:, 0] /= 1000\n",
    "\n",
    "jensen2005['E500']['anodic'] = np.array([0.09849, 26.77548, 0.19485, 13.42013, 0.49741, 6.40109, 0.98211, 4.95176,\n",
    "                              1.93901, 3.87704, 4.93281, 3.90493, 9.83307, 3.79816, 20.02002, 3.76131,\n",
    "                              50.94491, 3.56675]).reshape((-1, 2))\n",
    "jensen2005['E500']['anodic'][:, 0] /= 1000"
   ]
  },
  {
   "cell_type": "code",
   "execution_count": 3,
   "metadata": {
    "collapsed": true
   },
   "outputs": [],
   "source": [
    "# Data extracted from Fig. 1\n",
    "cai2011 = dict()\n",
    "\n",
    "cai2011['100'] = np.array([0.46257, 0.00105, 0.97908, 0.13688, 1.92488, 1.00413,\n",
    "                           2.93725, 1.00626, 3.94948, 1.01050, 4.92435, 1.01255,\n",
    "                           5.93659, 1.01679, 6.92409, 1.01676, 7.94909, 1.01681]).reshape((-1, 2))\n",
    "cai2011['200'] = np.array([0.47507, 0.00108, 0.95816, 0.07157, 1.95514, 0.71998,\n",
    "                           2.93725, 1.00626, 3.93698, 1.01047, 4.92448, 1.01045,\n",
    "                           5.94922, 1.01471, 6.93646, 1.01889, 7.93672, 1.01468]).reshape((-1, 2))\n",
    "cai2011['300'] = np.array([0.47507, 0.00108, 0.99671, 0.05481, 1.95487, 0.52419,\n",
    "                           2.93225, 0.88625, 3.93856, 0.98521, 4.94948, 1.01050,\n",
    "                           5.93672, 1.01468, 6.93672, 1.01468, 7.94909, 1.01681]).reshape((-1, 2))"
   ]
  },
  {
   "cell_type": "markdown",
   "metadata": {},
   "source": [
    "# Functions\n",
    "-----------------\n",
    "\n",
    "Following are all utily funcions used in this script."
   ]
  },
  {
   "cell_type": "code",
   "execution_count": 4,
   "metadata": {
    "collapsed": true
   },
   "outputs": [],
   "source": [
    "class GanglionCell(object):\n",
    "    def __init__(self, tsample, ca_scale=1.0, ca_tau=0.0191,\n",
    "                 inl_scale=0, anodic_scale=0,\n",
    "                 sig_a=3.0, sig_b=8.0):\n",
    "        ca_scale > 0\n",
    "        inl_scale > 0\n",
    "        anodic_scale > 0\n",
    "        ca_tau > 0\n",
    "        self.tsample = tsample\n",
    "        self.ca_scale = ca_scale\n",
    "        self.ca_tau = ca_tau\n",
    "        self.inl_scale = inl_scale\n",
    "        self.anodic_scale = anodic_scale\n",
    "        self.sig_a = sig_a\n",
    "        self.sig_b = sig_b\n",
    "\n",
    "        self.tau_gcl = 0.42 / 1000\n",
    "        t = np.arange(0, 6 * self.tau_gcl, self.tsample)\n",
    "        self.gamma_gcl = e2cm.gamma(1, self.tau_gcl, t)\n",
    "        self.gamma_gcl /= np.trapz(self.gamma_gcl, dx=self.tsample)\n",
    "        \n",
    "        self.tau_inl = 18.0 / 1000\n",
    "        self.delay_inl = 40.0 / 1000\n",
    "        t = np.arange(0, 10 * self.tau_inl, self.tsample)\n",
    "        tmp_gamma = e2cm.gamma(2, self.tau_inl, t)\n",
    "        delay = np.zeros(int(np.round(self.delay_inl / self.tsample)))\n",
    "        t = np.concatenate((delay, t))\n",
    "        self.gamma_inl = np.concatenate((delay, tmp_gamma))\n",
    "\n",
    "        t = np.arange(0, 6 * self.ca_tau, self.tsample)\n",
    "        self.gamma_ca = e2cm.gamma(1, self.ca_tau, t)\n",
    "        self.gamma_ca /= np.trapz(self.gamma_ca, dx=self.tsample)\n",
    "\n",
    "        \n",
    "    def model_cascade(self, pt, dolayers=None, dojit=True):\n",
    "        assert pt.tsample == self.tsample\n",
    "        \n",
    "        # Calculate charge accumulation on electrode\n",
    "        self.stim = pt\n",
    "        # TODO: what if charge accum grows slower for anodic\n",
    "        self.ca = pt.tsample * fftconvolve(np.abs(pt.data), self.gamma_ca,\n",
    "                                           mode='full')[:pt.data.size]\n",
    "\n",
    "        # Calculate impulse responses for GCL and INL layers\n",
    "        self.r_gcl_lin = utils.sparseconv(self.gamma_gcl, pt.data, mode='full', dojit=True)\n",
    "        self.r_gcl_lin = pt.tsample * self.r_gcl_lin[:pt.data.size]\n",
    "        self.r_inl_lin = utils.sparseconv(self.gamma_inl, pt.data, mode='full', dojit=True)\n",
    "        self.r_inl_lin = pt.tsample * self.r_inl_lin[:pt.data.size]\n",
    "\n",
    "        # Sum up cathodic vs anodic\n",
    "        self.r_cath_lin = np.maximum(0, -self.r_gcl_lin) + self.inl_scale * np.maximum(0, -self.r_inl_lin)\n",
    "        self.r_anod_lin = np.maximum(0, self.r_gcl_lin) + self.inl_scale * np.maximum(0, self.r_inl_lin)\n",
    "        self.r_lin = self.r_cath_lin + self.anodic_scale * self.r_anod_lin\n",
    "        \n",
    "        # Adjust for accumulated charge\n",
    "        self.r_adj = self.r_lin - self.ca_scale * self.ca\n",
    "        \n",
    "        # Feed through logistic activation function\n",
    "        self.r_rgc = 100.0 / (1.0 + np.exp(-self.sig_a * self.r_adj + self.sig_b))\n",
    "        \n",
    "        return utils.TimeSeries(pt.tsample, self.r_rgc)"
   ]
  },
  {
   "cell_type": "code",
   "execution_count": 5,
   "metadata": {
    "collapsed": true
   },
   "outputs": [],
   "source": [
    "def fit_amps(x, y, match_y):\n",
    "    x = np.array(x)\n",
    "    y = np.array(y)\n",
    "    # We are given a list of input values `x` and their corresponding output values\n",
    "    # `y` = f(x). We want to find the `x` value for which f(x) = `match_y`.\n",
    "    if np.allclose(y.ptp(), 0.0):\n",
    "        return np.inf\n",
    "\n",
    "    # Easiest way is to use interp1d as x = f(y)!\n",
    "    f = interp1d(y.flatten(), x.flatten(), fill_value='extrapolate')\n",
    "    return np.asscalar(f(match_y))"
   ]
  },
  {
   "cell_type": "code",
   "execution_count": 6,
   "metadata": {
    "collapsed": false
   },
   "outputs": [],
   "source": [
    "# Monophasic pulse train\n",
    "def get_jensen2005_pt(ptype, freq, amp, pdur, stim_dur, tsample=0.005 / 1000):\n",
    "    assert freq >= 0\n",
    "    assert amp >= 0  # sign handled by mono pulse\n",
    "    assert pdur > 0\n",
    "    assert stim_dur >= 0\n",
    "    \n",
    "    delay_dur = 20.0 / 1000\n",
    "    \n",
    "    stim_size = int(round(stim_dur / tsample))\n",
    "    if np.isclose(amp, 0.0) or np.isclose(freq, 0.0):\n",
    "        return utils.TimeSeries(tsample, np.zeros(stim_size))\n",
    "    \n",
    "    envelope_dur = 1.0 / float(freq)\n",
    "    assert envelope_dur > delay_dur\n",
    "    pulse_train = np.array([])\n",
    "    for j in range(int(np.ceil(stim_dur * freq))):\n",
    "        # A single mono pulse\n",
    "        pulse = e2cm.get_monophasic_pulse(ptype, pdur, tsample, delay_dur, envelope_dur) * amp\n",
    "        pulse_train = np.concatenate((pulse_train, pulse), axis=0)\n",
    "    pulse_train = pulse_train[:stim_size]\n",
    "    \n",
    "    return utils.TimeSeries(tsample, pulse_train)"
   ]
  },
  {
   "cell_type": "markdown",
   "metadata": {},
   "source": [
    "# Run model\n",
    "-----------------"
   ]
  },
  {
   "cell_type": "code",
   "execution_count": 7,
   "metadata": {
    "collapsed": true
   },
   "outputs": [],
   "source": [
    "def run_jensen2005_fig4(model, ptype, pdurs, amps, verbose=False):\n",
    "    stim_dur = 500.0 / 1000\n",
    "    stim_freq = 2.0\n",
    "    \n",
    "    gcr = model['gcr']\n",
    "    tsample = gcr.tsample\n",
    "    \n",
    "    fig4 = dict()\n",
    "    fig4['pulse_durs'] = pdurs\n",
    "    \n",
    "    resp = []\n",
    "    for pd, amp in zip(pdurs, amps):\n",
    "        stim = get_jensen2005_pt(ptype, stim_freq, amp, pd, stim_dur, tsample)\n",
    "        mov = gcr.model_cascade(stim)\n",
    "        resp.append(mov.data.max())\n",
    "\n",
    "    fig4['resp'] = np.array(resp)\n",
    "    return fig4"
   ]
  },
  {
   "cell_type": "code",
   "execution_count": 8,
   "metadata": {
    "collapsed": true
   },
   "outputs": [],
   "source": [
    "def run_cai2011_exp1(model, amp_th, freqs):\n",
    "    pdur = 0.2 / 1000\n",
    "    \n",
    "    gcr = model['gcr']\n",
    "    tsample = gcr.tsample\n",
    "\n",
    "    exp1 = dict()\n",
    "    exp1['freqs'] = freqs\n",
    "    exp1['amp_th'] = amp_th\n",
    "    exp1['amps'] = np.arange(9) * amp_th\n",
    "    for freq in freqs:\n",
    "        cond = str(freq)\n",
    "        exp1[cond] = dict()\n",
    "        \n",
    "        idur = 0.5 / freq\n",
    "        \n",
    "        resp = []\n",
    "        for amp in exp1['amps']:\n",
    "            stim = e2cm.Psycho2Pulsetrain(tsample, freq=freq, amp=amp, dur=0.5,\n",
    "                                          pulse_dur=pdur, interphase_dur=idur,\n",
    "                                          pulsetype='cathodicfirst',\n",
    "                                          delay=0.0 / 1000)\n",
    "            mov = gcr.model_cascade(stim)\n",
    "            resp.append(np.squeeze(mov.data.max()))\n",
    "\n",
    "        exp1[cond]['resp'] = np.array(resp)\n",
    "        exp1[cond]['norm_resp'] = (np.array(resp) + np.finfo(float).eps) / 100.0\n",
    "        \n",
    "    return exp1"
   ]
  },
  {
   "cell_type": "code",
   "execution_count": 9,
   "metadata": {
    "collapsed": true
   },
   "outputs": [],
   "source": [
    "def mse_jensen2005_fig4(x, jensen2005):\n",
    "    mse = 0\n",
    "    for diam in [125.0, 500.0]:\n",
    "        ename = 'E%.0f' % diam\n",
    "        for ptype in ['cathodic', 'anodic']:\n",
    "            model = get_model(x, diam)\n",
    "            fig4 = run_jensen2005_fig4(model, ptype, jensen2005[ename][ptype][:, 0],\n",
    "                                      jensen2005[ename][ptype][:, 1])\n",
    "            mse += np.sum((fig4['resp'] - 1.0) ** 2)\n",
    "            if fig4['resp'].max() < 0.5 or np.sum(fig4['resp']) < fig4['resp'].size / 2.0:\n",
    "                # prevent from zeroing out\n",
    "                mse += 1.0 / (np.sum(fig4['resp']) + np.finfo(float).eps)\n",
    "#     print('%s: %.9f' % (str([('%.9f' % xx) for xx in x]), mse))\n",
    "    return mse"
   ]
  },
  {
   "cell_type": "code",
   "execution_count": 10,
   "metadata": {
    "collapsed": true
   },
   "outputs": [],
   "source": [
    "def mse_cai2011_exp1(x, cai2011, freqs):\n",
    "    model = get_model(x, 40.0)\n",
    "    exp1 = run_cai2011_exp1(model, 20.0, freqs)\n",
    "    \n",
    "    mse = 0\n",
    "    for freq in exp1['freqs']:\n",
    "        cond = str(freq)\n",
    "        \n",
    "        mse += np.mean(np.abs(exp1[cond]['norm_resp'] - cai2011[cond][:, 1]) ** 2)\n",
    "    \n",
    "#     print('%s: %.7f' % (str([('%.7f' % xx) for xx in x]), mse))\n",
    "    return mse"
   ]
  },
  {
   "cell_type": "code",
   "execution_count": 11,
   "metadata": {
    "collapsed": true
   },
   "outputs": [],
   "source": [
    "def mse_all(x, jensen2005, cai2011):\n",
    "    mse = 0\n",
    "    \n",
    "    mse += mse_jensen2005_fig4(x, jensen2005)\n",
    "    mse += mse_cai2011_exp1(x, cai2011, [100, 200, 300])\n",
    "    \n",
    "    print('%s: %.9f' % (str([('%.9f' % xx) for xx in x]), mse))\n",
    "    return mse"
   ]
  },
  {
   "cell_type": "code",
   "execution_count": null,
   "metadata": {
    "collapsed": false
   },
   "outputs": [],
   "source": [
    "def get_model(x, diam):\n",
    "    tsample = 0.005 / 1000\n",
    "\n",
    "    [ca_scale, anodic_scale, sig_a, sig_b] = x\n",
    "    model = dict()\n",
    "    \n",
    "    # Stimulating electrode remained 25um above the inner limiting membrane\n",
    "    model['implant'] = e2cm.ElectrodeArray('epiretinal', diam / 2, -500, -500, 0.0)\n",
    "\n",
    "    r_sampling = 100\n",
    "    axon_lambda = 2 \n",
    "    model['retina'] = e2cm.Retina(sampling=r_sampling, axon_lambda=axon_lambda, rot=0,\n",
    "                                  xlo=model['implant'][0].x_center,\n",
    "                                  xhi=model['implant'][0].x_center,\n",
    "                                  ylo=model['implant'][0].y_center,\n",
    "                                  yhi=model['implant'][0].y_center)\n",
    "\n",
    "    model['gcr'] = GanglionCell(tsample, ca_scale=ca_scale, inl_scale=0,\n",
    "                                anodic_scale=anodic_scale, sig_a=sig_a, sig_b=sig_b)\n",
    "    return model"
   ]
  },
  {
   "cell_type": "code",
   "execution_count": null,
   "metadata": {
    "collapsed": false
   },
   "outputs": [
    {
     "name": "stdout",
     "output_type": "stream",
     "text": [
      "['10.000000000', '0.522000000', '0.100000000', '4.666000000']: 1.608283885\n",
      "['10.000000010', '0.522000000', '0.100000000', '4.666000000']: 1.608283886\n"
     ]
    }
   ],
   "source": [
    "res = minimize(mse_all, [10.0, 0.522, 0.1, 4.666], args=(jensen2005, cai2011),\n",
    "               method='L-BFGS-B', bounds=[(0.01, 20.0), (0.01, 10.0),\n",
    "                                          (0.01, 100.0), (0.01, 50.0)])"
   ]
  },
  {
   "cell_type": "markdown",
   "metadata": {},
   "source": [
    "# Results\n",
    "---------"
   ]
  },
  {
   "cell_type": "code",
   "execution_count": null,
   "metadata": {
    "collapsed": false
   },
   "outputs": [],
   "source": [
    "# ['0.991156466', '0.496271332', '2.560214315', '10.932716258']: 48.010113190\n",
    "res.x"
   ]
  },
  {
   "cell_type": "code",
   "execution_count": null,
   "metadata": {
    "collapsed": true
   },
   "outputs": [],
   "source": [
    "def run_fig4_find_amp(model, ptype, amp_th, pulse_durs, verbose=False):\n",
    "    stim_dur = 500.0 / 1000\n",
    "    stim_freq = 2.0\n",
    "    \n",
    "    gcr = model['gcr']\n",
    "    tsample = gcr.tsample\n",
    "    \n",
    "    fig4 = dict()\n",
    "    fig4['pulse_durs'] = pulse_durs\n",
    "    \n",
    "    # We need to define some activity value that corresponds to threshold activity.\n",
    "    # We do this by executing the model at the first data point of the Jensen paper.\n",
    "    # Whatever activity is produced by these parameters, we'll take as threshold\n",
    "    # activity, and will try to find the matching current for all subsequent data points\n",
    "    stim = get_jensen2005_pt(ptype, stim_freq, amp_th, pulse_durs[0], stim_dur, tsample)\n",
    "    mov = gcr.model_cascade(stim)\n",
    "    act_match = mov.data.max()\n",
    "    amp_in = np.array([0.05, 0.1, 0.5, 1.0])\n",
    "    fig4['amp_in'] = amp_in\n",
    "\n",
    "    if verbose:\n",
    "        print('- Threshold=%f' %  act_match)\n",
    "\n",
    "    amp_match = []\n",
    "    for pd in pulse_durs:\n",
    "        cond = '%.3f' % pd\n",
    "        fig4[cond] = dict()\n",
    "\n",
    "        if verbose:\n",
    "            print('- Processing pulse dur %f' % pd)\n",
    "        act_out = []\n",
    "        for amp in amp_in:\n",
    "            stim = get_jensen2005_pt(ptype, stim_freq, amp, pd, stim_dur, tsample)\n",
    "            idx_onset = stim.data.nonzero()[0][0]\n",
    "            mov = gcr.model_cascade(stim)\n",
    "            act_out.append(mov.data.max())\n",
    "        fig4[cond]['act_out'] = act_out\n",
    "        amp_match.append(fit_amps(amp_in, act_out, act_match))\n",
    "        \n",
    "    fig4['amp_match'] = np.array(amp_match)\n",
    "    return fig4"
   ]
  },
  {
   "cell_type": "code",
   "execution_count": null,
   "metadata": {
    "collapsed": false
   },
   "outputs": [],
   "source": [
    "plt.figure(figsize=(14, 8))\n",
    "\n",
    "subplot = 1\n",
    "for ptype in ['cathodic', 'anodic']:\n",
    "    for diam in [125, 500]:\n",
    "        ename = 'E%.0f' % diam\n",
    "        model = get_model(res.x, diam)\n",
    "        plt.subplot(2, 2, subplot)\n",
    "        \n",
    "        fig4 = run_fig4_find_amp(model, ptype, jensen2005[ename][ptype][0, 1],\n",
    "                                jensen2005[ename][ptype][:, 0])\n",
    "        plt.loglog(jensen2005[ename][ptype][:, 0], fig4['amp_match'],\n",
    "                   'o-b', linewidth=2, markersize=12, label='model')\n",
    "        plt.loglog(jensen2005[ename][ptype][:, 0], jensen2005[ename][ptype][:, 1],\n",
    "                   's-r', linewidth=4, markersize=12, label='rabbit')\n",
    "        \n",
    "        plt.title('%s responses, %s um electrode' % (ptype, ename))\n",
    "        plt.legend(loc='upper left')\n",
    "        plt.xlim(0.01 / 1000, 100.0 / 1000)\n",
    "        plt.ylim(0.01, 100)\n",
    "        if subplot > 2:\n",
    "            plt.xticks(np.array([0.01, 0.1, 1, 10, 100]) / 1000, [0.01, 0.1, 1, 10, 100])\n",
    "            plt.xlabel('Stimulus pulse duration (ms)')\n",
    "        else:\n",
    "            plt.xticks([])\n",
    "        if (subplot - 1) % 2 == 0:\n",
    "            plt.yticks([0.01, 1, 10, 100])\n",
    "            plt.ylabel('Threshold current (uA)')\n",
    "        else:\n",
    "            plt.yticks([])\n",
    "        \n",
    "        subplot += 1"
   ]
  },
  {
   "cell_type": "code",
   "execution_count": null,
   "metadata": {
    "collapsed": true
   },
   "outputs": [],
   "source": []
  },
  {
   "cell_type": "code",
   "execution_count": null,
   "metadata": {
    "collapsed": true
   },
   "outputs": [],
   "source": []
  }
 ],
 "metadata": {
  "anaconda-cloud": {},
  "kernelspec": {
   "display_name": "Python [Root]",
   "language": "python",
   "name": "Python [Root]"
  },
  "language_info": {
   "codemirror_mode": {
    "name": "ipython",
    "version": 3
   },
   "file_extension": ".py",
   "mimetype": "text/x-python",
   "name": "python",
   "nbconvert_exporter": "python",
   "pygments_lexer": "ipython3",
   "version": "3.5.2"
  }
 },
 "nbformat": 4,
 "nbformat_minor": 2
}
