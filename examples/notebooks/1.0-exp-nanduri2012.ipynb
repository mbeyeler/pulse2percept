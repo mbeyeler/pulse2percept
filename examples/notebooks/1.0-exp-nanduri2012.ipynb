{
 "cells": [
  {
   "cell_type": "code",
   "execution_count": 1,
   "metadata": {
    "collapsed": true
   },
   "outputs": [],
   "source": [
    "import numpy as np\n",
    "\n",
    "from pulse2percept import electrode2currentmap as e2cm\n",
    "from pulse2percept import effectivecurrent2brightness as ec2b\n",
    "\n",
    "import matplotlib.pyplot as plt\n",
    "%matplotlib inline"
   ]
  },
  {
   "cell_type": "code",
   "execution_count": 2,
   "metadata": {
    "collapsed": false
   },
   "outputs": [
    {
     "name": "stdout",
     "output_type": "stream",
     "text": [
      "Can't find file '../retina_s100_l2.0_rot0.0_3000x3000.npz', generating...\n"
     ]
    }
   ],
   "source": [
    "# Set up retina\n",
    "r_sampling = 100  # spatial sampling of retina\n",
    "xhi = 2000\n",
    "yhi = 2000\n",
    "r = e2cm.Retina(sampling=r_sampling, xlo=-xhi, xhi=xhi, ylo=-yhi, yhi=yhi)"
   ]
  },
  {
   "cell_type": "code",
   "execution_count": 8,
   "metadata": {
    "collapsed": false
   },
   "outputs": [
    {
     "data": {
      "text/plain": [
       "(16,)"
      ]
     },
     "execution_count": 8,
     "metadata": {},
     "output_type": "execute_result"
    }
   ],
   "source": [
    "np.linspace(-2000, 2000, 4000/250).shape"
   ]
  },
  {
   "cell_type": "code",
   "execution_count": 3,
   "metadata": {
    "collapsed": false
   },
   "outputs": [
    {
     "name": "stdout",
     "output_type": "stream",
     "text": [
      "threshold current = 21.24 uA\n"
     ]
    }
   ],
   "source": [
    "# Set up electrode array\n",
    "dist = 100  # distance of electrode array to retina (um)\n",
    "curr_thresh = e2cm.distance2threshold(dist)  # corresponding threshold current\n",
    "print('threshold current = %.2f uA' % curr_thresh)\n",
    "\n",
    "implant = e2cm.ElectrodeArray([260], [0], [0], [dist], ptype='epiretinal')\n",
    "ecs, cs = r.electrode_ecs(implant)\n",
    "\n",
    "# Set up temporal model\n",
    "tsample = 5e-6\n",
    "tm = ec2b.TemporalModel(tsample, asymptote=1, shift=15)"
   ]
  },
  {
   "cell_type": "code",
   "execution_count": 4,
   "metadata": {
    "collapsed": true
   },
   "outputs": [],
   "source": [
    "# Pulse train used in Nanduri et al. (2012)\n",
    "def get_pulse_train(freq, curr, tsample):\n",
    "    return e2cm.Psycho2Pulsetrain(freq=freq, amp=curr,\n",
    "                                  dur=0.5, pulse_dur=0.45/1000, interphase_dur=0.45/1000,\n",
    "                                  delay=0, tsample=tsample, pulsetype='cathodicfirst')"
   ]
  },
  {
   "cell_type": "code",
   "execution_count": 5,
   "metadata": {
    "collapsed": false
   },
   "outputs": [
    {
     "data": {
      "text/plain": [
       "[<matplotlib.lines.Line2D at 0x7f15cf48cf98>]"
      ]
     },
     "execution_count": 5,
     "metadata": {},
     "output_type": "execute_result"
    },
    {
     "data": {
      "image/png": "[encoded data removed]",
      "text/plain": [
       "<matplotlib.figure.Figure at 0x7f15cfbc2390>"
      ]
     },
     "metadata": {},
     "output_type": "display_data"
    }
   ],
   "source": [
    "pulse_train = get_pulse_train(20, 1.25 * curr_thresh, tsample)\n",
    "plt.subplot(211)\n",
    "plt.plot(pulse_train.data[9500:10700])\n",
    "plt.subplot(212)\n",
    "plt.ticklabel_format(style='sci', axis='x', scilimits=(0,0))\n",
    "plt.plot(pulse_train.data)"
   ]
  },
  {
   "cell_type": "code",
   "execution_count": 6,
   "metadata": {
    "collapsed": false
   },
   "outputs": [],
   "source": [
    "# Nanduri 2012 data\n",
    "\n",
    "# input amplitude values (x threshold) and expected output (brightness)\n",
    "all_amps = np.array([1.25, 1.5, 2, 4, 6]) * curr_thresh\n",
    "out_amps = np.array([10, 15, 18, 19, 19])\n",
    "\n",
    "# input frequency values and expected output\n",
    "all_freqs = np.array([13, 20, 27, 40, 80, 120])\n",
    "out_freqs = np.array([7.3, 10, 13, 19, 34, 51])"
   ]
  },
  {
   "cell_type": "code",
   "execution_count": 7,
   "metadata": {
    "collapsed": false
   },
   "outputs": [
    {
     "name": "stdout",
     "output_type": "stream",
     "text": [
      "1 loop, best of 1: 4min 13s per loop\n"
     ]
    }
   ],
   "source": [
    "pt = get_pulse_train(20, 30, tsample)\n",
    "\n",
    "%timeit -n1 -r1 ec2b.pulse2percept(tm, cs, r, [pt], 30, dolayer='NFL', n_jobs=4, dojit=True, tol=0.05)"
   ]
  },
  {
   "cell_type": "code",
   "execution_count": 8,
   "metadata": {
    "collapsed": false
   },
   "outputs": [
    {
     "ename": "NameError",
     "evalue": "name 'meow' is not defined",
     "output_type": "error",
     "traceback": [
      "\u001b[1;31m---------------------------------------------------------------------------\u001b[0m",
      "\u001b[1;31mNameError\u001b[0m                                 Traceback (most recent call last)",
      "\u001b[1;32m<ipython-input-8-a8e2e3f1de53>\u001b[0m in \u001b[0;36m<module>\u001b[1;34m()\u001b[0m\n\u001b[1;32m----> 1\u001b[1;33m \u001b[0mmeow\u001b[0m \u001b[1;33m+\u001b[0m \u001b[1;36m2\u001b[0m\u001b[1;33m\u001b[0m\u001b[0m\n\u001b[0m",
      "\u001b[1;31mNameError\u001b[0m: name 'meow' is not defined"
     ]
    }
   ],
   "source": [
    "meow + 2"
   ]
  },
  {
   "cell_type": "code",
   "execution_count": null,
   "metadata": {
    "collapsed": false
   },
   "outputs": [],
   "source": [
    "# Run the model on different amplitude values\n",
    "bright_amp = []\n",
    "for i, ampl in enumerate(all_amps):\n",
    "    pt = get_pulse_train(20, ampl, tsample)\n",
    "    resp = ec2b.pulse2percept(tm, cs, r, [pt], 30, dolayer='NFL', n_jobs=4, dojit=True, tol=0.05)\n",
    "    bright_amp.append(resp.data.max())\n",
    "    \n",
    "    plt.subplot(1, len(all_amps), i + 1)\n",
    "    frame = ec2b.get_brightest_frame(resp)\n",
    "    plt.imshow(frame.data, cmap='gray', vmin=0, vmax=21)\n",
    "    plt.axis('off')\n",
    "    plt.title(\"B={:.2f}\".format(frame.data.max()))\n",
    "plt.savefig('size-amps.png')\n",
    "\n",
    "bright_amp = np.array(bright_amp)"
   ]
  },
  {
   "cell_type": "code",
   "execution_count": null,
   "metadata": {
    "collapsed": false
   },
   "outputs": [],
   "source": [
    "# Run the model on different frequency values\n",
    "bright_freq = []\n",
    "for i, freq in enumerate(all_freqs):\n",
    "    pt = get_pulse_train(freq, 1.25 * curr_thresh, tsample)\n",
    "    resp = ec2b.pulse2percept(tm, cs, r, [pt], 30, dolayer='NFL', n_jobs=4, dojit=True, tol=0.05)\n",
    "    bright_freq.append(resp.data.max())\n",
    "    plt.subplot(1, len(all_freqs), i + 1)\n",
    "\n",
    "    frame = ec2b.get_brightest_frame(resp)\n",
    "    plt.imshow(frame.data, cmap='gray', vmin=0, vmax=50)\n",
    "    plt.axis('off')\n",
    "    plt.title(\"B={:.2f}\".format(frame.data.max()))\n",
    "plt.savefig('size-freqs.png')\n",
    "\n",
    "bright_freq = np.array(bright_freq)"
   ]
  },
  {
   "cell_type": "code",
   "execution_count": null,
   "metadata": {
    "collapsed": false
   },
   "outputs": [],
   "source": [
    "plt.plot(out_amps, bright_amp, 'o-')\n",
    "plt.plot([out_amps[0], out_amps[-1]], [out_amps[0], out_amps[-1]], '--k')\n",
    "plt.xlabel('Nanduri data (2012)')\n",
    "plt.ylabel('Nanduri model')"
   ]
  },
  {
   "cell_type": "code",
   "execution_count": null,
   "metadata": {
    "collapsed": false
   },
   "outputs": [],
   "source": [
    "plt.plot(all_amps, out_amps, '-o', linewidth=3, markersize=12, label='human data')\n",
    "plt.plot(all_amps, bright_amp, '-s', linewidth=3, markersize=12, label='simulation')\n",
    "plt.xlabel('current amplitude (uA)')\n",
    "plt.ylabel('brightness (arb. units)')\n",
    "plt.legend(loc='lower right')\n",
    "plt.ylim(0, 30)\n",
    "plt.xlim(0, 150)\n",
    "plt.savefig('nanduri-amps.png')"
   ]
  },
  {
   "cell_type": "code",
   "execution_count": null,
   "metadata": {
    "collapsed": false
   },
   "outputs": [],
   "source": [
    "plt.plot(out_freqs, bright_freq, 'o-')\n",
    "plt.plot([out_freqs[0], out_freqs[-1]], [out_freqs[0], out_freqs[-1]], '--k')\n",
    "plt.xlabel('Nanduri data (2012)')\n",
    "plt.ylabel('Nanduri model')"
   ]
  },
  {
   "cell_type": "code",
   "execution_count": null,
   "metadata": {
    "collapsed": false
   },
   "outputs": [],
   "source": [
    "plt.plot(all_freqs, out_freqs, '-o', linewidth=3, markersize=12, label='human data')\n",
    "plt.plot(all_freqs, bright_freq, '-s', linewidth=3, markersize=12, label='simulation')\n",
    "plt.xlabel('frequency (Hz)')\n",
    "plt.ylabel('brightness (arb. units)')\n",
    "plt.legend(loc='lower right')\n",
    "plt.xlim(0, 140)\n",
    "plt.savefig('nanduri-freqs.png')"
   ]
  },
  {
   "cell_type": "code",
   "execution_count": null,
   "metadata": {
    "collapsed": true
   },
   "outputs": [],
   "source": []
  }
 ],
 "metadata": {
  "anaconda-cloud": {},
  "kernelspec": {
   "display_name": "Python [Root]",
   "language": "python",
   "name": "Python [Root]"
  },
  "language_info": {
   "codemirror_mode": {
    "name": "ipython",
    "version": 3
   },
   "file_extension": ".py",
   "mimetype": "text/x-python",
   "name": "python",
   "nbconvert_exporter": "python",
   "pygments_lexer": "ipython3",
   "version": "3.5.2"
  }
 },
 "nbformat": 4,
 "nbformat_minor": 0
}
