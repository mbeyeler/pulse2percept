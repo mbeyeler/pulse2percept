{
 "cells": [
  {
   "cell_type": "code",
   "execution_count": null,
   "metadata": {
    "collapsed": true
   },
   "outputs": [],
   "source": [
    "import findspark\n",
    "findspark.init()\n",
    "import pyspark\n",
    "if 'sc' not in locals():\n",
    "    sc = pyspark.SparkContext()"
   ]
  },
  {
   "cell_type": "code",
   "execution_count": null,
   "metadata": {
    "collapsed": true
   },
   "outputs": [],
   "source": [
    "import numpy as np\n",
    "\n",
    "from pulse2percept import electrode2currentmap as e2cm\n",
    "from pulse2percept import effectivecurrent2brightness as ec2b"
   ]
  },
  {
   "cell_type": "code",
   "execution_count": null,
   "metadata": {
    "collapsed": true
   },
   "outputs": [],
   "source": [
    "def setup_model(exp_params):\n",
    "    model = dict()\n",
    "    \n",
    "    # set up temporal model\n",
    "    model['tm'] = ec2b.TemporalModel(model=exp_params['model'],\n",
    "                                     tsample=exp_params['tsample'])\n",
    "    \n",
    "    # Create a Retina object that can hold the entire Argus I array\n",
    "    r_sampling = 250  # spatial sampling of retina\n",
    "    r_file = '../retina_argus_s' + str(r_sampling) + '.npz'\n",
    "    model['retina'] = e2cm.Retina(axon_map=r_file, sampling=r_sampling,\n",
    "                                  xlo=-2500, xhi=2500, ylo=-2500, yhi=2500)\n",
    "    \n",
    "    # Place electrode array\n",
    "    # Argus I: 4x4 checkerboard, 880um center-to-center,\n",
    "    # (almost) alternating electrode sizes\n",
    "    e_spacing = 880  # um\n",
    "    x_coord = np.arange(0, 4) * e_spacing - 1.5 * e_spacing\n",
    "    x_coord, y_coord = np.meshgrid(x_coord, x_coord, sparse=False)\n",
    "\n",
    "    # spatial arrangement of Argus I creates checkerboard with alternating electrode sizes\n",
    "    #   .  o  .  o\n",
    "    #   o  .  o  .\n",
    "    #   .  o  .  o\n",
    "    #   o  .  o  .\n",
    "    r_arr = np.array([260, 520, 260, 520])\n",
    "    r_arr = np.concatenate((r_arr, r_arr[::-1], r_arr, r_arr[::-1]), axis=0)\n",
    "    h_arr = np.ones(16)*100\n",
    "\n",
    "    model['implant'] = e2cm.ElectrodeArray(r_arr.tolist(), x_coord.flatten().tolist(),\n",
    "                                           y_coord.flatten().tolist(), h_arr.tolist())\n",
    "    \n",
    "    # We derive the effective current stimulation (ecs; passed through the effect of\n",
    "    # the retinal layout, axons, etc.) in addition to the current (cs):\n",
    "    model['ecs'], model['cs'] = model['retina'].electrode_ecs(model['implant'])\n",
    "    \n",
    "    return model"
   ]
  },
  {
   "cell_type": "code",
   "execution_count": null,
   "metadata": {
    "collapsed": true
   },
   "outputs": [],
   "source": [
    "params = [dict(model='Nanduri', tsample=5.6e-5) for _ in range(10)]"
   ]
  },
  {
   "cell_type": "code",
   "execution_count": null,
   "metadata": {
    "collapsed": true
   },
   "outputs": [],
   "source": [
    "paramsRDD = sc.parallelize(params)"
   ]
  },
  {
   "cell_type": "code",
   "execution_count": null,
   "metadata": {
    "collapsed": true
   },
   "outputs": [],
   "source": [
    "modelsRDD = paramsRDD.map(setup_model)"
   ]
  },
  {
   "cell_type": "code",
   "execution_count": null,
   "metadata": {
    "collapsed": true
   },
   "outputs": [],
   "source": [
    "modelsRDD.collect()"
   ]
  },
  {
   "cell_type": "code",
   "execution_count": null,
   "metadata": {
    "collapsed": true
   },
   "outputs": [],
   "source": []
  },
  {
   "cell_type": "code",
   "execution_count": null,
   "metadata": {
    "collapsed": true
   },
   "outputs": [],
   "source": []
  }
 ],
 "metadata": {
  "anaconda-cloud": {},
  "kernelspec": {
   "display_name": "Python [Root]",
   "language": "python",
   "name": "Python [Root]"
  },
  "language_info": {
   "codemirror_mode": {
    "name": "ipython",
    "version": 3
   },
   "file_extension": ".py",
   "mimetype": "text/x-python",
   "name": "python",
   "nbconvert_exporter": "python",
   "pygments_lexer": "ipython3",
   "version": "3.5.2"
  }
 },
 "nbformat": 4,
 "nbformat_minor": 0
}
