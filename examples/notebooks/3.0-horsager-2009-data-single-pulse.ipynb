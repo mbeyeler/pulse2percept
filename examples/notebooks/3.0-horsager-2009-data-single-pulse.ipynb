{
 "cells": [
  {
   "cell_type": "markdown",
   "metadata": {
    "deletable": true,
    "editable": true
   },
   "source": [
    "# Single-Pulse Data from Horsager et al. 2009"
   ]
  },
  {
   "cell_type": "code",
   "execution_count": 1,
   "metadata": {
    "collapsed": true,
    "deletable": true,
    "editable": true
   },
   "outputs": [],
   "source": [
    "from os import environ\n",
    "import pandas as pd\n",
    "import numpy as np"
   ]
  },
  {
   "cell_type": "code",
   "execution_count": 2,
   "metadata": {
    "collapsed": true,
    "deletable": true,
    "editable": true
   },
   "outputs": [],
   "source": [
    "def open_excel(filename, idx_sheet=0):\n",
    "    xl = pd.ExcelFile(filename)\n",
    "    df = xl.parse(xl.sheet_names[idx_sheet])\n",
    "    assert 'Subject' in df.columns\n",
    "    assert 'Electrode' in df.columns\n",
    "    assert 'type' in df.columns\n",
    "    assert 'data' in df.columns\n",
    "    df.drop(df.index, inplace=True)\n",
    "    return df"
   ]
  },
  {
   "cell_type": "code",
   "execution_count": 3,
   "metadata": {
    "collapsed": true,
    "deletable": true,
    "editable": true
   },
   "outputs": [],
   "source": [
    "def load_row(df, subject, electrode, dtype='truth'):\n",
    "    rows = (df['Subject'] == subject) & (df['Electrode'] == electrode) & (df['type'] == dtype)\n",
    "    if not np.any(rows):\n",
    "        return None, None\n",
    "    elif np.count_nonzero(rows) > 1:\n",
    "        print('More than one row found:')\n",
    "        print(df.loc[rows, :])\n",
    "        return None, None\n",
    "\n",
    "    # Data points: [all pdurs, all amps]\n",
    "    data = np.array(df.loc[rows, 'data':])\n",
    "    data = data.reshape((2, -1))\n",
    "    return data[0, :], data[1, :]"
   ]
  },
  {
   "cell_type": "code",
   "execution_count": 4,
   "metadata": {
    "collapsed": true,
    "deletable": true,
    "editable": true
   },
   "outputs": [],
   "source": [
    "def append_row(df, subject, electrode, theta, dtype, pdurs, amps):\n",
    "    # Add all data into a single np.array\n",
    "    arr = np.concatenate((np.array([subject, electrode, theta, dtype]), pdurs, amps))\n",
    "    \n",
    "    # Make a PD series from it\n",
    "    newrow = pd.Series(arr, index=df.columns)\n",
    "    return df.append(newrow, ignore_index=True)"
   ]
  },
  {
   "cell_type": "code",
   "execution_count": 5,
   "metadata": {
    "collapsed": false,
    "deletable": true,
    "editable": true
   },
   "outputs": [
    {
     "data": {
      "text/html": [
       "<div>\n",
       "<table border=\"1\" class=\"dataframe\">\n",
       "  <thead>\n",
       "    <tr style=\"text-align: right;\">\n",
       "      <th></th>\n",
       "      <th>Subject</th>\n",
       "      <th>Electrode</th>\n",
       "      <th>theta</th>\n",
       "      <th>type</th>\n",
       "      <th>data</th>\n",
       "      <th>Unnamed: 5</th>\n",
       "      <th>Unnamed: 6</th>\n",
       "      <th>Unnamed: 7</th>\n",
       "      <th>Unnamed: 8</th>\n",
       "      <th>Unnamed: 9</th>\n",
       "      <th>Unnamed: 10</th>\n",
       "      <th>Unnamed: 11</th>\n",
       "      <th>Unnamed: 12</th>\n",
       "      <th>Unnamed: 13</th>\n",
       "      <th>Unnamed: 14</th>\n",
       "      <th>Unnamed: 15</th>\n",
       "      <th>Unnamed: 16</th>\n",
       "      <th>Unnamed: 17</th>\n",
       "      <th>Unnamed: 18</th>\n",
       "      <th>Unnamed: 19</th>\n",
       "    </tr>\n",
       "  </thead>\n",
       "  <tbody>\n",
       "  </tbody>\n",
       "</table>\n",
       "</div>"
      ],
      "text/plain": [
       "Empty DataFrame\n",
       "Columns: [Subject, Electrode, theta, type, data, Unnamed: 5, Unnamed: 6, Unnamed: 7, Unnamed: 8, Unnamed: 9, Unnamed: 10, Unnamed: 11, Unnamed: 12, Unnamed: 13, Unnamed: 14, Unnamed: 15, Unnamed: 16, Unnamed: 17, Unnamed: 18, Unnamed: 19]\n",
       "Index: []"
      ]
     },
     "execution_count": 5,
     "metadata": {},
     "output_type": "execute_result"
    }
   ],
   "source": [
    "df = open_excel(environ['SECOND_SIGHT_DATA'] + '/horsager2009/single-pulse.xlsx')\n",
    "df"
   ]
  },
  {
   "cell_type": "markdown",
   "metadata": {
    "deletable": true,
    "editable": true
   },
   "source": [
    "## Fig. 3"
   ]
  },
  {
   "cell_type": "code",
   "execution_count": 6,
   "metadata": {
    "collapsed": false,
    "deletable": true,
    "editable": true
   },
   "outputs": [],
   "source": [
    "s05 = dict()\n",
    "s05['name'] = 'S05'\n",
    "s05['C3'] = dict()\n",
    "s05['C3']['theta'] = 110.3\n",
    "s05['C3']['truth'] = np.array([0.07335, 181.61765, 0.14914, 97.79412,\n",
    "                               0.21985, 64.70588, 0.52707, 33.08824,\n",
    "                               0.74660, 29.41176, 0.96980, 24.26471,\n",
    "                               1.97952, 18.38235, 3.96939, 14.70588]).reshape((-1, 2))\n",
    "s05['C3']['pred'] = np.array([0.07366, 189.77047, 0.14964, 95.14384,\n",
    "                              0.22443, 65.12623, 0.53076, 33.78344,\n",
    "                              0.75387, 25.80726, 0.99794, 22.22036,\n",
    "                              2.01142, 16.56183, 3.98276, 13.83880]).reshape((-1, 2))\n",
    "\n",
    "s06 = dict()\n",
    "s06['name'] = 'S06'\n",
    "s06['A1'] = dict()\n",
    "s06['A1']['theta'] = 10.0\n",
    "s06['A1']['truth'] = np.array([0.07849, 84.93435, 0.15524, 48.68901,\n",
    "                               0.22870, 37.13894, 0.53016, 25.10288,\n",
    "                               0.76328, 20.78385, 0.98404, 23.31178,\n",
    "                               2.02255, 15.35959, 4.06677, 17.05271]).reshape((-1, 2))\n",
    "s06['A1']['pred'] = np.array([0.07892, 97.35058, 0.15514, 47.30943,\n",
    "                              0.23022, 32.31432, 0.51896, 16.12777,\n",
    "                              0.74122, 13.52930, 0.97902, 11.58534,\n",
    "                              1.98159, 8.45385, 3.97963, 7.38781]).reshape((-1, 2))"
   ]
  },
  {
   "cell_type": "code",
   "execution_count": 7,
   "metadata": {
    "collapsed": false,
    "deletable": true,
    "editable": true
   },
   "outputs": [
    {
     "name": "stdout",
     "output_type": "stream",
     "text": [
      "S05 C3 truth\n",
      "S05 C3 pred\n",
      "S06 A1 truth\n",
      "S06 A1 pred\n"
     ]
    }
   ],
   "source": [
    "for data, electrode in zip([s05, s06], ['C3', 'A1']):\n",
    "    subject = data['name']\n",
    "    for dtype in ['truth', 'pred']:\n",
    "        df = append_row(df, subject, electrode, data[electrode]['theta'],\n",
    "                        dtype, data[electrode][dtype][:, 0],\n",
    "                        data[electrode][dtype][:, 1])\n",
    "        print(subject, electrode, dtype)"
   ]
  },
  {
   "cell_type": "markdown",
   "metadata": {
    "deletable": true,
    "editable": true
   },
   "source": [
    "## Fig. S2.1"
   ]
  },
  {
   "cell_type": "code",
   "execution_count": 8,
   "metadata": {
    "collapsed": false,
    "deletable": true,
    "editable": true
   },
   "outputs": [],
   "source": [
    "s05['B3'] = dict()\n",
    "s05['B3']['theta'] = 143.0\n",
    "s05['B3']['truth'] = np.array([0.07756, 205.96937, 0.15373, 120.96655,\n",
    "                               0.22741, 64.27053, 0.53429, 47.96755,\n",
    "                               0.76238, 37.33461, 0.98316, 33.52132,\n",
    "                               2.04606, 26.97063, 4.04699, 21.37868]).reshape((-1, 2))\n",
    "s05['C2'] = dict()\n",
    "s05['C2']['theta'] = 14.0\n",
    "s05['C2']['truth'] = np.array([0.07712, 227.65957, 0.15121, 94.68085,\n",
    "                               0.22573, 61.70213, 0.52048, 34.04255,\n",
    "                               0.74037, 23.40426, 0.95311, 24.46809,\n",
    "                               1.97064, 17.02128, 3.91398, 11.70213]).reshape((-1, 2))\n",
    "\n",
    "s06['B1'] = dict()\n",
    "s06['B1']['theta'] = 505.5\n",
    "s06['B1']['truth'] = np.array([0.07753, 122.28571, 0.15294, 69.71429,\n",
    "                               0.23126, 53.14286, 0.53092, 36.00000,\n",
    "                               0.76561, 33.14286, 0.99521, 22.85714,\n",
    "                               2.03101, 23.42857, 4.05771, 20.57143]).reshape((-1, 2))\n",
    "\n",
    "s06['C2'] = dict()\n",
    "s06['C2']['theta'] = 1612.5\n",
    "s06['C2']['truth'] = np.array([0.07230, 388.61875, 0.14830, 224.50029,\n",
    "                               0.22335, 149.76748, 0.51484, 83.60937,\n",
    "                               0.74227, 70.05793, 0.95780, 43.72195,\n",
    "                               1.98942, 31.43510, 3.92670, 24.78584]).reshape((-1, 2))"
   ]
  },
  {
   "cell_type": "code",
   "execution_count": 9,
   "metadata": {
    "collapsed": false,
    "deletable": true,
    "editable": true
   },
   "outputs": [
    {
     "name": "stdout",
     "output_type": "stream",
     "text": [
      "S05 B3 truth\n",
      "S05 C2 truth\n",
      "S06 B1 truth\n",
      "S06 C2 truth\n"
     ]
    }
   ],
   "source": [
    "for data, electrode in zip([s05, s05, s06, s06], ['B3', 'C2', 'B1', 'C2']):\n",
    "    subject = data['name']\n",
    "    for dtype in ['truth']:\n",
    "        df = append_row(df, subject, electrode, data[electrode]['theta'],\n",
    "                        dtype, data[electrode][dtype][:, 0],\n",
    "                        data[electrode][dtype][:, 1])\n",
    "        print(subject, electrode, dtype)"
   ]
  },
  {
   "cell_type": "markdown",
   "metadata": {
    "deletable": true,
    "editable": true
   },
   "source": [
    "## Fig. S3.1"
   ]
  },
  {
   "cell_type": "code",
   "execution_count": 10,
   "metadata": {
    "collapsed": true,
    "deletable": true,
    "editable": true
   },
   "outputs": [],
   "source": [
    "s05['A1'] = dict()\n",
    "s05['A1']['theta'] = 11.2\n",
    "s05['A1']['truth'] = np.array([0.07956, 144.59459, 0.15320, 77.02703,\n",
    "                               0.23102, 66.21622, 0.52831, 33.78378,\n",
    "                               0.74622, 32.43243, 0.99175, 27.02703,\n",
    "                               2.02084, 27.70270, 4.02856, 22.97297]).reshape((-1, 2))\n",
    "s05['C4'] = dict()\n",
    "s05['C4']['theta'] = 140.0\n",
    "s05['C4']['truth'] = np.array([0.07200, 207.47664, 0.14595, 98.13084,\n",
    "                               0.22270, 69.15888, 0.52091, 38.31776,\n",
    "                               0.74559, 31.77570, 0.96546, 29.90654,\n",
    "                               1.99578, 21.49533, 4.00240, 15.88785]).reshape((-1, 2))\n",
    "\n",
    "s06['B2'] = dict()\n",
    "s06['B2']['theta'] = 132.0\n",
    "s06['B2']['truth'] = np.array([0.07365, 179.47952, 0.14853, 111.66830,\n",
    "                               0.22389, 77.36427, 0.52702, 51.62628,\n",
    "                               0.75423, 39.99239, 0.98674, 32.52744,\n",
    "                               2.01673, 30.26730, 4.04183, 25.47901]).reshape((-1, 2))\n",
    "\n",
    "s06['D1'] = dict()\n",
    "s06['D1']['theta'] = 132.0\n",
    "s06['D1']['truth'] = np.array([0.07332, 451.73913, 0.14776, 192.13768,\n",
    "                               0.21834, 133.09783, 0.51647, 66.95652,\n",
    "                               0.74057, 51.72101, 0.96075, 42.91667,\n",
    "                               1.97539, 35.36232, 3.94142, 27.86232]).reshape((-1, 2))"
   ]
  },
  {
   "cell_type": "code",
   "execution_count": 11,
   "metadata": {
    "collapsed": false,
    "deletable": true,
    "editable": true
   },
   "outputs": [
    {
     "name": "stdout",
     "output_type": "stream",
     "text": [
      "S05 A1 truth\n",
      "S05 C4 truth\n",
      "S06 B2 truth\n",
      "S06 D1 truth\n"
     ]
    }
   ],
   "source": [
    "for data, electrode in zip([s05, s05, s06, s06], ['A1', 'C4', 'B2', 'D1']):\n",
    "    subject = data['name']\n",
    "    for dtype in ['truth']:\n",
    "        df = append_row(df, subject, electrode, data[electrode]['theta'],\n",
    "                        dtype, data[electrode][dtype][:, 0],\n",
    "                        data[electrode][dtype][:, 1])\n",
    "        print(subject, electrode, dtype)"
   ]
  },
  {
   "cell_type": "code",
   "execution_count": 12,
   "metadata": {
    "collapsed": false,
    "deletable": true,
    "editable": true
   },
   "outputs": [
    {
     "data": {
      "text/html": [
       "<div>\n",
       "<table border=\"1\" class=\"dataframe\">\n",
       "  <thead>\n",
       "    <tr style=\"text-align: right;\">\n",
       "      <th></th>\n",
       "      <th>Subject</th>\n",
       "      <th>Electrode</th>\n",
       "      <th>theta</th>\n",
       "      <th>type</th>\n",
       "      <th>data</th>\n",
       "      <th>Unnamed: 5</th>\n",
       "      <th>Unnamed: 6</th>\n",
       "      <th>Unnamed: 7</th>\n",
       "      <th>Unnamed: 8</th>\n",
       "      <th>Unnamed: 9</th>\n",
       "      <th>Unnamed: 10</th>\n",
       "      <th>Unnamed: 11</th>\n",
       "      <th>Unnamed: 12</th>\n",
       "      <th>Unnamed: 13</th>\n",
       "      <th>Unnamed: 14</th>\n",
       "      <th>Unnamed: 15</th>\n",
       "      <th>Unnamed: 16</th>\n",
       "      <th>Unnamed: 17</th>\n",
       "      <th>Unnamed: 18</th>\n",
       "      <th>Unnamed: 19</th>\n",
       "    </tr>\n",
       "  </thead>\n",
       "  <tbody>\n",
       "    <tr>\n",
       "      <th>0</th>\n",
       "      <td>S05</td>\n",
       "      <td>C3</td>\n",
       "      <td>110.3</td>\n",
       "      <td>truth</td>\n",
       "      <td>0.07335</td>\n",
       "      <td>0.14914</td>\n",
       "      <td>0.21985</td>\n",
       "      <td>0.52707</td>\n",
       "      <td>0.7466</td>\n",
       "      <td>0.9698</td>\n",
       "      <td>1.97952</td>\n",
       "      <td>3.96939</td>\n",
       "      <td>181.61765</td>\n",
       "      <td>97.79412</td>\n",
       "      <td>64.70588</td>\n",
       "      <td>33.08824</td>\n",
       "      <td>29.41176</td>\n",
       "      <td>24.26471</td>\n",
       "      <td>18.38235</td>\n",
       "      <td>14.70588</td>\n",
       "    </tr>\n",
       "    <tr>\n",
       "      <th>1</th>\n",
       "      <td>S05</td>\n",
       "      <td>C3</td>\n",
       "      <td>110.3</td>\n",
       "      <td>pred</td>\n",
       "      <td>0.07366</td>\n",
       "      <td>0.14964</td>\n",
       "      <td>0.22443</td>\n",
       "      <td>0.53076</td>\n",
       "      <td>0.75387</td>\n",
       "      <td>0.99794</td>\n",
       "      <td>2.01142</td>\n",
       "      <td>3.98276</td>\n",
       "      <td>189.77047</td>\n",
       "      <td>95.14384</td>\n",
       "      <td>65.12623</td>\n",
       "      <td>33.78344</td>\n",
       "      <td>25.80726</td>\n",
       "      <td>22.22036</td>\n",
       "      <td>16.56183</td>\n",
       "      <td>13.8388</td>\n",
       "    </tr>\n",
       "    <tr>\n",
       "      <th>2</th>\n",
       "      <td>S06</td>\n",
       "      <td>A1</td>\n",
       "      <td>10.0</td>\n",
       "      <td>truth</td>\n",
       "      <td>0.07849</td>\n",
       "      <td>0.15524</td>\n",
       "      <td>0.2287</td>\n",
       "      <td>0.53016</td>\n",
       "      <td>0.76328</td>\n",
       "      <td>0.98404</td>\n",
       "      <td>2.02255</td>\n",
       "      <td>4.06677</td>\n",
       "      <td>84.93435</td>\n",
       "      <td>48.68901</td>\n",
       "      <td>37.13894</td>\n",
       "      <td>25.10288</td>\n",
       "      <td>20.78385</td>\n",
       "      <td>23.31178</td>\n",
       "      <td>15.35959</td>\n",
       "      <td>17.05271</td>\n",
       "    </tr>\n",
       "    <tr>\n",
       "      <th>3</th>\n",
       "      <td>S06</td>\n",
       "      <td>A1</td>\n",
       "      <td>10.0</td>\n",
       "      <td>pred</td>\n",
       "      <td>0.07892</td>\n",
       "      <td>0.15514</td>\n",
       "      <td>0.23022</td>\n",
       "      <td>0.51896</td>\n",
       "      <td>0.74122</td>\n",
       "      <td>0.97902</td>\n",
       "      <td>1.98159</td>\n",
       "      <td>3.97963</td>\n",
       "      <td>97.35058</td>\n",
       "      <td>47.30943</td>\n",
       "      <td>32.31432</td>\n",
       "      <td>16.12777</td>\n",
       "      <td>13.5293</td>\n",
       "      <td>11.58534</td>\n",
       "      <td>8.45385</td>\n",
       "      <td>7.38781</td>\n",
       "    </tr>\n",
       "    <tr>\n",
       "      <th>4</th>\n",
       "      <td>S05</td>\n",
       "      <td>B3</td>\n",
       "      <td>143.0</td>\n",
       "      <td>truth</td>\n",
       "      <td>0.07756</td>\n",
       "      <td>0.15373</td>\n",
       "      <td>0.22741</td>\n",
       "      <td>0.53429</td>\n",
       "      <td>0.76238</td>\n",
       "      <td>0.98316</td>\n",
       "      <td>2.04606</td>\n",
       "      <td>4.04699</td>\n",
       "      <td>205.96937</td>\n",
       "      <td>120.96655</td>\n",
       "      <td>64.27053</td>\n",
       "      <td>47.96755</td>\n",
       "      <td>37.33461</td>\n",
       "      <td>33.52132</td>\n",
       "      <td>26.97063</td>\n",
       "      <td>21.37868</td>\n",
       "    </tr>\n",
       "    <tr>\n",
       "      <th>5</th>\n",
       "      <td>S05</td>\n",
       "      <td>C2</td>\n",
       "      <td>14.0</td>\n",
       "      <td>truth</td>\n",
       "      <td>0.07712</td>\n",
       "      <td>0.15121</td>\n",
       "      <td>0.22573</td>\n",
       "      <td>0.52048</td>\n",
       "      <td>0.74037</td>\n",
       "      <td>0.95311</td>\n",
       "      <td>1.97064</td>\n",
       "      <td>3.91398</td>\n",
       "      <td>227.65957</td>\n",
       "      <td>94.68085</td>\n",
       "      <td>61.70213</td>\n",
       "      <td>34.04255</td>\n",
       "      <td>23.40426</td>\n",
       "      <td>24.46809</td>\n",
       "      <td>17.02128</td>\n",
       "      <td>11.70213</td>\n",
       "    </tr>\n",
       "    <tr>\n",
       "      <th>6</th>\n",
       "      <td>S06</td>\n",
       "      <td>B1</td>\n",
       "      <td>505.5</td>\n",
       "      <td>truth</td>\n",
       "      <td>0.07753</td>\n",
       "      <td>0.15294</td>\n",
       "      <td>0.23126</td>\n",
       "      <td>0.53092</td>\n",
       "      <td>0.76561</td>\n",
       "      <td>0.99521</td>\n",
       "      <td>2.03101</td>\n",
       "      <td>4.05771</td>\n",
       "      <td>122.28571</td>\n",
       "      <td>69.71429</td>\n",
       "      <td>53.14286</td>\n",
       "      <td>36.0</td>\n",
       "      <td>33.14286</td>\n",
       "      <td>22.85714</td>\n",
       "      <td>23.42857</td>\n",
       "      <td>20.57143</td>\n",
       "    </tr>\n",
       "    <tr>\n",
       "      <th>7</th>\n",
       "      <td>S06</td>\n",
       "      <td>C2</td>\n",
       "      <td>1612.5</td>\n",
       "      <td>truth</td>\n",
       "      <td>0.0723</td>\n",
       "      <td>0.1483</td>\n",
       "      <td>0.22335</td>\n",
       "      <td>0.51484</td>\n",
       "      <td>0.74227</td>\n",
       "      <td>0.9578</td>\n",
       "      <td>1.98942</td>\n",
       "      <td>3.9267</td>\n",
       "      <td>388.61875</td>\n",
       "      <td>224.50029</td>\n",
       "      <td>149.76748</td>\n",
       "      <td>83.60937</td>\n",
       "      <td>70.05793</td>\n",
       "      <td>43.72195</td>\n",
       "      <td>31.4351</td>\n",
       "      <td>24.78584</td>\n",
       "    </tr>\n",
       "    <tr>\n",
       "      <th>8</th>\n",
       "      <td>S05</td>\n",
       "      <td>A1</td>\n",
       "      <td>11.2</td>\n",
       "      <td>truth</td>\n",
       "      <td>0.07956</td>\n",
       "      <td>0.1532</td>\n",
       "      <td>0.23102</td>\n",
       "      <td>0.52831</td>\n",
       "      <td>0.74622</td>\n",
       "      <td>0.99175</td>\n",
       "      <td>2.02084</td>\n",
       "      <td>4.02856</td>\n",
       "      <td>144.59459</td>\n",
       "      <td>77.02703</td>\n",
       "      <td>66.21622</td>\n",
       "      <td>33.78378</td>\n",
       "      <td>32.43243</td>\n",
       "      <td>27.02703</td>\n",
       "      <td>27.7027</td>\n",
       "      <td>22.97297</td>\n",
       "    </tr>\n",
       "    <tr>\n",
       "      <th>9</th>\n",
       "      <td>S05</td>\n",
       "      <td>C4</td>\n",
       "      <td>140.0</td>\n",
       "      <td>truth</td>\n",
       "      <td>0.072</td>\n",
       "      <td>0.14595</td>\n",
       "      <td>0.2227</td>\n",
       "      <td>0.52091</td>\n",
       "      <td>0.74559</td>\n",
       "      <td>0.96546</td>\n",
       "      <td>1.99578</td>\n",
       "      <td>4.0024</td>\n",
       "      <td>207.47664</td>\n",
       "      <td>98.13084</td>\n",
       "      <td>69.15888</td>\n",
       "      <td>38.31776</td>\n",
       "      <td>31.7757</td>\n",
       "      <td>29.90654</td>\n",
       "      <td>21.49533</td>\n",
       "      <td>15.88785</td>\n",
       "    </tr>\n",
       "    <tr>\n",
       "      <th>10</th>\n",
       "      <td>S06</td>\n",
       "      <td>B2</td>\n",
       "      <td>132.0</td>\n",
       "      <td>truth</td>\n",
       "      <td>0.07365</td>\n",
       "      <td>0.14853</td>\n",
       "      <td>0.22389</td>\n",
       "      <td>0.52702</td>\n",
       "      <td>0.75423</td>\n",
       "      <td>0.98674</td>\n",
       "      <td>2.01673</td>\n",
       "      <td>4.04183</td>\n",
       "      <td>179.47952</td>\n",
       "      <td>111.6683</td>\n",
       "      <td>77.36427</td>\n",
       "      <td>51.62628</td>\n",
       "      <td>39.99239</td>\n",
       "      <td>32.52744</td>\n",
       "      <td>30.2673</td>\n",
       "      <td>25.47901</td>\n",
       "    </tr>\n",
       "    <tr>\n",
       "      <th>11</th>\n",
       "      <td>S06</td>\n",
       "      <td>D1</td>\n",
       "      <td>132.0</td>\n",
       "      <td>truth</td>\n",
       "      <td>0.07332</td>\n",
       "      <td>0.14776</td>\n",
       "      <td>0.21834</td>\n",
       "      <td>0.51647</td>\n",
       "      <td>0.74057</td>\n",
       "      <td>0.96075</td>\n",
       "      <td>1.97539</td>\n",
       "      <td>3.94142</td>\n",
       "      <td>451.73913</td>\n",
       "      <td>192.13768</td>\n",
       "      <td>133.09783</td>\n",
       "      <td>66.95652</td>\n",
       "      <td>51.72101</td>\n",
       "      <td>42.91667</td>\n",
       "      <td>35.36232</td>\n",
       "      <td>27.86232</td>\n",
       "    </tr>\n",
       "  </tbody>\n",
       "</table>\n",
       "</div>"
      ],
      "text/plain": [
       "   Subject Electrode   theta   type     data Unnamed: 5 Unnamed: 6 Unnamed: 7  \\\n",
       "0      S05        C3   110.3  truth  0.07335    0.14914    0.21985    0.52707   \n",
       "1      S05        C3   110.3   pred  0.07366    0.14964    0.22443    0.53076   \n",
       "2      S06        A1    10.0  truth  0.07849    0.15524     0.2287    0.53016   \n",
       "3      S06        A1    10.0   pred  0.07892    0.15514    0.23022    0.51896   \n",
       "4      S05        B3   143.0  truth  0.07756    0.15373    0.22741    0.53429   \n",
       "5      S05        C2    14.0  truth  0.07712    0.15121    0.22573    0.52048   \n",
       "6      S06        B1   505.5  truth  0.07753    0.15294    0.23126    0.53092   \n",
       "7      S06        C2  1612.5  truth   0.0723     0.1483    0.22335    0.51484   \n",
       "8      S05        A1    11.2  truth  0.07956     0.1532    0.23102    0.52831   \n",
       "9      S05        C4   140.0  truth    0.072    0.14595     0.2227    0.52091   \n",
       "10     S06        B2   132.0  truth  0.07365    0.14853    0.22389    0.52702   \n",
       "11     S06        D1   132.0  truth  0.07332    0.14776    0.21834    0.51647   \n",
       "\n",
       "   Unnamed: 8 Unnamed: 9 Unnamed: 10 Unnamed: 11 Unnamed: 12 Unnamed: 13  \\\n",
       "0      0.7466     0.9698     1.97952     3.96939   181.61765    97.79412   \n",
       "1     0.75387    0.99794     2.01142     3.98276   189.77047    95.14384   \n",
       "2     0.76328    0.98404     2.02255     4.06677    84.93435    48.68901   \n",
       "3     0.74122    0.97902     1.98159     3.97963    97.35058    47.30943   \n",
       "4     0.76238    0.98316     2.04606     4.04699   205.96937   120.96655   \n",
       "5     0.74037    0.95311     1.97064     3.91398   227.65957    94.68085   \n",
       "6     0.76561    0.99521     2.03101     4.05771   122.28571    69.71429   \n",
       "7     0.74227     0.9578     1.98942      3.9267   388.61875   224.50029   \n",
       "8     0.74622    0.99175     2.02084     4.02856   144.59459    77.02703   \n",
       "9     0.74559    0.96546     1.99578      4.0024   207.47664    98.13084   \n",
       "10    0.75423    0.98674     2.01673     4.04183   179.47952    111.6683   \n",
       "11    0.74057    0.96075     1.97539     3.94142   451.73913   192.13768   \n",
       "\n",
       "   Unnamed: 14 Unnamed: 15 Unnamed: 16 Unnamed: 17 Unnamed: 18 Unnamed: 19  \n",
       "0     64.70588    33.08824    29.41176    24.26471    18.38235    14.70588  \n",
       "1     65.12623    33.78344    25.80726    22.22036    16.56183     13.8388  \n",
       "2     37.13894    25.10288    20.78385    23.31178    15.35959    17.05271  \n",
       "3     32.31432    16.12777     13.5293    11.58534     8.45385     7.38781  \n",
       "4     64.27053    47.96755    37.33461    33.52132    26.97063    21.37868  \n",
       "5     61.70213    34.04255    23.40426    24.46809    17.02128    11.70213  \n",
       "6     53.14286        36.0    33.14286    22.85714    23.42857    20.57143  \n",
       "7    149.76748    83.60937    70.05793    43.72195     31.4351    24.78584  \n",
       "8     66.21622    33.78378    32.43243    27.02703     27.7027    22.97297  \n",
       "9     69.15888    38.31776     31.7757    29.90654    21.49533    15.88785  \n",
       "10    77.36427    51.62628    39.99239    32.52744     30.2673    25.47901  \n",
       "11   133.09783    66.95652    51.72101    42.91667    35.36232    27.86232  "
      ]
     },
     "execution_count": 12,
     "metadata": {},
     "output_type": "execute_result"
    }
   ],
   "source": [
    "df"
   ]
  },
  {
   "cell_type": "code",
   "execution_count": 13,
   "metadata": {
    "collapsed": true,
    "deletable": true,
    "editable": true
   },
   "outputs": [],
   "source": [
    "writer = pd.ExcelWriter(environ['SECOND_SIGHT_DATA'] + '/horsager2009/single-pulse.xlsx')"
   ]
  },
  {
   "cell_type": "code",
   "execution_count": 14,
   "metadata": {
    "collapsed": true,
    "deletable": true,
    "editable": true
   },
   "outputs": [],
   "source": [
    "df.to_excel(writer,'Sheet1')"
   ]
  },
  {
   "cell_type": "code",
   "execution_count": 15,
   "metadata": {
    "collapsed": true,
    "deletable": true,
    "editable": true
   },
   "outputs": [],
   "source": [
    "writer.save()"
   ]
  }
 ],
 "metadata": {
  "anaconda-cloud": {},
  "kernelspec": {
   "display_name": "Python [default]",
   "language": "python",
   "name": "python3"
  },
  "language_info": {
   "codemirror_mode": {
    "name": "ipython",
    "version": 3
   },
   "file_extension": ".py",
   "mimetype": "text/x-python",
   "name": "python",
   "nbconvert_exporter": "python",
   "pygments_lexer": "ipython3",
   "version": "3.5.2"
  }
 },
 "nbformat": 4,
 "nbformat_minor": 2
}
