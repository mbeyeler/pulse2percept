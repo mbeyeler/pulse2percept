{
 "cells": [
  {
   "cell_type": "code",
   "execution_count": 1,
   "metadata": {
    "collapsed": false
   },
   "outputs": [],
   "source": [
    "import numpy as np\n",
    "\n",
    "from scipy.signal import fftconvolve\n",
    "from scipy.interpolate import interp1d\n",
    "from scipy.optimize import minimize\n",
    "\n",
    "from pulse2percept import electrode2currentmap as e2cm\n",
    "from pulse2percept import effectivecurrent2brightness as ec2b\n",
    "from pulse2percept import utils\n",
    "\n",
    "import matplotlib.pyplot as plt\n",
    "%matplotlib inline\n",
    "plt.style.use('ggplot')"
   ]
  },
  {
   "cell_type": "markdown",
   "metadata": {},
   "source": [
    "# Data\n",
    "---------"
   ]
  },
  {
   "cell_type": "code",
   "execution_count": 2,
   "metadata": {
    "collapsed": false
   },
   "outputs": [],
   "source": [
    "jensen2005 = dict()\n",
    "\n",
    "# LL responses: consisted of one or more bursts of typically two to five action potentials\n",
    "# after stimulation at or slightly above threshold current. Unlike the SL cell responses, the\n",
    "# LL cell responses did not appear to be due to direct activation of RGCs but rather to\n",
    "# presynaptic activation of retinal neurons.\n",
    "# LL (delayed) responses have higher thresholds than SL (immediate) responses.\n",
    "jensen2005['E125'] = dict()\n",
    "jensen2005['E125']['LL'] = np.array([0.09767, 15.26138, 0.19835, 9.13982, 0.49824,\n",
    "                                 4.78286, 0.98826, 3.02321, 1.96023, 2.01691,\n",
    "                                 4.92388, 0.93057, 10.00000, 0.67317, 19.60233,\n",
    "                                 0.35227, 49.82369, 0.28133]).reshape((-1, 2))\n",
    "jensen2005['E125']['LL'][:, 0] /= 1000.0  # from ms to s\n",
    "\n",
    "jensen2005['E500'] = dict()\n",
    "jensen2005['E500']['LL'] = np.array([0.09883, 53.70788, 0.20000, 36.53740, 0.48840, \n",
    "                                 12.23073, 0.96537, 8.76932, 1.90815, 6.39858,\n",
    "                                 4.88400, 4.13019, 9.65370, 2.46397, 19.08149,\n",
    "                                 1.81366, 47.70583, 0.96559]).reshape((-1, 2))\n",
    "jensen2005['E500']['LL'][:, 0] /= 1000.0  # from ms to s"
   ]
  },
  {
   "cell_type": "code",
   "execution_count": 3,
   "metadata": {
    "collapsed": true
   },
   "outputs": [],
   "source": [
    "# Data extracted from Fig. 2\n",
    "jensen2007 = dict()\n",
    "\n",
    "jensen2007['amp2amp1'] = np.array([0.98021, 0.06501, 1.96095, 0.22681,\n",
    "                                   2.84399, 0.60933, 3.79513, 0.61970,\n",
    "                                   4.63264, 0.68464, 5.43022, 0.78494,\n",
    "                                   6.42094, 0.86290, 7.32954, 0.93068,\n",
    "                                   8.28541, 1.00133]).reshape((-1, 2))\n",
    "jensen2007['amp2amp1'][:, 0] = 1000.0 / np.array([15, 25, 40, 65, 100, 150, 250, 400, 650])\n",
    "\n",
    "jensen2007['norm_resp'] = dict()\n",
    "jensen2007['norm_resp']['1.5'] = np.array([1.11538, 0.99233, 2.13305, 0.99832,\n",
    "                                           3.13831, 1.02989, 4.15798, 1.04791,\n",
    "                                           5.13079, 0.98479, 6.14069, 0.94417,\n",
    "                                           7.15497, 1.02987, 8.15510, 0.93062,\n",
    "                                           9.17001, 0.92007, 10.19143, 0.94861]).reshape((-1, 2))\n",
    "jensen2007['norm_resp']['2.5'] = np.array([1.13180, 0.99080, 2.14320, 0.95921,\n",
    "                                           3.15460, 0.92761, 4.13668, 0.92012,\n",
    "                                           5.14370, 0.96221, 6.17201, 0.93210,\n",
    "                                           7.14858, 0.89153, 8.15184, 0.91107,\n",
    "                                           9.14658, 0.87950, 10.18642, 0.91854]).reshape((-1, 2))\n",
    "jensen2007['norm_resp']['4.0'] = np.array([1.11513, 0.99083, 2.11476, 0.88857,\n",
    "                                           3.13192, 0.89156, 4.13781, 0.82689,\n",
    "                                           5.09947, 0.79687, 6.16888, 0.81330,\n",
    "                                           7.15397, 0.82385, 8.16349, 0.88098,\n",
    "                                           9.13029, 0.78178, 10.18454, 0.80727]).reshape((-1, 2))\n",
    "jensen2007['norm_resp']['6.5'] = np.array([1.14871, 0.99228, 2.10348, 0.82092,\n",
    "                                           3.11313, 0.77880, 4.10010, 0.70063,\n",
    "                                           5.12152, 0.72917, 6.13944, 0.73666,\n",
    "                                           7.09584, 0.67507, 8.15184, 0.71107,\n",
    "                                           9.13969, 0.73816, 10.14182, 0.65094]).reshape((-1, 2))\n",
    "jensen2007['norm_resp']['10.0'] = np.array([1.14871, 0.99228, 2.12528, 0.75172,\n",
    "                                            3.11000, 0.66001, 4.08294, 0.69764,\n",
    "                                            5.12290, 0.63743, 6.12415, 0.64495,\n",
    "                                            7.12365, 0.64194, 8.12065, 0.62390,\n",
    "                                            9.10699, 0.64197, 10.12854, 0.57126]).reshape((-1, 2))\n",
    "jensen2007['norm_resp']['15.0'] = np.array([1.13180, 0.99080, 2.08056, 0.58336,\n",
    "                                            3.07204, 0.53225, 4.05700, 0.44204,\n",
    "                                            5.08168, 0.49013, 6.07617, 0.45705,\n",
    "                                            7.07141, 0.42849, 8.07930, 0.37585,\n",
    "                                            9.04924, 0.39544, 10.08231, 0.39389]).reshape((-1, 2))\n",
    "jensen2007['norm_resp']['25.0'] = np.array([1.11488, 0.98933, 2.08081, 0.58487,\n",
    "                                            3.06176, 0.47061, 4.06703, 0.50218,\n",
    "                                            5.09985, 0.49912, 6.05988, 0.35933,\n",
    "                                            7.06139, 0.36835, 8.06640, 0.39842,\n",
    "                                            9.05888, 0.35332, 10.08131, 0.38787]).reshape((-1, 2))\n",
    "jensen2007['norm_resp']['40.0'] = np.array([1.11463, 0.98782, 2.00100, 0.20604,\n",
    "                                            3.02694, 0.46164, 4.01090, 0.16542,\n",
    "                                            5.06590, 0.39541, 5.98547, 0.11283,\n",
    "                                            7.07880, 0.37284, 8.03170, 0.09020,\n",
    "                                            9.06502, 0.29015, 10.04610, 0.07665]).reshape((-1, 2))\n",
    "jensen2007['norm_resp']['65.0'] = np.array([1.13205, 0.99231, 1.99261, 0.05568,\n",
    "                                            3.01002, 0.06016, 3.98910, 0.03463,\n",
    "                                            5.03069, 0.08419, 6.00852, 0.05114,\n",
    "                                            7.02180, 0.13082, 8.00000, 0.00003,\n",
    "                                            9.00601, 0.03611, 10.01942, 0.01654]).reshape((-1, 2))"
   ]
  },
  {
   "cell_type": "code",
   "execution_count": 4,
   "metadata": {
    "collapsed": true
   },
   "outputs": [],
   "source": [
    "# Data extracted from Fig. 1\n",
    "cai2011 = dict()\n",
    "\n",
    "cai2011['100'] = np.array([0.46257, 0.00105, 0.97908, 0.13688, 1.92488, 1.00413,\n",
    "                           2.93725, 1.00626, 3.94948, 1.01050, 4.92435, 1.01255,\n",
    "                           5.93659, 1.01679, 6.92409, 1.01676, 7.94909, 1.01681]).reshape((-1, 2))\n",
    "cai2011['200'] = np.array([0.47507, 0.00108, 0.95816, 0.07157, 1.95514, 0.71998,\n",
    "                           2.93725, 1.00626, 3.93698, 1.01047, 4.92448, 1.01045,\n",
    "                           5.94922, 1.01471, 6.93646, 1.01889, 7.93672, 1.01468]).reshape((-1, 2))\n",
    "cai2011['300'] = np.array([0.47507, 0.00108, 0.99671, 0.05481, 1.95487, 0.52419,\n",
    "                           2.93225, 0.88625, 3.93856, 0.98521, 4.94948, 1.01050,\n",
    "                           5.93672, 1.01468, 6.93672, 1.01468, 7.94909, 1.01681]).reshape((-1, 2))"
   ]
  },
  {
   "cell_type": "markdown",
   "metadata": {},
   "source": [
    "Helper\n",
    "------"
   ]
  },
  {
   "cell_type": "code",
   "execution_count": 5,
   "metadata": {
    "collapsed": true
   },
   "outputs": [],
   "source": [
    "def fit_amps(x, y, match_y):\n",
    "    x = np.array(x)\n",
    "    y = np.array(y)\n",
    "    # We are given a list of input values `x` and their corresponding output values\n",
    "    # `y` = f(x). We want to find the `x` value for which f(x) = `match_y`.\n",
    "    if np.allclose(y.ptp(), 0.0, atol=1e-12):\n",
    "        return np.inf\n",
    "\n",
    "    # Easiest way is to use interp1d as x = f(y)!\n",
    "    f = interp1d(y.flatten(), x.flatten(), fill_value='extrapolate')\n",
    "    return np.asscalar(f(match_y))"
   ]
  },
  {
   "cell_type": "code",
   "execution_count": 6,
   "metadata": {
    "collapsed": true
   },
   "outputs": [],
   "source": [
    "# Monophasic pulse train\n",
    "def get_jensen2005_pt(ptype, freq, amp, pdur, stim_dur, tsample=0.005 / 1000):\n",
    "    assert freq >= 0\n",
    "    assert amp >= 0  # sign handled by mono pulse\n",
    "    assert pdur > 0\n",
    "    assert stim_dur >= 0\n",
    "    \n",
    "    delay_dur = 10.0 / 1000\n",
    "    \n",
    "    stim_size = int(round(stim_dur / tsample))\n",
    "    if np.isclose(amp, 0.0) or np.isclose(freq, 0.0):\n",
    "        return utils.TimeSeries(tsample, np.zeros(stim_size))\n",
    "    \n",
    "    envelope_dur = 1.0 / float(freq)\n",
    "    assert envelope_dur > delay_dur\n",
    "    num_envelopes = np.maximum(1, int(np.ceil(stim_dur * freq)))\n",
    "    \n",
    "    pulse_train = np.array([])\n",
    "    for j in range(num_envelopes):\n",
    "        # A single mono pulse\n",
    "        pulse = e2cm.get_monophasic_pulse(ptype, pdur, tsample, delay_dur, envelope_dur) * amp\n",
    "        pulse_train = np.concatenate((pulse_train, pulse), axis=0)\n",
    "    pulse_train = pulse_train[:stim_size]\n",
    "    assert not np.allclose(pulse_train, 0)\n",
    "    \n",
    "    return utils.TimeSeries(tsample, pulse_train)"
   ]
  },
  {
   "cell_type": "code",
   "execution_count": 7,
   "metadata": {
    "collapsed": true
   },
   "outputs": [],
   "source": [
    "def find_sl_ll(resp, stim, delay_inl, verbose=False):\n",
    "    \"\"\"Finds the SL and LL responses of a pulse train\"\"\"\n",
    "    \n",
    "    # Translate to indexing of `resp` (might have different `tsample`)\n",
    "    dur_onset = 10.0 / 1000\n",
    "    idx_onset = int(np.floor(dur_onset / resp.tsample))\n",
    "    \n",
    "    if verbose:\n",
    "        print('stim onset: dur=%f, idx=%d' % (dur_onset, idx_onset))\n",
    "        \n",
    "    activity = resp.data.squeeze()\n",
    "    \n",
    "    # SL response within 10ms of stimulus onset\n",
    "    sl_dur = 10.0 / 1000\n",
    "    sl_size = int(np.round(sl_dur / resp.tsample))\n",
    "    sl_resp = activity[idx_onset: idx_onset + sl_size]\n",
    "    t_sl = (sl_resp.argmax() + idx_onset) * resp.tsample\n",
    "    y_sl = sl_resp.max()\n",
    "    \n",
    "    # LL response after ~40ms of stimulus onset\n",
    "    ll_delay = int(np.floor(delay_inl / resp.tsample))\n",
    "    ll_resp = activity[idx_onset + ll_delay:]\n",
    "    t_ll = (ll_resp.argmax() + idx_onset + ll_delay) * resp.tsample\n",
    "    y_ll = ll_resp.max()\n",
    "    \n",
    "    if verbose:\n",
    "        print('SL=%f at t=%f, LL=%f at t=%f' % (y_sl, t_sl, y_ll, t_ll))\n",
    "        \n",
    "    return [t_sl, y_sl], [t_ll, y_ll]"
   ]
  },
  {
   "cell_type": "markdown",
   "metadata": {},
   "source": [
    "# Fit\n",
    "----------"
   ]
  },
  {
   "cell_type": "code",
   "execution_count": 8,
   "metadata": {
    "collapsed": true
   },
   "outputs": [],
   "source": [
    "def run_jensen2005_fig3(model, rtype, pdurs, amps):\n",
    "    # max pulse dur is 100ms\n",
    "    stim_dur = 0.2\n",
    "    \n",
    "    # just one pulse, so we don't need charge accumulation\n",
    "    stim_freq = 1.0\n",
    "    \n",
    "    gcr = model['gcr']\n",
    "    tsample = gcr.tsample\n",
    "    \n",
    "    fig3 = dict()\n",
    "    fig3['pulse_durs'] = pdurs\n",
    "    \n",
    "    if rtype == 'axon':\n",
    "        isaxon = True\n",
    "    else:\n",
    "        isaxon = False\n",
    "    \n",
    "    resp = []\n",
    "    for pd, amp in zip(pdurs, amps):\n",
    "        stim = get_jensen2005_pt('cathodic', stim_freq, amp, pd, stim_dur, tsample)\n",
    "        mov = gcr.model_cascade(stim, isaxon=isaxon, radius=model['diam'] / 2.0, height=model['height'])\n",
    "        sl_max, ll_max = find_sl_ll(mov, stim, gcr.delay_inl)\n",
    "        if rtype == 'LL':\n",
    "            resp.append(ll_max[1])\n",
    "        else:\n",
    "            resp.append(sl_max[1])\n",
    "\n",
    "    fig3['resp'] = np.array(resp)\n",
    "    return fig3"
   ]
  },
  {
   "cell_type": "code",
   "execution_count": 9,
   "metadata": {
    "collapsed": true
   },
   "outputs": [],
   "source": [
    "def run_jensen2007_trial(model, amp, freq, pdur=1.0 / 1000, idur=0.5 / 1000, num_pulses=1):\n",
    "    # Finding threshold\n",
    "    stim = e2cm.Psycho2Pulsetrain(model['gcr'].tsample, freq=freq, amp=amp, dur=float(num_pulses) / freq,\n",
    "                                  pulse_dur=pdur, interphase_dur=idur,\n",
    "                                  pulsetype='anodicfirst',\n",
    "                                  delay=10.0 / 1000)\n",
    "    return model['gcr'].model_cascade(stim, isaxon=False, radius=model['diam'] / 2.0, height=model['height'])"
   ]
  },
  {
   "cell_type": "code",
   "execution_count": 10,
   "metadata": {
    "collapsed": true
   },
   "outputs": [],
   "source": [
    "def run_jensen2007_exp1(model, isis):\n",
    "    pdur = 1.0 / 1000\n",
    "    idur = 0.5 / 1000\n",
    "    num_pulses = 2\n",
    "    \n",
    "    gcr = model['gcr']\n",
    "    tsample = gcr.tsample\n",
    "    \n",
    "    exp1 = dict()\n",
    "    exp1['isis'] = isis\n",
    "    exp1['freqs'] = 1000.0 / np.array(isis)\n",
    "    \n",
    "    # Need to find threshold current first\n",
    "    amp_search = [0.1, 1.0, 5.0, 10.0, 50.0]\n",
    "    resp_search = []\n",
    "    for amp in amp_search:\n",
    "        mov = run_jensen2007_trial(model, amp=amp, freq=1.0, num_pulses=1)\n",
    "        resp_search.append(mov.data.max())\n",
    "    amp_th = fit_amps(amp_search, resp_search, 1.0)\n",
    "    if np.isnan(amp_th) or np.isinf(amp_th):\n",
    "        exp1['amp_th'] = np.inf\n",
    "        exp1['amp2amp1'] = 0\n",
    "        return exp1\n",
    "    \n",
    "    exp1['amp_th'] = amp_th\n",
    "    \n",
    "    amp2amp1 = []\n",
    "    for freq in exp1['freqs']:\n",
    "        cond = '%.1f' % freq\n",
    "        exp1[cond] = dict()\n",
    "        \n",
    "        mov = run_jensen2007_trial(model, amp=1.5 * amp_th, freq=freq, num_pulses=num_pulses)\n",
    "        exp1[cond]['gcr'] = gcr\n",
    "        exp1[cond]['mov'] = mov\n",
    "        resp = np.squeeze(mov.data)\n",
    "        freq_size = int(resp.size / float(num_pulses))\n",
    "        peaks = []\n",
    "        for f in range(num_pulses):\n",
    "            slc = resp[f*freq_size: (f + 1) * freq_size]\n",
    "            peaks.append(slc.max())\n",
    "\n",
    "        exp1[cond]['resp'] = np.array(peaks)\n",
    "        amp2amp1.append(peaks[1] / (peaks[0] + np.finfo(float).eps))\n",
    "    exp1['amp2amp1'] = np.array(amp2amp1)\n",
    "        \n",
    "    return exp1"
   ]
  },
  {
   "cell_type": "code",
   "execution_count": 11,
   "metadata": {
    "collapsed": true
   },
   "outputs": [],
   "source": [
    "def run_jensen2007_exp2(model, freqs):\n",
    "    pdur = 1.0 / 1000\n",
    "    idur = 0.5 / 1000\n",
    "    num_pulses = 10\n",
    "    \n",
    "    gcr = model['gcr']\n",
    "    tsample = gcr.tsample\n",
    "\n",
    "    exp2 = dict()\n",
    "    exp2['freqs'] = freqs\n",
    "    \n",
    "    # Need to find threshold current first\n",
    "    amp_search = [0.1, 1.0, 5.0, 10.0, 50.0]\n",
    "    resp_search = []\n",
    "    for amp in amp_search:\n",
    "        mov = run_jensen2007_trial(model, amp=amp, freq=1.0, num_pulses=1)\n",
    "        resp_search.append(mov.data.max())\n",
    "    amp_th = fit_amps(amp_search, resp_search, 1.0)\n",
    "    exp2['amp_th'] = amp_th\n",
    "    \n",
    "    for freq in freqs:\n",
    "        cond = '%.1f' % freq\n",
    "        exp2[cond] = dict()\n",
    "        \n",
    "        if np.isnan(amp_th) or np.isinf(amp_th):\n",
    "            exp2[cond]['resp'] = np.zeros(num_pulses)\n",
    "            exp2[cond]['norm_resp'] = np.zeros(num_pulses)\n",
    "            continue\n",
    "        \n",
    "        mov = run_jensen2007_trial(model, amp=1.5 * amp_th, freq=freq, num_pulses=num_pulses)\n",
    "        exp2[cond]['gcr'] = gcr\n",
    "        exp2[cond]['mov'] = mov\n",
    "        resp = np.squeeze(mov.data)\n",
    "        freq_size = int(resp.size / float(num_pulses))\n",
    "        peaks = []\n",
    "        for f in range(num_pulses):\n",
    "            slc = resp[f*freq_size: (f + 1) * freq_size]\n",
    "            peaks.append(slc.max())\n",
    "\n",
    "        exp2[cond]['resp'] = np.array(peaks)\n",
    "        exp2[cond]['norm_resp'] = np.array(peaks) / (peaks[0] + np.finfo(float).eps)\n",
    "        \n",
    "    return exp2"
   ]
  },
  {
   "cell_type": "code",
   "execution_count": 12,
   "metadata": {
    "collapsed": true
   },
   "outputs": [],
   "source": [
    "def run_cai2011_exp1(model, amp_th, freqs):\n",
    "    pdur = 0.2 / 1000\n",
    "    \n",
    "    gcr = model['gcr']\n",
    "    tsample = gcr.tsample\n",
    "\n",
    "    exp1 = dict()\n",
    "    exp1['freqs'] = freqs\n",
    "    exp1['amps'] = np.arange(9) * amp_th\n",
    "    for freq in freqs:\n",
    "        cond = '%.0f' % freq\n",
    "        exp1[cond] = dict()\n",
    "        \n",
    "        idur = 0.5 / freq\n",
    "        \n",
    "        resp = []\n",
    "        for amp in exp1['amps']:\n",
    "            stim = e2cm.Psycho2Pulsetrain(tsample, freq=freq, amp=amp, dur=0.5,\n",
    "                                          pulse_dur=pdur, interphase_dur=idur,\n",
    "                                          pulsetype='cathodicfirst',\n",
    "                                          delay=0.0 / 1000)\n",
    "            mov = gcr.model_cascade(stim, isaxon=False, radius=model['diam'] / 2.0, height=model['height'])\n",
    "            resp.append(np.squeeze(mov.data.max()))\n",
    "\n",
    "        exp1[cond]['resp'] = np.array(resp)\n",
    "        exp1[cond]['norm_resp'] = np.array(resp) / 100.0\n",
    "        \n",
    "    return exp1"
   ]
  },
  {
   "cell_type": "code",
   "execution_count": 13,
   "metadata": {
    "collapsed": true
   },
   "outputs": [],
   "source": [
    "def mse_jensen2005_fig3(x, jensen2005):\n",
    "    mse = 0\n",
    "    for diam in [125.0, 500.0]:\n",
    "        ename = 'E%.0f' % diam\n",
    "        model = get_model(x, diam, 25.0)\n",
    "        for rtype in ['LL']:\n",
    "            fig3 = run_jensen2005_fig3(model, rtype, jensen2005[ename][rtype][:, 0],\n",
    "                                      jensen2005[ename][rtype][:, 1])\n",
    "            mse += np.sum((fig3['resp'] - model['out_th']) ** 2)\n",
    "    return mse"
   ]
  },
  {
   "cell_type": "code",
   "execution_count": 14,
   "metadata": {
    "collapsed": true
   },
   "outputs": [],
   "source": [
    "def mse_jensen2007_exp1(x, jensen2007, isis=[15, 25, 40, 65, 100, 150, 250, 400, 650]):\n",
    "    model = get_model(x, 40.0, 25.0)\n",
    "    exp1 = run_jensen2007_exp1(model, np.array(isis))\n",
    "    return np.mean(np.abs(exp1['amp2amp1'] - jensen2007['amp2amp1'][:, 1]) ** 2)"
   ]
  },
  {
   "cell_type": "code",
   "execution_count": 15,
   "metadata": {
    "collapsed": true
   },
   "outputs": [],
   "source": [
    "def mse_jensen2007_exp2(x, jensen2007, freqs=[1.5, 2.5, 4, 6.5, 10, 15, 25, 40, 65]):\n",
    "    model = get_model(x, 40.0, 25.0)\n",
    "    exp2 = run_jensen2007_exp2(model, np.array(freqs))\n",
    "    \n",
    "    mse = 0\n",
    "    for freq in exp2['freqs']:\n",
    "        cond = '%.1f' % freq\n",
    "        mse += np.mean(np.abs(exp2[cond]['norm_resp'] - jensen2007['norm_resp'][cond][:, 1]) ** 2)\n",
    "    return mse"
   ]
  },
  {
   "cell_type": "code",
   "execution_count": 16,
   "metadata": {
    "collapsed": true
   },
   "outputs": [],
   "source": [
    "def mse_cai2011_exp1(x, cai2011, freqs=[100.0, 200.0, 300.0]):\n",
    "    model = get_model(x, 40.0, 25.0)\n",
    "    exp1 = run_cai2011_exp1(model, 20.0, freqs)\n",
    "    \n",
    "    mse = 0\n",
    "    for freq in exp1['freqs']:\n",
    "        cond = '%.0f' % freq\n",
    "        \n",
    "        mse += np.mean(np.abs(exp1[cond]['resp'] - 100.0 * cai2011[cond][:, 1]) ** 2)\n",
    "    return mse"
   ]
  },
  {
   "cell_type": "code",
   "execution_count": 17,
   "metadata": {
    "collapsed": false
   },
   "outputs": [],
   "source": [
    "def mse_all(x, jensen2005, jensen2007, cai2011):\n",
    "    mse = 0\n",
    "\n",
    "    mse += mse_jensen2005_fig3(x, jensen2005)\n",
    "\n",
    "    mse += mse_jensen2007_exp1(x, jensen2007)\n",
    "    mse += mse_jensen2007_exp2(x, jensen2007)\n",
    "    \n",
    "    mse += mse_cai2011_exp1(x, cai2011)\n",
    "    \n",
    "    print('%s: %.9f' % (str([('%.11f' % xx) for xx in x]), mse))\n",
    "    return mse"
   ]
  },
  {
   "cell_type": "code",
   "execution_count": 18,
   "metadata": {
    "collapsed": true
   },
   "outputs": [],
   "source": [
    "def get_model(x, diam, height):\n",
    "    tsample = 0.005 / 1000\n",
    "    r_scale = 329.808\n",
    "    \n",
    "    [ca_scale, ca_tau, inl_scale, sig_a, sig_b] = x\n",
    "\n",
    "    model = dict()\n",
    "    model['diam'] = diam\n",
    "    model['height'] = height\n",
    "    model['gcr'] = ec2b.GanglionCell(tsample,\n",
    "                                     ca_scale=ca_scale, ca_tau=ca_tau,\n",
    "                                     inl_scale=inl_scale,\n",
    "                                     sig_a=sig_a, sig_b=sig_b,\n",
    "                                     r_scale=r_scale,\n",
    "                                     h_scale=np.inf)\n",
    "    \n",
    "    model['out_th'] = 1.0\n",
    "    \n",
    "    return model"
   ]
  },
  {
   "cell_type": "code",
   "execution_count": 19,
   "metadata": {
    "collapsed": false,
    "scrolled": true
   },
   "outputs": [
    {
     "name": "stdout",
     "output_type": "stream",
     "text": [
      "['1.00000000000', '0.01910000000', '0.10000000000', '1.00000000000', '0.00000000000']: 47748.686579049\n",
      "['1.00000001000', '0.01910000000', '0.10000000000', '1.00000000000', '0.00000000000']: 47748.686572836\n",
      "['1.00000000000', '0.01910001000', '0.10000000000', '1.00000000000', '0.00000000000']: 47748.685463296\n",
      "['1.00000000000', '0.01910000000', '0.10000001000', '1.00000000000', '0.00000000000']: 47748.686697791\n",
      "['1.00000000000', '0.01910000000', '0.10000000000', '1.00000001000', '0.00000000000']: 47748.686584710\n",
      "['1.00000000000', '0.01910000000', '0.10000000000', '1.00000000000', '0.00000001000']: 47748.686126893\n",
      "['100.00000000000', '0.50000000000', '0.01000000000', '0.00100000000', '100.00000000000']: 22257.383758522\n",
      "['100.00000001000', '0.50000000000', '0.01000000000', '0.00100000000', '100.00000000000']: 22257.383758522\n",
      "['100.00000000000', '0.50000001000', '0.01000000000', '0.00100000000', '100.00000000000']: 22257.383758522\n",
      "['100.00000000000', '0.50000000000', '0.01000001000', '0.00100000000', '100.00000000000']: 22257.383758522\n",
      "['100.00000000000', '0.50000000000', '0.01000000000', '0.00100001000', '100.00000000000']: 22257.383758522\n",
      "['100.00000000000', '0.50000000000', '0.01000000000', '0.00100000000', '100.00000001000']: 22257.383758522\n"
     ]
    }
   ],
   "source": [
    "res = minimize(mse_all, [1.0, 0.0191, 0.1, 1.0, 0.0], args=(jensen2005, jensen2007, cai2011),\n",
    "               method='L-BFGS-B', bounds=[(0.001, 100), (0.01, 0.5), (0.01, 0.5), (0.001, 100), (-100, 100)])"
   ]
  },
  {
   "cell_type": "markdown",
   "metadata": {},
   "source": [
    "# Plot\n",
    "----------"
   ]
  },
  {
   "cell_type": "code",
   "execution_count": 20,
   "metadata": {
    "collapsed": false
   },
   "outputs": [
    {
     "name": "stdout",
     "output_type": "stream",
     "text": [
      "[  1.00000000e+02   5.00000000e-01   1.00000000e-02   1.00000000e-03\n",
      "   1.00000000e+02]\n"
     ]
    }
   ],
   "source": [
    "print(res.x)"
   ]
  },
  {
   "cell_type": "code",
   "execution_count": 21,
   "metadata": {
    "collapsed": true
   },
   "outputs": [],
   "source": [
    "def run_jensen2005_fig3_findamp(model, rtype, pdurs):\n",
    "    # max pulse dur is 100ms\n",
    "    stim_dur = 0.2\n",
    "    \n",
    "    # just one pulse, so we don't need charge accumulation\n",
    "    stim_freq = 1.0\n",
    "    \n",
    "    gcr = model['gcr']\n",
    "    tsample = gcr.tsample\n",
    "    \n",
    "    fig3 = dict()\n",
    "    fig3['pulse_durs'] = pdurs\n",
    "    \n",
    "    if rtype == 'axon':\n",
    "        isaxon = True\n",
    "    else:\n",
    "        isaxon = False\n",
    "    \n",
    "    amp_match = []\n",
    "    for pd in pdurs:\n",
    "        # For every pulse duration, we need to find the current that gives\n",
    "        # output == 1. Since output is linear, 2-3 data points should suffice\n",
    "        # for intra/extrapolation. We also want \"plausible\" mA currents as\n",
    "        # input:\n",
    "        amp_search = [0.1, 1.0, 100.0]\n",
    "        resp_search = []\n",
    "        for amp in amp_search:\n",
    "            stim = get_jensen2005_pt('cathodic', stim_freq, amp, pd, stim_dur, tsample)\n",
    "            mov = gcr.model_cascade(stim, isaxon=isaxon, radius=model['diam'] / 2.0, height=model['height'])\n",
    "            sl, ll_max = find_sl_ll(stim, mov, gcr.delay_inl)\n",
    "            if rtype == 'LL':\n",
    "                resp_search.append(ll_max[1])\n",
    "            else:\n",
    "                resp_search.append(sl_max[1])\n",
    "        amp_match.append(fit_amps(amp_search, resp_search, model['out_th']))\n",
    "\n",
    "    fig3['amp_match'] = np.array(amp_match)\n",
    "    return fig3"
   ]
  },
  {
   "cell_type": "code",
   "execution_count": 22,
   "metadata": {
    "collapsed": false
   },
   "outputs": [
    {
     "ename": "ValueError",
     "evalue": "Data has no positive values, and therefore can not be log-scaled.",
     "output_type": "error",
     "traceback": [
      "\u001b[0;31m---------------------------------------------------------------------------\u001b[0m",
      "\u001b[0;31mValueError\u001b[0m                                Traceback (most recent call last)",
      "\u001b[0;32m<ipython-input-22-bce2f01dc274>\u001b[0m in \u001b[0;36m<module>\u001b[0;34m()\u001b[0m\n\u001b[1;32m     11\u001b[0m \u001b[0;34m\u001b[0m\u001b[0m\n\u001b[1;32m     12\u001b[0m         plt.loglog(jensen2005[ename][rtype][:, 0], fig3['amp_match'],\n\u001b[0;32m---> 13\u001b[0;31m                    'o-b', linewidth=2, markersize=12, label='model')\n\u001b[0m\u001b[1;32m     14\u001b[0m         plt.loglog(jensen2005[ename][rtype][:, 0], jensen2005[ename][rtype][:, 1],\n\u001b[1;32m     15\u001b[0m                    's-r', linewidth=4, markersize=12, label='rabbit')\n",
      "\u001b[0;32m/home/mbeyeler/anaconda3/lib/python3.5/site-packages/matplotlib/pyplot.py\u001b[0m in \u001b[0;36mloglog\u001b[0;34m(*args, **kwargs)\u001b[0m\n\u001b[1;32m   3037\u001b[0m         \u001b[0max\u001b[0m\u001b[0;34m.\u001b[0m\u001b[0mhold\u001b[0m\u001b[0;34m(\u001b[0m\u001b[0mhold\u001b[0m\u001b[0;34m)\u001b[0m\u001b[0;34m\u001b[0m\u001b[0m\n\u001b[1;32m   3038\u001b[0m     \u001b[0;32mtry\u001b[0m\u001b[0;34m:\u001b[0m\u001b[0;34m\u001b[0m\u001b[0m\n\u001b[0;32m-> 3039\u001b[0;31m         \u001b[0mret\u001b[0m \u001b[0;34m=\u001b[0m \u001b[0max\u001b[0m\u001b[0;34m.\u001b[0m\u001b[0mloglog\u001b[0m\u001b[0;34m(\u001b[0m\u001b[0;34m*\u001b[0m\u001b[0margs\u001b[0m\u001b[0;34m,\u001b[0m \u001b[0;34m**\u001b[0m\u001b[0mkwargs\u001b[0m\u001b[0;34m)\u001b[0m\u001b[0;34m\u001b[0m\u001b[0m\n\u001b[0m\u001b[1;32m   3040\u001b[0m     \u001b[0;32mfinally\u001b[0m\u001b[0;34m:\u001b[0m\u001b[0;34m\u001b[0m\u001b[0m\n\u001b[1;32m   3041\u001b[0m         \u001b[0max\u001b[0m\u001b[0;34m.\u001b[0m\u001b[0mhold\u001b[0m\u001b[0;34m(\u001b[0m\u001b[0mwashold\u001b[0m\u001b[0;34m)\u001b[0m\u001b[0;34m\u001b[0m\u001b[0m\n",
      "\u001b[0;32m/home/mbeyeler/anaconda3/lib/python3.5/site-packages/matplotlib/axes/_axes.py\u001b[0m in \u001b[0;36mloglog\u001b[0;34m(self, *args, **kwargs)\u001b[0m\n\u001b[1;32m   1560\u001b[0m         \u001b[0mb\u001b[0m \u001b[0;34m=\u001b[0m \u001b[0mself\u001b[0m\u001b[0;34m.\u001b[0m\u001b[0m_hold\u001b[0m\u001b[0;34m\u001b[0m\u001b[0m\n\u001b[1;32m   1561\u001b[0m         \u001b[0mself\u001b[0m\u001b[0;34m.\u001b[0m\u001b[0m_hold\u001b[0m \u001b[0;34m=\u001b[0m \u001b[0;32mTrue\u001b[0m  \u001b[0;31m# we've already processed the hold\u001b[0m\u001b[0;34m\u001b[0m\u001b[0m\n\u001b[0;32m-> 1562\u001b[0;31m         \u001b[0ml\u001b[0m \u001b[0;34m=\u001b[0m \u001b[0mself\u001b[0m\u001b[0;34m.\u001b[0m\u001b[0mplot\u001b[0m\u001b[0;34m(\u001b[0m\u001b[0;34m*\u001b[0m\u001b[0margs\u001b[0m\u001b[0;34m,\u001b[0m \u001b[0;34m**\u001b[0m\u001b[0mkwargs\u001b[0m\u001b[0;34m)\u001b[0m\u001b[0;34m\u001b[0m\u001b[0m\n\u001b[0m\u001b[1;32m   1563\u001b[0m         \u001b[0mself\u001b[0m\u001b[0;34m.\u001b[0m\u001b[0m_hold\u001b[0m \u001b[0;34m=\u001b[0m \u001b[0mb\u001b[0m  \u001b[0;31m# restore the hold\u001b[0m\u001b[0;34m\u001b[0m\u001b[0m\n\u001b[1;32m   1564\u001b[0m \u001b[0;34m\u001b[0m\u001b[0m\n",
      "\u001b[0;32m/home/mbeyeler/anaconda3/lib/python3.5/site-packages/matplotlib/__init__.py\u001b[0m in \u001b[0;36minner\u001b[0;34m(ax, *args, **kwargs)\u001b[0m\n\u001b[1;32m   1810\u001b[0m                     warnings.warn(msg % (label_namer, func.__name__),\n\u001b[1;32m   1811\u001b[0m                                   RuntimeWarning, stacklevel=2)\n\u001b[0;32m-> 1812\u001b[0;31m             \u001b[0;32mreturn\u001b[0m \u001b[0mfunc\u001b[0m\u001b[0;34m(\u001b[0m\u001b[0max\u001b[0m\u001b[0;34m,\u001b[0m \u001b[0;34m*\u001b[0m\u001b[0margs\u001b[0m\u001b[0;34m,\u001b[0m \u001b[0;34m**\u001b[0m\u001b[0mkwargs\u001b[0m\u001b[0;34m)\u001b[0m\u001b[0;34m\u001b[0m\u001b[0m\n\u001b[0m\u001b[1;32m   1813\u001b[0m         \u001b[0mpre_doc\u001b[0m \u001b[0;34m=\u001b[0m \u001b[0minner\u001b[0m\u001b[0;34m.\u001b[0m\u001b[0m__doc__\u001b[0m\u001b[0;34m\u001b[0m\u001b[0m\n\u001b[1;32m   1814\u001b[0m         \u001b[0;32mif\u001b[0m \u001b[0mpre_doc\u001b[0m \u001b[0;32mis\u001b[0m \u001b[0;32mNone\u001b[0m\u001b[0;34m:\u001b[0m\u001b[0;34m\u001b[0m\u001b[0m\n",
      "\u001b[0;32m/home/mbeyeler/anaconda3/lib/python3.5/site-packages/matplotlib/axes/_axes.py\u001b[0m in \u001b[0;36mplot\u001b[0;34m(self, *args, **kwargs)\u001b[0m\n\u001b[1;32m   1426\u001b[0m             \u001b[0mlines\u001b[0m\u001b[0;34m.\u001b[0m\u001b[0mappend\u001b[0m\u001b[0;34m(\u001b[0m\u001b[0mline\u001b[0m\u001b[0;34m)\u001b[0m\u001b[0;34m\u001b[0m\u001b[0m\n\u001b[1;32m   1427\u001b[0m \u001b[0;34m\u001b[0m\u001b[0m\n\u001b[0;32m-> 1428\u001b[0;31m         \u001b[0mself\u001b[0m\u001b[0;34m.\u001b[0m\u001b[0mautoscale_view\u001b[0m\u001b[0;34m(\u001b[0m\u001b[0mscalex\u001b[0m\u001b[0;34m=\u001b[0m\u001b[0mscalex\u001b[0m\u001b[0;34m,\u001b[0m \u001b[0mscaley\u001b[0m\u001b[0;34m=\u001b[0m\u001b[0mscaley\u001b[0m\u001b[0;34m)\u001b[0m\u001b[0;34m\u001b[0m\u001b[0m\n\u001b[0m\u001b[1;32m   1429\u001b[0m         \u001b[0;32mreturn\u001b[0m \u001b[0mlines\u001b[0m\u001b[0;34m\u001b[0m\u001b[0m\n\u001b[1;32m   1430\u001b[0m \u001b[0;34m\u001b[0m\u001b[0m\n",
      "\u001b[0;32m/home/mbeyeler/anaconda3/lib/python3.5/site-packages/matplotlib/axes/_base.py\u001b[0m in \u001b[0;36mautoscale_view\u001b[0;34m(self, tight, scalex, scaley)\u001b[0m\n\u001b[1;32m   2171\u001b[0m                 \u001b[0mx1\u001b[0m \u001b[0;34m+=\u001b[0m \u001b[0mdelta\u001b[0m\u001b[0;34m\u001b[0m\u001b[0m\n\u001b[1;32m   2172\u001b[0m             \u001b[0;32mif\u001b[0m \u001b[0;32mnot\u001b[0m \u001b[0m_tight\u001b[0m\u001b[0;34m:\u001b[0m\u001b[0;34m\u001b[0m\u001b[0m\n\u001b[0;32m-> 2173\u001b[0;31m                 \u001b[0mx0\u001b[0m\u001b[0;34m,\u001b[0m \u001b[0mx1\u001b[0m \u001b[0;34m=\u001b[0m \u001b[0mxlocator\u001b[0m\u001b[0;34m.\u001b[0m\u001b[0mview_limits\u001b[0m\u001b[0;34m(\u001b[0m\u001b[0mx0\u001b[0m\u001b[0;34m,\u001b[0m \u001b[0mx1\u001b[0m\u001b[0;34m)\u001b[0m\u001b[0;34m\u001b[0m\u001b[0m\n\u001b[0m\u001b[1;32m   2174\u001b[0m             \u001b[0mself\u001b[0m\u001b[0;34m.\u001b[0m\u001b[0mset_xbound\u001b[0m\u001b[0;34m(\u001b[0m\u001b[0mx0\u001b[0m\u001b[0;34m,\u001b[0m \u001b[0mx1\u001b[0m\u001b[0;34m)\u001b[0m\u001b[0;34m\u001b[0m\u001b[0m\n\u001b[1;32m   2175\u001b[0m \u001b[0;34m\u001b[0m\u001b[0m\n",
      "\u001b[0;32m/home/mbeyeler/anaconda3/lib/python3.5/site-packages/matplotlib/ticker.py\u001b[0m in \u001b[0;36mview_limits\u001b[0;34m(self, vmin, vmax)\u001b[0m\n\u001b[1;32m   1611\u001b[0m         \u001b[0;32mif\u001b[0m \u001b[0mminpos\u001b[0m \u001b[0;34m<=\u001b[0m \u001b[0;36m0\u001b[0m \u001b[0;32mor\u001b[0m \u001b[0;32mnot\u001b[0m \u001b[0mnp\u001b[0m\u001b[0;34m.\u001b[0m\u001b[0misfinite\u001b[0m\u001b[0;34m(\u001b[0m\u001b[0mminpos\u001b[0m\u001b[0;34m)\u001b[0m\u001b[0;34m:\u001b[0m\u001b[0;34m\u001b[0m\u001b[0m\n\u001b[1;32m   1612\u001b[0m             raise ValueError(\n\u001b[0;32m-> 1613\u001b[0;31m                 \u001b[0;34m\"Data has no positive values, and therefore can not be \"\u001b[0m\u001b[0;34m\u001b[0m\u001b[0m\n\u001b[0m\u001b[1;32m   1614\u001b[0m                 \"log-scaled.\")\n\u001b[1;32m   1615\u001b[0m \u001b[0;34m\u001b[0m\u001b[0m\n",
      "\u001b[0;31mValueError\u001b[0m: Data has no positive values, and therefore can not be log-scaled."
     ]
    },
    {
     "data": {
      "image/png": "[encoded data removed]",
      "text/plain": [
       "<matplotlib.figure.Figure at 0x7f7a84409c18>"
      ]
     },
     "metadata": {},
     "output_type": "display_data"
    }
   ],
   "source": [
    "plt.figure(figsize=(14, 10))\n",
    "\n",
    "subplot = 1\n",
    "for rtype in ['LL']:\n",
    "    for diam in [125, 500]:\n",
    "        ename = 'E%.0f' % diam\n",
    "        model = get_model(res.x, diam, 25.0)\n",
    "        plt.subplot(1, 2, subplot)\n",
    "        \n",
    "        fig3 = run_jensen2005_fig3_findamp(model, rtype, jensen2005[ename][rtype][:, 0])\n",
    "\n",
    "        plt.loglog(jensen2005[ename][rtype][:, 0], fig3['amp_match'],\n",
    "                   'o-b', linewidth=2, markersize=12, label='model')\n",
    "        plt.loglog(jensen2005[ename][rtype][:, 0], jensen2005[ename][rtype][:, 1],\n",
    "                   's-r', linewidth=4, markersize=12, label='rabbit')\n",
    "        \n",
    "        plt.title('%s responses, %s um electrode' % (rtype, ename))\n",
    "        plt.legend(loc='lower left')\n",
    "        plt.xlim(0.01 / 1000, 100.0 / 1000)\n",
    "        plt.ylim(0.01, 100)\n",
    "        if subplot > 2:\n",
    "            plt.xticks(np.array([0.01, 0.1, 1, 10, 100]) / 1000, [0.01, 0.1, 1, 10, 100])\n",
    "            plt.xlabel('Stimulus pulse duration (ms)')\n",
    "        else:\n",
    "            plt.xticks([])\n",
    "        if (subplot - 1) % 2 == 0:\n",
    "            plt.yticks([0.01, 1, 10, 100])\n",
    "            plt.ylabel('Threshold current (uA)')\n",
    "        else:\n",
    "            plt.yticks([])\n",
    "        \n",
    "        subplot += 1\n",
    "plt.savefig('jensen2005_fig3.png')"
   ]
  },
  {
   "cell_type": "code",
   "execution_count": null,
   "metadata": {
    "collapsed": true
   },
   "outputs": [],
   "source": []
  }
 ],
 "metadata": {
  "anaconda-cloud": {},
  "kernelspec": {
   "display_name": "Python [Root]",
   "language": "python",
   "name": "Python [Root]"
  },
  "language_info": {
   "codemirror_mode": {
    "name": "ipython",
    "version": 3
   },
   "file_extension": ".py",
   "mimetype": "text/x-python",
   "name": "python",
   "nbconvert_exporter": "python",
   "pygments_lexer": "ipython3",
   "version": "3.5.2"
  }
 },
 "nbformat": 4,
 "nbformat_minor": 2
}
