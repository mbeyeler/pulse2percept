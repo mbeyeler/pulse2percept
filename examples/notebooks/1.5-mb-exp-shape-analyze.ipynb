{
 "cells": [
  {
   "cell_type": "code",
   "execution_count": 110,
   "metadata": {
    "collapsed": false
   },
   "outputs": [],
   "source": [
    "import numpy as np\n",
    "from os.path import isfile\n",
    "\n",
    "from skimage.io import imread\n",
    "from skimage import measure\n",
    "\n",
    "\n",
    "from pulse2percept import electrode2currentmap as e2cm\n",
    "from pulse2percept import effectivecurrent2brightness as ec2b\n",
    "from pulse2percept.utils import TimeSeries\n",
    "\n",
    "import matplotlib.pyplot as plt\n",
    "%matplotlib inline"
   ]
  },
  {
   "cell_type": "code",
   "execution_count": 26,
   "metadata": {
    "collapsed": true
   },
   "outputs": [],
   "source": [
    "def find_files_like(datapath, startswith, endswith='.npz'):\n",
    "    from os import listdir\n",
    "    \n",
    "    # look for file in folder `datapath` that starts with `startswith`\n",
    "    filename = []\n",
    "    for file in listdir(datapath):\n",
    "        if file.startswith(startswith) and file.endswith(endswith):\n",
    "            filename.append(file)\n",
    "    \n",
    "    return filename"
   ]
  },
  {
   "cell_type": "code",
   "execution_count": 27,
   "metadata": {
    "collapsed": true
   },
   "outputs": [],
   "source": [
    "def calc_shape(img):\n",
    "    # get components of the centroid\n",
    "    M = measure.moments(img, 1)\n",
    "    xm = M[0, 1] / M[0, 0]\n",
    "    ym = M[1, 0] / M[0, 0]\n",
    "    \n",
    "    # size\n",
    "    size = M[0, 0]\n",
    "    \n",
    "    # get centralized moments\n",
    "    mu = measure.moments_central(img, xm, ym)\n",
    "    muprime = mu / size\n",
    "    \n",
    "    # covariance matrix\n",
    "    cov = np.array([[muprime[2, 0], muprime[1, 1]], [muprime[1, 1], muprime[0, 2]]])\n",
    "    \n",
    "    # eigenvalues and eigenvectors\n",
    "    w, v = np.linalg.eig(cov)\n",
    "    \n",
    "    # orientation\n",
    "    if muprime[2, 0] != muprime[0, 2]:\n",
    "        theta = np.arctan2(2 * muprime[1, 1], muprime[2, 0] - muprime[0, 2]) / 2\n",
    "    else:\n",
    "        raise ValueError(\"Can't compute `theta` because mu'_20 == mu'_02\")\n",
    "        \n",
    "    # eccentricity\n",
    "    ecc = np.sqrt(1.0 - np.min(w) / np.max(w))\n",
    "    \n",
    "    return size, theta, ecc, v"
   ]
  },
  {
   "cell_type": "code",
   "execution_count": 28,
   "metadata": {
    "collapsed": false
   },
   "outputs": [],
   "source": [
    "secondsightpath = \"/home/mbeyeler/data/secondsight/shape/TB/20090311/VID1545/\"\n",
    "img_gt = imread(secondsightpath + \"VID1545.AVI.429-445_shape.bmp\", as_grey=True)"
   ]
  },
  {
   "cell_type": "code",
   "execution_count": 29,
   "metadata": {
    "collapsed": false
   },
   "outputs": [
    {
     "data": {
      "text/plain": [
       "<matplotlib.image.AxesImage at 0x7f5023c26f60>"
      ]
     },
     "execution_count": 29,
     "metadata": {},
     "output_type": "execute_result"
    },
    {
     "data": {
      "image/png": "[encoded data removed]",
      "text/plain": [
       "<matplotlib.figure.Figure at 0x7f5023be8390>"
      ]
     },
     "metadata": {},
     "output_type": "display_data"
    }
   ],
   "source": [
    "plt.imshow(img_gt)"
   ]
  },
  {
   "cell_type": "code",
   "execution_count": 126,
   "metadata": {
    "collapsed": false
   },
   "outputs": [],
   "source": [
    "def find_bitmaps(folder, electrodes=[], amps=[]):\n",
    "    # Given a list of electrodes and amplitude values, finds the corresponding\n",
    "    # bitmap files in `folder`\n",
    "    import pandas as pd\n",
    "    \n",
    "    if not folder.endswith('/'):\n",
    "        folder += '/'\n",
    "    \n",
    "    # Open file\n",
    "    files = find_files_like(folder, 'VIDFileListNew_', '.xls')\n",
    "    if not files:\n",
    "        raise ValueError('Could not find file')\n",
    "    else:\n",
    "        file = files[0]\n",
    "\n",
    "    # Parse file\n",
    "    xl = pd.ExcelFile(folder + file)\n",
    "    df = xl.parse(xl.sheet_names[0])  # assume Sheet 1\n",
    "    assert 'electrode' in df.columns\n",
    "    assert 'amplitude' in df.columns\n",
    "    \n",
    "    if electrodes and amps:\n",
    "        # Find rows with right electrodes and amplitude values\n",
    "        col_el = '_'.join(electrodes)\n",
    "        col_amp = '_'.join(amps) + '_'\n",
    "        rows = df.loc[(df['electrode'] == col_el) & (df['amplitude'] == col_amp)]\n",
    "    else:\n",
    "        rows = df\n",
    "    \n",
    "    return [folder + bmp_folder + '/' + bmp_file\n",
    "            for bmp_folder, bmp_file in zip(rows['foldername'], rows['filename'])]"
   ]
  },
  {
   "cell_type": "code",
   "execution_count": 130,
   "metadata": {
    "collapsed": false
   },
   "outputs": [
    {
     "name": "stdout",
     "output_type": "stream",
     "text": [
      "Found 5 files\n"
     ]
    }
   ],
   "source": [
    "datafolder = '/home/mbeyeler/data/secondsight/shape/TB/20090318'\n",
    "files = find_bitmaps(datafolder, ['L4'], ['2'])\n",
    "print('Found %d files' % len(files))"
   ]
  },
  {
   "cell_type": "code",
   "execution_count": 131,
   "metadata": {
    "collapsed": false
   },
   "outputs": [
    {
     "name": "stdout",
     "output_type": "stream",
     "text": [
      "/home/mbeyeler/data/secondsight/shape/TB/20090318/VID1555/VID1555.AVI.699-730_shape.bmp\n",
      "/home/mbeyeler/data/secondsight/shape/TB/20090318/VID1555/VID1555.AVI.3491-3554_shape.bmp\n",
      "/home/mbeyeler/data/secondsight/shape/TB/20090318/VID1555/VID1555.AVI.4299-4344_shape.bmp\n",
      "/home/mbeyeler/data/secondsight/shape/TB/20090318/VID1555/VID1555.AVI.5832-5875_shape.bmp\n",
      "/home/mbeyeler/data/secondsight/shape/TB/20090318/VID1555/VID1555.AVI.11600-11640_shape.bmp\n"
     ]
    },
    {
     "data": {
      "image/png": "[encoded data removed]",
      "text/plain": [
       "<matplotlib.figure.Figure at 0x7f4ff9eb5470>"
      ]
     },
     "metadata": {},
     "output_type": "display_data"
    }
   ],
   "source": [
    "plt.figure(figsize=(20, 10))\n",
    "for i, f in enumerate(files):\n",
    "    plt.subplot(1, len(files), i + 1)\n",
    "    if not isfile(f):\n",
    "        print('Could not find file \"' + f + '\"')\n",
    "        continue\n",
    "    else:\n",
    "        print(f)\n",
    "\n",
    "    img = imread(f, asgrey=True)\n",
    "    plt.imshow(img)\n",
    "    plt.axis('off')\n",
    "    plt.title(f.split('/')[-1])"
   ]
  },
  {
   "cell_type": "code",
   "execution_count": null,
   "metadata": {
    "collapsed": false
   },
   "outputs": [],
   "source": [
    "# Load simulated data\n",
    "\n",
    "datapath = '/home/mbeyeler/data/shape/lambda8.0/'\n",
    "prefix = 'TB-20090311'\n",
    "\n",
    "name_E1 = ['L1', 'L1', 'L2', 'L2', 'L2', 'M2', 'M3', 'M3', 'M4', 'M4']\n",
    "name_E2 = [None, 'M2', None, 'M3', 'M4', None, None, 'L2', None, 'L2']\n",
    "\n",
    "all_amp1 = []\n",
    "all_amp2 = []\n",
    "all_gamma = []\n",
    "all_labels = []\n",
    "for E1, E2 in zip(name_E1, name_E2):\n",
    "    print('(%s, %s):' % (E1, E2))\n",
    "    if E1 != 'L2' or E2 is not None:\n",
    "        continue\n",
    "    \n",
    "    # Load data from file, auto-complete file name\n",
    "    filestr = '%s_%s_%s_' % (prefix, E1, E2)\n",
    "    filenames = find_files_like(datapath, filestr)\n",
    "    \n",
    "    filename = ''\n",
    "    if not filenames:\n",
    "        print(' - Could not locate any files with \"' + datapath + filestr + '*\", skip')\n",
    "        continue\n",
    "    else:\n",
    "        if len(filenames) > 1:\n",
    "            print(' - Found multiple files: ' + filenames + \", skip\")\n",
    "            continue\n",
    "        else:\n",
    "            filename = filenames[0]\n",
    "            print(' - Loading file ' + filename)\n",
    "\n",
    "    assert filename\n",
    "    exp_data = np.load(datapath + filename)\n",
    "    data = exp_data['data'][()]\n",
    "    exp_params = exp_data['exp_params'][()]\n",
    "    \n",
    "    frame = data['cond1']['frames'][0]\n",
    "    \n",
    "    break"
   ]
  },
  {
   "cell_type": "code",
   "execution_count": null,
   "metadata": {
    "collapsed": false
   },
   "outputs": [],
   "source": [
    "exp_params"
   ]
  },
  {
   "cell_type": "code",
   "execution_count": null,
   "metadata": {
    "collapsed": false
   },
   "outputs": [],
   "source": [
    "data"
   ]
  },
  {
   "cell_type": "code",
   "execution_count": null,
   "metadata": {
    "collapsed": false
   },
   "outputs": [],
   "source": [
    "img = data['cond1']['frames'][0].data\n",
    "# img.resize(img_gt.shape)"
   ]
  },
  {
   "cell_type": "code",
   "execution_count": null,
   "metadata": {
    "collapsed": false
   },
   "outputs": [],
   "source": [
    "plt.imshow(img, cmap='gray')\n",
    "plt.colorbar()"
   ]
  },
  {
   "cell_type": "code",
   "execution_count": null,
   "metadata": {
    "collapsed": true
   },
   "outputs": [],
   "source": [
    "from skimage.filters import threshold_otsu"
   ]
  },
  {
   "cell_type": "code",
   "execution_count": null,
   "metadata": {
    "collapsed": false
   },
   "outputs": [],
   "source": [
    "img_th = np.double(img >= threshold_otsu(img))\n",
    "plt.imshow(img_th, cmap='gray')"
   ]
  },
  {
   "cell_type": "code",
   "execution_count": null,
   "metadata": {
    "collapsed": false
   },
   "outputs": [],
   "source": [
    "def get_shape(img):\n",
    "    from skimage import measure\n",
    "    \n",
    "    # get components of the centroid\n",
    "    M = measure.moments(img, 1)\n",
    "    xm = M[0, 1] / M[0, 0]\n",
    "    ym = M[1, 0] / M[0, 0]\n",
    "    \n",
    "    # size\n",
    "    size = M[0, 0]\n",
    "    \n",
    "    # get centralized moments\n",
    "    mu = measure.moments_central(img, xm, ym)\n",
    "    muprime = mu / size\n",
    "    \n",
    "    # covariance matrix\n",
    "    cov = np.array([[muprime[2, 0], muprime[1, 1]], [muprime[1, 1], muprime[0, 2]]])\n",
    "    \n",
    "    # eigenvalues and eigenvectors\n",
    "    w, v = np.linalg.eig(cov)\n",
    "    \n",
    "    # orientation\n",
    "    if muprime[2, 0] != muprime[0, 2]:\n",
    "        theta = np.arctan2(2 * muprime[1, 1], muprime[2, 0] - muprime[0, 2]) / 2\n",
    "    else:\n",
    "        raise ValueError(\"Can't compute `theta` because mu'_20 == mu'_02\")\n",
    "        \n",
    "    # eccentricity\n",
    "    ecc = np.sqrt(1.0 - np.min(w) / np.max(w))\n",
    "    \n",
    "    return size, theta, ecc, v"
   ]
  },
  {
   "cell_type": "code",
   "execution_count": null,
   "metadata": {
    "collapsed": false
   },
   "outputs": [],
   "source": [
    "size, theta, ecc, v = calc_shape(img_th)\n",
    "print(\"size = %f\" % size)\n",
    "print(\"theta = %f\" % theta)\n",
    "print(\"ecc = %f\" % ecc)\n",
    "print(v)"
   ]
  },
  {
   "cell_type": "code",
   "execution_count": null,
   "metadata": {
    "collapsed": true
   },
   "outputs": [],
   "source": [
    "somedata = np.array([129.836695, 144.342894,\n",
    "126.156071, 138.710835,\n",
    "122.804838, 133.122378,\n",
    "119.412190, 127.832710,\n",
    "117.475217, 122.539631,\n",
    "115.467121, 117.961357,\n",
    "114.330993, 113.970480,\n",
    "113.820338, 110.484653,\n",
    "113.528555, 108.384540,\n",
    "113.926964, 106.748398,\n",
    "114.385891, 105.370056,\n",
    "115.476950, 103.793789,\n",
    "116.383220, 103.015024,\n",
    "117.791370, 102.769981,\n",
    "120.357624, 101.306517,\n",
    "123.237776, 100.613620,\n",
    "126.429082, 100.874999,\n",
    "129.685168, 102.217229,\n",
    "134.117523, 104.179212,\n",
    "138.621149, 106.748122,\n",
    "143.627730, 110.524278,\n",
    "147.927741, 115.296489,\n",
    "152.599995, 120.081304,\n",
    "157.359470, 125.534619,\n",
    "162.399389, 132.051766,\n",
    "167.566915, 138.203712,\n",
    "172.338287, 143.992906,\n",
    "176.444568, 149.587527,\n",
    "178.903415, 154.230750,\n",
    "180.097119, 158.289657,\n",
    "180.118137, 161.444815,\n",
    "178.902918, 163.912997,\n",
    "176.632936, 165.851070,\n",
    "172.841956, 166.827467,\n",
    "168.853294, 167.305117,\n",
    "163.419197, 166.481381,\n",
    "155.903542, 164.266705,\n",
    "149.340466, 160.596902,\n",
    "142.897711, 157.132908,\n",
    "138.089260, 154.115953,\n",
    "134.156597, 151.629067,\n",
    "132.266248, 150.549946]).reshape((-1, 2))"
   ]
  },
  {
   "cell_type": "code",
   "execution_count": null,
   "metadata": {
    "collapsed": false
   },
   "outputs": [],
   "source": [
    "for i in range(1, somedata.shape[0]):\n",
    "    plt.plot(somedata[i - 1:i + 1, 0], somedata[i-1:i+1:1, 1], 'k')\n",
    "plt.plot(somedata[[-1, 0], 0], somedata[[-1, 0], 1], 'k')\n",
    "plt.axis('equal')"
   ]
  },
  {
   "cell_type": "code",
   "execution_count": null,
   "metadata": {
    "collapsed": true
   },
   "outputs": [],
   "source": [
    "from skimage.draw import polygon"
   ]
  },
  {
   "cell_type": "code",
   "execution_count": null,
   "metadata": {
    "collapsed": false
   },
   "outputs": [],
   "source": [
    "rr, cc = polygon(somedata[:, 0] - np.min(somedata[:, 0]), somedata[:, 1] - np.min(somedata[:, 1]))\n",
    "img = np.zeros_like(img_th)\n",
    "img[rr, cc] = 1"
   ]
  },
  {
   "cell_type": "code",
   "execution_count": null,
   "metadata": {
    "collapsed": false
   },
   "outputs": [],
   "source": [
    "plt.imshow(np.fliplr(img), cmap='gray')"
   ]
  },
  {
   "cell_type": "code",
   "execution_count": null,
   "metadata": {
    "collapsed": false
   },
   "outputs": [],
   "source": [
    "size, theta, ecc, v = calc_shape(img_th)\n",
    "print(\"size = %f\" % size)\n",
    "print(\"theta = %f\" % theta)\n",
    "print(\"ecc = %f\" % ecc)\n",
    "print(v)"
   ]
  },
  {
   "cell_type": "code",
   "execution_count": null,
   "metadata": {
    "collapsed": true
   },
   "outputs": [],
   "source": []
  }
 ],
 "metadata": {
  "anaconda-cloud": {},
  "kernelspec": {
   "display_name": "Python [Root]",
   "language": "python",
   "name": "Python [Root]"
  },
  "language_info": {
   "codemirror_mode": {
    "name": "ipython",
    "version": 3
   },
   "file_extension": ".py",
   "mimetype": "text/x-python",
   "name": "python",
   "nbconvert_exporter": "python",
   "pygments_lexer": "ipython3",
   "version": "3.5.2"
  }
 },
 "nbformat": 4,
 "nbformat_minor": 0
}
