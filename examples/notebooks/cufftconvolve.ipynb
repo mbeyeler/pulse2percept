{
 "cells": [
  {
   "cell_type": "code",
   "execution_count": 1,
   "metadata": {
    "collapsed": false
   },
   "outputs": [],
   "source": [
    "import pycuda.autoinit\n",
    "import pycuda.driver as cuda\n",
    "import pycuda.gpuarray as gpuarray\n",
    "import skcuda.fft as cu_fft\n",
    "\n",
    "import numpy as np\n",
    "from scipy.signal import fftconvolve\n",
    "\n",
    "from pulse2percept import electrode2currentmap as e2cm\n",
    "\n",
    "import matplotlib.pyplot as plt\n",
    "%matplotlib inline"
   ]
  },
  {
   "cell_type": "code",
   "execution_count": 2,
   "metadata": {
    "collapsed": true
   },
   "outputs": [],
   "source": [
    "def cufftconvolve_naive(in1, in2):\n",
    "    # Determine the shape of the output signal\n",
    "    out_shape = in1.shape[-1] + in2.shape[-1] - 1\n",
    "\n",
    "    # Zero-pad both input signals\n",
    "    x1 = np.concatenate((in1, np.zeros(out_shape - in1.shape[-1])))\n",
    "    x2 = np.concatenate((in2, np.zeros(out_shape - in2.shape[-1])))\n",
    "\n",
    "    # Move both input signals to GPU memory\n",
    "    x1_gpu = gpuarray.to_gpu(x1.astype(np.float32))\n",
    "    x2_gpu = gpuarray.to_gpu(x2.astype(np.float32))\n",
    "\n",
    "    # Allocate N//2+1 non-redundant FFT coefficients\n",
    "    f1_gpu = gpuarray.empty(x1.shape[-1] // 2 + 1, np.complex64)\n",
    "    f2_gpu = gpuarray.empty(x2.shape[-1] // 2 + 1, np.complex64)\n",
    "\n",
    "    # Calculate N//2+1 non-redundant FFT coefficients\n",
    "    plan_fft = cu_fft.Plan(x1_gpu.shape, np.float32, np.complex64)\n",
    "    cu_fft.fft(x1_gpu, f1_gpu, plan_fft)\n",
    "    cu_fft.fft(x2_gpu, f2_gpu, plan_fft)\n",
    "    \n",
    "    # Normalize output product by np.sqrt(self.out_shape ** 2)\n",
    "    f1_gpu /= out_shape\n",
    "\n",
    "    # Allocate output signal\n",
    "    y_gpu = gpuarray.empty(out_shape, np.float32)\n",
    "    \n",
    "    # Calculate output signal\n",
    "    plan_ifft = cu_fft.Plan(out_shape, np.complex64, np.float32)\n",
    "    cu_fft.ifft(f1_gpu * f2_gpu, y_gpu, plan_ifft)\n",
    "    \n",
    "    return y_gpu.get()"
   ]
  },
  {
   "cell_type": "code",
   "execution_count": 3,
   "metadata": {
    "collapsed": false
   },
   "outputs": [],
   "source": [
    "class CuFFTConvolve:\n",
    "    def __init__(self, in1shape, in2shape):\n",
    "        self.in1shape = in1shape\n",
    "        self.in2shape = in2shape\n",
    "        self.out_shape = in1shape + in2shape - 1\n",
    "        \n",
    "        # Pre-allocate the zero-padding for the time-series of in1, in2\n",
    "        self.x1_gpu = gpuarray.zeros(self.out_shape, np.float32)\n",
    "        self.x2_gpu = gpuarray.zeros(self.out_shape, np.float32)\n",
    "        \n",
    "        # Pre-allocate N//2+1 non-redundant FFT coefficients\n",
    "        self.f1_gpu = gpuarray.empty(self.out_shape // 2 + 1, np.complex64)\n",
    "        self.f2_gpu = gpuarray.empty(self.out_shape // 2 + 1, np.complex64)\n",
    "\n",
    "        # Set up a plan for FFT and iFFT (takes time)\n",
    "        self.plan_fft = cu_fft.Plan(self.out_shape, np.float32, np.complex64)\n",
    "        self.plan_ifft = cu_fft.Plan(self.out_shape, np.complex64, np.float32)\n",
    "\n",
    "        # Pre-allocate zero-padded output array\n",
    "        self.y_gpu = gpuarray.empty(self.out_shape, np.float32)\n",
    "        \n",
    "    def cufftconvolve(self, in1, in2):\n",
    "        assert in1.shape[-1] == self.in1shape\n",
    "        assert in2.shape[-1] == self.in2shape\n",
    "\n",
    "        # Trick to minimize copying:\n",
    "        # Instead of zero-padding in1, in2 and then copying the two large arrays\n",
    "        # from host to device, merely copy in1, in2 into a much longer array of \n",
    "        # zeros that was pre-allocated.\n",
    "        # Since in1shape, in2shape do not change, we don't have to worry about\n",
    "        # artifacts from previous method calls.\n",
    "        cuda.memcpy_htod(self.x1_gpu.gpudata, in1.astype(np.float32))\n",
    "        cuda.memcpy_htod(self.x2_gpu.gpudata, in2.astype(np.float32))\n",
    "\n",
    "        # Calculate the N//2+1 non-redundant FFT coefficients\n",
    "        cu_fft.fft(self.x1_gpu, self.f1_gpu, self.plan_fft)\n",
    "        cu_fft.fft(self.x2_gpu, self.f2_gpu, self.plan_fft)\n",
    "        \n",
    "        # Normalize output product by np.sqrt(self.out_shape ** 2), then take iFFT.\n",
    "        self.f1_gpu /= self.out_shape\n",
    "        cu_fft.ifft(self.f1_gpu * self.f2_gpu, self.y_gpu, self.plan_ifft)\n",
    "\n",
    "        # get() transfers the array from the device back to the host\n",
    "        return self.y_gpu.get()"
   ]
  },
  {
   "cell_type": "code",
   "execution_count": 4,
   "metadata": {
    "collapsed": false
   },
   "outputs": [],
   "source": [
    "# Let's use some signals with lengths that are relevant to pulse2percept:\n",
    "dur_pt = 0.5                   # typical pulse train duration\n",
    "tsample = 5e-6                 # typical sampling step\n",
    "dur_gamma3 = 8 * 26.25 / 1000  # typical gamma3 duration\n",
    "x1 = np.random.rand(int(dur_pt / tsample))\n",
    "x2 = np.random.rand(int(dur_gamma3 / tsample))"
   ]
  },
  {
   "cell_type": "code",
   "execution_count": 5,
   "metadata": {
    "collapsed": false
   },
   "outputs": [
    {
     "data": {
      "text/plain": [
       "True"
      ]
     },
     "execution_count": 5,
     "metadata": {},
     "output_type": "execute_result"
    }
   ],
   "source": [
    "y_cpu = fftconvolve(x1, x2)\n",
    "y_gpu_naive = cufftconvolve_naive(x1, x2)\n",
    "np.allclose(y_cpu, y_gpu_naive, atol=1e-2)"
   ]
  },
  {
   "cell_type": "code",
   "execution_count": 6,
   "metadata": {
    "collapsed": false
   },
   "outputs": [
    {
     "data": {
      "text/plain": [
       "True"
      ]
     },
     "execution_count": 6,
     "metadata": {},
     "output_type": "execute_result"
    }
   ],
   "source": [
    "cu = CuFFTConvolve(x1.shape[-1], x2.shape[-1])\n",
    "y_gpu = cu.cufftconvolve(x1, x2)\n",
    "np.allclose(y_cpu, y_gpu, atol=1e-2)"
   ]
  },
  {
   "cell_type": "code",
   "execution_count": 7,
   "metadata": {
    "collapsed": false
   },
   "outputs": [
    {
     "name": "stdout",
     "output_type": "stream",
     "text": [
      "100 loops, best of 3: 7.65 ms per loop\n"
     ]
    }
   ],
   "source": [
    "%timeit fftconvolve(x1, x2)"
   ]
  },
  {
   "cell_type": "code",
   "execution_count": 8,
   "metadata": {
    "collapsed": false
   },
   "outputs": [
    {
     "name": "stdout",
     "output_type": "stream",
     "text": [
      "10 loops, best of 3: 22.6 ms per loop\n"
     ]
    }
   ],
   "source": [
    "%timeit cufftconvolve_naive(x1, x2)"
   ]
  },
  {
   "cell_type": "code",
   "execution_count": 9,
   "metadata": {
    "collapsed": false
   },
   "outputs": [
    {
     "name": "stdout",
     "output_type": "stream",
     "text": [
      "1000 loops, best of 3: 983 µs per loop\n"
     ]
    }
   ],
   "source": [
    "%timeit cu.cufftconvolve(x1, x2)"
   ]
  },
  {
   "cell_type": "code",
   "execution_count": null,
   "metadata": {
    "collapsed": true
   },
   "outputs": [],
   "source": []
  }
 ],
 "metadata": {
  "anaconda-cloud": {},
  "kernelspec": {
   "display_name": "Python [Root]",
   "language": "python",
   "name": "Python [Root]"
  },
  "language_info": {
   "codemirror_mode": {
    "name": "ipython",
    "version": 3
   },
   "file_extension": ".py",
   "mimetype": "text/x-python",
   "name": "python",
   "nbconvert_exporter": "python",
   "pygments_lexer": "ipython3",
   "version": "3.5.2"
  }
 },
 "nbformat": 4,
 "nbformat_minor": 0
}
