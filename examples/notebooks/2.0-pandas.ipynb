{
 "cells": [
  {
   "cell_type": "code",
   "execution_count": 18,
   "metadata": {
    "collapsed": true
   },
   "outputs": [],
   "source": [
    "import numpy as np\n",
    "import pandas\n",
    "from scipy.interpolate import interp1d\n",
    "\n",
    "import matplotlib.pyplot as plt\n",
    "%matplotlib inline\n",
    "plt.style.use('ggplot')"
   ]
  },
  {
   "cell_type": "code",
   "execution_count": 21,
   "metadata": {
    "collapsed": true
   },
   "outputs": [],
   "source": [
    "# Data extracted from Fig. 1\n",
    "cai2011 = dict()\n",
    "\n",
    "cai2011['100'] = np.array([0, 0, 0.46257, 0.00105, 0.97908, 0.13688, 1.92488, 1.00413,\n",
    "                           2.93725, 1.00626, 3.94948, 1.01050, 4.92435, 1.01255,\n",
    "                           5.93659, 1.01679, 6.92409, 1.01676, 7.94909, 1.01681]).reshape((-1, 2))\n",
    "cai2011['200'] = np.array([0, 0, 0.47507, 0.00108, 0.95816, 0.07157, 1.95514, 0.71998,\n",
    "                           2.93725, 1.00626, 3.93698, 1.01047, 4.92448, 1.01045,\n",
    "                           5.94922, 1.01471, 6.93646, 1.01889, 7.93672, 1.01468]).reshape((-1, 2))\n",
    "cai2011['300'] = np.array([0, 0, 0.47507, 0.00108, 0.99671, 0.05481, 1.95487, 0.52419,\n",
    "                           2.93225, 0.88625, 3.93856, 0.98521, 4.94948, 1.01050,\n",
    "                           5.93672, 1.01468, 6.93672, 1.01468, 7.94909, 1.01681]).reshape((-1, 2))"
   ]
  },
  {
   "cell_type": "code",
   "execution_count": 28,
   "metadata": {
    "collapsed": false
   },
   "outputs": [
    {
     "data": {
      "text/plain": [
       "<matplotlib.text.Text at 0x7f6f6ee75e48>"
      ]
     },
     "execution_count": 28,
     "metadata": {},
     "output_type": "execute_result"
    },
    {
     "data": {
      "image/png": "[encoded data removed]",
      "text/plain": [
       "<matplotlib.figure.Figure at 0x7f6f6ef02f98>"
      ]
     },
     "metadata": {},
     "output_type": "display_data"
    }
   ],
   "source": [
    "for cond in cai2011:\n",
    "    f = interp1d(cai2011[cond][:, 0], cai2011[cond][:, 1], fill_value='extrapolate')\n",
    "    x = np.linspace(0, 8, 50)\n",
    "    plt.plot(x, f(x), 'x', linewidth=3, label=cond)\n",
    "    plt.plot(cai2011[cond][:, 0], cai2011[cond][:, 1], 'o')\n",
    "plt.legend(loc='lower right')\n",
    "plt.xlabel('amplitude (x threshold)')\n",
    "plt.ylabel('normalized response')"
   ]
  },
  {
   "cell_type": "code",
   "execution_count": 51,
   "metadata": {
    "collapsed": false
   },
   "outputs": [],
   "source": [
    "dtype = []\n",
    "values = []\n",
    "for cond in ['100', '200', '300']:\n",
    "    # x values\n",
    "    x = np.array(cai2011[cond][:, 0], dtype=[('amp-' + cond, 'float32')])\n",
    "    values.append(x)\n",
    "    \n",
    "    # y values\n",
    "    y = np.array(cai2011[cond][:, 1], dtype=[('resp-' + cond, 'float32')])\n",
    "    values.append(y)"
   ]
  },
  {
   "cell_type": "code",
   "execution_count": 52,
   "metadata": {
    "collapsed": false
   },
   "outputs": [],
   "source": [
    "values = np.array(values, dtype=dtype)"
   ]
  },
  {
   "cell_type": "code",
   "execution_count": 53,
   "metadata": {
    "collapsed": false
   },
   "outputs": [],
   "source": [
    "df = pandas.DataFrame(values)"
   ]
  },
  {
   "cell_type": "code",
   "execution_count": 40,
   "metadata": {
    "collapsed": false
   },
   "outputs": [
    {
     "data": {
      "text/html": [
       "<div>\n",
       "<table border=\"1\" class=\"dataframe\">\n",
       "  <thead>\n",
       "    <tr style=\"text-align: right;\">\n",
       "      <th></th>\n",
       "      <th>0</th>\n",
       "      <th>1</th>\n",
       "      <th>2</th>\n",
       "      <th>3</th>\n",
       "      <th>4</th>\n",
       "      <th>5</th>\n",
       "      <th>6</th>\n",
       "      <th>7</th>\n",
       "      <th>8</th>\n",
       "      <th>9</th>\n",
       "    </tr>\n",
       "  </thead>\n",
       "  <tbody>\n",
       "    <tr>\n",
       "      <th>0</th>\n",
       "      <td>[0.0]</td>\n",
       "      <td>[0.46257]</td>\n",
       "      <td>[0.97908]</td>\n",
       "      <td>[1.92488]</td>\n",
       "      <td>[2.93725]</td>\n",
       "      <td>[3.94948]</td>\n",
       "      <td>[4.92435]</td>\n",
       "      <td>[5.93659]</td>\n",
       "      <td>[6.92409]</td>\n",
       "      <td>[7.94909]</td>\n",
       "    </tr>\n",
       "    <tr>\n",
       "      <th>1</th>\n",
       "      <td>[0.0]</td>\n",
       "      <td>[0.00105]</td>\n",
       "      <td>[0.13688]</td>\n",
       "      <td>[1.00413]</td>\n",
       "      <td>[1.00626]</td>\n",
       "      <td>[1.0105]</td>\n",
       "      <td>[1.01255]</td>\n",
       "      <td>[1.01679]</td>\n",
       "      <td>[1.01676]</td>\n",
       "      <td>[1.01681]</td>\n",
       "    </tr>\n",
       "    <tr>\n",
       "      <th>2</th>\n",
       "      <td>[0.0]</td>\n",
       "      <td>[0.47507]</td>\n",
       "      <td>[0.95816]</td>\n",
       "      <td>[1.95514]</td>\n",
       "      <td>[2.93725]</td>\n",
       "      <td>[3.93698]</td>\n",
       "      <td>[4.92448]</td>\n",
       "      <td>[5.94922]</td>\n",
       "      <td>[6.93646]</td>\n",
       "      <td>[7.93672]</td>\n",
       "    </tr>\n",
       "    <tr>\n",
       "      <th>3</th>\n",
       "      <td>[0.0]</td>\n",
       "      <td>[0.00108]</td>\n",
       "      <td>[0.07157]</td>\n",
       "      <td>[0.71998]</td>\n",
       "      <td>[1.00626]</td>\n",
       "      <td>[1.01047]</td>\n",
       "      <td>[1.01045]</td>\n",
       "      <td>[1.01471]</td>\n",
       "      <td>[1.01889]</td>\n",
       "      <td>[1.01468]</td>\n",
       "    </tr>\n",
       "    <tr>\n",
       "      <th>4</th>\n",
       "      <td>[0.0]</td>\n",
       "      <td>[0.47507]</td>\n",
       "      <td>[0.99671]</td>\n",
       "      <td>[1.95487]</td>\n",
       "      <td>[2.93225]</td>\n",
       "      <td>[3.93856]</td>\n",
       "      <td>[4.94948]</td>\n",
       "      <td>[5.93672]</td>\n",
       "      <td>[6.93672]</td>\n",
       "      <td>[7.94909]</td>\n",
       "    </tr>\n",
       "    <tr>\n",
       "      <th>5</th>\n",
       "      <td>[0.0]</td>\n",
       "      <td>[0.00108]</td>\n",
       "      <td>[0.05481]</td>\n",
       "      <td>[0.52419]</td>\n",
       "      <td>[0.88625]</td>\n",
       "      <td>[0.98521]</td>\n",
       "      <td>[1.0105]</td>\n",
       "      <td>[1.01468]</td>\n",
       "      <td>[1.01468]</td>\n",
       "      <td>[1.01681]</td>\n",
       "    </tr>\n",
       "  </tbody>\n",
       "</table>\n",
       "</div>"
      ],
      "text/plain": [
       "       0          1          2          3          4          5          6  \\\n",
       "0  [0.0]  [0.46257]  [0.97908]  [1.92488]  [2.93725]  [3.94948]  [4.92435]   \n",
       "1  [0.0]  [0.00105]  [0.13688]  [1.00413]  [1.00626]   [1.0105]  [1.01255]   \n",
       "2  [0.0]  [0.47507]  [0.95816]  [1.95514]  [2.93725]  [3.93698]  [4.92448]   \n",
       "3  [0.0]  [0.00108]  [0.07157]  [0.71998]  [1.00626]  [1.01047]  [1.01045]   \n",
       "4  [0.0]  [0.47507]  [0.99671]  [1.95487]  [2.93225]  [3.93856]  [4.94948]   \n",
       "5  [0.0]  [0.00108]  [0.05481]  [0.52419]  [0.88625]  [0.98521]   [1.0105]   \n",
       "\n",
       "           7          8          9  \n",
       "0  [5.93659]  [6.92409]  [7.94909]  \n",
       "1  [1.01679]  [1.01676]  [1.01681]  \n",
       "2  [5.94922]  [6.93646]  [7.93672]  \n",
       "3  [1.01471]  [1.01889]  [1.01468]  \n",
       "4  [5.93672]  [6.93672]  [7.94909]  \n",
       "5  [1.01468]  [1.01468]  [1.01681]  "
      ]
     },
     "execution_count": 40,
     "metadata": {},
     "output_type": "execute_result"
    }
   ],
   "source": [
    "df"
   ]
  },
  {
   "cell_type": "code",
   "execution_count": 29,
   "metadata": {
    "collapsed": true
   },
   "outputs": [],
   "source": [
    "dtype = [('amplitude', 'float32'), ('freq-100', 'float32'), ('freq-200', 'float32'), ('freq-200'), 'float32']"
   ]
  },
  {
   "cell_type": "code",
   "execution_count": 30,
   "metadata": {
    "collapsed": true
   },
   "outputs": [],
   "source": [
    "ampl = np.linspace(0, 8, 50, dtype=np.float32)\n",
    "for cond in ['100', '200', '300']:\n",
    "    f = interp1d()"
   ]
  },
  {
   "cell_type": "code",
   "execution_count": 10,
   "metadata": {
    "collapsed": false
   },
   "outputs": [],
   "source": [
    "dtype = [('Col1','int32'), ('Col2','float32'), ('Col3','float32')]\n",
    "values = np.zeros(20, dtype=dtype)\n",
    "index = ['Row'+str(i) for i in np.arange(1, len(values)+1)]\n",
    "\n",
    "df = pandas.DataFrame(values)"
   ]
  },
  {
   "cell_type": "code",
   "execution_count": 23,
   "metadata": {
    "collapsed": false
   },
   "outputs": [
    {
     "data": {
      "text/plain": [
       "Index(['Col1', 'Col2', 'Col3'], dtype='object')"
      ]
     },
     "execution_count": 23,
     "metadata": {},
     "output_type": "execute_result"
    }
   ],
   "source": [
    "df.columns"
   ]
  },
  {
   "cell_type": "code",
   "execution_count": 12,
   "metadata": {
    "collapsed": false
   },
   "outputs": [],
   "source": [
    "df.to_csv('test.csv')"
   ]
  },
  {
   "cell_type": "code",
   "execution_count": 13,
   "metadata": {
    "collapsed": true
   },
   "outputs": [],
   "source": [
    "df2 = pandas.DataFrame.from_csv('test.csv')"
   ]
  },
  {
   "cell_type": "code",
   "execution_count": 14,
   "metadata": {
    "collapsed": false
   },
   "outputs": [
    {
     "data": {
      "text/html": [
       "<div>\n",
       "<table border=\"1\" class=\"dataframe\">\n",
       "  <thead>\n",
       "    <tr style=\"text-align: right;\">\n",
       "      <th></th>\n",
       "      <th>Col1</th>\n",
       "      <th>Col2</th>\n",
       "      <th>Col3</th>\n",
       "    </tr>\n",
       "  </thead>\n",
       "  <tbody>\n",
       "    <tr>\n",
       "      <th>0</th>\n",
       "      <td>0</td>\n",
       "      <td>0.0</td>\n",
       "      <td>0.0</td>\n",
       "    </tr>\n",
       "    <tr>\n",
       "      <th>1</th>\n",
       "      <td>0</td>\n",
       "      <td>0.0</td>\n",
       "      <td>0.0</td>\n",
       "    </tr>\n",
       "    <tr>\n",
       "      <th>2</th>\n",
       "      <td>0</td>\n",
       "      <td>0.0</td>\n",
       "      <td>0.0</td>\n",
       "    </tr>\n",
       "    <tr>\n",
       "      <th>3</th>\n",
       "      <td>0</td>\n",
       "      <td>0.0</td>\n",
       "      <td>0.0</td>\n",
       "    </tr>\n",
       "    <tr>\n",
       "      <th>4</th>\n",
       "      <td>0</td>\n",
       "      <td>0.0</td>\n",
       "      <td>0.0</td>\n",
       "    </tr>\n",
       "    <tr>\n",
       "      <th>5</th>\n",
       "      <td>0</td>\n",
       "      <td>0.0</td>\n",
       "      <td>0.0</td>\n",
       "    </tr>\n",
       "    <tr>\n",
       "      <th>6</th>\n",
       "      <td>0</td>\n",
       "      <td>0.0</td>\n",
       "      <td>0.0</td>\n",
       "    </tr>\n",
       "    <tr>\n",
       "      <th>7</th>\n",
       "      <td>0</td>\n",
       "      <td>0.0</td>\n",
       "      <td>0.0</td>\n",
       "    </tr>\n",
       "    <tr>\n",
       "      <th>8</th>\n",
       "      <td>0</td>\n",
       "      <td>0.0</td>\n",
       "      <td>0.0</td>\n",
       "    </tr>\n",
       "    <tr>\n",
       "      <th>9</th>\n",
       "      <td>0</td>\n",
       "      <td>0.0</td>\n",
       "      <td>0.0</td>\n",
       "    </tr>\n",
       "    <tr>\n",
       "      <th>10</th>\n",
       "      <td>0</td>\n",
       "      <td>0.0</td>\n",
       "      <td>0.0</td>\n",
       "    </tr>\n",
       "    <tr>\n",
       "      <th>11</th>\n",
       "      <td>0</td>\n",
       "      <td>0.0</td>\n",
       "      <td>0.0</td>\n",
       "    </tr>\n",
       "    <tr>\n",
       "      <th>12</th>\n",
       "      <td>0</td>\n",
       "      <td>0.0</td>\n",
       "      <td>0.0</td>\n",
       "    </tr>\n",
       "    <tr>\n",
       "      <th>13</th>\n",
       "      <td>0</td>\n",
       "      <td>0.0</td>\n",
       "      <td>0.0</td>\n",
       "    </tr>\n",
       "    <tr>\n",
       "      <th>14</th>\n",
       "      <td>0</td>\n",
       "      <td>0.0</td>\n",
       "      <td>0.0</td>\n",
       "    </tr>\n",
       "    <tr>\n",
       "      <th>15</th>\n",
       "      <td>0</td>\n",
       "      <td>0.0</td>\n",
       "      <td>0.0</td>\n",
       "    </tr>\n",
       "    <tr>\n",
       "      <th>16</th>\n",
       "      <td>0</td>\n",
       "      <td>0.0</td>\n",
       "      <td>0.0</td>\n",
       "    </tr>\n",
       "    <tr>\n",
       "      <th>17</th>\n",
       "      <td>0</td>\n",
       "      <td>0.0</td>\n",
       "      <td>0.0</td>\n",
       "    </tr>\n",
       "    <tr>\n",
       "      <th>18</th>\n",
       "      <td>0</td>\n",
       "      <td>0.0</td>\n",
       "      <td>0.0</td>\n",
       "    </tr>\n",
       "    <tr>\n",
       "      <th>19</th>\n",
       "      <td>0</td>\n",
       "      <td>0.0</td>\n",
       "      <td>0.0</td>\n",
       "    </tr>\n",
       "  </tbody>\n",
       "</table>\n",
       "</div>"
      ],
      "text/plain": [
       "    Col1  Col2  Col3\n",
       "0      0   0.0   0.0\n",
       "1      0   0.0   0.0\n",
       "2      0   0.0   0.0\n",
       "3      0   0.0   0.0\n",
       "4      0   0.0   0.0\n",
       "5      0   0.0   0.0\n",
       "6      0   0.0   0.0\n",
       "7      0   0.0   0.0\n",
       "8      0   0.0   0.0\n",
       "9      0   0.0   0.0\n",
       "10     0   0.0   0.0\n",
       "11     0   0.0   0.0\n",
       "12     0   0.0   0.0\n",
       "13     0   0.0   0.0\n",
       "14     0   0.0   0.0\n",
       "15     0   0.0   0.0\n",
       "16     0   0.0   0.0\n",
       "17     0   0.0   0.0\n",
       "18     0   0.0   0.0\n",
       "19     0   0.0   0.0"
      ]
     },
     "execution_count": 14,
     "metadata": {},
     "output_type": "execute_result"
    }
   ],
   "source": [
    "df2"
   ]
  },
  {
   "cell_type": "code",
   "execution_count": null,
   "metadata": {
    "collapsed": true
   },
   "outputs": [],
   "source": []
  }
 ],
 "metadata": {
  "kernelspec": {
   "display_name": "Python [Root]",
   "language": "python",
   "name": "Python [Root]"
  },
  "language_info": {
   "codemirror_mode": {
    "name": "ipython",
    "version": 3
   },
   "file_extension": ".py",
   "mimetype": "text/x-python",
   "name": "python",
   "nbconvert_exporter": "python",
   "pygments_lexer": "ipython3",
   "version": "3.5.2"
  }
 },
 "nbformat": 4,
 "nbformat_minor": 2
}
