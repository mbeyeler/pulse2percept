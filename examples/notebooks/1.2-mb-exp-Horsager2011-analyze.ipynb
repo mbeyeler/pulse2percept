{
 "cells": [
  {
   "cell_type": "code",
   "execution_count": 1,
   "metadata": {
    "collapsed": true
   },
   "outputs": [],
   "source": [
    "import numpy as np\n",
    "from scipy.interpolate import interp1d\n",
    "\n",
    "from pulse2percept import electrode2currentmap as e2cm\n",
    "from pulse2percept import effectivecurrent2brightness as ec2b\n",
    "from pulse2percept.utils import TimeSeries\n",
    "\n",
    "import matplotlib.pyplot as plt\n",
    "%matplotlib inline"
   ]
  },
  {
   "cell_type": "code",
   "execution_count": 2,
   "metadata": {
    "collapsed": true
   },
   "outputs": [],
   "source": [
    "def fit_amps(x, y, match_y):\n",
    "    # We are given a list of input values `x` and their corresponding output values\n",
    "    # `y` = f(x). We want to find the `x` value for which f(x) = `match_y`.\n",
    "    \n",
    "    # Easiest way is to use interp1d as x = f(y)!\n",
    "    f = interp1d(y, x, fill_value='extrapolate')\n",
    "    return f(match_y)"
   ]
  },
  {
   "cell_type": "code",
   "execution_count": 3,
   "metadata": {
    "collapsed": true
   },
   "outputs": [],
   "source": [
    "def fit_gamma(x, y):\n",
    "    # for all points (x,y), calculate r and compare to predicted\n",
    "    best_err = np.inf\n",
    "    best_gamma = 0\n",
    "    for gamma in np.linspace(-2, 3, 100):\n",
    "        err = np.sum(np.abs( np.sqrt(x**2 + y**2 + gamma * x * y) - 1))\n",
    "        if err < best_err:\n",
    "            best_err = err\n",
    "            best_gamma = gamma\n",
    "    return best_gamma"
   ]
  },
  {
   "cell_type": "code",
   "execution_count": 4,
   "metadata": {
    "collapsed": true
   },
   "outputs": [],
   "source": [
    "def movie2bright(pt, mode='softmax'):\n",
    "    if mode == 'max':\n",
    "        return pt.max()\n",
    "    elif mode == 'softmax':\n",
    "        # frame-wise softmax\n",
    "        return (np.exp(pt) / np.exp(pt).sum(axis=(0,1))).max(axis=(0,1)).max()\n",
    "    elif mode == 'mean':\n",
    "        # frame-wise mean\n",
    "        return pt.mean(axis=(0,1)).max()\n",
    "    else:\n",
    "        raise ValueError('Unknown mode \"' + mode + '\"')"
   ]
  },
  {
   "cell_type": "code",
   "execution_count": 5,
   "metadata": {
    "collapsed": false
   },
   "outputs": [],
   "source": [
    "def get_isobrightness(data, exp_params, mode='max'):\n",
    "    # This is the reference current that produces the reference brightness\n",
    "    # we are trying to match\n",
    "    amp_ref = exp_params['amp_ref']\n",
    "    \n",
    "    # Find reference brightness from single-electrode conditions\n",
    "    # Condition 1\n",
    "    x1 = data['cond1']['amp_E1']\n",
    "    y1 = [movie2bright(f.data, mode) for f in data['cond1']['frames']]\n",
    "    match_b1 = fit_amps(y1, x1, amp_ref)  # switch x1, y1\n",
    "    \n",
    "    # Condition 2\n",
    "    x2 = data['cond2']['amp_E2']\n",
    "    y2 = [movie2bright(f.data, mode) for f in data['cond2']['frames']]\n",
    "    match_b2 = fit_amps(y2, x2, amp_ref)  # switch x1, y1\n",
    "    \n",
    "    gamma = []\n",
    "    amp1 = []\n",
    "    amp2 = []\n",
    "    # For all other delays, compare delayed-pulse responses to match_b1 and match_b2\n",
    "    for d in np.unique(data['cond3']['delay']):\n",
    "        # indices where delay is d\n",
    "        idx = np.where(data['cond3']['delay'] == d)[0]\n",
    "        idx_start = idx[0]\n",
    "        idx_end = idx[-1] + 1\n",
    "\n",
    "        # From Condition 2 above\n",
    "        plot_amp1 = [0]\n",
    "        plot_amp2 = [1]\n",
    "\n",
    "        # Condition 3\n",
    "        x3 = data['cond3']['amp_E2'][idx_start:idx_end]\n",
    "        y3 = [movie2bright(f.data, mode) for f in data['cond3']['frames'][idx_start:idx_end]]\n",
    "        amp_b3 = fit_amps(x3, y3, match_b2)\n",
    "        plot_amp1.append(data['cond3']['amp_E1'][2] / amp_ref)\n",
    "        plot_amp2.append(amp_b3 / amp_ref)\n",
    "\n",
    "        # Condition 5\n",
    "        x5 = data['cond5']['amp_E1'][idx_start:idx_end]\n",
    "        y5 = [movie2bright(f.data, mode) for f in data['cond5']['frames'][idx_start:idx_end]]\n",
    "        amp_b5 = fit_amps(x5, y5, match_b1)\n",
    "        plot_amp1.append(amp_b5 / amp_ref)\n",
    "        x5 = data['cond5']['amp_E2'][idx_start:idx_end]\n",
    "        y5 = [movie2bright(f.data, mode) for f in data['cond5']['frames'][idx_start:idx_end]]\n",
    "        amp_b5 = fit_amps(x5, y5, match_b2)\n",
    "        plot_amp2.append(amp_b5 / amp_ref)\n",
    "\n",
    "        # Condition 4\n",
    "        x4 = data['cond4']['amp_E1'][idx_start:idx_end]\n",
    "        y4 = [movie2bright(f.data, mode) for f in data['cond4']['frames'][idx_start:idx_end]]\n",
    "        amp_b4 = fit_amps(x4, y4, match_b1)\n",
    "        plot_amp1.append(amp_b4 / amp_ref)\n",
    "        plot_amp2.append(data['cond4']['amp_E2'][3] / amp_ref)\n",
    "\n",
    "        # From Condition 1 above\n",
    "        plot_amp1.append(1)\n",
    "        plot_amp2.append(0)\n",
    "        \n",
    "        gamma.append(fit_gamma(np.array(plot_amp1), np.array(plot_amp2)))        \n",
    "        amp1.append(plot_amp1)\n",
    "        amp2.append(plot_amp2)\n",
    "        \n",
    "    return (amp1, amp2, gamma)"
   ]
  },
  {
   "cell_type": "code",
   "execution_count": 39,
   "metadata": {
    "collapsed": true
   },
   "outputs": [],
   "source": [
    "def plot_isobrightness(amp_E1, amp_E2, gamma, delay, exp_params, save_fig=True):\n",
    "    pair = '(%s, %s)' % (exp_params['name_E1'], exp_params['name_E2'])\n",
    "    plt.close()\n",
    "    \n",
    "    plt.plot(np.array(amp_E1).T, np.array(amp_E2).T, 'o-', label=0, linewidth=2)\n",
    "    plt.plot([1, 0], [0, 1], '--')\n",
    "    plt.xlabel('E1')\n",
    "    plt.ylabel('E2')\n",
    "    plt.legend(loc='upper right')\n",
    "    plt.title(pair)\n",
    "    plt.axis('equal')\n",
    "    plt.legend(delay * 1000)\n",
    "\n",
    "    # These are in unitless percentages of the figure size. (0,0 is bottom left)\n",
    "    left, bottom, width, height = [0.2, 0.2, 0.25, 0.25]\n",
    "    ax2 = plt.axes([left, bottom, width, height])\n",
    "    ax2.plot(gamma, 'o-k')\n",
    "    ax2.plot([0, len(delay) - 1], [0, 0], ':k')\n",
    "    ax2.plot([0, len(delay) - 1], [1, 1], ':k')\n",
    "    plt.xticks(range(len(delay)), delay * 1000)\n",
    "    plt.yticks([-1, 0, 1, 2])\n",
    "    plt.ylim(-1, 2)\n",
    "    \n",
    "    if save_fig:\n",
    "        filename = '%s%s_%s_%s_%s_%.1fX_iso_%s.jpg' % (exp_params['save_dir'], \n",
    "                                                         exp_params['name'], \n",
    "                                                         exp_params['name_E1'], \n",
    "                                                         exp_params['name_E2'], \n",
    "                                                         exp_params['date'], \n",
    "                                                         exp_params['fac_thresh'],\n",
    "                                                         mode)\n",
    "        plt.savefig(filename)\n",
    "        print('Saved figure to %s' % filename)"
   ]
  },
  {
   "cell_type": "code",
   "execution_count": 36,
   "metadata": {
    "collapsed": false
   },
   "outputs": [],
   "source": [
    "def plot_gamma(all_gamma, delay, mode, prefix='', save_fig=True):\n",
    "    plt.hist(np.array(all_gamma), stacked=True, label=delay * 1000, range=(-2, 3))\n",
    "    plt.xlabel('gamma')\n",
    "    plt.ylabel('count')\n",
    "    plt.legend()\n",
    "    plt.title('movie2brightness: ' + mode)\n",
    "    if save_fig:\n",
    "        filename = '%s%s%s_%s_%.1fX_gamma_%s.jpg' % (exp_params['save_dir'], \n",
    "                                                     prefix,\n",
    "                                                     exp_params['name'],\n",
    "                                                     exp_params['date'], \n",
    "                                                     exp_params['fac_thresh'],\n",
    "                                                     mode)\n",
    "        plt.savefig(filename)\n",
    "        print('Saved figure to %s' % filename)"
   ]
  },
  {
   "cell_type": "code",
   "execution_count": 55,
   "metadata": {
    "collapsed": false
   },
   "outputs": [
    {
     "name": "stdout",
     "output_type": "stream",
     "text": [
      "Loading file data/nanduri_2016-10-01_1.5X/nanduri_E2_E3_2016-10-01_1.5X.npz\n",
      "Saved figure to data/new_C1_D1_2016-10-01_1.5X_iso_softmax.jpg\n",
      "Loading file data/nanduri_2016-10-01_1.5X/nanduri_E0_E4_2016-10-01_1.5X.npz\n",
      "Saved figure to data/new_A1_A2_2016-10-01_1.5X_iso_softmax.jpg\n",
      "Loading file data/nanduri_2016-10-01_1.5X/nanduri_E10_E6_2016-10-01_1.5X.npz\n",
      "Saved figure to data/new_C3_C2_2016-10-01_1.5X_iso_softmax.jpg\n",
      "Loading file data/nanduri_2016-10-01_1.5X/nanduri_E2_E1_2016-10-01_1.5X.npz\n",
      "Saved figure to data/nanduri_C1_B1_2016-10-07_1.5X_iso_softmax.jpg\n",
      "Loading file data/nanduri_2016-10-01_1.5X/nanduri_E10_E5_2016-10-01_1.5X.npz\n",
      "Saved figure to data/new_C3_B2_2016-10-01_1.5X_iso_softmax.jpg\n",
      "Loading file data/nanduri_2016-10-01_1.5X/nanduri_E6_E5_2016-10-01_1.5X.npz\n",
      "Saved figure to data/nanduri_C2_B2_2016-10-07_1.5X_iso_softmax.jpg\n",
      "Loading file data/nanduri_2016-10-01_1.5X/nanduri_E9_E5_2016-10-01_1.5X.npz\n",
      "Saved figure to data/nanduri_B3_B2_2016-10-07_1.5X_iso_softmax.jpg\n",
      "Loading file data/nanduri_2016-10-01_1.5X/nanduri_E12_E13_2016-10-01_1.5X.npz\n",
      "Saved figure to data/nanduri_A4_B4_2016-10-07_1.5X_iso_softmax.jpg\n"
     ]
    },
    {
     "data": {
      "image/png": "[encoded data removed]",
      "text/plain": [
       "<matplotlib.figure.Figure at 0x7f95ca12acf8>"
      ]
     },
     "metadata": {},
     "output_type": "display_data"
    }
   ],
   "source": [
    "# how to get brightness from pulse train\n",
    "# {'max', 'softmax', 'mean'}\n",
    "mode = 'softmax'\n",
    "\n",
    "prefix = 'data/nanduri_2016-10-01_1.5X/nanduri_'\n",
    "suffix = '2016-10-01_1.5X.npz'\n",
    "\n",
    "# all pairs that are 800um away\n",
    "idx_E1 = [2, 0, 10, 2, 10, 6, 9, 12]\n",
    "idx_E2 = [3, 4,  6, 1,  5, 5, 5, 13]\n",
    "\n",
    "all_amp1 = []\n",
    "all_amp2 = []\n",
    "all_gamma = []\n",
    "for E1, E2 in zip(idx_E1, idx_E2):\n",
    "    # Load data from file\n",
    "    filename = '%sE%d_E%d_%s' % (prefix, E1, E2, suffix)\n",
    "    print('Loading file ' + filename)\n",
    "    exp_data = np.load(filename)\n",
    "    data = exp_data['data'][()]\n",
    "    exp_params = exp_data['exp_params'][()]\n",
    "    \n",
    "    # calculate isobrightness curve\n",
    "    amp1, amp2, gamma = get_isobrightness(data, exp_params, mode=mode)\n",
    "    all_amp1.append(amp1)\n",
    "    all_amp2.append(amp2)\n",
    "    all_gamma.append(gamma)\n",
    "    \n",
    "    # find delays from file specs\n",
    "    delay = np.unique(data['cond3']['delay'])\n",
    "    plot_isobrightness(amp1, amp2, gamma, delay, exp_params)"
   ]
  },
  {
   "cell_type": "code",
   "execution_count": 56,
   "metadata": {
    "collapsed": false
   },
   "outputs": [
    {
     "name": "stdout",
     "output_type": "stream",
     "text": [
      "[[ 1.83838384  0.67676768  0.27272727  0.52525253]\n",
      " [ 1.83838384  0.67676768  0.22222222  0.42424242]\n",
      " [ 1.23232323  0.47474747  0.27272727  0.52525253]\n",
      " [ 1.23232323  0.47474747  0.17171717  0.52525253]\n",
      " [ 1.23232323  0.47474747  0.22222222  0.52525253]\n",
      " [ 1.23232323  0.47474747  0.22222222  0.52525253]\n",
      " [ 1.78787879  0.67676768  0.27272727  0.52525253]]\n",
      "[[ 1.83838384  0.67676768  0.27272727  0.52525253]\n",
      " [ 1.83838384  0.67676768  0.22222222  0.42424242]\n",
      " [ 1.23232323  0.47474747  0.27272727  0.52525253]\n",
      " [ 1.23232323  0.47474747  0.17171717  0.52525253]\n",
      " [ 0.12121212 -0.73737374 -0.98989899 -0.98989899]\n",
      " [ 1.23232323  0.47474747  0.22222222  0.52525253]\n",
      " [ 1.23232323  0.47474747  0.22222222  0.52525253]\n",
      " [ 1.78787879  0.67676768  0.27272727  0.52525253]]\n"
     ]
    }
   ],
   "source": [
    "g = all_gamma\n",
    "g = np.delete(g, 4, axis=0)\n",
    "print(g)\n",
    "print(np.array(all_gamma))"
   ]
  },
  {
   "cell_type": "code",
   "execution_count": 57,
   "metadata": {
    "collapsed": false
   },
   "outputs": [
    {
     "name": "stdout",
     "output_type": "stream",
     "text": [
      "Saved figure to data/800um_nanduri_2016-10-07_1.5X_gamma_softmax.jpg\n"
     ]
    },
    {
     "data": {
      "image/png": "[encoded data removed]",
      "text/plain": [
       "<matplotlib.figure.Figure at 0x7f95caa03fd0>"
      ]
     },
     "metadata": {},
     "output_type": "display_data"
    }
   ],
   "source": [
    "plot_gamma(g, delay, mode, prefix='800um_')"
   ]
  },
  {
   "cell_type": "code",
   "execution_count": 58,
   "metadata": {
    "collapsed": false
   },
   "outputs": [
    {
     "name": "stdout",
     "output_type": "stream",
     "text": [
      "Loading file data/nanduri_2016-10-01_1.5X/nanduri_E5_E13_2016-10-01_1.5X.npz\n",
      "Saved figure to data/new_B2_B4_2016-10-01_1.5X_iso_max.jpg\n",
      "Loading file data/nanduri_2016-10-01_1.5X/nanduri_E4_E6_2016-10-01_1.5X.npz\n",
      "Saved figure to data/nanduri_A2_C2_2016-10-07_1.5X_iso_max.jpg\n",
      "Loading file data/nanduri_2016-10-01_1.5X/nanduri_E9_E1_2016-10-01_1.5X.npz\n",
      "Saved figure to data/nanduri_B3_B1_2016-10-07_1.5X_iso_max.jpg\n",
      "Loading file data/nanduri_2016-10-01_1.5X/nanduri_E0_E2_2016-10-01_1.5X.npz\n",
      "Saved figure to data/nanduri_A1_C1_2016-10-07_1.5X_iso_max.jpg\n",
      "Loading file data/nanduri_2016-10-01_1.5X/nanduri_E0_E12_2016-10-01_1.5X.npz\n",
      "Saved figure to data/nanduri_A1_A4_2016-10-07_1.5X_iso_max.jpg\n",
      "Loading file data/nanduri_2016-10-01_1.5X/nanduri_E14_E2_2016-10-01_1.5X.npz\n",
      "Saved figure to data/nanduri_C4_C1_2016-10-08_1.5X_iso_max.jpg\n"
     ]
    },
    {
     "data": {
      "image/png": "[encoded data removed]",
      "text/plain": [
       "<matplotlib.figure.Figure at 0x7f95ca1eb390>"
      ]
     },
     "metadata": {},
     "output_type": "display_data"
    }
   ],
   "source": [
    "# how to get brightness from pulse train\n",
    "# {'max', 'softmax', 'mean'}\n",
    "mode = 'max'\n",
    "\n",
    "prefix = 'data/nanduri_2016-10-01_1.5X/nanduri_'\n",
    "suffix = '2016-10-01_1.5X.npz'\n",
    "\n",
    "# all pairs that are > 800um away\n",
    "idx_E1 = [ 5, 4, 9, 0,  0, 14]\n",
    "idx_E2 = [13, 6, 1, 2, 12,  2]\n",
    "\n",
    "all_amp1 = []\n",
    "all_amp2 = []\n",
    "all_gamma = []\n",
    "for E1, E2 in zip(idx_E1, idx_E2):\n",
    "    # Load data from file\n",
    "    filename = '%sE%d_E%d_%s' % (prefix, E1, E2, suffix)\n",
    "    print('Loading file ' + filename)\n",
    "    exp_data = np.load(filename)\n",
    "    data = exp_data['data'][()]\n",
    "    exp_params = exp_data['exp_params'][()]\n",
    "    \n",
    "    # calculate isobrightness curve\n",
    "    amp1, amp2, gamma = get_isobrightness(data, exp_params, mode=mode)\n",
    "    all_amp1.append(amp1)\n",
    "    all_amp2.append(amp2)\n",
    "    all_gamma.append(gamma)\n",
    "    \n",
    "    # find delays from file specs\n",
    "    delay = np.unique(data['cond3']['delay'])\n",
    "    plot_isobrightness(amp1, amp2, gamma, delay, exp_params)"
   ]
  },
  {
   "cell_type": "code",
   "execution_count": 59,
   "metadata": {
    "collapsed": false
   },
   "outputs": [
    {
     "name": "stdout",
     "output_type": "stream",
     "text": [
      "Saved figure to data/1600um_nanduri_2016-10-08_1.5X_gamma_max.jpg\n"
     ]
    },
    {
     "data": {
      "image/png": "[encoded data removed]",
      "text/plain": [
       "<matplotlib.figure.Figure at 0x7f95ca674c50>"
      ]
     },
     "metadata": {},
     "output_type": "display_data"
    }
   ],
   "source": [
    "plot_gamma(all_gamma, delay, mode, prefix='1600um_')"
   ]
  },
  {
   "cell_type": "code",
   "execution_count": null,
   "metadata": {
    "collapsed": true
   },
   "outputs": [],
   "source": []
  }
 ],
 "metadata": {
  "anaconda-cloud": {},
  "kernelspec": {
   "display_name": "Python [Root]",
   "language": "python",
   "name": "Python [Root]"
  },
  "language_info": {
   "codemirror_mode": {
    "name": "ipython",
    "version": 3
   },
   "file_extension": ".py",
   "mimetype": "text/x-python",
   "name": "python",
   "nbconvert_exporter": "python",
   "pygments_lexer": "ipython3",
   "version": "3.5.2"
  }
 },
 "nbformat": 4,
 "nbformat_minor": 0
}
