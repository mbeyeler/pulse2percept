{
 "cells": [
  {
   "cell_type": "code",
   "execution_count": 1,
   "metadata": {
    "collapsed": true
   },
   "outputs": [],
   "source": [
    "import numpy as np\n",
    "from scipy.interpolate import interp1d\n",
    "import os\n",
    "\n",
    "from pulse2percept import electrode2currentmap as e2cm\n",
    "from pulse2percept import effectivecurrent2brightness as ec2b\n",
    "from pulse2percept.utils import TimeSeries\n",
    "\n",
    "import matplotlib.pyplot as plt\n",
    "%matplotlib inline"
   ]
  },
  {
   "cell_type": "code",
   "execution_count": 2,
   "metadata": {
    "collapsed": true
   },
   "outputs": [],
   "source": [
    "def find_file(datapath, startswith):\n",
    "    # look for file in folder `datapath` that starts with `startswith`\n",
    "    filename = ''\n",
    "    for file in os.listdir(datapath):\n",
    "        if file.startswith(startswith) and file.endswith('.npz'):\n",
    "            filename = file\n",
    "    \n",
    "    return filename"
   ]
  },
  {
   "cell_type": "code",
   "execution_count": 3,
   "metadata": {
    "collapsed": true
   },
   "outputs": [],
   "source": [
    "def fit_amps(x, y, match_y):\n",
    "    x = np.array(x)\n",
    "    y = np.array(y)\n",
    "    # We are given a list of input values `x` and their corresponding output values\n",
    "    # `y` = f(x). We want to find the `x` value for which f(x) = `match_y`.\n",
    "\n",
    "    # Easiest way is to use interp1d as x = f(y)!\n",
    "    f = interp1d(y.flatten(), x.flatten(), fill_value='extrapolate')\n",
    "    return np.asscalar(f(match_y))"
   ]
  },
  {
   "cell_type": "code",
   "execution_count": 4,
   "metadata": {
    "collapsed": true
   },
   "outputs": [],
   "source": [
    "def fit_gamma(x, y):\n",
    "    x = np.array(x)\n",
    "    y = np.array(y)\n",
    "    # for all points (x,y), calculate r and compare to predicted\n",
    "    best_err = np.inf\n",
    "    best_gamma = 0\n",
    "    for gamma in np.linspace(-2, 3, 100):\n",
    "        err = np.sum(np.abs( np.sqrt(x**2 + y**2 + gamma * x * y) - 1))\n",
    "        if err < best_err:\n",
    "            best_err = err\n",
    "            best_gamma = gamma\n",
    "    return best_gamma"
   ]
  },
  {
   "cell_type": "code",
   "execution_count": 5,
   "metadata": {
    "collapsed": true
   },
   "outputs": [],
   "source": [
    "def movie2bright(pt, mode='max'):\n",
    "    if mode == 'max':\n",
    "        return pt.max()\n",
    "    elif mode == 'softmax':\n",
    "        # frame-wise softmax\n",
    "        return (np.exp(pt) / np.exp(pt).sum(axis=(0,1))).max(axis=(0,1)).max()\n",
    "    elif mode == 'mean':\n",
    "        # frame-wise mean\n",
    "        return pt.mean(axis=(0,1)).max()\n",
    "    else:\n",
    "        raise ValueError('Unknown mode \"' + mode + '\"')"
   ]
  },
  {
   "cell_type": "code",
   "execution_count": 6,
   "metadata": {
    "collapsed": false
   },
   "outputs": [],
   "source": [
    "def get_isobrightness(data, exp_params, mode='max', verbose=False):\n",
    "    # This is the reference current that produces the reference brightness\n",
    "    # we are trying to match\n",
    "    amp_ref = exp_params['amp_ref']\n",
    "    \n",
    "    # Find reference brightness from single-electrode conditions\n",
    "    # Condition 1\n",
    "    x1 = data['cond1']['amp_E1'][0]\n",
    "    match_b1 = movie2bright(data['cond1']['frames'][0].data, mode)\n",
    "    \n",
    "    # Condition 2\n",
    "    x2 = data['cond2']['amp_E2'][0]\n",
    "    match_b2 = movie2bright(data['cond2']['frames'][0].data, mode)\n",
    "    \n",
    "    if verbose:\n",
    "        print(\" - amp_ref=%f, match_b1=%f, match_b2=%f\" % (amp_ref, match_b1, match_b2))\n",
    "    \n",
    "    gamma = []\n",
    "    amp1 = []\n",
    "    amp2 = []\n",
    "    # For all other delays, compare delayed-pulse responses to match_b1 and match_b2\n",
    "    for d in np.unique(data['cond3']['delay']):\n",
    "        # indices where delay is d\n",
    "        idx = np.where(data['cond3']['delay'] == d)[0]\n",
    "        idx_start = idx[0]\n",
    "        idx_end = idx[-1] + 1\n",
    "\n",
    "        # From Condition 2 above\n",
    "        plot_amp1 = [0]\n",
    "        plot_amp2 = [1]\n",
    "\n",
    "        # Condition 3\n",
    "        x3 = data['cond3']['amp_E2'][idx_start:idx_end]\n",
    "        y3 = [movie2bright(f.data, mode) for f in data['cond3']['frames'][idx_start:idx_end]]\n",
    "        amp_b3 = fit_amps(x3, y3, match_b2)\n",
    "        plot_amp1.append(data['cond3']['amp_E1'][2] / amp_ref)\n",
    "        plot_amp2.append(amp_b3 / amp_ref)\n",
    "\n",
    "        # Condition 5\n",
    "        x5 = data['cond5']['amp_E1'][idx_start:idx_end]\n",
    "        y5 = [movie2bright(f.data, mode) for f in data['cond5']['frames'][idx_start:idx_end]]\n",
    "        amp_b5a = np.maximum(0, fit_amps(x5, y5, match_b1))\n",
    "        plot_amp1.append(amp_b5a / amp_ref)\n",
    "        x5 = data['cond5']['amp_E2'][idx_start:idx_end]\n",
    "        y5 = [movie2bright(f.data, mode) for f in data['cond5']['frames'][idx_start:idx_end]]\n",
    "        amp_b5b = np.maximum(0, fit_amps(x5, y5, match_b2))\n",
    "        plot_amp2.append(amp_b5b / amp_ref)\n",
    "\n",
    "        # Condition 4\n",
    "        x4 = data['cond4']['amp_E1'][idx_start:idx_end]\n",
    "        y4 = [movie2bright(f.data, mode) for f in data['cond4']['frames'][idx_start:idx_end]]\n",
    "        amp_b4 = fit_amps(x4, y4, match_b1)\n",
    "        plot_amp1.append(amp_b4 / amp_ref)\n",
    "        plot_amp2.append(data['cond4']['amp_E2'][3] / amp_ref)\n",
    "\n",
    "        # From Condition 1 above\n",
    "        plot_amp1.append(1)\n",
    "        plot_amp2.append(0)\n",
    "        \n",
    "        if verbose:\n",
    "            print(\" - amp_b3=%f\" % amp_b3)\n",
    "            print(\" - amp_b4=%f\" % amp_b4)\n",
    "            print(\" - amp_b5a=%f\" % amp_b5a)\n",
    "            print(\" - amp_b5b=%f\" % amp_b5b)\n",
    "        \n",
    "        g = fit_gamma(np.array(plot_amp1), np.array(plot_amp2))\n",
    "        if g < -1 or g > 2:\n",
    "            print(' - delay=%d: gamma=%f out of whack, clip' % (d, g))\n",
    "            \n",
    "            g = np.maximum(-1, np.minimum(2, g))\n",
    "            \n",
    "        gamma.append(g)\n",
    "        amp1.append(plot_amp1)\n",
    "        amp2.append(plot_amp2)\n",
    "        \n",
    "    return (amp1, amp2, gamma)"
   ]
  },
  {
   "cell_type": "code",
   "execution_count": 7,
   "metadata": {
    "collapsed": false
   },
   "outputs": [],
   "source": [
    "def plot_iso_fit(gamma, color='k', style='-', linewidth=2):\n",
    "    x = np.linspace(0, 1, 100)\n",
    "    y = 0.5 * (np.sqrt(gamma**2 * x**2 - 4 * x**2 + 4) - gamma * x)\n",
    "    \n",
    "    plt.plot(x, y, style, c=color, linewidth=linewidth)\n",
    "    plt.plot(y, x, style, c=color, linewidth=linewidth)"
   ]
  },
  {
   "cell_type": "code",
   "execution_count": 8,
   "metadata": {
    "collapsed": false
   },
   "outputs": [],
   "source": [
    "def plot_isobrightness(amp_E1, amp_E2, gamma, delay, exp_params, save_fig=True, save_dir=''):\n",
    "    from matplotlib.cm import gray as cmap\n",
    "    \n",
    "    pair = '(%s, %s)' % (exp_params['name_E1'], exp_params['name_E2'])\n",
    "    plt.close()\n",
    "    \n",
    "    plt.fill_between([0, 1], [1, 1], color='lightgray', alpha=0.5)\n",
    "    colors = [i / len(gamma) for i in range(len(gamma))]\n",
    "    for e1, e2, c in zip(amp_E1, amp_E2, colors):\n",
    "        plt.plot(e1, e2, 'o', color=cmap(c), label=0, linewidth=2)\n",
    "    for g, c in zip(gamma, colors):\n",
    "        plot_iso_fit(g, cmap(c))\n",
    "    plot_iso_fit(-1, 'k', ':', 1)\n",
    "    plot_iso_fit(0, 'k', ':', 1)\n",
    "    plot_iso_fit(1, 'k', ':', 1)\n",
    "    plot_iso_fit(2, 'k', ':', 1)\n",
    "    plt.xlabel('E1')\n",
    "    plt.ylabel('E2')\n",
    "    plt.legend(loc='upper right')\n",
    "    plt.title(pair)\n",
    "    plt.axis([-0.2, 1.2, 0, 1.2])\n",
    "    plt.axis('equal')\n",
    "#     plt.legend(delay * 1000)\n",
    "    plt.ylim(0, 1.2)\n",
    "    plt.xlim(-0.2, 1.5)\n",
    "\n",
    "    # These are in unitless fractions of the figure size. (0,0 is bottom left)\n",
    "    left, bottom, width, height = [0.2, 0.2, 0.25, 0.25]\n",
    "    ax2 = plt.axes([left, bottom, width, height])\n",
    "    ax2.plot(gamma, 'o-k')\n",
    "    ax2.plot([0, len(delay) - 1], [0, 0], ':k')\n",
    "    ax2.plot([0, len(delay) - 1], [1, 1], ':k')\n",
    "    plt.xticks(range(len(delay)), delay * 1000)\n",
    "    plt.yticks([-1, 0, 1, 2])\n",
    "    plt.xticks([])\n",
    "    plt.ylim(-1, 2)\n",
    "    \n",
    "    \n",
    "    if save_fig:\n",
    "        if save_dir == '':\n",
    "            save_dir = exp_params['save_dir']\n",
    "        else:\n",
    "            if not save_dir.endswith('/'):\n",
    "                save_dir += '/'\n",
    "        filename = '%s%s_%s_%s_%s_%.2fX_iso_%s' % (save_dir, \n",
    "                                                   exp_params['name'], \n",
    "                                                   exp_params['name_E1'], \n",
    "                                                   exp_params['name_E2'], \n",
    "                                                   exp_params['date'], \n",
    "                                                   exp_params['fac_thresh'],\n",
    "                                                   mode)\n",
    "        plt.savefig(filename + '.png')\n",
    "        plt.savefig(filename + '.eps')\n",
    "        print(' - Saved figure to %s.{eps,png}' % filename)"
   ]
  },
  {
   "cell_type": "code",
   "execution_count": 9,
   "metadata": {
    "collapsed": false
   },
   "outputs": [],
   "source": [
    "def plot_gamma(all_gamma, delay, mode, prefix='', save_fig=True, save_dir=''):\n",
    "    all_gamma = np.array(all_gamma)\n",
    "    x_min = np.minimum(-1, np.floor(all_gamma.min()))\n",
    "    x_max = np.maximum(1, np.ceil(all_gamma.max()))\n",
    "    plt.hist(all_gamma, stacked=True, label=delay * 1000, bins=11, range=(x_min, x_max))\n",
    "    plt.xlabel('gamma')\n",
    "    plt.ylabel('count')\n",
    "    plt.legend()\n",
    "    plt.title('movie2brightness: ' + mode)\n",
    "    plt.ylim(0, 20)\n",
    "    if save_fig:\n",
    "        if save_dir == '':\n",
    "            save_dir = exp_params['save_dir']\n",
    "        else:\n",
    "            if not save_dir.endswith('/'):\n",
    "                save_dir += '/'\n",
    "        filename = '%s%s%s_%s_%.2fX_gamma_%s' % (save_dir, \n",
    "                                                 prefix,\n",
    "                                                 exp_params['name'],\n",
    "                                                 exp_params['date'], \n",
    "                                                 exp_params['fac_thresh'],\n",
    "                                                 mode)\n",
    "        plt.savefig(filename + '.png')\n",
    "        plt.savefig(filename + '.eps')\n",
    "        print(' - Saved figure to %s.{eps,png}' % filename)"
   ]
  },
  {
   "cell_type": "code",
   "execution_count": 10,
   "metadata": {
    "collapsed": true
   },
   "outputs": [],
   "source": [
    "# Load Alan data\n",
    "from scipy.io import loadmat\n",
    "\n",
    "datapath = '../../data/Horsager_2011/'\n",
    "\n",
    "alan_gamma = []\n",
    "alan_labels = []\n",
    "\n",
    "for file in os.listdir(datapath):\n",
    "    if not file.startswith('S05_') and not file.startswith('S06'):\n",
    "        continue\n",
    "    if not file.endswith('.mat'):\n",
    "        continue\n",
    "    \n",
    "    gamma = []\n",
    "    A = loadmat(datapath + file)\n",
    "    for x, y in zip(A['x'], A['y']):\n",
    "        gamma.append(fit_gamma(x, y))\n",
    "    alan_gamma.append(gamma)\n",
    "    alan_labels.append(file[4:9])"
   ]
  },
  {
   "cell_type": "code",
   "execution_count": 15,
   "metadata": {
    "collapsed": false
   },
   "outputs": [
    {
     "name": "stdout",
     "output_type": "stream",
     "text": [
      "(B3, B1):\n",
      " - Could not locate file \"data/usability/lambda2_rot0_1.50X/krishnan_B3_B1_*\", skip\n",
      "(C3, B2):\n",
      " - Loading file krishnan_C3_B2_2016-12-08_1.5X.npz\n",
      " - Saved figure to data/usability/lambda2_rot0_1.50X/krishnan_C3_B2_2016-12-08_1.50X_iso_max.{eps,png}\n",
      "(A1, A4):\n",
      " - Could not locate file \"data/usability/lambda2_rot0_1.50X/krishnan_A1_A4_*\", skip\n",
      "(C3, C2):\n",
      " - Loading file krishnan_C3_C2_2016-12-08_1.5X.npz\n",
      " - Saved figure to data/usability/lambda2_rot0_1.50X/krishnan_C3_C2_2016-12-08_1.50X_iso_max.{eps,png}\n",
      "(B2, B4):\n",
      " - Loading file krishnan_B2_B4_2016-12-08_1.5X.npz\n",
      " - Saved figure to data/usability/lambda2_rot0_1.50X/krishnan_B2_B4_2016-12-08_1.50X_iso_max.{eps,png}\n",
      "(B3, B2):\n",
      " - Loading file krishnan_B3_B2_2016-12-08_1.5X.npz\n",
      " - Saved figure to data/usability/lambda2_rot0_1.50X/krishnan_B3_B2_2016-12-08_1.50X_iso_max.{eps,png}\n",
      "(C1, B1):\n",
      " - Loading file krishnan_C1_B1_2016-12-08_1.5X.npz\n",
      " - Saved figure to data/usability/lambda2_rot0_1.50X/krishnan_C1_B1_2016-12-08_1.50X_iso_max.{eps,png}\n",
      "(A1, C1):\n",
      " - Could not locate file \"data/usability/lambda2_rot0_1.50X/krishnan_A1_C1_*\", skip\n",
      "(A4, B4):\n",
      " - Loading file krishnan_A4_B4_2016-12-08_1.5X.npz\n",
      " - Saved figure to data/usability/lambda2_rot0_1.50X/krishnan_A4_B4_2016-12-08_1.50X_iso_max.{eps,png}\n",
      "(C2, B2):\n",
      " - Loading file krishnan_C2_B2_2016-12-07_1.5X.npz\n",
      " - Saved figure to data/usability/lambda2_rot0_1.50X/krishnan_C2_B2_2016-12-07_1.50X_iso_max.{eps,png}\n",
      "(C4, C1):\n",
      " - Could not locate file \"data/usability/lambda2_rot0_1.50X/krishnan_C4_C1_*\", skip\n",
      "(A2, C2):\n",
      " - Could not locate file \"data/usability/lambda2_rot0_1.50X/krishnan_A2_C2_*\", skip\n",
      "(C3, C2):\n",
      " - Loading file krishnan_C3_C2_2016-12-08_1.5X.npz\n",
      " - Saved figure to data/usability/lambda2_rot0_1.50X/krishnan_C3_C2_2016-12-08_1.50X_iso_max.{eps,png}\n",
      "(C1, D1):\n",
      " - Loading file krishnan_C1_D1_2016-12-08_1.5X.npz\n",
      " - Saved figure to data/usability/lambda2_rot0_1.50X/krishnan_C1_D1_2016-12-08_1.50X_iso_max.{eps,png}\n",
      "(A1, A2):\n",
      " - Loading file krishnan_A1_A2_2016-12-08_1.5X.npz\n",
      " - Saved figure to data/usability/lambda2_rot0_1.50X/krishnan_A1_A2_2016-12-08_1.50X_iso_max.{eps,png}\n"
     ]
    },
    {
     "data": {
      "image/png": "[encoded data removed]",
      "text/plain": [
       "<matplotlib.figure.Figure at 0x7f753400fac8>"
      ]
     },
     "metadata": {},
     "output_type": "display_data"
    }
   ],
   "source": [
    "# Load simulated data\n",
    "\n",
    "mode = 'max'\n",
    "datapath = 'data/usability/lambda2_rot0_1.50X/'\n",
    "prefix = 'krishnan'\n",
    "\n",
    "# all S06 + S05\n",
    "name_E1 = ['B3','C3','A1','C3','B2','B3','C1','A1','A4','C2','C4','A2',    'C3','C1','A1']\n",
    "name_E2 = ['B1','B2','A4','C2','B4','B2','B1','C1','B4','B2','C1','C2',    'C2','D1','A2']\n",
    "\n",
    "all_amp1 = []\n",
    "all_amp2 = []\n",
    "all_gamma = []\n",
    "all_labels = []\n",
    "for E1, E2 in zip(name_E1, name_E2):\n",
    "    print('(%s, %s):' % (E1, E2))\n",
    "    \n",
    "    # Load data from file, auto-complete file name\n",
    "    filestr = '%s_%s_%s_' % (prefix, E1, E2)\n",
    "    filename = find_file(datapath, filestr)\n",
    "    \n",
    "    if filename == '':\n",
    "        print(' - Could not locate file \"' + datapath + filestr + '*\", skip')\n",
    "        continue\n",
    "    else:\n",
    "        print(' - Loading file ' + filename)\n",
    "\n",
    "    exp_data = np.load(datapath + filename)\n",
    "    data = exp_data['data'][()]\n",
    "    exp_params = exp_data['exp_params'][()]\n",
    "    \n",
    "    # calculate isobrightness curve\n",
    "    amp1, amp2, gamma = get_isobrightness(data, exp_params, mode=mode, verbose=False)\n",
    "    all_amp1.append(amp1)\n",
    "    all_amp2.append(amp2)\n",
    "    all_gamma.append(gamma)\n",
    "    all_labels.append(E1 + '_' + E2)\n",
    "    \n",
    "    # find delays from file specs\n",
    "    delay = np.unique(data['cond3']['delay'])\n",
    "    plot_isobrightness(amp1, amp2, gamma, delay, exp_params, save_dir=datapath)"
   ]
  },
  {
   "cell_type": "code",
   "execution_count": 16,
   "metadata": {
    "collapsed": false
   },
   "outputs": [
    {
     "name": "stdout",
     "output_type": "stream",
     "text": [
      " - Saved figure to data/usability/lambda2_rot0_1.50X/S05_S06krishnan_2016-12-08_1.50X_gamma_max.{eps,png}\n"
     ]
    },
    {
     "data": {
      "image/png": "[encoded data removed]",
      "text/plain": [
       "<matplotlib.figure.Figure at 0x7f7517cfba20>"
      ]
     },
     "metadata": {},
     "output_type": "display_data"
    }
   ],
   "source": [
    "plot_gamma(all_gamma, delay, mode, prefix='S05_S06', save_dir=datapath)"
   ]
  },
  {
   "cell_type": "code",
   "execution_count": 17,
   "metadata": {
    "collapsed": false
   },
   "outputs": [
    {
     "name": "stdout",
     "output_type": "stream",
     "text": [
      " - Saved figure to data/usability/lambda2_rot0_1.50X/S05_S06krishnan_2016-12-08_1.50X_gamma_max.{eps,png}\n"
     ]
    },
    {
     "data": {
      "image/png": "[encoded data removed]",
      "text/plain": [
       "<matplotlib.figure.Figure at 0x7f75184f7978>"
      ]
     },
     "metadata": {},
     "output_type": "display_data"
    }
   ],
   "source": [
    "plot_gamma(alan_gamma, delay, mode, prefix='S05_S06', save_dir=datapath)"
   ]
  },
  {
   "cell_type": "code",
   "execution_count": 18,
   "metadata": {
    "collapsed": false
   },
   "outputs": [
    {
     "name": "stderr",
     "output_type": "stream",
     "text": [
      "/home/mbeyeler/anaconda3/lib/python3.5/site-packages/matplotlib/axes/_axes.py:519: UserWarning: No labelled objects found. Use label='...' kwarg on individual plots.\n",
      "  warnings.warn(\"No labelled objects found. \"\n"
     ]
    },
    {
     "data": {
      "image/png": "[encoded data removed]",
      "text/plain": [
       "<matplotlib.figure.Figure at 0x7f7518295860>"
      ]
     },
     "metadata": {},
     "output_type": "display_data"
    }
   ],
   "source": [
    "from matplotlib.cm import gray as cmap\n",
    "    \n",
    "colors = [i / len(all_gamma[0]) for i in range(len(all_gamma[0]))]\n",
    "\n",
    "for i, label in enumerate(alan_labels):\n",
    "    if label not in all_labels:\n",
    "        continue\n",
    "    j = all_labels.index(label)\n",
    "    for ag, sg, c, d in zip(alan_gamma[i], all_gamma[j], colors, delay):\n",
    "        if i == 0:\n",
    "            plt.plot(ag, sg, 'o', color=cmap(c), label=d * 1000)\n",
    "        else:\n",
    "            plt.plot(ag, sg, 'o', color=cmap(c))\n",
    "plt.plot([-1, 2], [-1, 2], 'k:')\n",
    "plt.xlabel('gamma (human data)')\n",
    "plt.ylabel('gamma (simulation)')\n",
    "plt.legend(loc='lower right')\n",
    "plt.savefig('scatter_humanvsmodel.eps')\n",
    "plt.savefig('scatter_humanvsmodel.png')"
   ]
  },
  {
   "cell_type": "code",
   "execution_count": null,
   "metadata": {
    "collapsed": true
   },
   "outputs": [],
   "source": []
  },
  {
   "cell_type": "code",
   "execution_count": null,
   "metadata": {
    "collapsed": true
   },
   "outputs": [],
   "source": []
  }
 ],
 "metadata": {
  "anaconda-cloud": {},
  "kernelspec": {
   "display_name": "Python [Root]",
   "language": "python",
   "name": "Python [Root]"
  },
  "language_info": {
   "codemirror_mode": {
    "name": "ipython",
    "version": 3
   },
   "file_extension": ".py",
   "mimetype": "text/x-python",
   "name": "python",
   "nbconvert_exporter": "python",
   "pygments_lexer": "ipython3",
   "version": "3.5.2"
  }
 },
 "nbformat": 4,
 "nbformat_minor": 0
}
