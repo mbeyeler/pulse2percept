{
 "cells": [
  {
   "cell_type": "code",
   "execution_count": 1,
   "metadata": {
    "collapsed": false
   },
   "outputs": [
    {
     "ename": "ImportError",
     "evalue": "No module named 'pandas'",
     "output_type": "error",
     "traceback": [
      "\u001b[1;31m---------------------------------------------------------------------------\u001b[0m",
      "\u001b[1;31mImportError\u001b[0m                               Traceback (most recent call last)",
      "\u001b[1;32m<ipython-input-1-7c07abba8786>\u001b[0m in \u001b[0;36m<module>\u001b[1;34m()\u001b[0m\n\u001b[0;32m      1\u001b[0m \u001b[1;32mfrom\u001b[0m \u001b[0mos\u001b[0m \u001b[1;32mimport\u001b[0m \u001b[0menviron\u001b[0m\u001b[1;33m\u001b[0m\u001b[0m\n\u001b[1;32m----> 2\u001b[1;33m \u001b[1;32mimport\u001b[0m \u001b[0mpandas\u001b[0m \u001b[1;32mas\u001b[0m \u001b[0mpd\u001b[0m\u001b[1;33m\u001b[0m\u001b[0m\n\u001b[0m\u001b[0;32m      3\u001b[0m \u001b[1;32mimport\u001b[0m \u001b[0mnumpy\u001b[0m \u001b[1;32mas\u001b[0m \u001b[0mnp\u001b[0m\u001b[1;33m\u001b[0m\u001b[0m\n",
      "\u001b[1;31mImportError\u001b[0m: No module named 'pandas'"
     ]
    }
   ],
   "source": [
    "from os import environ\n",
    "import pandas as pd\n",
    "import numpy as np"
   ]
  },
  {
   "cell_type": "code",
   "execution_count": null,
   "metadata": {
    "collapsed": true
   },
   "outputs": [],
   "source": [
    "def open_excel(filename, idx_sheet=0):\n",
    "    xl = pd.ExcelFile(filename)\n",
    "    df = xl.parse(xl.sheet_names[idx_sheet])\n",
    "    assert 'Subject' in df.columns\n",
    "    assert 'Electrode' in df.columns\n",
    "    assert 'pdur' in df.columns\n",
    "    assert 'type' in df.columns\n",
    "    assert 'data' in df.columns\n",
    "    df.drop(df.index, inplace=True)\n",
    "    return df"
   ]
  },
  {
   "cell_type": "code",
   "execution_count": null,
   "metadata": {
    "collapsed": true
   },
   "outputs": [],
   "source": [
    "def load_row(df, subject, electrode, pdur, dtype='truth'):\n",
    "    rows = (df['Subject'] == subject) & (df['Electrode'] == electrode) & \\\n",
    "           (df['type'] == dtype) & (df['pdur'] == pdur)\n",
    "    if not np.any(rows):\n",
    "        return None, None\n",
    "    elif np.count_nonzero(rows) > 1:\n",
    "        print('More than one row found:')\n",
    "        print(df.loc[rows, :])\n",
    "        return None, None\n",
    "\n",
    "    # Data points: [all pdurs, all amps]\n",
    "    data = np.array(df.loc[rows, 'data':])\n",
    "    data = data.reshape((2, -1))\n",
    "    return data[0, :], data[1, :]"
   ]
  },
  {
   "cell_type": "code",
   "execution_count": null,
   "metadata": {
    "collapsed": true
   },
   "outputs": [],
   "source": [
    "def run_fixed_duration(subjects, electrodes, pdurs):\n",
    "    df = open_excel(environ['SECOND_SIGHT_DATA'] + '/horsager2009/fixed-duration.xlsx')\n",
    "    \n",
    "    for s in subjects:\n",
    "        for e in electrodes:\n",
    "            for p in pdurs:\n",
    "                x, y = load_row(df, s, e, p, dtype='truth')\n",
    "                if not x and not y:\n",
    "                    print('No row of subject %s, electrode %s, pdur %f' % (s, e, p))\n",
    "                    continue"
   ]
  },
  {
   "cell_type": "code",
   "execution_count": null,
   "metadata": {
    "collapsed": false
   },
   "outputs": [],
   "source": [
    "run_fixed_duration('S04', 'A1', 10)"
   ]
  },
  {
   "cell_type": "code",
   "execution_count": null,
   "metadata": {
    "collapsed": true
   },
   "outputs": [],
   "source": []
  }
 ],
 "metadata": {
  "kernelspec": {
   "display_name": "Python 3",
   "language": "python",
   "name": "python3"
  },
  "language_info": {
   "codemirror_mode": {
    "name": "ipython",
    "version": 3
   },
   "file_extension": ".py",
   "mimetype": "text/x-python",
   "name": "python",
   "nbconvert_exporter": "python",
   "pygments_lexer": "ipython3",
   "version": "3.5.2"
  }
 },
 "nbformat": 4,
 "nbformat_minor": 2
}
