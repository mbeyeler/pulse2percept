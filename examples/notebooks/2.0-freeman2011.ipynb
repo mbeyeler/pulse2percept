{
 "cells": [
  {
   "cell_type": "code",
   "execution_count": 1,
   "metadata": {
    "collapsed": false
   },
   "outputs": [],
   "source": [
    "import numpy as np\n",
    "from scipy.interpolate import interp1d\n",
    "\n",
    "from pulse2percept import electrode2currentmap as e2cm\n",
    "from pulse2percept import effectivecurrent2brightness as ec2b\n",
    "from pulse2percept import utils\n",
    "\n",
    "import matplotlib.pyplot as plt\n",
    "%matplotlib inline\n",
    "plt.style.use('ggplot')"
   ]
  },
  {
   "cell_type": "markdown",
   "metadata": {},
   "source": [
    "# Data\n",
    "---------\n",
    "All data was extracted from Freeman & Fried (2011), Fig. 2"
   ]
  },
  {
   "cell_type": "code",
   "execution_count": 2,
   "metadata": {
    "collapsed": false
   },
   "outputs": [],
   "source": [
    "# Data extracted from Fig. 2 of Freeman & Fried (2011)\n",
    "freeman = dict()\n",
    "\n",
    "freeman['norm_resp'] = dict()\n",
    "freeman['norm_resp']['2'] = np.array([1.00000, 1.00000, 2.02247, 0.71475,\n",
    "                                        2.98876, 0.68852, 3.95506, 0.65902,\n",
    "                                        4.94382, 0.63934, 5.91011, 0.62623,\n",
    "                                        6.89888, 0.62951, 7.88764, 0.62951,\n",
    "                                        8.87640, 0.62623, 9.86517, 0.61311]).reshape((-1, 2))\n",
    "freeman['norm_resp']['4'] = np.array([1.00000, 1.00000, 1.97753, 0.69836,\n",
    "                                        2.98876, 0.60656, 3.95506, 0.58361,\n",
    "                                        4.92135, 0.54098, 5.91011, 0.52787,\n",
    "                                        6.89888, 0.53443, 7.93258, 0.52131,\n",
    "                                        8.89888, 0.51148, 9.86517, 0.51148]).reshape((-1, 2))\n",
    "freeman['norm_resp']['8'] = np.array([1.00000, 1.00000, 1.97753, 0.59672,\n",
    "                                        3.03371, 0.52787, 3.97753, 0.47869,\n",
    "                                        4.94382, 0.43607, 5.93258, 0.43279,\n",
    "                                        6.92135, 0.40984, 7.88764, 0.37377,\n",
    "                                        8.87640, 0.38689, 9.86517, 0.36721]).reshape((-1, 2))\n",
    "freeman['norm_resp']['16'] = np.array([1.03371, 0.98361, 2.00000, 0.66557,\n",
    "                                         2.98876, 0.48525, 3.97753, 0.42295,\n",
    "                                         4.96629, 0.37049, 5.93258, 0.32787,\n",
    "                                         6.92135, 0.31475, 7.93258, 0.29508,\n",
    "                                         8.87640, 0.28197, 9.91011, 0.28197]).reshape((-1, 2))"
   ]
  },
  {
   "cell_type": "code",
   "execution_count": 3,
   "metadata": {
    "collapsed": false
   },
   "outputs": [
    {
     "data": {
      "text/plain": [
       "<matplotlib.legend.Legend at 0x7f9e9747ea90>"
      ]
     },
     "execution_count": 3,
     "metadata": {},
     "output_type": "execute_result"
    },
    {
     "data": {
      "image/png": "[encoded data removed]",
      "text/plain": [
       "<matplotlib.figure.Figure at 0x7f9e9747ec18>"
      ]
     },
     "metadata": {},
     "output_type": "display_data"
    }
   ],
   "source": [
    "for cond in ['2', '4', '8', '16']:\n",
    "    plt.plot(freeman['norm_resp'][cond][:, 0], freeman['norm_resp'][cond][:, 1], 'o-',\n",
    "             linewidth=3, label=cond + ' Hz')\n",
    "plt.legend()"
   ]
  },
  {
   "cell_type": "markdown",
   "metadata": {},
   "source": [
    "# Functions\n",
    "-----------------\n",
    "\n",
    "Following are all utily funcions used in this script."
   ]
  },
  {
   "cell_type": "code",
   "execution_count": 4,
   "metadata": {
    "collapsed": true
   },
   "outputs": [],
   "source": [
    "from scipy.signal import fftconvolve\n",
    "\n",
    "class HorsagerModel(object):\n",
    "    def __init__(self, tsample, at_thresh=True):\n",
    "        self.tsample = tsample\n",
    "        self.at_thresh = at_thresh\n",
    "        \n",
    "        # Fast response\n",
    "        tau1 = 0.42 / 1000\n",
    "        t = np.arange(0, 10 * tau1, self.tsample)\n",
    "        self.gamma1 = e2cm.gamma(1, tau1, t)\n",
    "        \n",
    "        # Desensitization\n",
    "        self.eps_thresh = 2.25\n",
    "        self.eps_suprathresh = 8.73\n",
    "        tau2 = 45.25 / 1000\n",
    "        t = np.arange(0, 10 * tau2, self.tsample)\n",
    "        self.gamma2 = e2cm.gamma(2, tau2, t)\n",
    "        \n",
    "        # Nonlinearity\n",
    "        self.beta_thresh = 3.43\n",
    "        self.beta_suprathresh = 0.83\n",
    "        \n",
    "        # Slow response\n",
    "        tau3 = 26.25 / 1000\n",
    "        t = np.arange(0, 10 * tau3, self.tsample)\n",
    "        self.gamma3 = e2cm.gamma(1, tau3, t)\n",
    "        \n",
    "    def model_cascade(self, ecm, dolayers, dojit=True):\n",
    "        sz = ecm[0].data.size\n",
    "        r1 = self.tsample * fftconvolve(ecm[0].data, self.gamma1, mode='full')[:sz]\n",
    "        ca = self.tsample * np.cumsum(np.maximum(0, -ecm[0].data))\n",
    "        \n",
    "        if self.at_thresh:\n",
    "            eps = self.eps_thresh\n",
    "            beta = self.beta_thresh\n",
    "        else:\n",
    "            eps = self.eps_suprathresh\n",
    "            beta = self.beta_suprathresh\n",
    "        r2 = r1 - eps * self.tsample * fftconvolve(ca, self.gamma2, mode='full')[:sz]\n",
    "        r3 = np.maximum(0, r2) ** beta\n",
    "        r4 = self.tsample * fftconvolve(r3, self.gamma3, mode='full')[:sz]\n",
    "        \n",
    "        return utils.TimeSeries(ecm[0].tsample, r4)"
   ]
  },
  {
   "cell_type": "code",
   "execution_count": 5,
   "metadata": {
    "collapsed": true
   },
   "outputs": [],
   "source": [
    "def horsager2percept(stim, implant, retina, use_ecs=True, at_thresh=True):\n",
    "    # Check type to avoid backwards compatibility issues\n",
    "    if not isinstance(implant, e2cm.ElectrodeArray):\n",
    "        raise TypeError(\"`implant` must be of type ec2b.ElectrodeArray\")\n",
    "\n",
    "    rsample = 1\n",
    "    dojit = True\n",
    "    dolayers = ['NFL']\n",
    "    tol = 0.05\n",
    "\n",
    "    \n",
    "    # Parse `stim` (either single pulse train or a list/dict of pulse trains),\n",
    "    # and generate a list of pulse trains, one for each electrode\n",
    "    pt_list = ec2b.parse_pulse_trains(stim, implant)\n",
    "\n",
    "    # Generate a standard temporal model if necessary\n",
    "    tm = HorsagerModel(pt_list[0].tsample, at_thresh)\n",
    "\n",
    "    # Derive the effective current spread\n",
    "    if use_ecs:\n",
    "        ecs, _ = retina.electrode_ecs(implant)\n",
    "    else:\n",
    "        _, ecs = retina.electrode_ecs(implant)\n",
    "\n",
    "    # `ecs_list` is a pixel by `n` list where `n` is the number of layers\n",
    "    # being simulated. Each value in `ecs_list` is the current contributed\n",
    "    # by each electrode for that spatial location\n",
    "    ecs_list = []\n",
    "    idx_list = []\n",
    "    for xx in range(retina.gridx.shape[1]):\n",
    "        for yy in range(retina.gridx.shape[0]):\n",
    "            # If any of the used current spread maps at [yy, xx] are above\n",
    "            # tolerance, we need to process that pixel\n",
    "            process_pixel = False\n",
    "            if 'INL' in dolayers:\n",
    "                layer = ecs[yy, xx, 0, :]\n",
    "                process_pixel |= np.any(layer >= tol * layer.max())\n",
    "            if 'NFL' in dolayers:\n",
    "                layer = ecs[yy, xx, 1, :]\n",
    "                process_pixel |= np.any(layer >= tol * layer.max())\n",
    "\n",
    "            if process_pixel:\n",
    "                ecs_list.append(ecs[yy, xx])\n",
    "                idx_list.append([yy, xx])\n",
    "\n",
    "    pt_arr = np.array([p.data for p in pt_list])\n",
    "    \n",
    "    sr_list = utils.parfor(ec2b.calc_pixel, ecs_list, n_jobs=-1, engine='joblib',\n",
    "                           func_args=[pt_arr, tm, rsample, dolayers, dojit])\n",
    "\n",
    "    bm = np.zeros(retina.gridx.shape + (sr_list[0].data.shape[-1], ))\n",
    "    idxer = tuple(np.array(idx_list)[:, i] for i in range(2))\n",
    "    bm[idxer] = [sr.data for sr in sr_list]\n",
    "    return utils.TimeSeries(sr_list[0].tsample, bm)"
   ]
  },
  {
   "cell_type": "code",
   "execution_count": 6,
   "metadata": {
    "collapsed": true
   },
   "outputs": [],
   "source": [
    "class GanglionCellResponse(ec2b.TemporalModel):\n",
    "    def __init__(self, tsample, tau_inl=18.0 / 1000, delay_inl=40.0 / 1000,\n",
    "                 lweight=0.636):\n",
    "        super(GanglionCellResponse, self).__init__(tsample, tau_inl=tau_inl,\n",
    "                                                   delay_inl=delay_inl,\n",
    "                                                   lweight=lweight)\n",
    "        \n",
    "    def stationary_nonlinearity(self, resp):\n",
    "        return resp\n",
    "    \n",
    "    def slow_response(self, resp):\n",
    "        return resp"
   ]
  },
  {
   "cell_type": "code",
   "execution_count": 7,
   "metadata": {
    "collapsed": true
   },
   "outputs": [],
   "source": [
    "implant = e2cm.ElectrodeArray('epiretinal', 40.0 / 2, -500, -500, 25.0)\n",
    "\n",
    "r_sampling = 100\n",
    "axon_lambda = 2 \n",
    "retina = e2cm.Retina(sampling=r_sampling, axon_lambda=axon_lambda, rot=0,\n",
    "                     xlo=implant[0].x_center, xhi=implant[0].x_center,\n",
    "                     ylo=implant[0].y_center, yhi=implant[0].y_center)"
   ]
  },
  {
   "cell_type": "code",
   "execution_count": 8,
   "metadata": {
    "collapsed": true
   },
   "outputs": [],
   "source": [
    "pdur = 1.0 / 1000\n",
    "tsample = 0.005 / 1000\n",
    "amp = 20"
   ]
  },
  {
   "cell_type": "code",
   "execution_count": 9,
   "metadata": {
    "collapsed": true
   },
   "outputs": [],
   "source": [
    "delay_inl = 40.0 / 1000\n",
    "tau_inl = 1.0 / 1000\n",
    "lweight = 0.636\n",
    "ecs_scale = 1.0\n",
    "tm = GanglionCellResponse(tsample=tsample, delay_inl=delay_inl,\n",
    "                          tau_inl=tau_inl, lweight=lweight)"
   ]
  },
  {
   "cell_type": "code",
   "execution_count": 11,
   "metadata": {
    "collapsed": false
   },
   "outputs": [
    {
     "data": {
      "text/plain": [
       "[<matplotlib.lines.Line2D at 0x7f9e912e7080>]"
      ]
     },
     "execution_count": 11,
     "metadata": {},
     "output_type": "execute_result"
    },
    {
     "data": {
      "image/png": "[encoded data removed]",
      "text/plain": [
       "<matplotlib.figure.Figure at 0x7f9e91499f98>"
      ]
     },
     "metadata": {},
     "output_type": "display_data"
    }
   ],
   "source": [
    "plt.figure(figsize=(12, 6))\n",
    "\n",
    "tau2 = 45.25 / 1000\n",
    "tgamma2 = np.arange(0, 10 * tau2, tsample)\n",
    "gamma2 = e2cm.gamma(2, tau2, tgamma2)\n",
    "plt.subplot(411)\n",
    "plt.plot(gamma2)\n",
    "\n",
    "stim = e2cm.Psycho2Pulsetrain(tsample, freq=1000.0/400, amp=20, dur=5,\n",
    "                              pulse_dur=pdur, interphase_dur=0, pulsetype='cathodicfirst', delay=20.0 / 1000)\n",
    "t = np.arange(stim.data.size) * tsample\n",
    "\n",
    "plt.subplot(412)\n",
    "plt.plot(t, stim.data)\n",
    "\n",
    "plt.subplot(413)\n",
    "ca = fftconvolve(np.cumsum(np.maximum(0, -stim.data)), gamma2, mode='same')\n",
    "plt.plot(t, ca)\n",
    "\n",
    "plt.subplot(414)\n",
    "mov = horsager2percept(stim, implant, retina, use_ecs=False, at_thresh=True)\n",
    "mov = ec2b.pulse2percept(stim)\n",
    "plt.plot(t, np.squeeze(mov.data))"
   ]
  },
  {
   "cell_type": "code",
   "execution_count": null,
   "metadata": {
    "collapsed": false
   },
   "outputs": [],
   "source": [
    "model = dict()\n",
    "model['resp'] = dict()\n",
    "for freq in [2, 4, 8, 16]:\n",
    "    freqstr = str(freq)\n",
    "    stim = e2cm.Psycho2Pulsetrain(tsample, freq=freq, amp=amp, dur=10.0 / freq,\n",
    "                                  pulse_dur=pdur, interphase_dur=0, pulsetype='cathodicfirst', delay=20.0 / 1000)\n",
    "    mov = ec2b.pulse2percept(stim, implant, tm, retina, use_ecs=False, ecs_scale=1.0,\n",
    "                             rsample=1, dojit=True, engine='joblib')\n",
    "#     mov = horsager2percept(stim, implant, retina, use_ecs=False, at_thresh=True)\n",
    "    model['resp'][freqstr] = np.squeeze(mov.data)"
   ]
  },
  {
   "cell_type": "code",
   "execution_count": null,
   "metadata": {
    "collapsed": false
   },
   "outputs": [],
   "source": [
    "plt.figure(figsize=(14, 8))\n",
    "for i, freq in enumerate([2, 4, 8, 16]):\n",
    "    plt.subplot(4, 1, i + 1)\n",
    "    \n",
    "    resp = model['resp'][str(freq)]\n",
    "    t = np.arange(resp.size) * tsample\n",
    "    plt.plot(t, resp)\n",
    "    freqsize = int(resp.size / 10.0)\n",
    "    for f in range(10):\n",
    "        plt.plot([f*freqsize * tsample, f*freqsize * tsample], [0, resp.max()], 'k--', linewidth=1)\n",
    "    plt.xlim(0, t.max())\n",
    "    plt.ylim(0, resp.max())\n",
    "    plt.xlabel('time (s)')\n",
    "    plt.ylabel('RGC response')"
   ]
  },
  {
   "cell_type": "code",
   "execution_count": null,
   "metadata": {
    "collapsed": false
   },
   "outputs": [],
   "source": [
    "model['norm_resp'] = dict()\n",
    "for freqstr in model['resp']:\n",
    "    resp = model['resp'][freqstr]\n",
    "    freq_size = int(resp.size / 10.0)\n",
    "    \n",
    "    peaks = []\n",
    "    for f in range(10):\n",
    "        slc = resp[f*freq_size: (f + 1) * freq_size]\n",
    "        peaks.append(slc.max())\n",
    "        \n",
    "\n",
    "    model['norm_resp'][freqstr] = peaks / peaks[0]"
   ]
  },
  {
   "cell_type": "code",
   "execution_count": null,
   "metadata": {
    "collapsed": false
   },
   "outputs": [],
   "source": [
    "num_cols = np.floor(np.sqrt(len(model['resp'])))\n",
    "num_rows = np.ceil(len(model['resp']) / num_cols)\n",
    "plt.figure(figsize=(14, 6))\n",
    "for i, freq in enumerate([2, 4, 8, 16]):\n",
    "    freqstr = str(freq)\n",
    "    plt.subplot(num_rows, num_cols, i + 1)\n",
    "    plt.plot(model['norm_resp'][freqstr], 'o-',\n",
    "             linewidth=3, label='model')\n",
    "    plt.plot(freeman['norm_resp'][freqstr][:, 0] - 1,\n",
    "             freeman['norm_resp'][freqstr][:, 1], 's-',\n",
    "             linewidth=3, label='rabbit')\n",
    "    plt.title(freqstr)\n",
    "    plt.ylim(0, 1.2)\n",
    "    plt.xlim(-1, 10)\n",
    "    plt.legend(loc='best')"
   ]
  },
  {
   "cell_type": "code",
   "execution_count": null,
   "metadata": {
    "collapsed": false
   },
   "outputs": [],
   "source": [
    "from scipy.fftpack import ifft"
   ]
  },
  {
   "cell_type": "code",
   "execution_count": null,
   "metadata": {
    "collapsed": true
   },
   "outputs": [],
   "source": [
    "ifft()"
   ]
  },
  {
   "cell_type": "code",
   "execution_count": null,
   "metadata": {
    "collapsed": true
   },
   "outputs": [],
   "source": []
  }
 ],
 "metadata": {
  "anaconda-cloud": {},
  "kernelspec": {
   "display_name": "Python [Root]",
   "language": "python",
   "name": "Python [Root]"
  },
  "language_info": {
   "codemirror_mode": {
    "name": "ipython",
    "version": 3
   },
   "file_extension": ".py",
   "mimetype": "text/x-python",
   "name": "python",
   "nbconvert_exporter": "python",
   "pygments_lexer": "ipython3",
   "version": "3.5.2"
  }
 },
 "nbformat": 4,
 "nbformat_minor": 2
}
