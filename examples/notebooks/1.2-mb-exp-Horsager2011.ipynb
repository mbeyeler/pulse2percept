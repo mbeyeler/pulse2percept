{
 "cells": [
  {
   "cell_type": "code",
   "execution_count": 1,
   "metadata": {
    "collapsed": false
   },
   "outputs": [],
   "source": [
    "import numpy as np\n",
    "from scipy.interpolate import interp1d\n",
    "from scipy.io import loadmat\n",
    "from datetime import date\n",
    "\n",
    "from pulse2percept import electrode2currentmap as e2cm\n",
    "from pulse2percept import effectivecurrent2brightness as ec2b\n",
    "from pulse2percept.utils import TimeSeries\n",
    "\n",
    "import matplotlib.pyplot as plt\n",
    "%matplotlib inline"
   ]
  },
  {
   "cell_type": "code",
   "execution_count": null,
   "metadata": {
    "collapsed": false
   },
   "outputs": [],
   "source": [
    "# look at Horsager data\n",
    "data_horsager = loadmat('../../data/Horsager_2011/S05_C3_C2.mat')\n",
    "for x, y in zip(data_horsager['x'], data_horsager['y']):\n",
    "    plt.plot(x, y, 'o')"
   ]
  },
  {
   "cell_type": "code",
   "execution_count": null,
   "metadata": {
    "collapsed": true
   },
   "outputs": [],
   "source": [
    "# We could use ec2b.Psycho2Pulsetrain, but we'd like to have the stimulus first, \n",
    "# followed by the inter-pulse gap. ec2b.Psycho2Pulsetrain has the inter-pulse\n",
    "# gap first...\n",
    "def get_pulse_train(ampl, delay_dur=0, tsample=1e-5):\n",
    "    freq = 50\n",
    "    pulse_dur = 0.45/1000\n",
    "    stim_dur = 0.5\n",
    "\n",
    "    # envelope size (single pulse + gap) given by `freq`\n",
    "    envelope_size = int(np.round((1/freq) / tsample))\n",
    "\n",
    "    # delay given by `delay_dur`\n",
    "    delay_size = int(np.round(delay_dur / tsample))\n",
    "    delay = np.zeros(delay_size)\n",
    "\n",
    "    # single pulse given by `pulse_dur`\n",
    "    pulse = ampl * e2cm.get_pulse(pulse_dur, tsample, pulse_dur, 'cathodicfirst')\n",
    "    pulse_size = pulse.size\n",
    "\n",
    "    # then gap is used to fill up what's left\n",
    "    gap_size = envelope_size - delay_size - pulse_size\n",
    "    gap = np.zeros(gap_size)\n",
    "\n",
    "    pulse_train = []\n",
    "    for j in range(int(np.round(stim_dur * freq))):\n",
    "        pulse_train = np.concatenate((pulse_train, delay, pulse, gap), axis=0)\n",
    "    \n",
    "    return TimeSeries(tsample, pulse_train)"
   ]
  },
  {
   "cell_type": "code",
   "execution_count": null,
   "metadata": {
    "collapsed": false
   },
   "outputs": [],
   "source": [
    "plt.subplot(211)\n",
    "plt.plot(get_pulse_train(20, 0).data[0:4500])\n",
    "\n",
    "plt.subplot(212)\n",
    "plt.plot(get_pulse_train(20, 1/1000).data[0:4500])\n",
    "plt.ylabel('1ms delay')"
   ]
  },
  {
   "cell_type": "code",
   "execution_count": null,
   "metadata": {
    "collapsed": false
   },
   "outputs": [],
   "source": [
    "def run_condition(idx_cond, idx_E1, amp_E1, idx_E2, amp_E2, tm, cs, r, tsample):\n",
    "    \"\"\"Run a condition of the Horsager experiment\n",
    "    \n",
    "    Apply a list of currents `amp_E1` to electrode E1 and a list of currents `amp_E2` to E2.\n",
    "    \"\"\"\n",
    "    amp_E1 = np.array(amp_E1)\n",
    "    amp_E2 = np.array(amp_E2)\n",
    "    \n",
    "    # in order for zip to work, both amp arrays must have the same length\n",
    "    if amp_E1.size == 1 and amp_E2.size > 1:\n",
    "        amp_E1 = amp_E1.repeat(amp_E2.size)\n",
    "    elif amp_E2.size == 1 and amp_E1.size > 1:\n",
    "        amp_E2 = amp_E2.repeat(amp_E1.size)\n",
    "    \n",
    "    save_frames = []\n",
    "    save_amp_E1 = []\n",
    "    save_amp_E2 = []\n",
    "    save_delay = []\n",
    "    print (\"Condition %d, E1=%d E2=%d\" % (idx_cond, idx_E1, idx_E2))\n",
    "    for delay in [0, 0.375/1000, 1.9/1000, 9/1000]:\n",
    "        print(\"- delay %.3f\" % (delay*1000))\n",
    "        \n",
    "        for a1, a2 in zip(amp_E1, amp_E2):\n",
    "            print(\"  - amp_E1=%.2f amp_E2=%.2f\" % (a1, a2))\n",
    "\n",
    "            # generate list of pulse trains\n",
    "            pt_list = []\n",
    "            for j in range(16):\n",
    "                if j == idx_E1:\n",
    "                    pt_list.append(get_pulse_train(a1, tsample=tsample))\n",
    "                elif j == idx_E2:\n",
    "                    pt_list.append(get_pulse_train(a2, delay_dur=delay, tsample=tsample))\n",
    "                else:\n",
    "                    pt_list.append(get_pulse_train(0, tsample=tsample))\n",
    "            \n",
    "            # calculate response\n",
    "            resp = ec2b.pulse2percept(tm, cs, r, pt_list, 30, dojit=True, n_jobs=4)\n",
    "                        \n",
    "            # save data\n",
    "            save_frames.append(resp)\n",
    "            save_amp_E1.append(a1)\n",
    "            save_amp_E2.append(a2)\n",
    "            save_delay.append(delay)\n",
    "    \n",
    "    filename = 'new_E' + str(idx_E1) + '_E' + str(idx_E2) + '_cond' + str(idx_cond) + \\\n",
    "        '_' + date.today().strftime(\"%Y-%m-%d\") + '-X.npz'\n",
    "    np.savez(filename, frames=save_frames, cond=idx_cond, E1=idx_E1, E2=idx_E2, \n",
    "             amp_E1=save_amp_E1, amp_E2=save_amp_E2, delay=save_delay)\n",
    "    print('Results saved to %s' % filename)"
   ]
  },
  {
   "cell_type": "code",
   "execution_count": 48,
   "metadata": {
    "collapsed": true
   },
   "outputs": [],
   "source": [
    "# sampling step in seconds\n",
    "tsample = 5e-6\n",
    "\n",
    "# threshold current in micro amps\n",
    "amp_thresh = 30\n",
    "\n",
    "# current of reference electrode, at some factor x threshold\n",
    "amp_ref = 1.5 * amp_thresh\n",
    "\n",
    "# standard temporal model\n",
    "tm = ec2b.TemporalModel(model='Nanduri', tsample=tsample)"
   ]
  },
  {
   "cell_type": "code",
   "execution_count": 49,
   "metadata": {
    "collapsed": false
   },
   "outputs": [],
   "source": [
    "# Create a Retina object that can hold the entire Argus I array (4x4 checkerboard, 880um center-to-center)\n",
    "# width: 4 x 880um = 3520um, but add radii: 3520um + 130um + 260um = 3910 um, but add padding for current spread -> 5000um\n",
    "r_sampling = 250  # spatial sampling of retina\n",
    "r = e2cm.Retina(axon_map='../retina_argus_s' + str(r_sampling) + '.npz', \n",
    "                sampling=r_sampling, xlo=-2500, xhi=2500, ylo=-2500, yhi=2500)"
   ]
  },
  {
   "cell_type": "code",
   "execution_count": null,
   "metadata": {
    "collapsed": true
   },
   "outputs": [],
   "source": [
    "# Create Argus I electrode array \n",
    "# 4x4 checkerboard, 880um center-to-center, (almost) alternating electrode sizes\n",
    "\n",
    "e_spacing = 880  # um\n",
    "x_coord = np.arange(0, 4) * e_spacing - 1.5 * e_spacing\n",
    "x_coord, y_coord = np.meshgrid(x_coord, x_coord, sparse=False)\n",
    "\n",
    "# spatial arrangement of Argus I creates checkerboard with alternating electrode sizes\n",
    "#   .  o  .  o\n",
    "#   o  .  o  .\n",
    "#   .  o  .  o\n",
    "#   o  .  o  .\n",
    "r_arr = np.array([260, 520, 260, 520])\n",
    "r_arr = np.concatenate((r_arr, r_arr[::-1], r_arr, r_arr[::-1]), axis=0)\n",
    "h_arr = np.ones(16)*100\n",
    "\n",
    "e_all = e2cm.ElectrodeArray(r_arr.tolist(), x_coord.flatten().tolist(),\n",
    "                            y_coord.flatten().tolist(), h_arr.tolist())"
   ]
  },
  {
   "cell_type": "code",
   "execution_count": null,
   "metadata": {
    "collapsed": false
   },
   "outputs": [],
   "source": [
    "# show the cumulative current spread of the Argus I electrode arrangement\n",
    "plt.matshow(np.flipud(e_all.current_spread(r.gridx, r.gridy)),\n",
    "            vmin=0, cmap='hot')\n",
    "\n",
    "# also plot the center points of all the electrodes\n",
    "plt.plot(x_coord/r_sampling+r.gridx.shape[0]/2,\n",
    "         y_coord/r_sampling+r.gridx.shape[0]/2, '.')\n",
    "\n",
    "plt.axis([0, r.gridx.shape[0], 0, r.gridx.shape[1]])\n",
    "plt.colorbar()"
   ]
  },
  {
   "cell_type": "code",
   "execution_count": null,
   "metadata": {
    "collapsed": false
   },
   "outputs": [],
   "source": [
    "# We derive the effective current stimulation (ecs; passed through the effect of the retinal layout, axons, etc.) \n",
    "# in addition to the current (cs):\n",
    "ecs, cs = r.electrode_ecs(e_all)"
   ]
  },
  {
   "cell_type": "code",
   "execution_count": null,
   "metadata": {
    "collapsed": false
   },
   "outputs": [],
   "source": [
    "# C1 / D1 electrode index\n",
    "idx_E1 = 2\n",
    "idx_E2 = 3\n",
    "\n",
    "for idx_cond in range(5):\n",
    "    run_condition(idx_cond + 1, idx_E1, amp_E1[idx_cond], \n",
    "                  idx_E2, amp_E2[idx_cond], \n",
    "                  tm, cs, r, tsample)"
   ]
  },
  {
   "cell_type": "code",
   "execution_count": null,
   "metadata": {
    "collapsed": false
   },
   "outputs": [],
   "source": [
    "# C3 / C2 electrode index\n",
    "idx_E1 = 10\n",
    "idx_E2 = 6\n",
    "\n",
    "for idx_cond in range(5):\n",
    "    run_condition(idx_cond + 1, idx_E1, amp_E1[idx_cond], \n",
    "                  idx_E2, amp_E2[idx_cond], \n",
    "                  tm, cs, r, tsample)"
   ]
  },
  {
   "cell_type": "code",
   "execution_count": null,
   "metadata": {
    "collapsed": false
   },
   "outputs": [],
   "source": [
    "# C3 / B2 electrode index\n",
    "idx_E1 = 10\n",
    "idx_E2 = 5\n",
    "\n",
    "for idx_cond in range(5):\n",
    "    run_condition(idx_cond + 1, idx_E1, amp_E1[idx_cond], \n",
    "                  idx_E2, amp_E2[idx_cond], \n",
    "                  tm, cs, r, tsample)"
   ]
  },
  {
   "cell_type": "code",
   "execution_count": null,
   "metadata": {
    "collapsed": false
   },
   "outputs": [],
   "source": [
    "# A1 / A2 electrode index\n",
    "idx_E1 = 0\n",
    "idx_E2 = 4\n",
    "\n",
    "for idx_cond in range(5):\n",
    "    run_condition(idx_cond + 1, idx_E1, amp_E1[idx_cond], \n",
    "                  idx_E2, amp_E2[idx_cond], \n",
    "                  tm, cs, r, tsample)"
   ]
  },
  {
   "cell_type": "code",
   "execution_count": null,
   "metadata": {
    "collapsed": false
   },
   "outputs": [],
   "source": [
    "# B2 / B4 electrode index\n",
    "idx_E1 = 5\n",
    "idx_E2 = 13\n",
    "\n",
    "for idx_cond in range(5):\n",
    "    run_condition(idx_cond + 1, idx_E1, amp_E1[idx_cond], \n",
    "                  idx_E2, amp_E2[idx_cond], \n",
    "                  tm, cs, r, tsample)"
   ]
  },
  {
   "cell_type": "code",
   "execution_count": null,
   "metadata": {
    "collapsed": false
   },
   "outputs": [],
   "source": [
    "# C4 / C1 electrode index\n",
    "idx_E1 = 14\n",
    "idx_E2 = 2\n",
    "\n",
    "\n",
    "for idx_cond in range(5):\n",
    "    run_condition(idx_cond + 1, idx_E1, amp_E1[idx_cond], \n",
    "                  idx_E2, amp_E2[idx_cond], \n",
    "                  tm, cs, r, tsample)"
   ]
  },
  {
   "cell_type": "code",
   "execution_count": 4,
   "metadata": {
    "collapsed": true
   },
   "outputs": [],
   "source": [
    "def fit_amps(x, y, match_y):\n",
    "    # spline interpolation for given x,y measurements\n",
    "    f = interp1d(x, y, fill_value='extrapolate')\n",
    "    \n",
    "    # finer-grained x-scale\n",
    "    x_finer = np.linspace(x[0], x[-1], 1000)\n",
    "    \n",
    "    # find idx of argmin\n",
    "    idx = np.abs(f(x_finer) - match_y).argmin()\n",
    "    \n",
    "    # return x value\n",
    "    return x_finer[idx]"
   ]
  },
  {
   "cell_type": "code",
   "execution_count": 5,
   "metadata": {
    "collapsed": true
   },
   "outputs": [],
   "source": [
    "def fit_gamma(x, y):\n",
    "    # for all points (x,y), calculate r and compare to predicted\n",
    "    best_err = np.inf\n",
    "    best_gamma = 0\n",
    "    for gamma in np.linspace(-1, 2, 100):\n",
    "        err = np.sum(np.abs( np.sqrt(x**2 + y**2 + gamma * x * y) - 1))\n",
    "        if err < best_err:\n",
    "            best_err = err\n",
    "            best_gamma = gamma\n",
    "    return best_gamma"
   ]
  },
  {
   "cell_type": "code",
   "execution_count": 6,
   "metadata": {
    "collapsed": true
   },
   "outputs": [],
   "source": [
    "def movie2bright(pt, mode='softmax'):\n",
    "    if mode == 'max':\n",
    "        return pt.max()\n",
    "    elif mode == 'softmax':\n",
    "        # frame-wise softmax\n",
    "        return (np.exp(pt) / np.exp(pt).sum(axis=(0,1))).max(axis=(0,1)).max()\n",
    "    elif mode == 'mean':\n",
    "        return pt.mean(axis=(0,1)).max()\n",
    "    else:\n",
    "        raise ValueError('Unknown mode \"' + mode + '\"')"
   ]
  },
  {
   "cell_type": "code",
   "execution_count": 39,
   "metadata": {
    "collapsed": true
   },
   "outputs": [],
   "source": [
    "def get_isobrightness(idx_E1, idx_E2, prefix, suffix, mode='max'):\n",
    "    el_str = prefix + 'E' + str(idx_E1) + '_E' + str(idx_E2)\n",
    "    print(\"  \" + el_str)\n",
    "    data_cond1 = np.load(el_str + '_cond1_' + suffix + '.npz')\n",
    "    data_cond2 = np.load(el_str + '_cond2_' + suffix + '.npz')\n",
    "    data_cond3 = np.load(el_str + '_cond3_' + suffix + '.npz')\n",
    "    data_cond4 = np.load(el_str + '_cond4_' + suffix + '.npz')\n",
    "    data_cond5 = np.load(el_str + '_cond5_' + suffix + '.npz')\n",
    "\n",
    "    delay = [0.075, 0.375, 1.8, 9]\n",
    "\n",
    "    # reference brightness from single electrode\n",
    "    match_b1 = movie2bright(data_cond1['frames'][2].data, mode)\n",
    "    match_b2 = movie2bright(data_cond2['frames'][2].data, mode)\n",
    "\n",
    "    gamma = []\n",
    "    amp1 = []\n",
    "    amp2 = []\n",
    "    for j in range(len(delay)):\n",
    "        plot_amp1 = [0]\n",
    "        plot_amp2 = [1]\n",
    "\n",
    "        # condition 3\n",
    "        x3 = data_cond3['amp_E2'][0:len(amp_E2[2])]\n",
    "        y3 = [movie2bright(f.data, mode) for f in data_cond3['frames'][j*len(amp_E2[2]):(j+1)*len(amp_E2[2])]]\n",
    "        amp_b3 = fit_amps(x3, y3, match_b2)\n",
    "        plot_amp1.append(data_cond3['amp_E1'][2] / amp_ref)\n",
    "        plot_amp2.append(amp_b3 / amp_ref)\n",
    "\n",
    "        # condition 5\n",
    "        x5 = data_cond5['amp_E1'][0:len(amp_E1[4])]\n",
    "        y5 = [movie2bright(f.data, mode) for f in data_cond5['frames'][j*len(amp_E1[4]):(j+1)*len(amp_E1[4])]]\n",
    "        amp_b5 = fit_amps(x5, y5, match_b1)\n",
    "        plot_amp1.append(amp_b5 / amp_ref)\n",
    "        x5 = data_cond5['amp_E2'][0:len(amp_E2[4])]\n",
    "        y5 = [movie2bright(f.data, mode) for f in data_cond5['frames'][j*len(amp_E2[4]):(j+1)*len(amp_E2[4])]]\n",
    "        amp_b5 = fit_amps(x5, y5, match_b2)\n",
    "        plot_amp2.append(amp_b5 / amp_ref)\n",
    "\n",
    "        # condition 4\n",
    "        x4 = data_cond4['amp_E1'][0:len(amp_E1[3])]\n",
    "        y4 = [movie2bright(f.data, mode) for f in data_cond4['frames'][j*len(amp_E1[3]):(j+1)*len(amp_E1[3])]]\n",
    "        amp_b4 = fit_amps(x4, y4, match_b1)\n",
    "        plot_amp1.append(amp_b4 / amp_ref)\n",
    "        plot_amp2.append(data_cond4['amp_E2'][3] / amp_ref)\n",
    "\n",
    "        plot_amp1.append(1)\n",
    "        plot_amp2.append(0)\n",
    "        \n",
    "        gamma.append(fit_gamma(np.array(plot_amp1), np.array(plot_amp2)))        \n",
    "        amp1.append(plot_amp1)\n",
    "        amp2.append(plot_amp2)\n",
    "        \n",
    "    return (amp1, amp2, gamma)"
   ]
  },
  {
   "cell_type": "code",
   "execution_count": 40,
   "metadata": {
    "collapsed": false
   },
   "outputs": [
    {
     "name": "stdout",
     "output_type": "stream",
     "text": [
      "new_2016-10-01-X: softmax\n",
      "- Processing E2, E3: C1, D1\n",
      "  new_E2_E3\n",
      "- Processing E10, E6: C3, C2\n",
      "  new_E10_E6\n",
      "- Processing E10, E5: C3, B2\n",
      "  new_E10_E5\n",
      "- Processing E0, E4: A1, A2\n",
      "  new_E0_E4\n",
      "- Processing E5, E13: B2, B4\n",
      "  new_E5_E13\n",
      "- Processing E14, E2: C4, C2\n",
      "  new_E14_E2\n"
     ]
    }
   ],
   "source": [
    "# how to get brightness from pulse train\n",
    "# {'max', 'softmax', 'mean'}\n",
    "mode = 'softmax'\n",
    "\n",
    "prefix = 'new_'\n",
    "suffix = '2016-10-01-X'\n",
    "idx_E1 = [2, 10, 10, 0,  5, 14]\n",
    "idx_E2 = [3,  6,  5, 4, 13,  2]\n",
    "idx_title = ['C1, D1', 'C3, C2', 'C3, B2', 'A1, A2', 'B2, B4', 'C4, C2']\n",
    "delay = [0.075, 0.375, 1.8, 9]\n",
    "\n",
    "print(prefix + suffix + \": \" + mode)\n",
    "all_amp1 = []\n",
    "all_amp2 = []\n",
    "all_gamma = []\n",
    "for E1, E2, title in zip(idx_E1, idx_E2, idx_title):\n",
    "    print('- Processing E%d, E%d: %s' % (E1, E2, title))\n",
    "    amp1, amp2, gamma = get_isobrightness(E1, E2, prefix, suffix, mode=mode)\n",
    "    all_amp1.append(amp1)\n",
    "    all_amp2.append(amp2)\n",
    "    all_gamma.append(gamma)\n",
    "\n",
    "all_gamma = np.array(all_gamma)"
   ]
  },
  {
   "cell_type": "code",
   "execution_count": 29,
   "metadata": {
    "collapsed": false
   },
   "outputs": [
    {
     "data": {
      "image/png": "[encoded data removed]",
      "text/plain": [
       "<matplotlib.figure.Figure at 0x7ff97842ac50>"
      ]
     },
     "metadata": {},
     "output_type": "display_data"
    }
   ],
   "source": [
    "plt.hist(all_gamma, stacked=True, label=delay)\n",
    "plt.xlabel('gamma')\n",
    "plt.ylabel('count')\n",
    "plt.legend()\n",
    "plt.title('movie2brightness: ' + mode)\n",
    "plt.savefig('data/plot_gamma_' + mode + '.jpg')"
   ]
  },
  {
   "cell_type": "code",
   "execution_count": 36,
   "metadata": {
    "collapsed": false
   },
   "outputs": [
    {
     "ename": "IndexError",
     "evalue": "list index out of range",
     "output_type": "error",
     "traceback": [
      "\u001b[1;31m---------------------------------------------------------------------------\u001b[0m",
      "\u001b[1;31mIndexError\u001b[0m                                Traceback (most recent call last)",
      "\u001b[1;32m<ipython-input-36-e7f47c0a5338>\u001b[0m in \u001b[0;36m<module>\u001b[1;34m()\u001b[0m\n\u001b[0;32m      1\u001b[0m \u001b[0mindex\u001b[0m \u001b[1;33m=\u001b[0m \u001b[1;36m6\u001b[0m\u001b[1;33m\u001b[0m\u001b[0m\n\u001b[1;32m----> 2\u001b[1;33m \u001b[0mplt\u001b[0m\u001b[1;33m.\u001b[0m\u001b[0mplot\u001b[0m\u001b[1;33m(\u001b[0m\u001b[0mnp\u001b[0m\u001b[1;33m.\u001b[0m\u001b[0marray\u001b[0m\u001b[1;33m(\u001b[0m\u001b[0mall_amp1\u001b[0m\u001b[1;33m[\u001b[0m\u001b[0mindex\u001b[0m\u001b[1;33m]\u001b[0m\u001b[1;33m)\u001b[0m\u001b[1;33m.\u001b[0m\u001b[0mT\u001b[0m\u001b[1;33m,\u001b[0m \u001b[0mnp\u001b[0m\u001b[1;33m.\u001b[0m\u001b[0marray\u001b[0m\u001b[1;33m(\u001b[0m\u001b[0mall_amp2\u001b[0m\u001b[1;33m[\u001b[0m\u001b[0mindex\u001b[0m\u001b[1;33m]\u001b[0m\u001b[1;33m)\u001b[0m\u001b[1;33m.\u001b[0m\u001b[0mT\u001b[0m\u001b[1;33m,\u001b[0m \u001b[1;34m'o-'\u001b[0m\u001b[1;33m,\u001b[0m \u001b[0mlabel\u001b[0m\u001b[1;33m=\u001b[0m\u001b[0mdelay\u001b[0m\u001b[1;33m,\u001b[0m \u001b[0mlinewidth\u001b[0m\u001b[1;33m=\u001b[0m\u001b[1;36m2\u001b[0m\u001b[1;33m)\u001b[0m\u001b[1;33m\u001b[0m\u001b[0m\n\u001b[0m\u001b[0;32m      3\u001b[0m \u001b[0mplt\u001b[0m\u001b[1;33m.\u001b[0m\u001b[0mplot\u001b[0m\u001b[1;33m(\u001b[0m\u001b[1;33m[\u001b[0m\u001b[1;36m1\u001b[0m\u001b[1;33m,\u001b[0m \u001b[1;36m0\u001b[0m\u001b[1;33m]\u001b[0m\u001b[1;33m,\u001b[0m \u001b[1;33m[\u001b[0m\u001b[1;36m0\u001b[0m\u001b[1;33m,\u001b[0m \u001b[1;36m1\u001b[0m\u001b[1;33m]\u001b[0m\u001b[1;33m,\u001b[0m \u001b[1;34m'--'\u001b[0m\u001b[1;33m)\u001b[0m\u001b[1;33m\u001b[0m\u001b[0m\n\u001b[0;32m      4\u001b[0m \u001b[0mplt\u001b[0m\u001b[1;33m.\u001b[0m\u001b[0mxlabel\u001b[0m\u001b[1;33m(\u001b[0m\u001b[1;34m'E1'\u001b[0m\u001b[1;33m)\u001b[0m\u001b[1;33m\u001b[0m\u001b[0m\n\u001b[0;32m      5\u001b[0m \u001b[0mplt\u001b[0m\u001b[1;33m.\u001b[0m\u001b[0mylabel\u001b[0m\u001b[1;33m(\u001b[0m\u001b[1;34m'E2'\u001b[0m\u001b[1;33m)\u001b[0m\u001b[1;33m\u001b[0m\u001b[0m\n",
      "\u001b[1;31mIndexError\u001b[0m: list index out of range"
     ]
    }
   ],
   "source": [
    "index = 0\n",
    "plt.plot(np.array(all_amp1[index]).T, np.array(all_amp2[index]).T, 'o-', label=delay, linewidth=2)\n",
    "plt.plot([1, 0], [0, 1], '--')\n",
    "plt.xlabel('E1')\n",
    "plt.ylabel('E2')\n",
    "plt.legend(loc='upper right')\n",
    "plt.title(idx_title[index])\n",
    "plt.axis('equal')\n",
    "plt.legend(delay)\n",
    "\n",
    "# These are in unitless percentages of the figure size. (0,0 is bottom left)\n",
    "left, bottom, width, height = [0.2, 0.2, 0.25, 0.25]\n",
    "ax2 = plt.axes([left, bottom, width, height])\n",
    "ax2.plot(all_gamma[index], 'o-k')\n",
    "ax2.plot([0, len(delay) - 1], [0, 0], ':k')\n",
    "ax2.plot([0, len(delay) - 1], [1, 1], ':k')\n",
    "plt.xticks(range(len(delay)), delay)\n",
    "plt.yticks([-1, 0, 1, 2])\n",
    "plt.ylim(-1, 2)\n",
    "plt.savefig('data/plot_' + prefix + idx_title[index].replace(\", \", \"-\") + \"_\" + mode + \"_\" + suffix + '.jpg')"
   ]
  },
  {
   "cell_type": "code",
   "execution_count": null,
   "metadata": {
    "collapsed": true
   },
   "outputs": [],
   "source": []
  }
 ],
 "metadata": {
  "anaconda-cloud": {},
  "kernelspec": {
   "display_name": "Python [Root]",
   "language": "python",
   "name": "Python [Root]"
  },
  "language_info": {
   "codemirror_mode": {
    "name": "ipython",
    "version": 3
   },
   "file_extension": ".py",
   "mimetype": "text/x-python",
   "name": "python",
   "nbconvert_exporter": "python",
   "pygments_lexer": "ipython3",
   "version": "3.5.2"
  }
 },
 "nbformat": 4,
 "nbformat_minor": 0
}
