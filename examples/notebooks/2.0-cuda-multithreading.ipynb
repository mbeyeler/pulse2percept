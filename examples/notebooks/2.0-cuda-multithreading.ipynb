{
 "cells": [
  {
   "cell_type": "code",
   "execution_count": 2,
   "metadata": {
    "collapsed": false
   },
   "outputs": [],
   "source": [
    "# https://wiki.tiker.net/PyCuda/Examples/MultipleThreads\n",
    "\n",
    "# Derived from a test case by Chris Heuser\n",
    "# Also see FAQ about PyCUDA and threads.\n",
    "import pycuda\n",
    "import pycuda.driver as cuda\n",
    "from pycuda.compiler import SourceModule\n",
    "import threading\n",
    "import numpy"
   ]
  },
  {
   "cell_type": "code",
   "execution_count": 4,
   "metadata": {
    "collapsed": false
   },
   "outputs": [],
   "source": [
    "class GPUThread(threading.Thread):\n",
    "    def __init__(self, number, some_array):\n",
    "        threading.Thread.__init__(self)\n",
    "\n",
    "        self.number = number\n",
    "        self.some_array = some_array\n",
    "\n",
    "    def run(self):\n",
    "        self.dev = cuda.Device(self.number)\n",
    "        self.ctx = self.dev.make_context()\n",
    "\n",
    "        self.array_gpu = cuda.mem_alloc(some_array.nbytes)\n",
    "        cuda.memcpy_htod(self.array_gpu, some_array)\n",
    "\n",
    "        test_kernel(self.array_gpu)\n",
    "        print(\"successful exit from thread %d\" % self.number)\n",
    "        self.ctx.pop()\n",
    "\n",
    "        del self.array_gpu\n",
    "        del self.ctx"
   ]
  },
  {
   "cell_type": "code",
   "execution_count": 5,
   "metadata": {
    "collapsed": true
   },
   "outputs": [],
   "source": [
    "def test_kernel(input_array_gpu):\n",
    "    mod = SourceModule(\"\"\"\n",
    "        __global__ void f(float * out, float * in)\n",
    "        {\n",
    "            int idx = threadIdx.x;\n",
    "            out[idx] = in[idx] + 6;\n",
    "        }\n",
    "        \"\"\")\n",
    "    func = mod.get_function(\"f\")\n",
    "\n",
    "    output_array = numpy.zeros((1,512))\n",
    "    output_array_gpu = cuda.mem_alloc(output_array.nbytes)\n",
    "\n",
    "    func(output_array_gpu,\n",
    "          input_array_gpu,\n",
    "          block=(512,1,1))\n",
    "    cuda.memcpy_dtoh(output_array, output_array_gpu)\n",
    "\n",
    "    return output_array"
   ]
  },
  {
   "cell_type": "code",
   "execution_count": 6,
   "metadata": {
    "collapsed": false
   },
   "outputs": [
    {
     "name": "stdout",
     "output_type": "stream",
     "text": [
      "successful exit from thread 0\n",
      "successful exit from thread 1\n"
     ]
    }
   ],
   "source": [
    "cuda.init()\n",
    "some_array = numpy.ones((1,512), dtype=numpy.float32)\n",
    "num = cuda.Device.count()\n",
    "\n",
    "gpu_thread_list = []\n",
    "for i in range(num):\n",
    "    gpu_thread = GPUThread(i, some_array)\n",
    "    gpu_thread.start()\n",
    "    gpu_thread_list.append(gpu_thread)"
   ]
  },
  {
   "cell_type": "code",
   "execution_count": null,
   "metadata": {
    "collapsed": true
   },
   "outputs": [],
   "source": []
  }
 ],
 "metadata": {
  "anaconda-cloud": {},
  "kernelspec": {
   "display_name": "Python [Root]",
   "language": "python",
   "name": "Python [Root]"
  },
  "language_info": {
   "codemirror_mode": {
    "name": "ipython",
    "version": 3
   },
   "file_extension": ".py",
   "mimetype": "text/x-python",
   "name": "python",
   "nbconvert_exporter": "python",
   "pygments_lexer": "ipython3",
   "version": "3.5.2"
  }
 },
 "nbformat": 4,
 "nbformat_minor": 0
}
