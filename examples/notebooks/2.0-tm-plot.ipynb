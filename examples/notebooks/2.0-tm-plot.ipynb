{
 "cells": [
  {
   "cell_type": "code",
   "execution_count": 1,
   "metadata": {
    "collapsed": false,
    "deletable": true,
    "editable": true
   },
   "outputs": [
    {
     "name": "stderr",
     "output_type": "stream",
     "text": [
      "2017-04-01 23:26:05,400 [pulse2percept] [INFO] Welcome to pulse2percept\n"
     ]
    }
   ],
   "source": [
    "import numpy as np\n",
    "import pickle\n",
    "\n",
    "import skimage.io as skio\n",
    "import skimage.transform as skit\n",
    "import skimage.measure as skim\n",
    "import scipy.optimize as scpo\n",
    "\n",
    "import matplotlib.pyplot as plt\n",
    "%matplotlib inline\n",
    "plt.style.use('ggplot')\n",
    "new_style = {'grid': False}\n",
    "plt.rc('axes', **new_style)\n",
    "\n",
    "import pulse2percept as p2p"
   ]
  },
  {
   "cell_type": "code",
   "execution_count": 2,
   "metadata": {
    "collapsed": true
   },
   "outputs": [],
   "source": [
    "class InterpSim(p2p.Simulation):\n",
    "    def __init__(self, implant, name=None, engine='joblib', dojit=True, num_jobs=-1):\n",
    "        if not isinstance(implant, p2p.implants.ElectrodeArray):\n",
    "            e_s = \"`implant` must be of type p2p.implants.ElectrodeArray\"\n",
    "            raise TypeError(e_s)\n",
    "\n",
    "        self.name = name\n",
    "        self.implant = implant\n",
    "        self.engine = engine\n",
    "        self.dojit = dojit\n",
    "        self.num_jobs = num_jobs\n",
    "\n",
    "        # Optic fiber layer (OFL): After calling `set_optic_fiber_layer`, this\n",
    "        # variable will contain a `p2p.retina.Grid` object.\n",
    "        self.ofl = None\n",
    "\n",
    "        # Ganglion cell layer (GCL): After calling `set_ganglion_cell_layer`,\n",
    "        # this variable will contain a `p2p.retina.TemporalModel` object.\n",
    "        self.gcl = None\n",
    "        \n",
    "    def set_ganglion_cell_layer(self, loadfile):\n",
    "        from scipy.interpolate import RegularGridInterpolator\n",
    "        import pickle\n",
    "        \n",
    "        in_list, out_list = pickle.load(open(loadfile, 'rb'))\n",
    "        in_arr = np.array(in_list)\n",
    "        amps = np.unique(in_arr[:, 0])\n",
    "        freqs = np.unique(in_arr[:, 1])\n",
    "        ecs = np.unique(in_arr[:, 2])\n",
    "        out_arr = np.array(out_list).reshape((len(amps), len(freqs), len(ecs)))\n",
    "\n",
    "        self.gcl = RegularGridInterpolator((amps, freqs, ecs), out_arr,\n",
    "                                           bounds_error=False, fill_value=None)\n",
    "        \n",
    "    def pulse2percept(self, amps, freq, layers=['OFL', 'GCL']):\n",
    "        if 'OFL' in layers:\n",
    "            ecs, _ = self.ofl.electrode_ecs(self.implant)\n",
    "        else:\n",
    "            _, ecs = self.ofl.electrode_ecs(self.implant)\n",
    "            \n",
    "        # Sum up current contributions from all electrodes\n",
    "        ecs = np.sum(ecs[:, :, 1, :] * amps.flatten(), axis=-1)\n",
    "        \n",
    "        out_list = np.array([self.gcl([a, freq, 1]) for a in ecs.flatten()])\n",
    "        out_list[ecs.flatten() < 0] = 0.0\n",
    "        return out_list.reshape(ecs.shape)"
   ]
  },
  {
   "cell_type": "code",
   "execution_count": 3,
   "metadata": {
    "collapsed": true,
    "deletable": true,
    "editable": true
   },
   "outputs": [],
   "source": [
    "def calc_ssim(target, pred):\n",
    "    return skim.compare_ssim(target / target.max(),\n",
    "                             pred / pred.max(),\n",
    "                             data_range=1.0,\n",
    "                             gaussian_weights=True, sigma=1.5,\n",
    "                             use_sample_covariance=False)"
   ]
  },
  {
   "cell_type": "code",
   "execution_count": 4,
   "metadata": {
    "collapsed": false,
    "deletable": true,
    "editable": true
   },
   "outputs": [],
   "source": [
    "def calc_error(target, pred, amps, mode='ssim', lmb=0.0001):\n",
    "    # reconstruction error\n",
    "    if mode.lower() == 'ssim':\n",
    "        reconst = (1.0 - calc_ssim(target, pred)) / 2.0\n",
    "    elif mode.lower() == 'rmse':\n",
    "        reconst = skim.compare_nrmse(target / target.max(), pred / pred.max())\n",
    "    else:\n",
    "        raise NotImplementedError\n",
    "\n",
    "    # regularization\n",
    "    regular = np.linalg.norm(amps.flatten())\n",
    "    \n",
    "    return reconst + lmb * regular"
   ]
  },
  {
   "cell_type": "code",
   "execution_count": 5,
   "metadata": {
    "collapsed": true,
    "deletable": true,
    "editable": true
   },
   "outputs": [],
   "source": [
    "def plot_results(img_in, img_out, img_target, lmb=0.0001):\n",
    "    ssim = calc_ssim(img_target, img_out)\n",
    "    err = calc_error(img_target, img_out, img_in, mode='rmse', lmb=lmb)\n",
    "    plt.subplot(131)\n",
    "    plt.imshow(img_in.reshape((6, 10)), cmap='gray')\n",
    "    plt.title('in')\n",
    "    plt.subplot(132)\n",
    "    plt.imshow(img_out, cmap='gray')\n",
    "    plt.title('ssim=%.3f err=%.3f' % (ssim, err))\n",
    "    plt.subplot(133)\n",
    "    plt.imshow(img_target, cmap='gray')\n",
    "    plt.title('target')"
   ]
  },
  {
   "cell_type": "code",
   "execution_count": 6,
   "metadata": {
    "collapsed": true
   },
   "outputs": [],
   "source": [
    "implant = p2p.implants.ArgusII()"
   ]
  },
  {
   "cell_type": "code",
   "execution_count": 8,
   "metadata": {
    "collapsed": false
   },
   "outputs": [
    {
     "data": {
      "text/plain": [
       "(array([   0.,    5.,   10.,   15.,   20.,   25.,   30.,   35.,   40.,\n",
       "          45.,   50.,   55.,   60.,   65.,   70.,   75.,   80.,   85.,\n",
       "          90.,   95.,  100.]),\n",
       " array([   0.,   10.,   20.,   30.,   40.,   50.,   60.,   70.,   80.,\n",
       "          90.,  100.,  110.,  120.,  130.,  140.,  150.,  160.,  170.,\n",
       "         180.,  190.,  200.]),\n",
       " array([ 0. ,  0.1,  0.2,  0.3,  0.4,  0.5,  0.6,  0.7,  0.8,  0.9,  1. ,\n",
       "         1.1,  1.2,  1.3,  1.4,  1.5]))"
      ]
     },
     "execution_count": 8,
     "metadata": {},
     "output_type": "execute_result"
    }
   ],
   "source": [
    "# The approximated model, interpolated from an input-output function\n",
    "sim = InterpSim(implant)\n",
    "sim.set_optic_fiber_layer(sampling=200)\n",
    "sim.set_ganglion_cell_layer('temporal-model-amps-freqs-ecs.dat')\n",
    "sim.gcl.grid"
   ]
  },
  {
   "cell_type": "code",
   "execution_count": 9,
   "metadata": {
    "collapsed": true
   },
   "outputs": [],
   "source": [
    "letterfile = 'letters/G.jpg'"
   ]
  },
  {
   "cell_type": "code",
   "execution_count": 10,
   "metadata": {
    "collapsed": false
   },
   "outputs": [
    {
     "data": {
      "text/plain": [
       "((200, 256), 0, 255)"
      ]
     },
     "execution_count": 10,
     "metadata": {},
     "output_type": "execute_result"
    }
   ],
   "source": [
    "img = 255 - skio.imread(letterfile)\n",
    "img.shape, img.min(), img.max()"
   ]
  },
  {
   "cell_type": "code",
   "execution_count": 11,
   "metadata": {
    "collapsed": false
   },
   "outputs": [
    {
     "data": {
      "text/plain": [
       "((6, 10), 0.0, 1.0)"
      ]
     },
     "execution_count": 11,
     "metadata": {},
     "output_type": "execute_result"
    }
   ],
   "source": [
    "img = img[50:150, 70:190]\n",
    "img_small = skit.resize(img, (6, 10))\n",
    "img_small.shape, img_small.min(), img_small.max()"
   ]
  },
  {
   "cell_type": "code",
   "execution_count": 12,
   "metadata": {
    "collapsed": false,
    "deletable": true,
    "editable": true
   },
   "outputs": [
    {
     "data": {
      "text/plain": [
       "((21, 31), 0.0, 1.0)"
      ]
     },
     "execution_count": 12,
     "metadata": {},
     "output_type": "execute_result"
    }
   ],
   "source": [
    "target = skit.resize(img, (21, 31))\n",
    "target.shape, target.min(), target.max()"
   ]
  },
  {
   "cell_type": "code",
   "execution_count": 19,
   "metadata": {
    "collapsed": false,
    "deletable": true,
    "editable": true
   },
   "outputs": [
    {
     "data": {
      "image/png": "[encoded data removed]",
      "text/plain": [
       "<matplotlib.figure.Figure at 0x7ff58b2b65f8>"
      ]
     },
     "metadata": {},
     "output_type": "display_data"
    }
   ],
   "source": [
    "xopt = pickle.load(open('../../scripts/xopt-rmse-G-GCL.dat', 'rb'))\n",
    "xopt = np.maximum(0, xopt)\n",
    "layers = ['GCL']\n",
    "out = sim.pulse2percept(xopt, 20, layers=layers)\n",
    "plt.figure(figsize=(15, 6))\n",
    "plot_results(xopt, out, target)"
   ]
  },
  {
   "cell_type": "code",
   "execution_count": 20,
   "metadata": {
    "collapsed": false,
    "deletable": true,
    "editable": true
   },
   "outputs": [
    {
     "data": {
      "image/png": "[encoded data removed]",
      "text/plain": [
       "<matplotlib.figure.Figure at 0x7ff58b13a908>"
      ]
     },
     "metadata": {},
     "output_type": "display_data"
    }
   ],
   "source": [
    "xopt = pickle.load(open('../../scripts/xopt-ssim-G-GCL.dat', 'rb'))\n",
    "xopt = np.maximum(0, xopt)\n",
    "layers = ['GCL']\n",
    "out = sim.pulse2percept(xopt, 20, layers=layers)\n",
    "plt.figure(figsize=(15, 6))\n",
    "plot_results(xopt, out, target)"
   ]
  },
  {
   "cell_type": "code",
   "execution_count": 21,
   "metadata": {
    "collapsed": false
   },
   "outputs": [
    {
     "data": {
      "image/png": "[encoded data removed]",
      "text/plain": [
       "<matplotlib.figure.Figure at 0x7ff58b643d68>"
      ]
     },
     "metadata": {},
     "output_type": "display_data"
    }
   ],
   "source": [
    "xopt = pickle.load(open('../../scripts/xopt-rmse-G-OFL.dat', 'rb'))\n",
    "xopt = np.maximum(0, xopt)\n",
    "layers = ['GCL', 'OFL']\n",
    "out = sim.pulse2percept(xopt, 20, layers=layers)\n",
    "plt.figure(figsize=(15, 6))\n",
    "plot_results(xopt, out, target)"
   ]
  },
  {
   "cell_type": "code",
   "execution_count": 22,
   "metadata": {
    "collapsed": false
   },
   "outputs": [
    {
     "data": {
      "image/png": "[encoded data removed]",
      "text/plain": [
       "<matplotlib.figure.Figure at 0x7ff58b1ddf28>"
      ]
     },
     "metadata": {},
     "output_type": "display_data"
    }
   ],
   "source": [
    "xopt = pickle.load(open('../../scripts/xopt-ssim-G-OFL.dat', 'rb'))\n",
    "xopt = np.maximum(0, xopt)\n",
    "layers = ['GCL', 'OFL']\n",
    "out = sim.pulse2percept(xopt, 20, layers=layers)\n",
    "plt.figure(figsize=(15, 6))\n",
    "plot_results(xopt, out, target)"
   ]
  },
  {
   "cell_type": "code",
   "execution_count": null,
   "metadata": {
    "collapsed": true
   },
   "outputs": [],
   "source": []
  }
 ],
 "metadata": {
  "anaconda-cloud": {},
  "kernelspec": {
   "display_name": "Python [default]",
   "language": "python",
   "name": "python3"
  },
  "language_info": {
   "codemirror_mode": {
    "name": "ipython",
    "version": 3
   },
   "file_extension": ".py",
   "mimetype": "text/x-python",
   "name": "python",
   "nbconvert_exporter": "python",
   "pygments_lexer": "ipython3",
   "version": "3.5.2"
  }
 },
 "nbformat": 4,
 "nbformat_minor": 0
}
