{
 "cells": [
  {
   "cell_type": "code",
   "execution_count": 1,
   "metadata": {
    "collapsed": false
   },
   "outputs": [],
   "source": [
    "import tensorflow as tf\n",
    "import numpy as np\n",
    "\n",
    "from pulse2percept import effectivecurrent2brightness as ec2b\n",
    "from pulse2percept import electrode2currentmap as e2cm\n",
    "\n",
    "import matplotlib.pyplot as plt\n",
    "%matplotlib inline"
   ]
  },
  {
   "cell_type": "code",
   "execution_count": 2,
   "metadata": {
    "collapsed": false
   },
   "outputs": [
    {
     "data": {
      "text/plain": [
       "[<matplotlib.lines.Line2D at 0x7fb8dc89f748>]"
      ]
     },
     "execution_count": 2,
     "metadata": {},
     "output_type": "execute_result"
    },
    {
     "data": {
      "image/png": "[encoded data removed]",
      "text/plain": [
       "<matplotlib.figure.Figure at 0x7fb8dc92cb70>"
      ]
     },
     "metadata": {},
     "output_type": "display_data"
    }
   ],
   "source": [
    "signal = e2cm.get_pulse(0.45 / 1000, 0.005 / 1000, 0.45 / 1000, 'cathodicfirst')\n",
    "signal = np.concatenate((np.zeros(1000), signal, np.zeros(50000)))\n",
    "plt.plot(signal)"
   ]
  },
  {
   "cell_type": "code",
   "execution_count": 3,
   "metadata": {
    "collapsed": true
   },
   "outputs": [],
   "source": [
    "def tf_conv(signal, gamma, tsample):\n",
    "    if not isinstance(signal, tf.python.Tensor):\n",
    "        # input tensor of shape [batch, in_width, in_channels]\n",
    "        tf_signal = tf.constant(signal.reshape(1, -1, 1), name=\"signal\", dtype=np.float32)\n",
    "    else:\n",
    "        tf_signal = signal\n",
    "    \n",
    "    if not isinstance(gamma, tf.python.Tensor):\n",
    "        # filter tensor of shape [filter_width, in_channels, out_channels]\n",
    "        tf_filter = tf.constant(gamma.reshape(-1, 1, 1), name=\"gamma_nfl\", dtype=np.float32)\n",
    "    else:\n",
    "        tf_filter = gamma\n",
    "    \n",
    "    tf_conv = tf.nn.conv1d(tf_signal, tf_filter, stride=2, padding=\"SAME\")\n",
    "    tf_fr = tf_conv * tsample\n",
    "    \n",
    "    return tf_fr"
   ]
  },
  {
   "cell_type": "code",
   "execution_count": 4,
   "metadata": {
    "collapsed": true
   },
   "outputs": [],
   "source": [
    "def tf_stationary_nonlinearity(tf_signal, slope, shift):\n",
    "    tf_max = tf.reduce_max(tf_signal)\n",
    "    tf_scale = tf.sigmoid((tf_max - shift) / slope)\n",
    "    return tf_signal / (tf_max + np.finfo(float).eps) * tf_scale"
   ]
  },
  {
   "cell_type": "code",
   "execution_count": 5,
   "metadata": {
    "collapsed": true
   },
   "outputs": [],
   "source": [
    "def tf_model_cascade(signal, tm):\n",
    "    tf_fr = tf_conv(signal, tm.gamma_nfl, tm.tsample)\n",
    "    tf_fr2 = tf.maximum(-tf_fr, 0) + tm.aweight * tf.maximum(tf_fr, 0)\n",
    "    tf_sn = tf_stationary_nonlinearity(tf_fr2, tm.slope, tm.shift)\n",
    "    tf_sr = tm.scale_slow * tf_conv(tf_sn, tm.gamma_slow, tm.tsample)\n",
    "    \n",
    "    out_tf_sr = tf.Session().run(tf_sr)\n",
    "    return out_tf_sr"
   ]
  },
  {
   "cell_type": "code",
   "execution_count": 6,
   "metadata": {
    "collapsed": true
   },
   "outputs": [],
   "source": [
    "tm = ec2b.TemporalModel()\n",
    "fr = tm.fast_response(signal, tm.gamma_nfl)\n",
    "fr2 = np.maximum(-fr, 0) + tm.aweight * np.maximum(fr, 0)\n",
    "sn = tm.stationary_nonlinearity(fr2)\n",
    "sr = tm.slow_response(sn)"
   ]
  },
  {
   "cell_type": "code",
   "execution_count": 7,
   "metadata": {
    "collapsed": false
   },
   "outputs": [],
   "source": [
    "tf_out = tf_model_cascade(signal, tm)"
   ]
  },
  {
   "cell_type": "code",
   "execution_count": 8,
   "metadata": {
    "collapsed": false
   },
   "outputs": [
    {
     "data": {
      "text/plain": [
       "<matplotlib.legend.Legend at 0x7fb8d05e3fd0>"
      ]
     },
     "execution_count": 8,
     "metadata": {},
     "output_type": "execute_result"
    },
    {
     "data": {
      "image/png": "[encoded data removed]",
      "text/plain": [
       "<matplotlib.figure.Figure at 0x7fb8d6e32438>"
      ]
     },
     "metadata": {},
     "output_type": "display_data"
    }
   ],
   "source": [
    "plt.plot(sr, label='TemporalModel')\n",
    "plt.plot(tf_out.flatten(), label='TensorFlow')\n",
    "plt.xlabel('time')\n",
    "plt.ylabel('brightness')\n",
    "plt.legend()"
   ]
  },
  {
   "cell_type": "code",
   "execution_count": null,
   "metadata": {
    "collapsed": true
   },
   "outputs": [],
   "source": []
  }
 ],
 "metadata": {
  "anaconda-cloud": {},
  "kernelspec": {
   "display_name": "Python [Root]",
   "language": "python",
   "name": "Python [Root]"
  },
  "language_info": {
   "codemirror_mode": {
    "name": "ipython",
    "version": 3
   },
   "file_extension": ".py",
   "mimetype": "text/x-python",
   "name": "python",
   "nbconvert_exporter": "python",
   "pygments_lexer": "ipython3",
   "version": "3.5.2"
  }
 },
 "nbformat": 4,
 "nbformat_minor": 2
}
