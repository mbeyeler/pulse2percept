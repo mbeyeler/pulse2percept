{
 "cells": [
  {
   "cell_type": "code",
   "execution_count": 1,
   "metadata": {
    "collapsed": false
   },
   "outputs": [],
   "source": [
    "import pycuda.autoinit\n",
    "import pycuda.gpuarray as gpuarray\n",
    "import numpy as np\n",
    "\n",
    "from scipy.signal import fftconvolve\n",
    "\n",
    "from pulse2percept import electrode2currentmap as e2cm\n",
    "\n",
    "import skcuda.fft as cu_fft"
   ]
  },
  {
   "cell_type": "code",
   "execution_count": 2,
   "metadata": {
    "collapsed": true
   },
   "outputs": [],
   "source": [
    "N = 4096 * 16\n",
    "\n",
    "x = np.asarray(np.random.rand(N), np.float32)\n",
    "xf = np.fft.fft(x)\n",
    "y = np.real(np.fft.ifft(xf))"
   ]
  },
  {
   "cell_type": "code",
   "execution_count": 3,
   "metadata": {
    "collapsed": true
   },
   "outputs": [],
   "source": [
    "x_gpu = gpuarray.to_gpu(x)\n",
    "xf_gpu = gpuarray.empty(N//2+1, np.complex64)\n",
    "plan_forward = cu_fft.Plan(x_gpu.shape, np.float32, np.complex64)\n",
    "cu_fft.fft(x_gpu, xf_gpu, plan_forward)"
   ]
  },
  {
   "cell_type": "code",
   "execution_count": 4,
   "metadata": {
    "collapsed": false
   },
   "outputs": [
    {
     "name": "stdout",
     "output_type": "stream",
     "text": [
      "Success status:  True\n"
     ]
    }
   ],
   "source": [
    "y_gpu = gpuarray.empty_like(x_gpu)\n",
    "plan_inverse = cu_fft.Plan(x_gpu.shape, np.complex64, np.float32)\n",
    "cu_fft.ifft(xf_gpu, y_gpu, plan_inverse, True)\n",
    "print('Success status: ', np.allclose(y, y_gpu.get(), atol=1e-6))"
   ]
  },
  {
   "cell_type": "code",
   "execution_count": 5,
   "metadata": {
    "collapsed": false
   },
   "outputs": [
    {
     "name": "stdout",
     "output_type": "stream",
     "text": [
      "Testing in-place fft..\n"
     ]
    }
   ],
   "source": [
    "print('Testing in-place fft..')\n",
    "x = np.asarray(np.random.rand(N) + 1j * np.random.rand(N), np.complex64)\n",
    "x_gpu = gpuarray.to_gpu(x)"
   ]
  },
  {
   "cell_type": "code",
   "execution_count": 6,
   "metadata": {
    "collapsed": false
   },
   "outputs": [
    {
     "name": "stdout",
     "output_type": "stream",
     "text": [
      "Success status:  True\n"
     ]
    }
   ],
   "source": [
    "plan = cu_fft.Plan(x_gpu.shape, np.complex64, np.complex64)\n",
    "cu_fft.fft(x_gpu, x_gpu, plan)\n",
    "\n",
    "cu_fft.ifft(x_gpu, x_gpu, plan, True)\n",
    "\n",
    "print('Success status: ', np.allclose(x, x_gpu.get(), atol=1e-6))"
   ]
  },
  {
   "cell_type": "code",
   "execution_count": 7,
   "metadata": {
    "collapsed": false
   },
   "outputs": [],
   "source": [
    "tsample = 5e-6\n",
    "dur = 0.5"
   ]
  },
  {
   "cell_type": "code",
   "execution_count": 8,
   "metadata": {
    "collapsed": false
   },
   "outputs": [],
   "source": [
    "# %timeit fftconvolve(signal, gamma3, mode='full')"
   ]
  },
  {
   "cell_type": "code",
   "execution_count": 9,
   "metadata": {
    "collapsed": false
   },
   "outputs": [],
   "source": [
    "from scipy import fftpack"
   ]
  },
  {
   "cell_type": "code",
   "execution_count": 10,
   "metadata": {
    "collapsed": false
   },
   "outputs": [
    {
     "data": {
      "text/plain": [
       "45"
      ]
     },
     "execution_count": 10,
     "metadata": {},
     "output_type": "execute_result"
    }
   ],
   "source": [
    "fftpack.next_fast_len(41)"
   ]
  },
  {
   "cell_type": "code",
   "execution_count": 11,
   "metadata": {
    "collapsed": false
   },
   "outputs": [],
   "source": [
    "# original p2p signal\n",
    "signal = np.random.rand(int(np.round(dur / tsample)))\n",
    "signal_copy = signal\n",
    "\n",
    "# zero-pad\n",
    "fshape = fftpack.next_fast_len(signal.shape[-1])\n",
    "\n",
    "len1 = int((fshape - signal.shape[-1]) / 2)\n",
    "len2 = fshape - len1 - signal.shape[-1]\n",
    "\n",
    "signal_padded = np.concatenate((np.zeros(len1), signal, np.zeros(len2)))"
   ]
  },
  {
   "cell_type": "code",
   "execution_count": 12,
   "metadata": {
    "collapsed": false
   },
   "outputs": [
    {
     "data": {
      "text/plain": [
       "(100000,)"
      ]
     },
     "execution_count": 12,
     "metadata": {},
     "output_type": "execute_result"
    }
   ],
   "source": [
    "signal_padded.shape"
   ]
  },
  {
   "cell_type": "code",
   "execution_count": 13,
   "metadata": {
    "collapsed": false
   },
   "outputs": [
    {
     "data": {
      "text/plain": [
       "100000"
      ]
     },
     "execution_count": 13,
     "metadata": {},
     "output_type": "execute_result"
    }
   ],
   "source": [
    "fshape"
   ]
  },
  {
   "cell_type": "code",
   "execution_count": 14,
   "metadata": {
    "collapsed": false
   },
   "outputs": [
    {
     "name": "stdout",
     "output_type": "stream",
     "text": [
      "The slowest run took 6.21 times longer than the fastest. This could mean that an intermediate result is being cached.\n",
      "10000 loops, best of 3: 36 µs per loop\n"
     ]
    }
   ],
   "source": [
    "signal = np.asarray(signal, np.float32)\n",
    "\n",
    "signal_gpu = gpuarray.to_gpu(signal)\n",
    "signal_out_gpu = gpuarray.empty(signal.shape[-1]//2 + 1, np.complex64)\n",
    "plan = cu_fft.Plan(signal_gpu.shape, np.float32, np.complex64)\n",
    "\n",
    "%timeit cu_fft.fft(signal_gpu, signal_out_gpu, plan)"
   ]
  },
  {
   "cell_type": "code",
   "execution_count": 15,
   "metadata": {
    "collapsed": false
   },
   "outputs": [],
   "source": [
    "tau3 = 26.25/1000\n",
    "t = np.arange(0, 8*tau3, tsample)\n",
    "gamma3 = e2cm.gamma(3, tau3, t)\n",
    "gamma3_copy = gamma3\n",
    "\n",
    "len1 = int((fshape - gamma3.shape[-1]) / 2)\n",
    "len2 = fshape - len1 - gamma3.shape[-1]\n",
    "\n",
    "gamma3 = np.concatenate((np.zeros(len1), gamma3, np.zeros(len2)))\n",
    "\n",
    "gamma3 = np.asarray(gamma3, np.float32)"
   ]
  },
  {
   "cell_type": "code",
   "execution_count": 16,
   "metadata": {
    "collapsed": false
   },
   "outputs": [
    {
     "data": {
      "text/plain": [
       "(100000,)"
      ]
     },
     "execution_count": 16,
     "metadata": {},
     "output_type": "execute_result"
    }
   ],
   "source": [
    "gamma3.shape"
   ]
  },
  {
   "cell_type": "code",
   "execution_count": 17,
   "metadata": {
    "collapsed": true
   },
   "outputs": [],
   "source": [
    "cu_fft.fft?"
   ]
  },
  {
   "cell_type": "code",
   "execution_count": 18,
   "metadata": {
    "collapsed": false
   },
   "outputs": [
    {
     "name": "stdout",
     "output_type": "stream",
     "text": [
      "The slowest run took 7.04 times longer than the fastest. This could mean that an intermediate result is being cached.\n",
      "10000 loops, best of 3: 35.6 µs per loop\n"
     ]
    }
   ],
   "source": [
    "gamma3_gpu = gpuarray.to_gpu(gamma3)\n",
    "gamma3_out_gpu = gpuarray.empty(gamma3.shape[-1]//2 + 1, np.complex64)\n",
    "plan = cu_fft.Plan(gamma3_gpu.shape, np.float32, np.complex64)\n",
    "\n",
    "%timeit cu_fft.fft(gamma3_gpu, gamma3_out_gpu, plan)"
   ]
  },
  {
   "cell_type": "code",
   "execution_count": 19,
   "metadata": {
    "collapsed": false
   },
   "outputs": [
    {
     "data": {
      "text/plain": [
       "array([  5.00125234e+04 +0.j        ,   2.96747360e+01+53.14291763j,\n",
       "        -4.11043854e+01-44.55865479j, ...,  -1.49682693e+02-54.80981445j,\n",
       "        -1.99830246e+01-15.26214218j,   1.19435547e+02 +0.j        ], dtype=complex64)"
      ]
     },
     "execution_count": 19,
     "metadata": {},
     "output_type": "execute_result"
    }
   ],
   "source": [
    "signal_out_gpu.get()"
   ]
  },
  {
   "cell_type": "code",
   "execution_count": 20,
   "metadata": {
    "collapsed": false
   },
   "outputs": [
    {
     "data": {
      "text/plain": [
       "array([  1.97249000e+05 +0.00000000e+00j,\n",
       "        -1.60452906e+05 -6.34436797e+04j,\n",
       "         7.53606406e+04 +8.99284453e+04j, ...,\n",
       "         1.75781250e-01 -9.37500000e-02j,\n",
       "         5.46875000e-02 +1.93359375e-01j,  -2.10937500e-01 +0.00000000e+00j], dtype=complex64)"
      ]
     },
     "execution_count": 20,
     "metadata": {},
     "output_type": "execute_result"
    }
   ],
   "source": [
    "cu_fft.fft(gamma3_gpu, gamma3_out_gpu, plan)\n",
    "gamma3_out_gpu.get()"
   ]
  },
  {
   "cell_type": "code",
   "execution_count": 21,
   "metadata": {
    "collapsed": false
   },
   "outputs": [
    {
     "data": {
      "text/plain": [
       "(50001,)"
      ]
     },
     "execution_count": 21,
     "metadata": {},
     "output_type": "execute_result"
    }
   ],
   "source": [
    "signal_out_gpu.shape"
   ]
  },
  {
   "cell_type": "code",
   "execution_count": 22,
   "metadata": {
    "collapsed": false
   },
   "outputs": [
    {
     "data": {
      "text/plain": [
       "(50001,)"
      ]
     },
     "execution_count": 22,
     "metadata": {},
     "output_type": "execute_result"
    }
   ],
   "source": [
    "gamma3_out_gpu.shape"
   ]
  },
  {
   "cell_type": "code",
   "execution_count": 23,
   "metadata": {
    "collapsed": true
   },
   "outputs": [],
   "source": [
    "signal_out_gpu = signal_out_gpu * gamma3_out_gpu"
   ]
  },
  {
   "cell_type": "code",
   "execution_count": 24,
   "metadata": {
    "collapsed": false
   },
   "outputs": [
    {
     "data": {
      "text/plain": [
       "array([  9.86492006e+09 +0.00000000e+00j,\n",
       "        -1.38981538e+06 -1.04096100e+07j,\n",
       "         9.09437688e+05 -7.05442200e+06j, ...,\n",
       "        -3.14498310e+01 +4.39821482e+00j,\n",
       "         1.85825658e+00 -4.69855356e+00j,  -2.51934357e+01 +0.00000000e+00j], dtype=complex64)"
      ]
     },
     "execution_count": 24,
     "metadata": {},
     "output_type": "execute_result"
    }
   ],
   "source": [
    "signal_out_gpu"
   ]
  },
  {
   "cell_type": "code",
   "execution_count": 25,
   "metadata": {
    "collapsed": false
   },
   "outputs": [],
   "source": [
    "inv_gpu = gpuarray.empty(signal.shape[-1], np.float32)\n",
    "plan_inverse = cu_fft.Plan(signal_out_gpu.shape, np.complex64, np.float32)\n",
    "cu_fft.ifft(signal_out_gpu, inv_gpu, plan_inverse, True)"
   ]
  },
  {
   "cell_type": "code",
   "execution_count": 26,
   "metadata": {
    "collapsed": false
   },
   "outputs": [
    {
     "data": {
      "text/plain": [
       "(100000,)"
      ]
     },
     "execution_count": 26,
     "metadata": {},
     "output_type": "execute_result"
    }
   ],
   "source": [
    "inv_gpu.shape"
   ]
  },
  {
   "cell_type": "code",
   "execution_count": 27,
   "metadata": {
    "collapsed": false
   },
   "outputs": [
    {
     "data": {
      "text/plain": [
       "array([  9.85395781e+04,   9.85394141e+04,   9.85393984e+04, ...,\n",
       "         1.72411437e-05,  -6.98655717e-11,  -5.11287399e-05], dtype=float32)"
      ]
     },
     "execution_count": 27,
     "metadata": {},
     "output_type": "execute_result"
    }
   ],
   "source": [
    "inv_gpu"
   ]
  },
  {
   "cell_type": "code",
   "execution_count": 28,
   "metadata": {
    "collapsed": false
   },
   "outputs": [
    {
     "name": "stdout",
     "output_type": "stream",
     "text": [
      "Success status:  False\n"
     ]
    }
   ],
   "source": [
    "cpu_out = fftconvolve(signal_copy, gamma3_copy)\n",
    "\n",
    "print('Success status: ', np.allclose(cpu_out[0:inv_gpu.shape[-1]], inv_gpu.get(), atol=1e-6))"
   ]
  },
  {
   "cell_type": "code",
   "execution_count": 29,
   "metadata": {
    "collapsed": true
   },
   "outputs": [],
   "source": [
    "import matplotlib.pyplot as plt\n",
    "%matplotlib inline"
   ]
  },
  {
   "cell_type": "code",
   "execution_count": 30,
   "metadata": {
    "collapsed": false
   },
   "outputs": [
    {
     "data": {
      "text/plain": [
       "[<matplotlib.lines.Line2D at 0x7f2b30951588>]"
      ]
     },
     "execution_count": 30,
     "metadata": {},
     "output_type": "execute_result"
    },
    {
     "data": {
      "image/png": "[encoded data removed]",
      "text/plain": [
       "<matplotlib.figure.Figure at 0x7f2b32a395c0>"
      ]
     },
     "metadata": {},
     "output_type": "display_data"
    }
   ],
   "source": [
    "plt.plot(cpu_out)"
   ]
  },
  {
   "cell_type": "code",
   "execution_count": 31,
   "metadata": {
    "collapsed": false
   },
   "outputs": [
    {
     "data": {
      "text/plain": [
       "[<matplotlib.lines.Line2D at 0x7f2b229c0a58>]"
      ]
     },
     "execution_count": 31,
     "metadata": {},
     "output_type": "execute_result"
    },
    {
     "data": {
      "image/png": "[encoded data removed]",
      "text/plain": [
       "<matplotlib.figure.Figure at 0x7f2b30975358>"
      ]
     },
     "metadata": {},
     "output_type": "display_data"
    }
   ],
   "source": [
    "plt.plot(inv_gpu.get())"
   ]
  },
  {
   "cell_type": "code",
   "execution_count": null,
   "metadata": {
    "collapsed": true
   },
   "outputs": [],
   "source": []
  }
 ],
 "metadata": {
  "anaconda-cloud": {},
  "kernelspec": {
   "display_name": "Python [Root]",
   "language": "python",
   "name": "Python [Root]"
  },
  "language_info": {
   "codemirror_mode": {
    "name": "ipython",
    "version": 3
   },
   "file_extension": ".py",
   "mimetype": "text/x-python",
   "name": "python",
   "nbconvert_exporter": "python",
   "pygments_lexer": "ipython3",
   "version": "3.5.2"
  }
 },
 "nbformat": 4,
 "nbformat_minor": 0
}
