{
 "cells": [
  {
   "cell_type": "code",
   "execution_count": 3,
   "metadata": {
    "collapsed": false
   },
   "outputs": [],
   "source": [
    "import numpy as np\n",
    "from datetime import date\n",
    "\n",
    "from pulse2percept import electrode2currentmap as e2cm\n",
    "from pulse2percept import effectivecurrent2brightness as ec2b\n",
    "from pulse2percept.utils import TimeSeries"
   ]
  },
  {
   "cell_type": "code",
   "execution_count": 4,
   "metadata": {
    "collapsed": true
   },
   "outputs": [],
   "source": [
    "import findspark\n",
    "findspark.init()\n",
    "\n",
    "import pyspark\n",
    "if 'sc' not in locals():\n",
    "    sc = pyspark.SparkContext()"
   ]
  },
  {
   "cell_type": "code",
   "execution_count": 5,
   "metadata": {
    "collapsed": true
   },
   "outputs": [],
   "source": [
    "def setup_model(exp_params):\n",
    "    model = dict()\n",
    "    \n",
    "    # set up temporal model\n",
    "    model['tm'] = ec2b.TemporalModel(model=exp_params['model'],\n",
    "                                     tsample=exp_params['tsample'])\n",
    "    \n",
    "    # Create a Retina object that can hold the entire Argus I array\n",
    "    r_sampling = 250  # spatial sampling of retina\n",
    "    r_file = '../retina_argus_s' + str(r_sampling) + '.npz'\n",
    "    model['retina'] = e2cm.Retina(axon_map=r_file, sampling=r_sampling,\n",
    "                                  xlo=-2500, xhi=2500, ylo=-2500, yhi=2500)\n",
    "    \n",
    "    # Place electrode array\n",
    "    # Argus I: 4x4 checkerboard, 880um center-to-center,\n",
    "    # (almost) alternating electrode sizes\n",
    "    e_spacing = 880  # um\n",
    "    x_coord = np.arange(0, 4) * e_spacing - 1.5 * e_spacing\n",
    "    x_coord, y_coord = np.meshgrid(x_coord, x_coord, sparse=False)\n",
    "\n",
    "    # spatial arrangement of Argus I creates checkerboard with alternating electrode sizes\n",
    "    #   .  o  .  o\n",
    "    #   o  .  o  .\n",
    "    #   .  o  .  o\n",
    "    #   o  .  o  .\n",
    "    r_arr = np.array([260, 520, 260, 520])\n",
    "    r_arr = np.concatenate((r_arr, r_arr[::-1], r_arr, r_arr[::-1]), axis=0)\n",
    "    h_arr = np.ones(16)*100\n",
    "\n",
    "    model['implant'] = e2cm.ElectrodeArray(r_arr.tolist(), x_coord.flatten().tolist(),\n",
    "                                           y_coord.flatten().tolist(), h_arr.tolist())\n",
    "    \n",
    "    # We derive the effective current stimulation (ecs; passed through the effect of\n",
    "    # the retinal layout, axons, etc.) in addition to the current (cs):\n",
    "    model['ecs'], model['cs'] = model['retina'].electrode_ecs(model['implant'])\n",
    "    \n",
    "    return model"
   ]
  },
  {
   "cell_type": "code",
   "execution_count": 6,
   "metadata": {
    "collapsed": false
   },
   "outputs": [],
   "source": [
    "def run_condition(idx_cond, exp_params, model):\n",
    "    \"\"\"Run a single condition of the Horsager experiment\"\"\"\n",
    "    \n",
    "    idx_E1 = exp_params['idx_E1']\n",
    "    idx_E2 = exp_params['idx_E2']\n",
    "    \n",
    "    # Set up currents and delays\n",
    "    if idx_cond == 1:\n",
    "        # Condition 1: E1 fixed, all others zero\n",
    "        amp_E1 = np.linspace(0.8, 1.2, 5) * exp_params['amp_ref']\n",
    "        amp_E2 = np.zeros_like(amp_E1)\n",
    "        delays = [0]\n",
    "    elif idx_cond == 2:\n",
    "         # Condition 2: E2 fixed, all others zero\n",
    "        amp_E2 = np.linspace(0.8, 1.2, 5) * exp_params['amp_ref']\n",
    "        amp_E1 = np.zeros_like(amp_E2)\n",
    "        delays = [0]\n",
    "    elif idx_cond == 3:\n",
    "        # Condition 3: E1 fixed, E2 varies\n",
    "        # Make current sum to 75% - 125% of amp_ref\n",
    "        amp_E2 = np.linspace(0.4, 0.85, 9) * exp_params['amp_ref']\n",
    "        amp_E1 = np.ones_like(amp_E2) * 0.35 * exp_params['amp_ref']\n",
    "        delays = [0.075/1000, 0.375/1000, 1.8/1000, 9/1000]\n",
    "    elif idx_cond == 4:\n",
    "        # Condition 4: E2 fixed, E1 varies\n",
    "        amp_E1 = np.linspace(0.4, 0.85, 9) * exp_params['amp_ref']\n",
    "        amp_E2 = np.ones_like(amp_E1) * 0.35 * exp_params['amp_ref']\n",
    "        delays = [0.075/1000, 0.375/1000, 1.8/1000, 9/1000]\n",
    "    elif idx_cond == 5:\n",
    "        # Condition 5: Both E1 and E2 vary\n",
    "        amp_E1 = np.linspace(0.4, 0.6, 9) * exp_params['amp_ref']\n",
    "        amp_E2 = np.linspace(0.4, 0.6, 9) * exp_params['amp_ref']\n",
    "        delays = [0.075/1000, 0.375/1000, 1.8/1000, 9/1000]\n",
    "    else:\n",
    "        raise ValueError('Unknown idx_cond ' + str(idx_cond))\n",
    "        \n",
    "    data = dict()\n",
    "    data['frames'] = []\n",
    "    data['amp_E1'] = []\n",
    "    data['amp_E2'] = []\n",
    "    data['delay'] = []\n",
    "    print (\"- Condition %d\" % idx_cond)\n",
    "    for dd in delays:\n",
    "        print(\"  - delay %.3f\" % (dd*1000))\n",
    "        \n",
    "        for a1, a2 in zip(amp_E1, amp_E2):\n",
    "            # generate list of pulse trains\n",
    "            pt_list = []\n",
    "            for j in range(16):\n",
    "                if j == idx_E1:\n",
    "                    pt_list.append(get_pulse_train(a1, tsample=exp_params['tsample']))\n",
    "                elif j == idx_E2:\n",
    "                    pt_list.append(get_pulse_train(a2, delay_dur=dd,\n",
    "                                                   tsample=exp_params['tsample']))\n",
    "                else:\n",
    "                    pt_list.append(get_pulse_train(0, tsample=exp_params['tsample']))\n",
    "            \n",
    "            # calculate response\n",
    "#             resp = ec2b.pulse2percept(model['tm'], model['cs'], model['retina'],\n",
    "#                                       pt_list, 30, dojit=True, n_jobs=4)\n",
    "            resp = np.zeros(100000)\n",
    "\n",
    "            # save data\n",
    "            data['frames'].append(resp)\n",
    "            data['amp_E1'].append(a1)\n",
    "            data['amp_E2'].append(a2)\n",
    "            data['delay'].append(dd)\n",
    "            \n",
    "    return data"
   ]
  },
  {
   "cell_type": "code",
   "execution_count": null,
   "metadata": {
    "collapsed": true
   },
   "outputs": [],
   "source": [
    "def save_to_bucket(filename):\n",
    "    import boto3\n",
    "    boto3.setup_default_session(profile_name='default')\n",
    "    s3 = boto3.resource('s3')\n",
    "    s3.meta.client.upload_file(filename, 'mbeyeler-p2p-horsager2011', path)\n"
   ]
  },
  {
   "cell_type": "code",
   "execution_count": 7,
   "metadata": {
    "collapsed": false
   },
   "outputs": [],
   "source": [
    "def run_experiment(in_tuple):\n",
    "    exp_params = in_tuple[0]\n",
    "    model = in_tuple[1]\n",
    "    print('Experiment: %s (%s, %s)' % (exp_params['name'],\n",
    "                                       exp_params['name_E1'],\n",
    "                                       exp_params['name_E2']))\n",
    "\n",
    "    exp_params['date'] = date.today().strftime(\"%Y-%m-%d\")\n",
    "    # Generate filename and make sure we can write to it\n",
    "    # Do this now rather than after hours of number crunching...\n",
    "    filename = '%s%s_E%d_E%d_%s_%.1fX.npz' % (exp_params['save_dir'],\n",
    "                                              exp_params['name'],\n",
    "                                              exp_params['idx_E1'],\n",
    "                                              exp_params['idx_E2'],\n",
    "                                              exp_params['date'],\n",
    "                                              exp_params['fac_thresh'])\n",
    "    exp_params['filename'] = filename\n",
    "    np.savez(filename, data=np.zeros(10))\n",
    "    save_to_bucket(filename)\n",
    "\n",
    "    # Run all 5 conditions\n",
    "    data = dict()\n",
    "    for idx_cond in range(5):\n",
    "        name_cond = 'cond' + str(idx_cond + 1)\n",
    "        data[name_cond] = run_condition(idx_cond + 1, exp_params, model)\n",
    "\n",
    "    # Save results to .npz\n",
    "    np.savez(filename, data=data, exp_params=exp_params, model=model)\n",
    "    print('- Results saved to %s' % filename)"
   ]
  },
  {
   "cell_type": "code",
   "execution_count": 8,
   "metadata": {
    "collapsed": true
   },
   "outputs": [],
   "source": [
    "# We could use ec2b.Psycho2Pulsetrain, but we'd like to have the stimulus first, \n",
    "# followed by the inter-pulse gap. ec2b.Psycho2Pulsetrain has the inter-pulse\n",
    "# gap first...\n",
    "def get_pulse_train(ampl, delay_dur=0, tsample=1e-5):\n",
    "    freq = 50\n",
    "    pulse_dur = 0.45/1000\n",
    "    stim_dur = 0.5\n",
    "\n",
    "    # envelope size (single pulse + gap) given by `freq`\n",
    "    envelope_size = int(np.round((1/freq) / tsample))\n",
    "\n",
    "    # delay given by `delay_dur`\n",
    "    delay_size = int(np.round(delay_dur / tsample))\n",
    "    delay = np.zeros(delay_size)\n",
    "\n",
    "    # single pulse given by `pulse_dur`\n",
    "    pulse = ampl * e2cm.get_pulse(pulse_dur, tsample, pulse_dur, 'cathodicfirst')\n",
    "    pulse_size = pulse.size\n",
    "\n",
    "    # then gap is used to fill up what's left\n",
    "    gap_size = envelope_size - delay_size - pulse_size\n",
    "    gap = np.zeros(gap_size)\n",
    "\n",
    "    pulse_train = []\n",
    "    for j in range(int(np.round(stim_dur * freq))):\n",
    "        pulse_train = np.concatenate((pulse_train, delay, pulse, gap), axis=0)\n",
    "    \n",
    "    return TimeSeries(tsample, pulse_train)"
   ]
  },
  {
   "cell_type": "code",
   "execution_count": null,
   "metadata": {
    "collapsed": false
   },
   "outputs": [],
   "source": [
    "# plt.subplot(211)\n",
    "# plt.plot(get_pulse_train(20, 0).data[0:4500])\n",
    "\n",
    "# plt.subplot(212)\n",
    "# plt.plot(get_pulse_train(20, 1/1000).data[0:4500])\n",
    "# plt.ylabel('1ms delay')"
   ]
  },
  {
   "cell_type": "code",
   "execution_count": 9,
   "metadata": {
    "collapsed": true
   },
   "outputs": [],
   "source": [
    "exp_params = dict()\n",
    "\n",
    "# give the experiment a name\n",
    "exp_params['name'] = 'nanduri'\n",
    "\n",
    "# where to save the data (relative path)\n",
    "exp_params['save_dir'] = 'data/'\n",
    "\n",
    "# sampling step in seconds\n",
    "exp_params['tsample'] = 5e-6\n",
    "\n",
    "# some factor x threshold\n",
    "exp_params['fac_thresh'] = 1.5\n",
    "\n",
    "# threshold current in micro amps\n",
    "exp_params['amp_thresh'] = 30\n",
    "\n",
    "# reference current at `fac_thresh` times threshold\n",
    "exp_params['amp_ref'] = exp_params['fac_thresh'] * exp_params['amp_thresh']\n",
    "\n",
    "# model flavor\n",
    "exp_params['model'] = 'Nanduri'\n",
    "\n",
    "model = setup_model(exp_params)"
   ]
  },
  {
   "cell_type": "code",
   "execution_count": 10,
   "metadata": {
    "collapsed": false
   },
   "outputs": [],
   "source": [
    "# 15 different electrode pairs\n",
    "idx_E1  = [   2,   0,  10,   2,  10,   6,   9,  12,   0,   5,   4,   9,   0,   0,  14]\n",
    "name_E1 = ['C1','A1','C3','C1','C3','C2','B3','A4','A1','B2','A2','B3','A1','A1','C4']\n",
    "idx_E2  = [   3,   4,   6,   1,   5,   5,   5,  13,   4,  13,   6,   1,   2,  12,   2]\n",
    "name_E2 = ['D1','A2','C2','B1','B2','B2','B2','B4','A2','B4','C2','B1','C1','A4','C1']\n",
    "\n",
    "params = []\n",
    "for idx1, name1, idx2, name2 in zip(idx_E1, name_E1, idx_E2, name_E2):\n",
    "    p = exp_params\n",
    "    p['idx_E1'] = idx1\n",
    "    p['idx_E2'] = idx2\n",
    "    p['name_E1'] = name1\n",
    "    p['name_E2'] = name2\n",
    "    params.append((p, model))"
   ]
  },
  {
   "cell_type": "code",
   "execution_count": 11,
   "metadata": {
    "collapsed": true
   },
   "outputs": [],
   "source": [
    "paramsRDD = sc.parallelize(params)\n",
    "modelsRDD = paramsRDD.map(run_experiment)"
   ]
  },
  {
   "cell_type": "code",
   "execution_count": 13,
   "metadata": {
    "collapsed": false
   },
   "outputs": [
    {
     "ename": "KeyboardInterrupt",
     "evalue": "",
     "output_type": "error",
     "traceback": [
      "\u001b[0;31m---------------------------------------------------------------------------\u001b[0m",
      "\u001b[0;31mKeyboardInterrupt\u001b[0m                         Traceback (most recent call last)",
      "\u001b[0;32m<ipython-input-13-a5323930a181>\u001b[0m in \u001b[0;36m<module>\u001b[0;34m()\u001b[0m\n\u001b[0;32m----> 1\u001b[0;31m \u001b[0mret\u001b[0m \u001b[0;34m=\u001b[0m \u001b[0mmodelsRDD\u001b[0m\u001b[0;34m.\u001b[0m\u001b[0mcollect\u001b[0m\u001b[0;34m(\u001b[0m\u001b[0;34m)\u001b[0m\u001b[0;34m\u001b[0m\u001b[0m\n\u001b[0m",
      "\u001b[0;32m/root/spark/python/pyspark/rdd.py\u001b[0m in \u001b[0;36mcollect\u001b[0;34m(self)\u001b[0m\n\u001b[1;32m    769\u001b[0m         \"\"\"\n\u001b[1;32m    770\u001b[0m         \u001b[0;32mwith\u001b[0m \u001b[0mSCCallSiteSync\u001b[0m\u001b[0;34m(\u001b[0m\u001b[0mself\u001b[0m\u001b[0;34m.\u001b[0m\u001b[0mcontext\u001b[0m\u001b[0;34m)\u001b[0m \u001b[0;32mas\u001b[0m \u001b[0mcss\u001b[0m\u001b[0;34m:\u001b[0m\u001b[0;34m\u001b[0m\u001b[0m\n\u001b[0;32m--> 771\u001b[0;31m             \u001b[0mport\u001b[0m \u001b[0;34m=\u001b[0m \u001b[0mself\u001b[0m\u001b[0;34m.\u001b[0m\u001b[0mctx\u001b[0m\u001b[0;34m.\u001b[0m\u001b[0m_jvm\u001b[0m\u001b[0;34m.\u001b[0m\u001b[0mPythonRDD\u001b[0m\u001b[0;34m.\u001b[0m\u001b[0mcollectAndServe\u001b[0m\u001b[0;34m(\u001b[0m\u001b[0mself\u001b[0m\u001b[0;34m.\u001b[0m\u001b[0m_jrdd\u001b[0m\u001b[0;34m.\u001b[0m\u001b[0mrdd\u001b[0m\u001b[0;34m(\u001b[0m\u001b[0;34m)\u001b[0m\u001b[0;34m)\u001b[0m\u001b[0;34m\u001b[0m\u001b[0m\n\u001b[0m\u001b[1;32m    772\u001b[0m         \u001b[0;32mreturn\u001b[0m \u001b[0mlist\u001b[0m\u001b[0;34m(\u001b[0m\u001b[0m_load_from_socket\u001b[0m\u001b[0;34m(\u001b[0m\u001b[0mport\u001b[0m\u001b[0;34m,\u001b[0m \u001b[0mself\u001b[0m\u001b[0;34m.\u001b[0m\u001b[0m_jrdd_deserializer\u001b[0m\u001b[0;34m)\u001b[0m\u001b[0;34m)\u001b[0m\u001b[0;34m\u001b[0m\u001b[0m\n\u001b[1;32m    773\u001b[0m \u001b[0;34m\u001b[0m\u001b[0m\n",
      "\u001b[0;32m/root/spark/python/lib/py4j-0.9-src.zip/py4j/java_gateway.py\u001b[0m in \u001b[0;36m__call__\u001b[0;34m(self, *args)\u001b[0m\n\u001b[1;32m    809\u001b[0m             \u001b[0mproto\u001b[0m\u001b[0;34m.\u001b[0m\u001b[0mEND_COMMAND_PART\u001b[0m\u001b[0;34m\u001b[0m\u001b[0m\n\u001b[1;32m    810\u001b[0m \u001b[0;34m\u001b[0m\u001b[0m\n\u001b[0;32m--> 811\u001b[0;31m         \u001b[0manswer\u001b[0m \u001b[0;34m=\u001b[0m \u001b[0mself\u001b[0m\u001b[0;34m.\u001b[0m\u001b[0mgateway_client\u001b[0m\u001b[0;34m.\u001b[0m\u001b[0msend_command\u001b[0m\u001b[0;34m(\u001b[0m\u001b[0mcommand\u001b[0m\u001b[0;34m)\u001b[0m\u001b[0;34m\u001b[0m\u001b[0m\n\u001b[0m\u001b[1;32m    812\u001b[0m         return_value = get_return_value(\n\u001b[1;32m    813\u001b[0m             answer, self.gateway_client, self.target_id, self.name)\n",
      "\u001b[0;32m/root/spark/python/lib/py4j-0.9-src.zip/py4j/java_gateway.py\u001b[0m in \u001b[0;36msend_command\u001b[0;34m(self, command, retry)\u001b[0m\n\u001b[1;32m    624\u001b[0m         \u001b[0mconnection\u001b[0m \u001b[0;34m=\u001b[0m \u001b[0mself\u001b[0m\u001b[0;34m.\u001b[0m\u001b[0m_get_connection\u001b[0m\u001b[0;34m(\u001b[0m\u001b[0;34m)\u001b[0m\u001b[0;34m\u001b[0m\u001b[0m\n\u001b[1;32m    625\u001b[0m         \u001b[0;32mtry\u001b[0m\u001b[0;34m:\u001b[0m\u001b[0;34m\u001b[0m\u001b[0m\n\u001b[0;32m--> 626\u001b[0;31m             \u001b[0mresponse\u001b[0m \u001b[0;34m=\u001b[0m \u001b[0mconnection\u001b[0m\u001b[0;34m.\u001b[0m\u001b[0msend_command\u001b[0m\u001b[0;34m(\u001b[0m\u001b[0mcommand\u001b[0m\u001b[0;34m)\u001b[0m\u001b[0;34m\u001b[0m\u001b[0m\n\u001b[0m\u001b[1;32m    627\u001b[0m             \u001b[0mself\u001b[0m\u001b[0;34m.\u001b[0m\u001b[0m_give_back_connection\u001b[0m\u001b[0;34m(\u001b[0m\u001b[0mconnection\u001b[0m\u001b[0;34m)\u001b[0m\u001b[0;34m\u001b[0m\u001b[0m\n\u001b[1;32m    628\u001b[0m         \u001b[0;32mexcept\u001b[0m \u001b[0mPy4JNetworkError\u001b[0m\u001b[0;34m:\u001b[0m\u001b[0;34m\u001b[0m\u001b[0m\n",
      "\u001b[0;32m/root/spark/python/lib/py4j-0.9-src.zip/py4j/java_gateway.py\u001b[0m in \u001b[0;36msend_command\u001b[0;34m(self, command)\u001b[0m\n\u001b[1;32m    738\u001b[0m         \u001b[0;32mtry\u001b[0m\u001b[0;34m:\u001b[0m\u001b[0;34m\u001b[0m\u001b[0m\n\u001b[1;32m    739\u001b[0m             \u001b[0mself\u001b[0m\u001b[0;34m.\u001b[0m\u001b[0msocket\u001b[0m\u001b[0;34m.\u001b[0m\u001b[0msendall\u001b[0m\u001b[0;34m(\u001b[0m\u001b[0mcommand\u001b[0m\u001b[0;34m.\u001b[0m\u001b[0mencode\u001b[0m\u001b[0;34m(\u001b[0m\u001b[0;34m\"utf-8\"\u001b[0m\u001b[0;34m)\u001b[0m\u001b[0;34m)\u001b[0m\u001b[0;34m\u001b[0m\u001b[0m\n\u001b[0;32m--> 740\u001b[0;31m             \u001b[0manswer\u001b[0m \u001b[0;34m=\u001b[0m \u001b[0msmart_decode\u001b[0m\u001b[0;34m(\u001b[0m\u001b[0mself\u001b[0m\u001b[0;34m.\u001b[0m\u001b[0mstream\u001b[0m\u001b[0;34m.\u001b[0m\u001b[0mreadline\u001b[0m\u001b[0;34m(\u001b[0m\u001b[0;34m)\u001b[0m\u001b[0;34m[\u001b[0m\u001b[0;34m:\u001b[0m\u001b[0;34m-\u001b[0m\u001b[0;36m1\u001b[0m\u001b[0;34m]\u001b[0m\u001b[0;34m)\u001b[0m\u001b[0;34m\u001b[0m\u001b[0m\n\u001b[0m\u001b[1;32m    741\u001b[0m             \u001b[0mlogger\u001b[0m\u001b[0;34m.\u001b[0m\u001b[0mdebug\u001b[0m\u001b[0;34m(\u001b[0m\u001b[0;34m\"Answer received: {0}\"\u001b[0m\u001b[0;34m.\u001b[0m\u001b[0mformat\u001b[0m\u001b[0;34m(\u001b[0m\u001b[0manswer\u001b[0m\u001b[0;34m)\u001b[0m\u001b[0;34m)\u001b[0m\u001b[0;34m\u001b[0m\u001b[0m\n\u001b[1;32m    742\u001b[0m             \u001b[0;31m# Happens when a the other end is dead. There might be an empty\u001b[0m\u001b[0;34m\u001b[0m\u001b[0;34m\u001b[0m\u001b[0m\n",
      "\u001b[0;32m/root/miniconda3/lib/python3.5/socket.py\u001b[0m in \u001b[0;36mreadinto\u001b[0;34m(self, b)\u001b[0m\n\u001b[1;32m    573\u001b[0m         \u001b[0;32mwhile\u001b[0m \u001b[0;32mTrue\u001b[0m\u001b[0;34m:\u001b[0m\u001b[0;34m\u001b[0m\u001b[0m\n\u001b[1;32m    574\u001b[0m             \u001b[0;32mtry\u001b[0m\u001b[0;34m:\u001b[0m\u001b[0;34m\u001b[0m\u001b[0m\n\u001b[0;32m--> 575\u001b[0;31m                 \u001b[0;32mreturn\u001b[0m \u001b[0mself\u001b[0m\u001b[0;34m.\u001b[0m\u001b[0m_sock\u001b[0m\u001b[0;34m.\u001b[0m\u001b[0mrecv_into\u001b[0m\u001b[0;34m(\u001b[0m\u001b[0mb\u001b[0m\u001b[0;34m)\u001b[0m\u001b[0;34m\u001b[0m\u001b[0m\n\u001b[0m\u001b[1;32m    576\u001b[0m             \u001b[0;32mexcept\u001b[0m \u001b[0mtimeout\u001b[0m\u001b[0;34m:\u001b[0m\u001b[0;34m\u001b[0m\u001b[0m\n\u001b[1;32m    577\u001b[0m                 \u001b[0mself\u001b[0m\u001b[0;34m.\u001b[0m\u001b[0m_timeout_occurred\u001b[0m \u001b[0;34m=\u001b[0m \u001b[0;32mTrue\u001b[0m\u001b[0;34m\u001b[0m\u001b[0m\n",
      "\u001b[0;31mKeyboardInterrupt\u001b[0m: "
     ]
    }
   ],
   "source": [
    "ret = modelsRDD.collect()"
   ]
  },
  {
   "cell_type": "code",
   "execution_count": null,
   "metadata": {
    "collapsed": true
   },
   "outputs": [],
   "source": []
  }
 ],
 "metadata": {
  "anaconda-cloud": {},
  "kernelspec": {
   "display_name": "Python [Root]",
   "language": "python",
   "name": "Python [Root]"
  },
  "language_info": {
   "codemirror_mode": {
    "name": "ipython",
    "version": 3
   },
   "file_extension": ".py",
   "mimetype": "text/x-python",
   "name": "python",
   "nbconvert_exporter": "python",
   "pygments_lexer": "ipython3",
   "version": "3.5.2"
  }
 },
 "nbformat": 4,
 "nbformat_minor": 0
}
