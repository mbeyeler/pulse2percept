{
 "cells": [
  {
   "cell_type": "code",
   "execution_count": 1,
   "metadata": {
    "collapsed": false
   },
   "outputs": [],
   "source": [
    "import numpy as np\n",
    "from datetime import date\n",
    "\n",
    "from pulse2percept import electrode2currentmap as e2cm\n",
    "from pulse2percept import effectivecurrent2brightness as ec2b\n",
    "from pulse2percept.utils import TimeSeries"
   ]
  },
  {
   "cell_type": "code",
   "execution_count": 2,
   "metadata": {
    "collapsed": true
   },
   "outputs": [],
   "source": [
    "import findspark\n",
    "findspark.init()\n",
    "\n",
    "import pyspark\n",
    "if 'sc' not in locals():\n",
    "    sc = pyspark.SparkContext()"
   ]
  },
  {
   "cell_type": "code",
   "execution_count": 3,
   "metadata": {
    "collapsed": true
   },
   "outputs": [],
   "source": [
    "def setup_model(exp_params):\n",
    "    model = dict()\n",
    "    \n",
    "    # set up temporal model\n",
    "    model['tm'] = ec2b.TemporalModel(model=exp_params['model'],\n",
    "                                     tsample=exp_params['tsample'])\n",
    "\n",
    "    # Electrode locations for patient TB (in microns), from MATLAB script\n",
    "    x_elec_loc = np.array([-6825.092215, -6332.563035, -5840.033855, -5347.504675,\n",
    "                           -6194.683612, -5702.154432, -5209.625252, -4717.096072,\n",
    "                           -5564.275010, -5071.745829, -4579.216649, -4086.687469,\n",
    "                           -4933.866407, -4441.337226, -3948.808046, -3456.278866])\n",
    "    y_elec_loc = np.array([-655.666769, -25.258166, 605.150437, 1235.559040,\n",
    "                           -1148.195949, -517.787346, 112.621257, 743.029860,\n",
    "                           -1640.725129, -1010.316526, -379.907924, 250.500679,\n",
    "                           -2133.254310, -1502.845707, -872.437104, -242.028501])\n",
    "\n",
    "    # MATLAB had the OD at (0,0), we have it at (15,2) deg\n",
    "    x_elec_loc += e2cm.deg2micron(15)\n",
    "    y_elec_loc += e2cm.deg2micron(2)\n",
    "    \n",
    "    # Radii (almost) alternating to create checkerboard pattern\n",
    "    r_arr = np.array([260, 520, 260, 520])\n",
    "    r_arr = np.concatenate((r_arr, r_arr[::-1], r_arr, r_arr[::-1]), axis=0)\n",
    "    \n",
    "    # Set electrode height to something realistic\n",
    "    h_arr = np.ones(16)*100\n",
    "\n",
    "    model['implant'] = e2cm.ElectrodeArray(r_arr.tolist(), x_elec_loc.tolist(),\n",
    "                                           y_elec_loc.tolist(), h_arr.tolist())\n",
    "\n",
    "    # find x,y limits from electrode location\n",
    "    round_to_nearest = 200.0  # microns\n",
    "    x_min = np.floor((x_elec_loc.min() - 500.0) / round_to_nearest) * round_to_nearest\n",
    "    x_max = np.ceil((x_elec_loc.max() + 500.0) / round_to_nearest) * round_to_nearest\n",
    "    y_min = np.floor((y_elec_loc.min() - 500.0) / round_to_nearest) * round_to_nearest\n",
    "    y_max = np.ceil((y_elec_loc.max() + 500.0) / round_to_nearest) * round_to_nearest\n",
    "\n",
    "    r_sampling = 250  # spatial sampling of the retina\n",
    "    r_file = '../retina_argusI_s%d_l%.0f_%dx%d.npz' % (r_sampling, exp_params['axon_lambda'],\n",
    "                                                       x_max - x_min, y_max - y_min)\n",
    "    model['retina'] = e2cm.Retina(axon_map=r_file, sampling=r_sampling,\n",
    "                                  xlo=x_min, xhi=x_max, ylo=y_min, yhi=y_max,\n",
    "                                  axon_lambda=exp_params['axon_lambda'])\n",
    "    \n",
    "    # We derive the effective current stimulation (ecs; passed through the effect of\n",
    "    # the retinal layout, axons, etc.) in addition to the current (cs):\n",
    "    model['integrationtype'] = 'dotproduct'\n",
    "    model['ecs'], model['cs'] = model['retina'].electrode_ecs(model['implant'],\n",
    "                                                              integrationtype=model['integrationtype'])\n",
    "    \n",
    "    return model"
   ]
  },
  {
   "cell_type": "code",
   "execution_count": 4,
   "metadata": {
    "collapsed": false
   },
   "outputs": [],
   "source": [
    "def run_condition(idx_cond, exp_params, model):\n",
    "    \"\"\"Run a single condition of the Horsager experiment\"\"\"\n",
    "    \n",
    "    idx_E1 = exp_params['idx_E1']\n",
    "    idx_E2 = exp_params['idx_E2']\n",
    "    \n",
    "    # Set up currents and delays\n",
    "    if idx_cond == 1:\n",
    "        # Condition 1: E1 fixed, all others zero\n",
    "        amp_E1 = np.linspace(0.8, 1.2, 5) * exp_params['amp_ref']\n",
    "        amp_E2 = np.zeros_like(amp_E1)\n",
    "        delays = [0]\n",
    "    elif idx_cond == 2:\n",
    "         # Condition 2: E2 fixed, all others zero\n",
    "        amp_E2 = np.linspace(0.8, 1.2, 5) * exp_params['amp_ref']\n",
    "        amp_E1 = np.zeros_like(amp_E2)\n",
    "        delays = [0]\n",
    "    elif idx_cond == 3:\n",
    "        # Condition 3: E1 fixed, E2 varies\n",
    "        # Make current sum to 75% - 125% of amp_ref\n",
    "        amp_E2 = np.linspace(0.4, 0.85, 9) * exp_params['amp_ref']\n",
    "        amp_E1 = np.ones_like(amp_E2) * 0.35 * exp_params['amp_ref']\n",
    "        delays = [0.075/1000, 0.375/1000, 1.8/1000, 9/1000]\n",
    "    elif idx_cond == 4:\n",
    "        # Condition 4: E2 fixed, E1 varies\n",
    "        amp_E1 = np.linspace(0.4, 0.85, 9) * exp_params['amp_ref']\n",
    "        amp_E2 = np.ones_like(amp_E1) * 0.35 * exp_params['amp_ref']\n",
    "        delays = [0.075/1000, 0.375/1000, 1.8/1000, 9/1000]\n",
    "    elif idx_cond == 5:\n",
    "        # Condition 5: Both E1 and E2 vary\n",
    "        amp_E1 = np.linspace(0.4, 0.6, 9) * exp_params['amp_ref']\n",
    "        amp_E2 = np.linspace(0.4, 0.6, 9) * exp_params['amp_ref']\n",
    "        delays = [0.075/1000, 0.375/1000, 1.8/1000, 9/1000]\n",
    "    else:\n",
    "        raise ValueError('Unknown idx_cond ' + str(idx_cond))\n",
    "        \n",
    "    data = dict()\n",
    "    data['frames'] = []\n",
    "    data['amp_E1'] = []\n",
    "    data['amp_E2'] = []\n",
    "    data['delay'] = []\n",
    "    print (\"- Condition %d\" % idx_cond)\n",
    "    for dd in delays:\n",
    "        print(\"  - delay %.3f\" % (dd*1000))\n",
    "        \n",
    "        for a1, a2 in zip(amp_E1, amp_E2):\n",
    "            # generate list of pulse trains\n",
    "            pt_list = []\n",
    "            for j in range(16):\n",
    "                if j == idx_E1:\n",
    "                    pt_list.append(get_pulse_train(a1, tsample=exp_params['tsample']))\n",
    "                elif j == idx_E2:\n",
    "                    pt_list.append(get_pulse_train(a2, delay_dur=dd,\n",
    "                                                   tsample=exp_params['tsample']))\n",
    "                else:\n",
    "                    # all others zero\n",
    "                    pt_list.append(get_pulse_train(0, tsample=exp_params['tsample']))\n",
    "            \n",
    "            # Calculate response\n",
    "            if exp_params['use_ecs']:\n",
    "                current_spread = model['ecs']\n",
    "            else:\n",
    "                current_spread = model['cs']\n",
    "            resp = ec2b.pulse2percept(model['tm'], current_spread, model['retina'],\n",
    "                                      pt_list, 30, dojit=True, n_jobs=4)\n",
    "\n",
    "            # Save data\n",
    "            data['frames'].append(resp)\n",
    "            data['amp_E1'].append(a1)\n",
    "            data['amp_E2'].append(a2)\n",
    "            data['delay'].append(dd)\n",
    "            \n",
    "    return data"
   ]
  },
  {
   "cell_type": "code",
   "execution_count": 5,
   "metadata": {
    "collapsed": true
   },
   "outputs": [],
   "source": [
    "def save_to_bucket(filename):\n",
    "    import boto3\n",
    "    boto3.setup_default_session(profile_name='default')\n",
    "    s3 = boto3.resource('s3')\n",
    "    s3.meta.client.upload_file(filename, 'mbeyeler-p2p-horsager2011', filename)\n"
   ]
  },
  {
   "cell_type": "code",
   "execution_count": 6,
   "metadata": {
    "collapsed": false
   },
   "outputs": [],
   "source": [
    "def run_experiment(in_tuple):\n",
    "    exp_params = in_tuple[0]\n",
    "    model = in_tuple[1]\n",
    "    print('Experiment: %s (%s, %s)' % (exp_params['name'],\n",
    "                                       exp_params['name_E1'],\n",
    "                                       exp_params['name_E2']))\n",
    "\n",
    "    exp_params['date'] = date.today().strftime(\"%Y-%m-%d\")\n",
    "    # Generate filename and make sure we can write to it\n",
    "    # Do this now rather than after hours of number crunching...\n",
    "    filename = '%s%s_E%d_E%d_%s_%.1fX.npz' % (exp_params['save_dir'],\n",
    "                                              exp_params['name'],\n",
    "                                              exp_params['idx_E1'],\n",
    "                                              exp_params['idx_E2'],\n",
    "                                              exp_params['date'],\n",
    "                                              exp_params['fac_thresh'])\n",
    "    exp_params['filename'] = filename\n",
    "    \n",
    "    # Dummy access: make sure we can save to container before running exp\n",
    "    np.savez(filename, data=np.zeros(10))\n",
    "    save_to_bucket(filename)\n",
    "\n",
    "    # Run all 5 conditions\n",
    "    data = dict()\n",
    "    for idx_cond in range(5):\n",
    "        name_cond = 'cond' + str(idx_cond + 1)\n",
    "        data[name_cond] = run_condition(idx_cond + 1, exp_params, model)\n",
    "\n",
    "    # Save results to .npz\n",
    "    np.savez(filename, data=data, exp_params=exp_params, model=model)\n",
    "    save_to_bucket(filename)\n",
    "    print('- Results saved to %s' % filename)"
   ]
  },
  {
   "cell_type": "code",
   "execution_count": 7,
   "metadata": {
    "collapsed": true
   },
   "outputs": [],
   "source": [
    "# We could use ec2b.Psycho2Pulsetrain, but we'd like to have the stimulus first, \n",
    "# followed by the inter-pulse gap. ec2b.Psycho2Pulsetrain has the inter-pulse\n",
    "# gap first...\n",
    "def get_pulse_train(ampl, delay_dur=0, tsample=1e-5):\n",
    "    freq = 50\n",
    "    pulse_dur = 0.45/1000\n",
    "    stim_dur = 0.5\n",
    "\n",
    "    # envelope size (single pulse + gap) given by `freq`\n",
    "    envelope_size = int(np.round((1/freq) / tsample))\n",
    "\n",
    "    # delay given by `delay_dur`\n",
    "    delay_size = int(np.round(delay_dur / tsample))\n",
    "    delay = np.zeros(delay_size)\n",
    "\n",
    "    # single pulse given by `pulse_dur`\n",
    "    pulse = ampl * e2cm.get_pulse(pulse_dur, tsample, pulse_dur, 'cathodicfirst')\n",
    "    pulse_size = pulse.size\n",
    "\n",
    "    # then gap is used to fill up what's left\n",
    "    gap_size = envelope_size - delay_size - pulse_size\n",
    "    gap = np.zeros(gap_size)\n",
    "\n",
    "    pulse_train = []\n",
    "    for j in range(int(np.round(stim_dur * freq))):\n",
    "        pulse_train = np.concatenate((pulse_train, delay, pulse, gap), axis=0)\n",
    "    \n",
    "    return TimeSeries(tsample, pulse_train)"
   ]
  },
  {
   "cell_type": "code",
   "execution_count": 8,
   "metadata": {
    "collapsed": false
   },
   "outputs": [],
   "source": [
    "# plt.subplot(211)\n",
    "# plt.plot(get_pulse_train(20, 0).data[0:4500])\n",
    "\n",
    "# plt.subplot(212)\n",
    "# plt.plot(get_pulse_train(20, 1/1000).data[0:4500])\n",
    "# plt.ylabel('1ms delay')"
   ]
  },
  {
   "cell_type": "code",
   "execution_count": 9,
   "metadata": {
    "collapsed": false
   },
   "outputs": [],
   "source": [
    "exp_params = dict()\n",
    "\n",
    "# give the experiment a name\n",
    "exp_params['name'] = 'nanduri'\n",
    "\n",
    "# where to save the data (relative path)\n",
    "exp_params['save_dir'] = ''\n",
    "\n",
    "# sampling step in seconds\n",
    "exp_params['tsample'] = 5e-6\n",
    "\n",
    "# some factor x threshold\n",
    "exp_params['fac_thresh'] = 1.5\n",
    "\n",
    "# threshold current in micro amps\n",
    "exp_params['amp_thresh'] = 30\n",
    "\n",
    "# reference current at `fac_thresh` times threshold\n",
    "exp_params['amp_ref'] = exp_params['fac_thresh'] * exp_params['amp_thresh']\n",
    "\n",
    "# model flavor\n",
    "exp_params['model'] = 'Nanduri'\n",
    "\n",
    "exp_params['axon_lambda'] = 2\n",
    "\n",
    "model = setup_model(exp_params)"
   ]
  },
  {
   "cell_type": "code",
   "execution_count": 10,
   "metadata": {
    "collapsed": false
   },
   "outputs": [],
   "source": [
    "# 15 different electrode pairs\n",
    "idx_E1  = [   2,   0,  10,   2,  10,   6,   9,  12,   5,   4,   9,   0,   0,  14]\n",
    "name_E1 = ['C1','A1','C3','C1','C3','C2','B3','A4','B2','A2','B3','A1','A1','C4']\n",
    "idx_E2  = [   3,   4,   6,   1,   5,   5,   5,  13,  13,   6,   1,   2,  12,   2]\n",
    "name_E2 = ['D1','A2','C2','B1','B2','B2','B2','B4','B4','C2','B1','C1','A4','C1']\n",
    "\n",
    "params = []\n",
    "for idx1, name1, idx2, name2 in zip(idx_E1, name_E1, idx_E2, name_E2):\n",
    "    p = exp_params\n",
    "    p['idx_E1'] = idx1\n",
    "    p['idx_E2'] = idx2\n",
    "    p['name_E1'] = name1\n",
    "    p['name_E2'] = name2\n",
    "    params.append((p, model))"
   ]
  },
  {
   "cell_type": "code",
   "execution_count": 11,
   "metadata": {
    "collapsed": true
   },
   "outputs": [],
   "source": [
    "paramsRDD = sc.parallelize(params)\n",
    "modelsRDD = paramsRDD.map(run_experiment)"
   ]
  },
  {
   "cell_type": "code",
   "execution_count": 12,
   "metadata": {
    "collapsed": false
   },
   "outputs": [
    {
     "ename": "Py4JJavaError",
     "evalue": "An error occurred while calling z:org.apache.spark.api.python.PythonRDD.collectAndServe.\n: org.apache.spark.SparkException: Job aborted due to stage failure: Task 0 in stage 0.0 failed 4 times, most recent failure: Lost task 0.3 in stage 0.0 (TID 7, ip-10-95-200-49.ec2.internal): org.apache.spark.api.python.PythonException: Traceback (most recent call last):\n  File \"/root/spark/python/lib/pyspark.zip/pyspark/worker.py\", line 111, in main\n    process()\n  File \"/root/spark/python/lib/pyspark.zip/pyspark/worker.py\", line 106, in process\n    serializer.dump_stream(func(split_index, iterator), outfile)\n  File \"/root/spark/python/lib/pyspark.zip/pyspark/serializers.py\", line 263, in dump_stream\n    vs = list(itertools.islice(iterator, batch))\n  File \"<ipython-input-6-36e1acd34c7d>\", line 21, in run_experiment\n  File \"<ipython-input-5-b3d73ff13ae1>\", line 2, in save_to_bucket\nImportError: No module named 'boto3'\n\n\tat org.apache.spark.api.python.PythonRunner$$anon$1.read(PythonRDD.scala:166)\n\tat org.apache.spark.api.python.PythonRunner$$anon$1.<init>(PythonRDD.scala:207)\n\tat org.apache.spark.api.python.PythonRunner.compute(PythonRDD.scala:125)\n\tat org.apache.spark.api.python.PythonRDD.compute(PythonRDD.scala:70)\n\tat org.apache.spark.rdd.RDD.computeOrReadCheckpoint(RDD.scala:306)\n\tat org.apache.spark.rdd.RDD.iterator(RDD.scala:270)\n\tat org.apache.spark.scheduler.ResultTask.runTask(ResultTask.scala:66)\n\tat org.apache.spark.scheduler.Task.run(Task.scala:89)\n\tat org.apache.spark.executor.Executor$TaskRunner.run(Executor.scala:213)\n\tat java.util.concurrent.ThreadPoolExecutor.runWorker(ThreadPoolExecutor.java:1145)\n\tat java.util.concurrent.ThreadPoolExecutor$Worker.run(ThreadPoolExecutor.java:615)\n\tat java.lang.Thread.run(Thread.java:745)\n\nDriver stacktrace:\n\tat org.apache.spark.scheduler.DAGScheduler.org$apache$spark$scheduler$DAGScheduler$$failJobAndIndependentStages(DAGScheduler.scala:1431)\n\tat org.apache.spark.scheduler.DAGScheduler$$anonfun$abortStage$1.apply(DAGScheduler.scala:1419)\n\tat org.apache.spark.scheduler.DAGScheduler$$anonfun$abortStage$1.apply(DAGScheduler.scala:1418)\n\tat scala.collection.mutable.ResizableArray$class.foreach(ResizableArray.scala:59)\n\tat scala.collection.mutable.ArrayBuffer.foreach(ArrayBuffer.scala:47)\n\tat org.apache.spark.scheduler.DAGScheduler.abortStage(DAGScheduler.scala:1418)\n\tat org.apache.spark.scheduler.DAGScheduler$$anonfun$handleTaskSetFailed$1.apply(DAGScheduler.scala:799)\n\tat org.apache.spark.scheduler.DAGScheduler$$anonfun$handleTaskSetFailed$1.apply(DAGScheduler.scala:799)\n\tat scala.Option.foreach(Option.scala:236)\n\tat org.apache.spark.scheduler.DAGScheduler.handleTaskSetFailed(DAGScheduler.scala:799)\n\tat org.apache.spark.scheduler.DAGSchedulerEventProcessLoop.doOnReceive(DAGScheduler.scala:1640)\n\tat org.apache.spark.scheduler.DAGSchedulerEventProcessLoop.onReceive(DAGScheduler.scala:1599)\n\tat org.apache.spark.scheduler.DAGSchedulerEventProcessLoop.onReceive(DAGScheduler.scala:1588)\n\tat org.apache.spark.util.EventLoop$$anon$1.run(EventLoop.scala:48)\n\tat org.apache.spark.scheduler.DAGScheduler.runJob(DAGScheduler.scala:620)\n\tat org.apache.spark.SparkContext.runJob(SparkContext.scala:1832)\n\tat org.apache.spark.SparkContext.runJob(SparkContext.scala:1845)\n\tat org.apache.spark.SparkContext.runJob(SparkContext.scala:1858)\n\tat org.apache.spark.SparkContext.runJob(SparkContext.scala:1929)\n\tat org.apache.spark.rdd.RDD$$anonfun$collect$1.apply(RDD.scala:927)\n\tat org.apache.spark.rdd.RDDOperationScope$.withScope(RDDOperationScope.scala:150)\n\tat org.apache.spark.rdd.RDDOperationScope$.withScope(RDDOperationScope.scala:111)\n\tat org.apache.spark.rdd.RDD.withScope(RDD.scala:316)\n\tat org.apache.spark.rdd.RDD.collect(RDD.scala:926)\n\tat org.apache.spark.api.python.PythonRDD$.collectAndServe(PythonRDD.scala:405)\n\tat org.apache.spark.api.python.PythonRDD.collectAndServe(PythonRDD.scala)\n\tat sun.reflect.NativeMethodAccessorImpl.invoke0(Native Method)\n\tat sun.reflect.NativeMethodAccessorImpl.invoke(NativeMethodAccessorImpl.java:57)\n\tat sun.reflect.DelegatingMethodAccessorImpl.invoke(DelegatingMethodAccessorImpl.java:43)\n\tat java.lang.reflect.Method.invoke(Method.java:606)\n\tat py4j.reflection.MethodInvoker.invoke(MethodInvoker.java:231)\n\tat py4j.reflection.ReflectionEngine.invoke(ReflectionEngine.java:381)\n\tat py4j.Gateway.invoke(Gateway.java:259)\n\tat py4j.commands.AbstractCommand.invokeMethod(AbstractCommand.java:133)\n\tat py4j.commands.CallCommand.execute(CallCommand.java:79)\n\tat py4j.GatewayConnection.run(GatewayConnection.java:209)\n\tat java.lang.Thread.run(Thread.java:745)\nCaused by: org.apache.spark.api.python.PythonException: Traceback (most recent call last):\n  File \"/root/spark/python/lib/pyspark.zip/pyspark/worker.py\", line 111, in main\n    process()\n  File \"/root/spark/python/lib/pyspark.zip/pyspark/worker.py\", line 106, in process\n    serializer.dump_stream(func(split_index, iterator), outfile)\n  File \"/root/spark/python/lib/pyspark.zip/pyspark/serializers.py\", line 263, in dump_stream\n    vs = list(itertools.islice(iterator, batch))\n  File \"<ipython-input-6-36e1acd34c7d>\", line 21, in run_experiment\n  File \"<ipython-input-5-b3d73ff13ae1>\", line 2, in save_to_bucket\nImportError: No module named 'boto3'\n\n\tat org.apache.spark.api.python.PythonRunner$$anon$1.read(PythonRDD.scala:166)\n\tat org.apache.spark.api.python.PythonRunner$$anon$1.<init>(PythonRDD.scala:207)\n\tat org.apache.spark.api.python.PythonRunner.compute(PythonRDD.scala:125)\n\tat org.apache.spark.api.python.PythonRDD.compute(PythonRDD.scala:70)\n\tat org.apache.spark.rdd.RDD.computeOrReadCheckpoint(RDD.scala:306)\n\tat org.apache.spark.rdd.RDD.iterator(RDD.scala:270)\n\tat org.apache.spark.scheduler.ResultTask.runTask(ResultTask.scala:66)\n\tat org.apache.spark.scheduler.Task.run(Task.scala:89)\n\tat org.apache.spark.executor.Executor$TaskRunner.run(Executor.scala:213)\n\tat java.util.concurrent.ThreadPoolExecutor.runWorker(ThreadPoolExecutor.java:1145)\n\tat java.util.concurrent.ThreadPoolExecutor$Worker.run(ThreadPoolExecutor.java:615)\n\t... 1 more\n",
     "output_type": "error",
     "traceback": [
      "\u001b[0;31m---------------------------------------------------------------------------\u001b[0m",
      "\u001b[0;31mPy4JJavaError\u001b[0m                             Traceback (most recent call last)",
      "\u001b[0;32m<ipython-input-12-a5323930a181>\u001b[0m in \u001b[0;36m<module>\u001b[0;34m()\u001b[0m\n\u001b[0;32m----> 1\u001b[0;31m \u001b[0mret\u001b[0m \u001b[0;34m=\u001b[0m \u001b[0mmodelsRDD\u001b[0m\u001b[0;34m.\u001b[0m\u001b[0mcollect\u001b[0m\u001b[0;34m(\u001b[0m\u001b[0;34m)\u001b[0m\u001b[0;34m\u001b[0m\u001b[0m\n\u001b[0m",
      "\u001b[0;32m/root/spark/python/pyspark/rdd.py\u001b[0m in \u001b[0;36mcollect\u001b[0;34m(self)\u001b[0m\n\u001b[1;32m    769\u001b[0m         \"\"\"\n\u001b[1;32m    770\u001b[0m         \u001b[0;32mwith\u001b[0m \u001b[0mSCCallSiteSync\u001b[0m\u001b[0;34m(\u001b[0m\u001b[0mself\u001b[0m\u001b[0;34m.\u001b[0m\u001b[0mcontext\u001b[0m\u001b[0;34m)\u001b[0m \u001b[0;32mas\u001b[0m \u001b[0mcss\u001b[0m\u001b[0;34m:\u001b[0m\u001b[0;34m\u001b[0m\u001b[0m\n\u001b[0;32m--> 771\u001b[0;31m             \u001b[0mport\u001b[0m \u001b[0;34m=\u001b[0m \u001b[0mself\u001b[0m\u001b[0;34m.\u001b[0m\u001b[0mctx\u001b[0m\u001b[0;34m.\u001b[0m\u001b[0m_jvm\u001b[0m\u001b[0;34m.\u001b[0m\u001b[0mPythonRDD\u001b[0m\u001b[0;34m.\u001b[0m\u001b[0mcollectAndServe\u001b[0m\u001b[0;34m(\u001b[0m\u001b[0mself\u001b[0m\u001b[0;34m.\u001b[0m\u001b[0m_jrdd\u001b[0m\u001b[0;34m.\u001b[0m\u001b[0mrdd\u001b[0m\u001b[0;34m(\u001b[0m\u001b[0;34m)\u001b[0m\u001b[0;34m)\u001b[0m\u001b[0;34m\u001b[0m\u001b[0m\n\u001b[0m\u001b[1;32m    772\u001b[0m         \u001b[0;32mreturn\u001b[0m \u001b[0mlist\u001b[0m\u001b[0;34m(\u001b[0m\u001b[0m_load_from_socket\u001b[0m\u001b[0;34m(\u001b[0m\u001b[0mport\u001b[0m\u001b[0;34m,\u001b[0m \u001b[0mself\u001b[0m\u001b[0;34m.\u001b[0m\u001b[0m_jrdd_deserializer\u001b[0m\u001b[0;34m)\u001b[0m\u001b[0;34m)\u001b[0m\u001b[0;34m\u001b[0m\u001b[0m\n\u001b[1;32m    773\u001b[0m \u001b[0;34m\u001b[0m\u001b[0m\n",
      "\u001b[0;32m/root/spark/python/lib/py4j-0.9-src.zip/py4j/java_gateway.py\u001b[0m in \u001b[0;36m__call__\u001b[0;34m(self, *args)\u001b[0m\n\u001b[1;32m    811\u001b[0m         \u001b[0manswer\u001b[0m \u001b[0;34m=\u001b[0m \u001b[0mself\u001b[0m\u001b[0;34m.\u001b[0m\u001b[0mgateway_client\u001b[0m\u001b[0;34m.\u001b[0m\u001b[0msend_command\u001b[0m\u001b[0;34m(\u001b[0m\u001b[0mcommand\u001b[0m\u001b[0;34m)\u001b[0m\u001b[0;34m\u001b[0m\u001b[0m\n\u001b[1;32m    812\u001b[0m         return_value = get_return_value(\n\u001b[0;32m--> 813\u001b[0;31m             answer, self.gateway_client, self.target_id, self.name)\n\u001b[0m\u001b[1;32m    814\u001b[0m \u001b[0;34m\u001b[0m\u001b[0m\n\u001b[1;32m    815\u001b[0m         \u001b[0;32mfor\u001b[0m \u001b[0mtemp_arg\u001b[0m \u001b[0;32min\u001b[0m \u001b[0mtemp_args\u001b[0m\u001b[0;34m:\u001b[0m\u001b[0;34m\u001b[0m\u001b[0m\n",
      "\u001b[0;32m/root/spark/python/lib/py4j-0.9-src.zip/py4j/protocol.py\u001b[0m in \u001b[0;36mget_return_value\u001b[0;34m(answer, gateway_client, target_id, name)\u001b[0m\n\u001b[1;32m    306\u001b[0m                 raise Py4JJavaError(\n\u001b[1;32m    307\u001b[0m                     \u001b[0;34m\"An error occurred while calling {0}{1}{2}.\\n\"\u001b[0m\u001b[0;34m.\u001b[0m\u001b[0;34m\u001b[0m\u001b[0m\n\u001b[0;32m--> 308\u001b[0;31m                     format(target_id, \".\", name), value)\n\u001b[0m\u001b[1;32m    309\u001b[0m             \u001b[0;32melse\u001b[0m\u001b[0;34m:\u001b[0m\u001b[0;34m\u001b[0m\u001b[0m\n\u001b[1;32m    310\u001b[0m                 raise Py4JError(\n",
      "\u001b[0;31mPy4JJavaError\u001b[0m: An error occurred while calling z:org.apache.spark.api.python.PythonRDD.collectAndServe.\n: org.apache.spark.SparkException: Job aborted due to stage failure: Task 0 in stage 0.0 failed 4 times, most recent failure: Lost task 0.3 in stage 0.0 (TID 7, ip-10-95-200-49.ec2.internal): org.apache.spark.api.python.PythonException: Traceback (most recent call last):\n  File \"/root/spark/python/lib/pyspark.zip/pyspark/worker.py\", line 111, in main\n    process()\n  File \"/root/spark/python/lib/pyspark.zip/pyspark/worker.py\", line 106, in process\n    serializer.dump_stream(func(split_index, iterator), outfile)\n  File \"/root/spark/python/lib/pyspark.zip/pyspark/serializers.py\", line 263, in dump_stream\n    vs = list(itertools.islice(iterator, batch))\n  File \"<ipython-input-6-36e1acd34c7d>\", line 21, in run_experiment\n  File \"<ipython-input-5-b3d73ff13ae1>\", line 2, in save_to_bucket\nImportError: No module named 'boto3'\n\n\tat org.apache.spark.api.python.PythonRunner$$anon$1.read(PythonRDD.scala:166)\n\tat org.apache.spark.api.python.PythonRunner$$anon$1.<init>(PythonRDD.scala:207)\n\tat org.apache.spark.api.python.PythonRunner.compute(PythonRDD.scala:125)\n\tat org.apache.spark.api.python.PythonRDD.compute(PythonRDD.scala:70)\n\tat org.apache.spark.rdd.RDD.computeOrReadCheckpoint(RDD.scala:306)\n\tat org.apache.spark.rdd.RDD.iterator(RDD.scala:270)\n\tat org.apache.spark.scheduler.ResultTask.runTask(ResultTask.scala:66)\n\tat org.apache.spark.scheduler.Task.run(Task.scala:89)\n\tat org.apache.spark.executor.Executor$TaskRunner.run(Executor.scala:213)\n\tat java.util.concurrent.ThreadPoolExecutor.runWorker(ThreadPoolExecutor.java:1145)\n\tat java.util.concurrent.ThreadPoolExecutor$Worker.run(ThreadPoolExecutor.java:615)\n\tat java.lang.Thread.run(Thread.java:745)\n\nDriver stacktrace:\n\tat org.apache.spark.scheduler.DAGScheduler.org$apache$spark$scheduler$DAGScheduler$$failJobAndIndependentStages(DAGScheduler.scala:1431)\n\tat org.apache.spark.scheduler.DAGScheduler$$anonfun$abortStage$1.apply(DAGScheduler.scala:1419)\n\tat org.apache.spark.scheduler.DAGScheduler$$anonfun$abortStage$1.apply(DAGScheduler.scala:1418)\n\tat scala.collection.mutable.ResizableArray$class.foreach(ResizableArray.scala:59)\n\tat scala.collection.mutable.ArrayBuffer.foreach(ArrayBuffer.scala:47)\n\tat org.apache.spark.scheduler.DAGScheduler.abortStage(DAGScheduler.scala:1418)\n\tat org.apache.spark.scheduler.DAGScheduler$$anonfun$handleTaskSetFailed$1.apply(DAGScheduler.scala:799)\n\tat org.apache.spark.scheduler.DAGScheduler$$anonfun$handleTaskSetFailed$1.apply(DAGScheduler.scala:799)\n\tat scala.Option.foreach(Option.scala:236)\n\tat org.apache.spark.scheduler.DAGScheduler.handleTaskSetFailed(DAGScheduler.scala:799)\n\tat org.apache.spark.scheduler.DAGSchedulerEventProcessLoop.doOnReceive(DAGScheduler.scala:1640)\n\tat org.apache.spark.scheduler.DAGSchedulerEventProcessLoop.onReceive(DAGScheduler.scala:1599)\n\tat org.apache.spark.scheduler.DAGSchedulerEventProcessLoop.onReceive(DAGScheduler.scala:1588)\n\tat org.apache.spark.util.EventLoop$$anon$1.run(EventLoop.scala:48)\n\tat org.apache.spark.scheduler.DAGScheduler.runJob(DAGScheduler.scala:620)\n\tat org.apache.spark.SparkContext.runJob(SparkContext.scala:1832)\n\tat org.apache.spark.SparkContext.runJob(SparkContext.scala:1845)\n\tat org.apache.spark.SparkContext.runJob(SparkContext.scala:1858)\n\tat org.apache.spark.SparkContext.runJob(SparkContext.scala:1929)\n\tat org.apache.spark.rdd.RDD$$anonfun$collect$1.apply(RDD.scala:927)\n\tat org.apache.spark.rdd.RDDOperationScope$.withScope(RDDOperationScope.scala:150)\n\tat org.apache.spark.rdd.RDDOperationScope$.withScope(RDDOperationScope.scala:111)\n\tat org.apache.spark.rdd.RDD.withScope(RDD.scala:316)\n\tat org.apache.spark.rdd.RDD.collect(RDD.scala:926)\n\tat org.apache.spark.api.python.PythonRDD$.collectAndServe(PythonRDD.scala:405)\n\tat org.apache.spark.api.python.PythonRDD.collectAndServe(PythonRDD.scala)\n\tat sun.reflect.NativeMethodAccessorImpl.invoke0(Native Method)\n\tat sun.reflect.NativeMethodAccessorImpl.invoke(NativeMethodAccessorImpl.java:57)\n\tat sun.reflect.DelegatingMethodAccessorImpl.invoke(DelegatingMethodAccessorImpl.java:43)\n\tat java.lang.reflect.Method.invoke(Method.java:606)\n\tat py4j.reflection.MethodInvoker.invoke(MethodInvoker.java:231)\n\tat py4j.reflection.ReflectionEngine.invoke(ReflectionEngine.java:381)\n\tat py4j.Gateway.invoke(Gateway.java:259)\n\tat py4j.commands.AbstractCommand.invokeMethod(AbstractCommand.java:133)\n\tat py4j.commands.CallCommand.execute(CallCommand.java:79)\n\tat py4j.GatewayConnection.run(GatewayConnection.java:209)\n\tat java.lang.Thread.run(Thread.java:745)\nCaused by: org.apache.spark.api.python.PythonException: Traceback (most recent call last):\n  File \"/root/spark/python/lib/pyspark.zip/pyspark/worker.py\", line 111, in main\n    process()\n  File \"/root/spark/python/lib/pyspark.zip/pyspark/worker.py\", line 106, in process\n    serializer.dump_stream(func(split_index, iterator), outfile)\n  File \"/root/spark/python/lib/pyspark.zip/pyspark/serializers.py\", line 263, in dump_stream\n    vs = list(itertools.islice(iterator, batch))\n  File \"<ipython-input-6-36e1acd34c7d>\", line 21, in run_experiment\n  File \"<ipython-input-5-b3d73ff13ae1>\", line 2, in save_to_bucket\nImportError: No module named 'boto3'\n\n\tat org.apache.spark.api.python.PythonRunner$$anon$1.read(PythonRDD.scala:166)\n\tat org.apache.spark.api.python.PythonRunner$$anon$1.<init>(PythonRDD.scala:207)\n\tat org.apache.spark.api.python.PythonRunner.compute(PythonRDD.scala:125)\n\tat org.apache.spark.api.python.PythonRDD.compute(PythonRDD.scala:70)\n\tat org.apache.spark.rdd.RDD.computeOrReadCheckpoint(RDD.scala:306)\n\tat org.apache.spark.rdd.RDD.iterator(RDD.scala:270)\n\tat org.apache.spark.scheduler.ResultTask.runTask(ResultTask.scala:66)\n\tat org.apache.spark.scheduler.Task.run(Task.scala:89)\n\tat org.apache.spark.executor.Executor$TaskRunner.run(Executor.scala:213)\n\tat java.util.concurrent.ThreadPoolExecutor.runWorker(ThreadPoolExecutor.java:1145)\n\tat java.util.concurrent.ThreadPoolExecutor$Worker.run(ThreadPoolExecutor.java:615)\n\t... 1 more\n"
     ]
    }
   ],
   "source": [
    "ret = modelsRDD.collect()"
   ]
  },
  {
   "cell_type": "code",
   "execution_count": null,
   "metadata": {
    "collapsed": true
   },
   "outputs": [],
   "source": []
  }
 ],
 "metadata": {
  "anaconda-cloud": {},
  "kernelspec": {
   "display_name": "Python [conda root]",
   "language": "python",
   "name": "conda-root-py"
  },
  "language_info": {
   "codemirror_mode": {
    "name": "ipython",
    "version": 3
   },
   "file_extension": ".py",
   "mimetype": "text/x-python",
   "name": "python",
   "nbconvert_exporter": "python",
   "pygments_lexer": "ipython3",
   "version": "3.5.2"
  }
 },
 "nbformat": 4,
 "nbformat_minor": 0
}
