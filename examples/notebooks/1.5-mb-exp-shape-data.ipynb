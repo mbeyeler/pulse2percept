{
 "cells": [
  {
   "cell_type": "code",
   "execution_count": 1,
   "metadata": {
    "collapsed": false
   },
   "outputs": [],
   "source": [
    "import numpy as np\n",
    "from os import environ\n",
    "from os.path import isfile\n",
    "\n",
    "from skimage.io import imread\n",
    "from skimage.color import rgb2gray\n",
    "from skimage.draw import circle\n",
    "from skimage import measure\n",
    "\n",
    "from pulse2percept import electrode2currentmap as e2cm\n",
    "from pulse2percept import effectivecurrent2brightness as ec2b\n",
    "from pulse2percept.utils import TimeSeries\n",
    "\n",
    "import matplotlib.pyplot as plt\n",
    "%matplotlib inline"
   ]
  },
  {
   "cell_type": "code",
   "execution_count": 2,
   "metadata": {
    "collapsed": true
   },
   "outputs": [],
   "source": [
    "def find_files_like(datapath, startswith, endswith='.npz'):\n",
    "    from os import listdir\n",
    "    \n",
    "    # look for file in folder `datapath` that starts with `startswith`\n",
    "    filename = []\n",
    "    for file in listdir(datapath):\n",
    "        if file.startswith(startswith) and file.endswith(endswith):\n",
    "            filename.append(file)\n",
    "    \n",
    "    return filename"
   ]
  },
  {
   "cell_type": "code",
   "execution_count": 3,
   "metadata": {
    "collapsed": true
   },
   "outputs": [],
   "source": [
    "def calc_shape(img):\n",
    "    # get components of the centroid\n",
    "    M = measure.moments(img, 1)\n",
    "    xm = M[0, 1] / M[0, 0]\n",
    "    ym = M[1, 0] / M[0, 0]\n",
    "    \n",
    "    # size\n",
    "    size = M[0, 0]\n",
    "    \n",
    "    # get centralized moments\n",
    "    mu = measure.moments_central(img, xm, ym)\n",
    "    muprime = mu / size\n",
    "    \n",
    "    # covariance matrix\n",
    "    cov = np.array([[muprime[2, 0], muprime[1, 1]], [muprime[1, 1], muprime[0, 2]]])\n",
    "    \n",
    "    # eigenvalues and eigenvectors\n",
    "    w, v = np.linalg.eig(cov)\n",
    "    \n",
    "    # orientation\n",
    "    if muprime[2, 0] != muprime[0, 2]:\n",
    "        theta = 0.5 * np.arctan2(2 * muprime[1, 1], muprime[2, 0] - muprime[0, 2])\n",
    "    else:\n",
    "        raise ValueError(\"Can't compute `theta` because mu'_20 == mu'_02\")\n",
    "        \n",
    "    # eccentricity\n",
    "    ecc = np.sqrt(1.0 - np.min(w) / np.max(w))\n",
    "    \n",
    "    return size, theta, ecc, w"
   ]
  },
  {
   "cell_type": "code",
   "execution_count": 4,
   "metadata": {
    "collapsed": false
   },
   "outputs": [],
   "source": [
    "img_rand = np.round(np.random.rand(100*100).reshape((100, 100)))\n",
    "assert calc_shape(img_rand)[0] == np.sum(img_rand)"
   ]
  },
  {
   "cell_type": "code",
   "execution_count": 5,
   "metadata": {
    "collapsed": false
   },
   "outputs": [],
   "source": [
    "def find_bitmaps(folder, electrodes=[], amps=[],\n",
    "                 startswith='VIDFileListNew_',\n",
    "                 endswith='.xls'):\n",
    "    \"\"\"Given a list of electrodes and amplitude values, finds the\n",
    "       corresponding bitmap files in `folder`\n",
    "       \n",
    "       Parameters\n",
    "       ----------\n",
    "       folder : str\n",
    "           Data path\n",
    "       electrodes : list\n",
    "           A list of electrodes that should be on.\n",
    "       amps : list\n",
    "           A list of amplitude values for the specified electrodes.\n",
    "       startswith : str\n",
    "           Find files that start with `startswith`\n",
    "       endswith : str\n",
    "           Find files that end with `endswith`\n",
    "    \"\"\"\n",
    "    # Given a list of electrodes and amplitude values, finds the corresponding\n",
    "    # bitmap files in `folder`\n",
    "    import pandas as pd\n",
    "    \n",
    "    if not folder.endswith('/'):\n",
    "        folder += '/'\n",
    "    \n",
    "    # Open file\n",
    "    files = find_files_like(folder, startswith, endswith)\n",
    "    if not files:\n",
    "        raise ValueError('Could not find file')\n",
    "    else:\n",
    "        file = files[0]\n",
    "\n",
    "    # Parse file\n",
    "    xl = pd.ExcelFile(folder + file)\n",
    "    df = xl.parse(xl.sheet_names[0])  # assume Sheet 1\n",
    "    assert 'electrode' in df.columns\n",
    "    assert 'amplitude' in df.columns\n",
    "    \n",
    "    if electrodes and amps:\n",
    "        # Find rows with right electrodes and amplitude values\n",
    "        col_el = '_'.join(electrodes)\n",
    "        col_amp = '_'.join(amps) + '_'\n",
    "        rows = df.loc[(df['electrode'] == col_el) & (df['amplitude'] == col_amp)]\n",
    "    else:\n",
    "        rows = df\n",
    "    \n",
    "    return [folder + bmp_folder + '/' + bmp_file\n",
    "            for bmp_folder, bmp_file in zip(rows['foldername'], rows['filename'])]"
   ]
  },
  {
   "cell_type": "code",
   "execution_count": 6,
   "metadata": {
    "collapsed": true
   },
   "outputs": [],
   "source": [
    "def pixel2deg(px_area, px_shape=[384, 384], deg_shape=[80, 80]):\n",
    "    num_pixels = np.prod(px_shape)\n",
    "    num_deg = np.prod(deg_shape)\n",
    "    return px_area / num_pixels * num_deg"
   ]
  },
  {
   "cell_type": "code",
   "execution_count": 7,
   "metadata": {
    "collapsed": false
   },
   "outputs": [],
   "source": [
    "def deg2pixel(deg_area, px_shape=[384, 384], deg_shape=[80, 80]):\n",
    "    num_pixels = np.prod(px_shape)\n",
    "    num_deg = np.prod(deg_shape)\n",
    "    return deg_area / num_deg * num_pixels"
   ]
  },
  {
   "cell_type": "code",
   "execution_count": 8,
   "metadata": {
    "collapsed": false
   },
   "outputs": [],
   "source": [
    "assert pixel2deg(384*384) == 80*80\n",
    "assert deg2pixel(80*80) == 384*384"
   ]
  },
  {
   "cell_type": "code",
   "execution_count": 9,
   "metadata": {
    "collapsed": true
   },
   "outputs": [],
   "source": [
    "def num_phosphenes(img):\n",
    "    contours = measure.find_contours(img, 0.5)\n",
    "    return len(contours)"
   ]
  },
  {
   "cell_type": "code",
   "execution_count": 10,
   "metadata": {
    "collapsed": false
   },
   "outputs": [],
   "source": [
    "img = np.zeros((100, 100), dtype=np.uint8)\n",
    "assert num_phosphenes(img) == 0\n",
    "for j in range(5):\n",
    "    rr, cc = circle(j / 5 * img.shape[0] + 10, j / 5 * img.shape[0] + 10, 5)\n",
    "    img[rr, cc] = 1\n",
    "    assert num_phosphenes(img) == j + 1"
   ]
  },
  {
   "cell_type": "code",
   "execution_count": 11,
   "metadata": {
    "collapsed": true
   },
   "outputs": [],
   "source": [
    "def parse_bitmap_shape(files):\n",
    "    img = []\n",
    "    size = []\n",
    "    theta = []\n",
    "    ecc = []\n",
    "    eigen = []\n",
    "    for f in files:\n",
    "        if not isfile(f):\n",
    "            print('Could not find file \"' + f + '\"')\n",
    "            continue\n",
    "\n",
    "        img.append(rgb2gray(imread(f)))\n",
    "        s, t, e, w = calc_shape(img[-1])\n",
    "        size.append(s)\n",
    "        theta.append(t)\n",
    "        ecc.append(e)\n",
    "        eigen.append(w)\n",
    "\n",
    "    size = np.array(size)\n",
    "    theta = np.array(theta)\n",
    "    ecc = np.array(ecc)\n",
    "    eigen = np.array(eigen)\n",
    "    \n",
    "    return img, size, theta, ecc, eigen"
   ]
  },
  {
   "cell_type": "code",
   "execution_count": 43,
   "metadata": {
    "collapsed": true
   },
   "outputs": [],
   "source": [
    "def plot_shape(files, img):\n",
    "    num_rows = 2\n",
    "    num_cols = np.ceil((len(img) + 1) / num_rows)\n",
    "    plt.figure(figsize=(18, 6))\n",
    "    for i, f in enumerate(files):\n",
    "        if i >= len(img):\n",
    "            continue\n",
    "        plt.subplot(num_rows, num_cols, i + 1)\n",
    "        plt.imshow(img[i], cmap='gray')\n",
    "        plt.axis('off')\n",
    "        plt.title(f.split('/')[-1])\n",
    "    plt.subplot(num_rows, num_cols, len(img) + 1)\n",
    "    plt.imshow(np.mean(np.array(img), axis=0), cmap='gray')\n",
    "    plt.axis('off')\n",
    "    plt.title('Average percept')"
   ]
  },
  {
   "cell_type": "code",
   "execution_count": 53,
   "metadata": {
    "collapsed": true
   },
   "outputs": [],
   "source": [
    "datafolder = environ['SECOND_SIGHT_DATA'] + '/shape/TB/20080709'"
   ]
  },
  {
   "cell_type": "code",
   "execution_count": 54,
   "metadata": {
    "collapsed": false
   },
   "outputs": [
    {
     "name": "stdout",
     "output_type": "stream",
     "text": [
      "Found 5 files\n"
     ]
    }
   ],
   "source": [
    "files = find_bitmaps(datafolder, ['M7'], ['1.25'])\n",
    "print('Found %d files' % len(files))"
   ]
  },
  {
   "cell_type": "code",
   "execution_count": 55,
   "metadata": {
    "collapsed": false
   },
   "outputs": [
    {
     "name": "stdout",
     "output_type": "stream",
     "text": [
      "Could not find file \"/home/mbeyeler/data/secondsight/shape/TB/20080709/VID1400/VID1400.AVI.2078-2105_shape.bmp\"\n",
      "Could not find file \"/home/mbeyeler/data/secondsight/shape/TB/20080709/VID1400/VID1400.AVI.2249-2282_shape.bmp\"\n",
      "Could not find file \"/home/mbeyeler/data/secondsight/shape/TB/20080709/VID1400/VID1400.AVI.2653-2685_shape.bmp\"\n",
      "Could not find file \"/home/mbeyeler/data/secondsight/shape/TB/20080709/VID1400/VID1400.AVI.3788-3819_shape.bmp\"\n"
     ]
    }
   ],
   "source": [
    "img, size, theta, ecc, eigen = parse_bitmap_shape(files)"
   ]
  },
  {
   "cell_type": "code",
   "execution_count": 56,
   "metadata": {
    "collapsed": false
   },
   "outputs": [
    {
     "data": {
      "image/png": "[encoded data removed]",
      "text/plain": [
       "<matplotlib.figure.Figure at 0x7fbdbc2d1828>"
      ]
     },
     "metadata": {},
     "output_type": "display_data"
    }
   ],
   "source": [
    "plot_shape(files, img)"
   ]
  },
  {
   "cell_type": "code",
   "execution_count": 47,
   "metadata": {
    "collapsed": false
   },
   "outputs": [
    {
     "name": "stdout",
     "output_type": "stream",
     "text": [
      "Size: mu +- std\n"
     ]
    },
    {
     "data": {
      "text/plain": [
       "(585.0, 102.95630140987001)"
      ]
     },
     "execution_count": 47,
     "metadata": {},
     "output_type": "execute_result"
    }
   ],
   "source": [
    "print('Size: mu +- std')\n",
    "(np.mean(size), np.std(size))"
   ]
  },
  {
   "cell_type": "code",
   "execution_count": 48,
   "metadata": {
    "collapsed": false
   },
   "outputs": [
    {
     "name": "stdout",
     "output_type": "stream",
     "text": [
      "Minor axis: mu +- std\n"
     ]
    },
    {
     "data": {
      "text/plain": [
       "(305.33749295548171, 37.543906525012119)"
      ]
     },
     "execution_count": 48,
     "metadata": {},
     "output_type": "execute_result"
    }
   ],
   "source": [
    "print('Minor axis: mu +- std')\n",
    "(np.mean(eigen[:, 0]), np.std(eigen[:, 0] / 3))"
   ]
  },
  {
   "cell_type": "code",
   "execution_count": 49,
   "metadata": {
    "collapsed": false
   },
   "outputs": [
    {
     "name": "stdout",
     "output_type": "stream",
     "text": [
      "Major axis: mu +- std\n"
     ]
    },
    {
     "data": {
      "text/plain": [
       "(8.3718993693449981, 0.064597296744158761)"
      ]
     },
     "execution_count": 49,
     "metadata": {},
     "output_type": "execute_result"
    }
   ],
   "source": [
    "print('Major axis: mu +- std')\n",
    "(np.mean(eigen[:, 1]), np.std(eigen[:, 1] / 3))"
   ]
  },
  {
   "cell_type": "code",
   "execution_count": 50,
   "metadata": {
    "collapsed": false
   },
   "outputs": [
    {
     "name": "stdout",
     "output_type": "stream",
     "text": [
      "Minor / major axis: mu +- std\n"
     ]
    },
    {
     "data": {
      "text/plain": [
       "(36.550569991820922, 13.996614586427473)"
      ]
     },
     "execution_count": 50,
     "metadata": {},
     "output_type": "execute_result"
    }
   ],
   "source": [
    "print('Minor / major axis: mu +- std')\n",
    "(np.mean(eigen[:, 0] / eigen[:, 1]), np.std(eigen[:, 0] / eigen[:, 1]))"
   ]
  },
  {
   "cell_type": "code",
   "execution_count": 51,
   "metadata": {
    "collapsed": false
   },
   "outputs": [
    {
     "name": "stdout",
     "output_type": "stream",
     "text": [
      "Angle (deg): mu +- std\n"
     ]
    },
    {
     "data": {
      "text/plain": [
       "(3.9335927365144645, 8.6978298101977547)"
      ]
     },
     "execution_count": 51,
     "metadata": {},
     "output_type": "execute_result"
    }
   ],
   "source": [
    "print('Angle (deg): mu +- std')\n",
    "(np.rad2deg(np.mean(theta)), np.rad2deg(np.std(theta)))"
   ]
  },
  {
   "cell_type": "code",
   "execution_count": null,
   "metadata": {
    "collapsed": true
   },
   "outputs": [],
   "source": []
  },
  {
   "cell_type": "code",
   "execution_count": null,
   "metadata": {
    "collapsed": true
   },
   "outputs": [],
   "source": []
  }
 ],
 "metadata": {
  "anaconda-cloud": {},
  "kernelspec": {
   "display_name": "Python [Root]",
   "language": "python",
   "name": "Python [Root]"
  },
  "language_info": {
   "codemirror_mode": {
    "name": "ipython",
    "version": 3
   },
   "file_extension": ".py",
   "mimetype": "text/x-python",
   "name": "python",
   "nbconvert_exporter": "python",
   "pygments_lexer": "ipython3",
   "version": "3.5.2"
  }
 },
 "nbformat": 4,
 "nbformat_minor": 0
}
